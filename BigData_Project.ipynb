{
  "nbformat": 4,
  "nbformat_minor": 0,
  "metadata": {
    "colab": {
      "name": "BigData-Project.ipynb",
      "provenance": [],
      "toc_visible": true,
      "authorship_tag": "ABX9TyPFFuBIW6NmsWyusiPvVyji",
      "include_colab_link": true
    },
    "kernelspec": {
      "name": "python3",
      "display_name": "Python 3"
    },
    "language_info": {
      "name": "python"
    }
  },
  "cells": [
    {
      "cell_type": "markdown",
      "metadata": {
        "id": "view-in-github",
        "colab_type": "text"
      },
      "source": [
        "<a href=\"https://colab.research.google.com/github/AUT-Student/BigData-Project/blob/main/BigData_Project.ipynb\" target=\"_parent\"><img src=\"https://colab.research.google.com/assets/colab-badge.svg\" alt=\"Open In Colab\"/></a>"
      ]
    },
    {
      "cell_type": "markdown",
      "source": [
        "# Library"
      ],
      "metadata": {
        "id": "wusr27wnftZx"
      }
    },
    {
      "cell_type": "code",
      "execution_count": 108,
      "metadata": {
        "id": "X1VtRcdFfnbi"
      },
      "outputs": [],
      "source": [
        "from dataclasses import dataclass\n",
        "import matplotlib.pyplot as plt\n",
        "import pandas as pd\n",
        "import numpy as np\n",
        "import random\n",
        "import math\n",
        "import glob"
      ]
    },
    {
      "cell_type": "markdown",
      "source": [
        "# Load Datasets"
      ],
      "metadata": {
        "id": "AJt4yvU7fvlG"
      }
    },
    {
      "cell_type": "markdown",
      "source": [
        "## CAIDA"
      ],
      "metadata": {
        "id": "RVaWSWkAgBxg"
      }
    },
    {
      "cell_type": "code",
      "source": [
        "!gdown https://snap.stanford.edu/data/as-caida.tar.gz\n",
        "!mkdir caida\n",
        "!tar -C /content/caida -xzf /content/as-caida.tar.gz "
      ],
      "metadata": {
        "colab": {
          "base_uri": "https://localhost:8080/"
        },
        "id": "rKwOiwXqfwSP",
        "outputId": "7818e50d-a717-4dd3-c39d-b96b10307fc1"
      },
      "execution_count": 2,
      "outputs": [
        {
          "output_type": "stream",
          "name": "stdout",
          "text": [
            "Downloading...\n",
            "From: https://snap.stanford.edu/data/as-caida.tar.gz\n",
            "To: /content/as-caida.tar.gz\n",
            "100% 46.4M/46.4M [00:01<00:00, 31.9MB/s]\n"
          ]
        }
      ]
    },
    {
      "cell_type": "code",
      "source": [
        "!grep as-caida2006 /content/caida/* | wc -l"
      ],
      "metadata": {
        "colab": {
          "base_uri": "https://localhost:8080/"
        },
        "id": "K0Bq6reRgKfo",
        "outputId": "aa8ca750-4057-4f7f-f5a2-aca08a9ec04d"
      },
      "execution_count": 3,
      "outputs": [
        {
          "output_type": "stream",
          "name": "stdout",
          "text": [
            "52\n"
          ]
        }
      ]
    },
    {
      "cell_type": "code",
      "source": [
        "!grep as-caida2007 /content/caida/* | wc -l"
      ],
      "metadata": {
        "colab": {
          "base_uri": "https://localhost:8080/"
        },
        "id": "_RbddHnpiTS-",
        "outputId": "8ab89b1a-396b-420f-d286-55663e88157a"
      },
      "execution_count": 4,
      "outputs": [
        {
          "output_type": "stream",
          "name": "stdout",
          "text": [
            "46\n"
          ]
        }
      ]
    },
    {
      "cell_type": "code",
      "source": [
        "!head /content/caida/as-caida20060102.txt -n 40"
      ],
      "metadata": {
        "colab": {
          "base_uri": "https://localhost:8080/"
        },
        "id": "zKtkOIb3jP0U",
        "outputId": "2ee5fa09-d290-4cc2-91f6-f9e322cff506"
      },
      "execution_count": 5,
      "outputs": [
        {
          "output_type": "stream",
          "name": "stdout",
          "text": [
            "# Directed graph: as-caida20060102.txt\n",
            "# The CAIDA AS Relationships Dataset, from 01 02 2006\n",
            "# Relationships:\t-1 (<FromNodeId> is a customer of <ToNodeId>)\n",
            "# \t\t\t1 (<FromNodeId> is a provider of <ToNodeId>)\n",
            "# \t\t\t0 (<FromNodeId> and <ToNodeId> are peers)\n",
            "# \t\t\t2 (<FromNodeId> and <ToNodeId> are siblings (the same organization).)\n",
            "# Nodes:21202\tEdges: 85850\n",
            "# FromNodeId        ToNodeId\tRelationship\n",
            "8563\t26716\t1\n",
            "8563\t2914\t-1\n",
            "8563\t21414\t-1\n",
            "8563\t21482\t1\n",
            "8563\t3277\t0\n",
            "8563\t4323\t-1\n",
            "28801\t702\t-1\n",
            "28801\t8422\t-1\n",
            "28801\t8220\t-1\n",
            "5006\t20283\t1\n",
            "5006\t21902\t1\n",
            "5006\t25637\t1\n",
            "5006\t17162\t1\n",
            "5006\t18581\t1\n",
            "5006\t11401\t1\n",
            "5006\t16904\t1\n",
            "5006\t21730\t1\n",
            "5006\t32461\t1\n",
            "5006\t7018\t-1\n",
            "5006\t14278\t1\n",
            "5006\t1347\t2\n",
            "5006\t32664\t1\n",
            "5006\t33111\t1\n",
            "5006\t26021\t1\n",
            "5006\t23359\t1\n",
            "5006\t21951\t1\n",
            "5006\t7792\t1\n",
            "5006\t16595\t1\n",
            "5006\t10337\t1\n",
            "5006\t18699\t1\n",
            "5006\t32110\t1\n",
            "5006\t7973\t1\n"
          ]
        }
      ]
    },
    {
      "cell_type": "code",
      "source": [
        "!head /content/caida/as-caida20040105.txt -n 40"
      ],
      "metadata": {
        "colab": {
          "base_uri": "https://localhost:8080/"
        },
        "id": "_N71P2uKg0Kk",
        "outputId": "d18a5056-aa4c-46f6-eb31-ed35ebaeecd4"
      },
      "execution_count": 6,
      "outputs": [
        {
          "output_type": "stream",
          "name": "stdout",
          "text": [
            "# Directed graph: as-caida20040105.txt\n",
            "# The CAIDA AS Relationships Dataset, from 01 05 2004\n",
            "# Relationships:\t-1 (<FromNodeId> is a customer of <ToNodeId>)\n",
            "# \t\t\t1 (<FromNodeId> is a provider of <ToNodeId>)\n",
            "# \t\t\t0 (<FromNodeId> and <ToNodeId> are peers)\n",
            "# \t\t\t2 (<FromNodeId> and <ToNodeId> are siblings (the same organization).)\n",
            "# Nodes:16301\tEdges: 65910\n",
            "# FromNodeId        ToNodeId\tRelationship\n",
            "6712\t1668\t0\n",
            "6712\t3215\t-1\n",
            "8563\t26716\t1\n",
            "8563\t4323\t-1\n",
            "13666\t19262\t-1\n",
            "28689\t20804\t-1\n",
            "28689\t6778\t-1\n",
            "28801\t702\t0\n",
            "28801\t8422\t-1\n",
            "5006\t20283\t1\n",
            "5006\t21902\t1\n",
            "5006\t25637\t1\n",
            "5006\t17162\t1\n",
            "5006\t18581\t1\n",
            "5006\t11401\t1\n",
            "5006\t16904\t1\n",
            "5006\t21730\t1\n",
            "5006\t7018\t-1\n",
            "5006\t14278\t1\n",
            "5006\t18454\t1\n",
            "5006\t1347\t1\n",
            "5006\t26021\t1\n",
            "5006\t7792\t1\n",
            "5006\t16595\t1\n",
            "5006\t10337\t1\n",
            "5006\t4045\t1\n",
            "5006\t18699\t1\n",
            "5006\t7973\t1\n",
            "5006\t25615\t1\n",
            "5006\t18723\t1\n",
            "5006\t1239\t-1\n",
            "5006\t10765\t1\n"
          ]
        }
      ]
    },
    {
      "cell_type": "markdown",
      "source": [
        "## Oregon"
      ],
      "metadata": {
        "id": "7xPifcOjkai0"
      }
    },
    {
      "cell_type": "code",
      "source": [
        "!rm oregon -r"
      ],
      "metadata": {
        "id": "Qo9bKPYmnBIl",
        "colab": {
          "base_uri": "https://localhost:8080/"
        },
        "outputId": "a1dbbf62-213f-4e92-f45a-59ae6e860975"
      },
      "execution_count": 7,
      "outputs": [
        {
          "output_type": "stream",
          "name": "stdout",
          "text": [
            "rm: cannot remove 'oregon': No such file or directory\n"
          ]
        }
      ]
    },
    {
      "cell_type": "code",
      "source": [
        "!mkdir oregon\n",
        "%cd oregon\n",
        "\n",
        "!gdown https://snap.stanford.edu/data/oregon1_010331.txt.gz\n",
        "!gdown https://snap.stanford.edu/data/oregon1_010407.txt.gz\n",
        "!gdown https://snap.stanford.edu/data/oregon1_010414.txt.gz\n",
        "!gdown https://snap.stanford.edu/data/oregon1_010421.txt.gz\n",
        "!gdown https://snap.stanford.edu/data/oregon1_010428.txt.gz\n",
        "!gdown https://snap.stanford.edu/data/oregon1_010505.txt.gz\n",
        "!gdown https://snap.stanford.edu/data/oregon1_010512.txt.gz\n",
        "!gdown https://snap.stanford.edu/data/oregon1_010519.txt.gz\n",
        "!gdown https://snap.stanford.edu/data/oregon1_010526.txt.gz\n",
        "\n",
        "\n",
        "!gunzip oregon1_010331.txt.gz\n",
        "!gunzip oregon1_010407.txt.gz\n",
        "!gunzip oregon1_010414.txt.gz\n",
        "!gunzip oregon1_010421.txt.gz\n",
        "!gunzip oregon1_010428.txt.gz\n",
        "!gunzip oregon1_010505.txt.gz\n",
        "!gunzip oregon1_010512.txt.gz\n",
        "!gunzip oregon1_010519.txt.gz\n",
        "!gunzip oregon1_010526.txt.gz\n",
        "\n",
        "%cd .."
      ],
      "metadata": {
        "colab": {
          "base_uri": "https://localhost:8080/"
        },
        "id": "-w2orQRBlEz6",
        "outputId": "5114551e-642f-4977-f4e1-e6c10b0d1812"
      },
      "execution_count": 8,
      "outputs": [
        {
          "output_type": "stream",
          "name": "stdout",
          "text": [
            "/content/oregon\n",
            "Downloading...\n",
            "From: https://snap.stanford.edu/data/oregon1_010331.txt.gz\n",
            "To: /content/oregon/oregon1_010331.txt.gz\n",
            "100% 69.1k/69.1k [00:00<00:00, 1.81MB/s]\n",
            "Downloading...\n",
            "From: https://snap.stanford.edu/data/oregon1_010407.txt.gz\n",
            "To: /content/oregon/oregon1_010407.txt.gz\n",
            "100% 69.3k/69.3k [00:00<00:00, 1.69MB/s]\n",
            "Downloading...\n",
            "From: https://snap.stanford.edu/data/oregon1_010414.txt.gz\n",
            "To: /content/oregon/oregon1_010414.txt.gz\n",
            "100% 69.8k/69.8k [00:00<00:00, 1.80MB/s]\n",
            "Downloading...\n",
            "From: https://snap.stanford.edu/data/oregon1_010421.txt.gz\n",
            "To: /content/oregon/oregon1_010421.txt.gz\n",
            "100% 70.7k/70.7k [00:00<00:00, 1.38MB/s]\n",
            "Downloading...\n",
            "From: https://snap.stanford.edu/data/oregon1_010428.txt.gz\n",
            "To: /content/oregon/oregon1_010428.txt.gz\n",
            "100% 70.1k/70.1k [00:00<00:00, 1.86MB/s]\n",
            "Downloading...\n",
            "From: https://snap.stanford.edu/data/oregon1_010505.txt.gz\n",
            "To: /content/oregon/oregon1_010505.txt.gz\n",
            "100% 70.5k/70.5k [00:00<00:00, 1.78MB/s]\n",
            "Downloading...\n",
            "From: https://snap.stanford.edu/data/oregon1_010512.txt.gz\n",
            "To: /content/oregon/oregon1_010512.txt.gz\n",
            "100% 70.7k/70.7k [00:00<00:00, 1.36MB/s]\n",
            "Downloading...\n",
            "From: https://snap.stanford.edu/data/oregon1_010519.txt.gz\n",
            "To: /content/oregon/oregon1_010519.txt.gz\n",
            "100% 70.9k/70.9k [00:00<00:00, 1.63MB/s]\n",
            "Downloading...\n",
            "From: https://snap.stanford.edu/data/oregon1_010526.txt.gz\n",
            "To: /content/oregon/oregon1_010526.txt.gz\n",
            "100% 72.9k/72.9k [00:00<00:00, 1.38MB/s]\n",
            "/content\n"
          ]
        }
      ]
    },
    {
      "cell_type": "code",
      "source": [
        "!head /content/oregon/oregon1_010331.txt"
      ],
      "metadata": {
        "colab": {
          "base_uri": "https://localhost:8080/"
        },
        "id": "Vyec9NlAowuX",
        "outputId": "9543f290-7eb8-4cbb-b558-63003274b04d"
      },
      "execution_count": 9,
      "outputs": [
        {
          "output_type": "stream",
          "name": "stdout",
          "text": [
            "# Undirected graph: oregon1_010331.txt\n",
            "# AS peering information inferred from Oregon route-views BGP data, from March 31 2001\n",
            "# Nodes: 10670 Edges: 22002\n",
            "# FromNodeId\tToNodeId\n",
            "10000\t4725\n",
            "4725\t6805\n",
            "4725\t7523\n",
            "4725\t7524\n",
            "4725\t7673\n",
            "4725\t9352\n"
          ]
        }
      ]
    },
    {
      "cell_type": "code",
      "source": [
        "!grep \"10006\" /content/oregon/oregon1_010331.txt"
      ],
      "metadata": {
        "colab": {
          "base_uri": "https://localhost:8080/"
        },
        "id": "Kg_Sztc0vUbM",
        "outputId": "3a830ef3-38bd-43ee-c589-47812104c0b2"
      },
      "execution_count": 37,
      "outputs": [
        {
          "output_type": "stream",
          "name": "stdout",
          "text": [
            "4725\t10006\n",
            "4716\t10006\n"
          ]
        }
      ]
    },
    {
      "cell_type": "code",
      "source": [
        "!grep \"13237\" /content/caida/as-caida20040105.txt | wc -l"
      ],
      "metadata": {
        "colab": {
          "base_uri": "https://localhost:8080/"
        },
        "id": "pwuf8ZR-r79P",
        "outputId": "8c597c08-960c-4594-afbb-10cd857a13a7"
      },
      "execution_count": 27,
      "outputs": [
        {
          "output_type": "stream",
          "name": "stdout",
          "text": [
            "862\n"
          ]
        }
      ]
    },
    {
      "cell_type": "markdown",
      "source": [
        "# Data Structure Classes"
      ],
      "metadata": {
        "id": "L2_9liTVezAd"
      }
    },
    {
      "cell_type": "markdown",
      "source": [
        "## Edge Class"
      ],
      "metadata": {
        "id": "bdCCnBYfd3lH"
      }
    },
    {
      "cell_type": "code",
      "source": [
        "@dataclass(init=True, eq=True, frozen=True)\n",
        "class Edge:\n",
        "  source: int\n",
        "  destination: int\n",
        "\n",
        "  def get_reverse(self):\n",
        "    return Edge(source=self.destination, destination=self.source)"
      ],
      "metadata": {
        "id": "7Yfc5C19d5CM"
      },
      "execution_count": 43,
      "outputs": []
    },
    {
      "cell_type": "markdown",
      "source": [
        "## Graph Class"
      ],
      "metadata": {
        "id": "y5U0Qg7xq0d6"
      }
    },
    {
      "cell_type": "code",
      "source": [
        "class Graph():\n",
        "  def __init__(self, directed):\n",
        "    self.edges = set()\n",
        "    self.nodes = set()\n",
        "    self.node_order = list()\n",
        "    self.node_order_set = set()\n",
        "\n",
        "    self.reset_statics()\n",
        "\n",
        "  def _set_order(self, node):\n",
        "    if node not in self.node_order_set:\n",
        "      self.node_order_set.add(node)\n",
        "      self.node_order.append(node)\n",
        "\n",
        "  def add_edge(self, edge:Edge):\n",
        "    self.nodes.add(edge.source)\n",
        "    self.nodes.add(edge.destination)\n",
        "    self.edges.add(edge)\n",
        "\n",
        "    self._set_order(edge.source)\n",
        "\n",
        "  def finish(self):\n",
        "    for node in self.nodes:\n",
        "      # Set order for remaining nodes\n",
        "      self._set_order(node)\n",
        "\n",
        "    self.reset_statics()\n",
        "\n",
        "  def reset_statics(self):\n",
        "    self.number_trees = None\n",
        "    self.node_adjacency_list = None\n",
        "    self.number_trees_per_edge = None\n",
        "\n",
        "  def number_nodes(self):\n",
        "    return len(self.nodes)\n",
        "  \n",
        "  def number_edges(self):\n",
        "    return len(self.edges)//2\n",
        "\n",
        "  def get_edges(self):\n",
        "    return self.edges\n",
        "  \n",
        "  def get_nodes(self):\n",
        "    return self.nodes\n",
        "\n",
        "  def get_node(self, node_id):\n",
        "    return self.node_order[node_id]\n",
        "  \n",
        "  def get_node_adjacency_list(self, node_id):\n",
        "    if self.node_adjacency_list is None:\n",
        "      self.calculate_node_adjacency_list()\n",
        "    \n",
        "    return self.node_adjacency_list[self.get_node(node_id)]\n",
        "\n",
        "  def calculate_node_adjacency_list(self):\n",
        "    if self.node_adjacency_list is not None:\n",
        "      return\n",
        "\n",
        "    self.node_adjacency_list = dict()\n",
        "\n",
        "    for node in self.nodes:\n",
        "      self.node_adjacency_list[node] = set()\n",
        "    \n",
        "    for edge in self.edges:\n",
        "      self.node_adjacency_list[edge.source].add(edge.destination) \n",
        "      self.node_adjacency_list[edge.destination].add(edge.source) \n",
        "    \n",
        "  def calculate_number_trees(self):\n",
        "    if self.number_trees is not None:\n",
        "      return self.number_trees\n",
        "\n",
        "    if self.node_adjacency_list is None:\n",
        "      self.calculate_node_adjacency_list()\n",
        "\n",
        "    self.number_trees = 0\n",
        "    for node_x in self.nodes:\n",
        "      for node_y in self.node_adjacency_list[node_x]:\n",
        "        for node_z in self.node_adjacency_list[node_x]:\n",
        "\n",
        "          if node_x < node_y < node_z:\n",
        "            if node_z in self.node_adjacency_list[node_y]:\n",
        "              self.number_trees += 1\n",
        "\n",
        "  def get_number_trees(self):\n",
        "    if self.number_trees is None:\n",
        "      self.calculate_number_trees()\n",
        "\n",
        "    return self.number_trees\n",
        "\n",
        "  def calculate_number_trees_per_edge(self):\n",
        "\n",
        "    if self.number_trees_per_edge is not None:\n",
        "      return\n",
        "\n",
        "    if self.node_adjacency_list is None:\n",
        "      self.calculate_node_adjacency_list()\n",
        "\n",
        "    self.number_trees_per_edge = dict()\n",
        "\n",
        "    for edge in self.edges:\n",
        "      self.number_trees_per_edge[edge] = 0\n",
        "      number_trees = 0\n",
        "\n",
        "      node_x = edge.source\n",
        "      node_y = edge.destination\n",
        "\n",
        "      for node_z in self.node_adjacency_list[node_x]:\n",
        "        if node_z in self.node_adjacency_list[node_y]:\n",
        "          number_trees += 1\n",
        "      \n",
        "      self.number_trees_per_edge[edge] = number_trees\n",
        "    \n",
        "  def get_number_trees_per_edge(self, edge):\n",
        "    if self.number_trees_per_edge is None:\n",
        "      self.calculate_number_trees_per_edges\n",
        "\n",
        "    return self.number_trees_per_edge[edge]"
      ],
      "metadata": {
        "id": "A6HI35X6oy9M"
      },
      "execution_count": 151,
      "outputs": []
    },
    {
      "cell_type": "markdown",
      "source": [
        "## Snapshot Graphs"
      ],
      "metadata": {
        "id": "ad_y7yRy3wSf"
      }
    },
    {
      "cell_type": "code",
      "source": [
        "class Snapshot():\n",
        "  def __init__(self, dataset_path):\n",
        "    self.dataset_path = dataset_path\n",
        "    self.graphs = list()\n",
        "\n",
        "  def load_graphs(self):\n",
        "    for path in sorted(glob.glob(pathname=self.dataset_path, recursive=True)):\n",
        "      print(\".\", end=\"\")\n",
        "      graph = Graph(directed=False)\n",
        "\n",
        "      with open(path, \"r\") as file:\n",
        "        for i, line in enumerate(file.readlines()):\n",
        "          if line[0] == \"#\": continue\n",
        "          \n",
        "          source, destination = line[:-1].split(\"\\t\")[:2]\n",
        "          if source == destination: continue\n",
        "          edge = Edge(source=int(source), destination=int(destination))\n",
        "          graph.add_edge(edge)\n",
        "        \n",
        "      graph.finish()\n",
        "      graph.calculate_node_adjacency_list()\n",
        "      self.graphs.append(graph)\n",
        "\n",
        "  def get_graph(self, i):\n",
        "    return self.graphs[i]\n",
        "  \n",
        "  def number_graphs(self):\n",
        "    return len(self.graphs)"
      ],
      "metadata": {
        "id": "u7AJS2NV31TO"
      },
      "execution_count": 152,
      "outputs": []
    },
    {
      "cell_type": "markdown",
      "source": [
        "# Load Dataset"
      ],
      "metadata": {
        "id": "82eK6x4J9i2R"
      }
    },
    {
      "cell_type": "markdown",
      "source": [
        "## Oregon"
      ],
      "metadata": {
        "id": "bw6uqAUfJsHL"
      }
    },
    {
      "cell_type": "code",
      "source": [
        "oregon = Snapshot(dataset_path = \"/content/oregon/*\")"
      ],
      "metadata": {
        "id": "sw0gyo8b6jNk"
      },
      "execution_count": 153,
      "outputs": []
    },
    {
      "cell_type": "code",
      "source": [
        "oregon.load_graphs()"
      ],
      "metadata": {
        "colab": {
          "base_uri": "https://localhost:8080/"
        },
        "id": "It9JIEmL7tsy",
        "outputId": "bc87cb51-ef7f-44ab-e4dc-9de1a2afbbfd"
      },
      "execution_count": 154,
      "outputs": [
        {
          "output_type": "stream",
          "name": "stdout",
          "text": [
            "........."
          ]
        }
      ]
    },
    {
      "cell_type": "code",
      "source": [
        "oregon.number_graphs()"
      ],
      "metadata": {
        "colab": {
          "base_uri": "https://localhost:8080/"
        },
        "id": "QT6Yvca77z5b",
        "outputId": "c61acd2e-a1c2-4853-a616-3a4a79cf52a8"
      },
      "execution_count": 155,
      "outputs": [
        {
          "output_type": "execute_result",
          "data": {
            "text/plain": [
              "9"
            ]
          },
          "metadata": {},
          "execution_count": 155
        }
      ]
    },
    {
      "cell_type": "markdown",
      "source": [
        "## Caida 2006"
      ],
      "metadata": {
        "id": "KlJ5C_uTJuQJ"
      }
    },
    {
      "cell_type": "code",
      "source": [
        "caida2006 = Snapshot(dataset_path = \"/content/caida/as-caida2006*\")"
      ],
      "metadata": {
        "id": "-WcaOvy06qJP"
      },
      "execution_count": 95,
      "outputs": []
    },
    {
      "cell_type": "code",
      "source": [
        "caida2006.load_graphs()"
      ],
      "metadata": {
        "colab": {
          "base_uri": "https://localhost:8080/"
        },
        "id": "W7IV6nks8IDd",
        "outputId": "35c239c1-1514-42d6-e055-4350e4e02972"
      },
      "execution_count": 96,
      "outputs": [
        {
          "output_type": "stream",
          "name": "stdout",
          "text": [
            "...................................................."
          ]
        }
      ]
    },
    {
      "cell_type": "code",
      "source": [
        "caida2006.number_graphs()"
      ],
      "metadata": {
        "colab": {
          "base_uri": "https://localhost:8080/"
        },
        "id": "wJ3flCsO8Be5",
        "outputId": "bea6af6a-f4cc-46a8-9560-259d35c8c8d7"
      },
      "execution_count": 97,
      "outputs": [
        {
          "output_type": "execute_result",
          "data": {
            "text/plain": [
              "52"
            ]
          },
          "metadata": {},
          "execution_count": 97
        }
      ]
    },
    {
      "cell_type": "markdown",
      "source": [
        "## Caida 2007"
      ],
      "metadata": {
        "id": "g9phEBTbJwco"
      }
    },
    {
      "cell_type": "code",
      "source": [
        "caida2007 = Snapshot(dataset_path = \"/content/caida/as-caida2007*\")"
      ],
      "metadata": {
        "id": "XndTy_j66ys-"
      },
      "execution_count": 98,
      "outputs": []
    },
    {
      "cell_type": "code",
      "source": [
        "caida2007.load_graphs()"
      ],
      "metadata": {
        "colab": {
          "base_uri": "https://localhost:8080/"
        },
        "id": "YyCobVB_9Hhv",
        "outputId": "b2934f17-ce77-4a88-da97-08af6f39cc4a"
      },
      "execution_count": 99,
      "outputs": [
        {
          "output_type": "stream",
          "name": "stdout",
          "text": [
            ".............................................."
          ]
        }
      ]
    },
    {
      "cell_type": "code",
      "source": [
        "caida2007.number_graphs()"
      ],
      "metadata": {
        "colab": {
          "base_uri": "https://localhost:8080/"
        },
        "id": "xkiu64qa9L-d",
        "outputId": "8f07441b-b0f8-4dcf-eb48-a0958872f225"
      },
      "execution_count": 100,
      "outputs": [
        {
          "output_type": "execute_result",
          "data": {
            "text/plain": [
              "46"
            ]
          },
          "metadata": {},
          "execution_count": 100
        }
      ]
    },
    {
      "cell_type": "markdown",
      "source": [
        "# Algorithm 1"
      ],
      "metadata": {
        "id": "Vc3PsxrQAcu4"
      }
    },
    {
      "cell_type": "markdown",
      "source": [
        "## Oracle"
      ],
      "metadata": {
        "id": "C7ojGT_Av9WP"
      }
    },
    {
      "cell_type": "code",
      "source": [
        "class Oracle():\n",
        "  def __init__(self, graph:Graph, rho=None):\n",
        "    self.graph = graph\n",
        "    self.rho = rho\n",
        "    self.T = None\n",
        "\n",
        "  def set_rho(self, rho):\n",
        "    self.rho = rho\n",
        "\n",
        "  def train(self):\n",
        "    self.graph.calculate_number_trees()\n",
        "    self.graph.calculate_number_trees_per_edge()\n",
        "    self.T = self.graph.get_number_trees()\n",
        "    self._store_top()\n",
        "\n",
        "  def _store_top(self):\n",
        "    pass\n",
        "\n",
        "  def is_heavy(self, edge):\n",
        "    return self.graph.get_number_trees_per_edge(edge) >= self.T/self.rho "
      ],
      "metadata": {
        "id": "hPUJkG7FvuXA"
      },
      "execution_count": 156,
      "outputs": []
    },
    {
      "cell_type": "markdown",
      "source": [
        "## Estimator"
      ],
      "metadata": {
        "id": "I-wk_VB-AHoh"
      }
    },
    {
      "cell_type": "code",
      "source": [
        "class Estimator():\n",
        "  def __init__(self, graph:Graph, oracle:Oracle, epsilon,\n",
        "               alpha, beta, gamma):\n",
        "    self.graph = graph \n",
        "    self.oracle = oracle\n",
        "\n",
        "    self.epsilon = epsilon\n",
        "    self.alpha = alpha\n",
        "    self.gamma = gamma\n",
        "    self.beta = beta\n",
        "\n",
        "    self.A_l, self.A_m, self.A_h = 0, 0, 0\n",
        "    self.S_l, self.S_m, self.S_aux = set(), set(), set()\n",
        "\n",
        "    self.T = self.oracle.T\n",
        "\n",
        "    self.C = dict()\n",
        "    self.B = dict()\n",
        "\n",
        "    self.n = graph.number_nodes()\n",
        "    self.m = graph.number_edges()\n",
        "\n",
        "    self.set_probabilities()\n",
        "\n",
        "  def set_probabilities(self):\n",
        "    if self.T >= ((self.m/self.epsilon) ** 0.5):\n",
        "      self.rho = (self.m * self.T) ** (1/3)\n",
        "      self.p1 = self.alpha * (self.epsilon ** -2) / self.rho\n",
        "      self.p2 = min(self.beta*(self.epsilon ** -2) * self.rho / self.T , 1)\n",
        "      self.p3 = self.gamma * (self.epsilon ** (-2)) * math.log(self.n) / self.rho\n",
        "    \n",
        "    else:\n",
        "      self.rho = (self.m ** 0.5) / self.epsilon\n",
        "      self.p1 = 0\n",
        "      self.p2 = 1\n",
        "      self.p3 = self.gamma * (self.epsilon ** (-2)) / self.rho\n",
        "    \n",
        "    print(f\"T = {self.T}, rho = {self.rho}, p1 = {self.p1}, p2 = {self.p2}, p3 = {self.p3}\")\n",
        "    self.oracle.set_rho(self.rho)\n",
        "\n",
        "  def estimate_number_trees(self):\n",
        "    for node_id in range(self.graph.number_nodes()):\n",
        "      v = self.graph.get_node(node_id)\n",
        "      N_v = self.graph.get_node_adjacency_list(node_id)\n",
        "\n",
        "      for ab in self.S_l.union(self.S_m):\n",
        "        if ab.source in N_v and ab.destination in N_v:\n",
        "          self.C[ab] += 1\n",
        "      \n",
        "      for a in N_v:\n",
        "        av = Edge(a, v)\n",
        "\n",
        "        if av in self.S_aux:\n",
        "          self.B[av] = 1\n",
        "\n",
        "      for u in N_v:\n",
        "        vu = Edge(v, u)\n",
        "        uv = Edge(u, v)\n",
        "        \n",
        "        if random.random() < self.p3:\n",
        "          self.S_aux.add(vu)\n",
        "          self.B[vu] = 0\n",
        "\n",
        "        if self.oracle.is_heavy(uv) is False:\n",
        "          if uv in self.S_l:\n",
        "            self.A_l += self.C[uv]\n",
        "          elif random.random() < self.p1:\n",
        "            self.S_l.add(vu)\n",
        "            self.C[vu] = 0\n",
        "        else:\n",
        "          sharp = 0\n",
        "          for edge in self.S_aux:\n",
        "            if edge.source == u and self.B[edge]==1 and edge.destination in N_v:\n",
        "              sharp += 1\n",
        "          \n",
        "          if sharp >= self.p3 * self.rho:\n",
        "            self.A_h += sharp\n",
        "          elif uv in self.S_m:\n",
        "            self.A_m += self.C[uv]\n",
        "          elif random.random() < self.p2:\n",
        "            self.S_m.add(Edge(v, u))\n",
        "            self.C[uv] = 0\n",
        "    \n",
        "    print(f\"Len(S_l) = {len(self.S_l)}, Len(S_m) = {len(self.S_m)}, Len(S_aux)={len(self.S_aux)}\")\n",
        "    print(f\"A_l {self.A_l}, A_m = {self.A_m}, A_h = {self.A_h}\")\n",
        "    return self.A_l / self.p_1 + self.A_m / self.p_2 + self.A_h / self.p_3"
      ],
      "metadata": {
        "id": "uls5mAkzAaDh"
      },
      "execution_count": 157,
      "outputs": []
    },
    {
      "cell_type": "markdown",
      "source": [
        "# Results"
      ],
      "metadata": {
        "id": "nMVVqMGIR1F_"
      }
    },
    {
      "cell_type": "markdown",
      "source": [
        "## Oregon"
      ],
      "metadata": {
        "id": "o-JW0k4lUfw5"
      }
    },
    {
      "cell_type": "code",
      "source": [
        "oracle = Oracle(graph=oregon.get_graph(0))\n",
        "oracle.train()"
      ],
      "metadata": {
        "id": "V7HRpfXprmG4"
      },
      "execution_count": 158,
      "outputs": []
    },
    {
      "cell_type": "code",
      "source": [
        "estimator = Estimator(graph=oregon.get_graph(1), oracle=oracle\n",
        "                      , epsilon=0.05, alpha = 1, beta = 1, gamma = 0.1)"
      ],
      "metadata": {
        "colab": {
          "base_uri": "https://localhost:8080/"
        },
        "id": "LoWU0q1JUT5R",
        "outputId": "3fddd6e2-3b74-469a-9ff0-352281e41d54"
      },
      "execution_count": 159,
      "outputs": [
        {
          "output_type": "stream",
          "name": "stdout",
          "text": [
            "T = 17144, rho = 573.4579982500971, p1 = 0.6975227500891032, p2 = 1, p3 = 0.6473503317039261\n"
          ]
        }
      ]
    },
    {
      "cell_type": "code",
      "source": [
        "estimator.estimate_number_trees()"
      ],
      "metadata": {
        "colab": {
          "base_uri": "https://localhost:8080/",
          "height": 485
        },
        "id": "ZreiEoHSYNem",
        "outputId": "16e8ed87-26f3-4b4b-a1ad-877443256ba7"
      },
      "execution_count": 160,
      "outputs": [
        {
          "output_type": "error",
          "ename": "KeyError",
          "evalue": "ignored",
          "traceback": [
            "\u001b[0;31m---------------------------------------------------------------------------\u001b[0m",
            "\u001b[0;31mKeyError\u001b[0m                                  Traceback (most recent call last)",
            "\u001b[0;32m<ipython-input-160-6bd8ef3924c4>\u001b[0m in \u001b[0;36m<module>\u001b[0;34m()\u001b[0m\n\u001b[0;32m----> 1\u001b[0;31m \u001b[0mestimator\u001b[0m\u001b[0;34m.\u001b[0m\u001b[0mestimate_number_trees\u001b[0m\u001b[0;34m(\u001b[0m\u001b[0;34m)\u001b[0m\u001b[0;34m\u001b[0m\u001b[0;34m\u001b[0m\u001b[0m\n\u001b[0m",
            "\u001b[0;32m<ipython-input-157-836fcfb3f29a>\u001b[0m in \u001b[0;36mestimate_number_trees\u001b[0;34m(self)\u001b[0m\n\u001b[1;32m     62\u001b[0m           \u001b[0mself\u001b[0m\u001b[0;34m.\u001b[0m\u001b[0mB\u001b[0m\u001b[0;34m[\u001b[0m\u001b[0mvu\u001b[0m\u001b[0;34m]\u001b[0m \u001b[0;34m=\u001b[0m \u001b[0;36m0\u001b[0m\u001b[0;34m\u001b[0m\u001b[0;34m\u001b[0m\u001b[0m\n\u001b[1;32m     63\u001b[0m \u001b[0;34m\u001b[0m\u001b[0m\n\u001b[0;32m---> 64\u001b[0;31m         \u001b[0;32mif\u001b[0m \u001b[0mself\u001b[0m\u001b[0;34m.\u001b[0m\u001b[0moracle\u001b[0m\u001b[0;34m.\u001b[0m\u001b[0mis_heavy\u001b[0m\u001b[0;34m(\u001b[0m\u001b[0muv\u001b[0m\u001b[0;34m)\u001b[0m \u001b[0;32mis\u001b[0m \u001b[0;32mFalse\u001b[0m\u001b[0;34m:\u001b[0m\u001b[0;34m\u001b[0m\u001b[0;34m\u001b[0m\u001b[0m\n\u001b[0m\u001b[1;32m     65\u001b[0m           \u001b[0;32mif\u001b[0m \u001b[0muv\u001b[0m \u001b[0;32min\u001b[0m \u001b[0mself\u001b[0m\u001b[0;34m.\u001b[0m\u001b[0mS_l\u001b[0m\u001b[0;34m:\u001b[0m\u001b[0;34m\u001b[0m\u001b[0;34m\u001b[0m\u001b[0m\n\u001b[1;32m     66\u001b[0m             \u001b[0mself\u001b[0m\u001b[0;34m.\u001b[0m\u001b[0mA_l\u001b[0m \u001b[0;34m+=\u001b[0m \u001b[0mself\u001b[0m\u001b[0;34m.\u001b[0m\u001b[0mC\u001b[0m\u001b[0;34m[\u001b[0m\u001b[0muv\u001b[0m\u001b[0;34m]\u001b[0m\u001b[0;34m\u001b[0m\u001b[0;34m\u001b[0m\u001b[0m\n",
            "\u001b[0;32m<ipython-input-156-a143b32d1aa1>\u001b[0m in \u001b[0;36mis_heavy\u001b[0;34m(self, edge)\u001b[0m\n\u001b[1;32m     14\u001b[0m \u001b[0;34m\u001b[0m\u001b[0m\n\u001b[1;32m     15\u001b[0m   \u001b[0;32mdef\u001b[0m \u001b[0mis_heavy\u001b[0m\u001b[0;34m(\u001b[0m\u001b[0mself\u001b[0m\u001b[0;34m,\u001b[0m \u001b[0medge\u001b[0m\u001b[0;34m)\u001b[0m\u001b[0;34m:\u001b[0m\u001b[0;34m\u001b[0m\u001b[0;34m\u001b[0m\u001b[0m\n\u001b[0;32m---> 16\u001b[0;31m     \u001b[0;32mreturn\u001b[0m \u001b[0mself\u001b[0m\u001b[0;34m.\u001b[0m\u001b[0mgraph\u001b[0m\u001b[0;34m.\u001b[0m\u001b[0mget_number_trees_per_edge\u001b[0m\u001b[0;34m(\u001b[0m\u001b[0medge\u001b[0m\u001b[0;34m)\u001b[0m \u001b[0;34m>=\u001b[0m \u001b[0mself\u001b[0m\u001b[0;34m.\u001b[0m\u001b[0mT\u001b[0m\u001b[0;34m/\u001b[0m\u001b[0mself\u001b[0m\u001b[0;34m.\u001b[0m\u001b[0mrho\u001b[0m\u001b[0;34m\u001b[0m\u001b[0;34m\u001b[0m\u001b[0m\n\u001b[0m",
            "\u001b[0;32m<ipython-input-151-57a8077d0ad2>\u001b[0m in \u001b[0;36mget_number_trees_per_edge\u001b[0;34m(self, edge)\u001b[0m\n\u001b[1;32m    115\u001b[0m       \u001b[0mself\u001b[0m\u001b[0;34m.\u001b[0m\u001b[0mcalculate_number_trees_per_edges\u001b[0m\u001b[0;34m\u001b[0m\u001b[0;34m\u001b[0m\u001b[0m\n\u001b[1;32m    116\u001b[0m \u001b[0;34m\u001b[0m\u001b[0m\n\u001b[0;32m--> 117\u001b[0;31m     \u001b[0;32mreturn\u001b[0m \u001b[0mself\u001b[0m\u001b[0;34m.\u001b[0m\u001b[0mnumber_trees_per_edge\u001b[0m\u001b[0;34m[\u001b[0m\u001b[0medge\u001b[0m\u001b[0;34m]\u001b[0m\u001b[0;34m\u001b[0m\u001b[0;34m\u001b[0m\u001b[0m\n\u001b[0m",
            "\u001b[0;31mKeyError\u001b[0m: Edge(source=9601, destination=4725)"
          ]
        }
      ]
    },
    {
      "cell_type": "code",
      "source": [
        "estimator.m / estimator.epsilon"
      ],
      "metadata": {
        "colab": {
          "base_uri": "https://localhost:8080/"
        },
        "id": "bifZdSVKXJ38",
        "outputId": "9deabce5-1b51-478d-f41d-0dd0ee0e9831"
      },
      "execution_count": 137,
      "outputs": [
        {
          "output_type": "execute_result",
          "data": {
            "text/plain": [
              "220000.0"
            ]
          },
          "metadata": {},
          "execution_count": 137
        }
      ]
    },
    {
      "cell_type": "code",
      "source": [
        "estimator.m"
      ],
      "metadata": {
        "colab": {
          "base_uri": "https://localhost:8080/"
        },
        "id": "zzKrKoNZX4OK",
        "outputId": "0eda6767-27c6-47bb-ad16-e4517894beeb"
      },
      "execution_count": 138,
      "outputs": [
        {
          "output_type": "execute_result",
          "data": {
            "text/plain": [
              "11000"
            ]
          },
          "metadata": {},
          "execution_count": 138
        }
      ]
    },
    {
      "cell_type": "code",
      "source": [
        ""
      ],
      "metadata": {
        "id": "SJ2FF4W9X_Ei"
      },
      "execution_count": null,
      "outputs": []
    }
  ]
}