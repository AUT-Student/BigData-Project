{
  "nbformat": 4,
  "nbformat_minor": 0,
  "metadata": {
    "colab": {
      "name": "BigData-Project.ipynb",
      "provenance": [],
      "collapsed_sections": [],
      "toc_visible": true,
      "include_colab_link": true
    },
    "kernelspec": {
      "name": "python3",
      "display_name": "Python 3"
    },
    "language_info": {
      "name": "python"
    }
  },
  "cells": [
    {
      "cell_type": "markdown",
      "metadata": {
        "id": "view-in-github",
        "colab_type": "text"
      },
      "source": [
        "<a href=\"https://colab.research.google.com/github/AUT-Student/BigData-Project/blob/main/BigData_Project.ipynb\" target=\"_parent\"><img src=\"https://colab.research.google.com/assets/colab-badge.svg\" alt=\"Open In Colab\"/></a>"
      ]
    },
    {
      "cell_type": "markdown",
      "source": [
        "# Library"
      ],
      "metadata": {
        "id": "wusr27wnftZx"
      }
    },
    {
      "cell_type": "code",
      "execution_count": 21,
      "metadata": {
        "id": "X1VtRcdFfnbi"
      },
      "outputs": [],
      "source": [
        "from abc import ABC, abstractmethod\n",
        "from dataclasses import dataclass\n",
        "import matplotlib.pyplot as plt\n",
        "from copy import deepcopy\n",
        "import pandas as pd\n",
        "import numpy as np\n",
        "import random\n",
        "import heapq\n",
        "import math\n",
        "import glob\n",
        "import time"
      ]
    },
    {
      "cell_type": "code",
      "source": [
        "DEBUG = True"
      ],
      "metadata": {
        "id": "kehzW5x-VZ4l"
      },
      "execution_count": 43,
      "outputs": []
    },
    {
      "cell_type": "markdown",
      "source": [
        "# Load Datasets"
      ],
      "metadata": {
        "id": "AJt4yvU7fvlG"
      }
    },
    {
      "cell_type": "markdown",
      "source": [
        "## CAIDA"
      ],
      "metadata": {
        "id": "RVaWSWkAgBxg"
      }
    },
    {
      "cell_type": "code",
      "source": [
        "!gdown https://snap.stanford.edu/data/as-caida.tar.gz\n",
        "!mkdir caida\n",
        "!tar -C /content/caida -xzf /content/as-caida.tar.gz "
      ],
      "metadata": {
        "colab": {
          "base_uri": "https://localhost:8080/"
        },
        "id": "rKwOiwXqfwSP",
        "outputId": "bdbc36c2-089e-41d5-f9f9-8af6467450d4"
      },
      "execution_count": 3,
      "outputs": [
        {
          "output_type": "stream",
          "name": "stdout",
          "text": [
            "Downloading...\n",
            "From: https://snap.stanford.edu/data/as-caida.tar.gz\n",
            "To: /content/as-caida.tar.gz\n",
            "100% 46.4M/46.4M [00:03<00:00, 13.5MB/s]\n",
            "mkdir: cannot create directory ‘caida’: File exists\n"
          ]
        }
      ]
    },
    {
      "cell_type": "markdown",
      "source": [
        "## Oregon"
      ],
      "metadata": {
        "id": "7xPifcOjkai0"
      }
    },
    {
      "cell_type": "code",
      "source": [
        "!rm oregon -r"
      ],
      "metadata": {
        "id": "Qo9bKPYmnBIl"
      },
      "execution_count": 4,
      "outputs": []
    },
    {
      "cell_type": "code",
      "source": [
        "!mkdir oregon\n",
        "%cd oregon\n",
        "\n",
        "!gdown https://snap.stanford.edu/data/oregon1_010331.txt.gz\n",
        "!gdown https://snap.stanford.edu/data/oregon1_010407.txt.gz\n",
        "!gdown https://snap.stanford.edu/data/oregon1_010414.txt.gz\n",
        "!gdown https://snap.stanford.edu/data/oregon1_010421.txt.gz\n",
        "!gdown https://snap.stanford.edu/data/oregon1_010428.txt.gz\n",
        "!gdown https://snap.stanford.edu/data/oregon1_010505.txt.gz\n",
        "!gdown https://snap.stanford.edu/data/oregon1_010512.txt.gz\n",
        "!gdown https://snap.stanford.edu/data/oregon1_010519.txt.gz\n",
        "!gdown https://snap.stanford.edu/data/oregon1_010526.txt.gz\n",
        "\n",
        "\n",
        "!gunzip oregon1_010331.txt.gz\n",
        "!gunzip oregon1_010407.txt.gz\n",
        "!gunzip oregon1_010414.txt.gz\n",
        "!gunzip oregon1_010421.txt.gz\n",
        "!gunzip oregon1_010428.txt.gz\n",
        "!gunzip oregon1_010505.txt.gz\n",
        "!gunzip oregon1_010512.txt.gz\n",
        "!gunzip oregon1_010519.txt.gz\n",
        "!gunzip oregon1_010526.txt.gz\n",
        "\n",
        "%cd .."
      ],
      "metadata": {
        "colab": {
          "base_uri": "https://localhost:8080/"
        },
        "id": "-w2orQRBlEz6",
        "outputId": "349b9c12-deee-4a77-b996-6f3a6d9ab72b"
      },
      "execution_count": 5,
      "outputs": [
        {
          "output_type": "stream",
          "name": "stdout",
          "text": [
            "/content/oregon\n",
            "Downloading...\n",
            "From: https://snap.stanford.edu/data/oregon1_010331.txt.gz\n",
            "To: /content/oregon/oregon1_010331.txt.gz\n",
            "100% 69.1k/69.1k [00:00<00:00, 342kB/s]\n",
            "Downloading...\n",
            "From: https://snap.stanford.edu/data/oregon1_010407.txt.gz\n",
            "To: /content/oregon/oregon1_010407.txt.gz\n",
            "100% 69.3k/69.3k [00:00<00:00, 337kB/s]\n",
            "Downloading...\n",
            "From: https://snap.stanford.edu/data/oregon1_010414.txt.gz\n",
            "To: /content/oregon/oregon1_010414.txt.gz\n",
            "100% 69.8k/69.8k [00:00<00:00, 341kB/s]\n",
            "Downloading...\n",
            "From: https://snap.stanford.edu/data/oregon1_010421.txt.gz\n",
            "To: /content/oregon/oregon1_010421.txt.gz\n",
            "100% 70.7k/70.7k [00:00<00:00, 346kB/s]\n",
            "Downloading...\n",
            "From: https://snap.stanford.edu/data/oregon1_010428.txt.gz\n",
            "To: /content/oregon/oregon1_010428.txt.gz\n",
            "100% 70.1k/70.1k [00:00<00:00, 348kB/s]\n",
            "Downloading...\n",
            "From: https://snap.stanford.edu/data/oregon1_010505.txt.gz\n",
            "To: /content/oregon/oregon1_010505.txt.gz\n",
            "100% 70.5k/70.5k [00:00<00:00, 344kB/s]\n",
            "Downloading...\n",
            "From: https://snap.stanford.edu/data/oregon1_010512.txt.gz\n",
            "To: /content/oregon/oregon1_010512.txt.gz\n",
            "100% 70.7k/70.7k [00:00<00:00, 346kB/s]\n",
            "Downloading...\n",
            "From: https://snap.stanford.edu/data/oregon1_010519.txt.gz\n",
            "To: /content/oregon/oregon1_010519.txt.gz\n",
            "100% 70.9k/70.9k [00:00<00:00, 348kB/s]\n",
            "Downloading...\n",
            "From: https://snap.stanford.edu/data/oregon1_010526.txt.gz\n",
            "To: /content/oregon/oregon1_010526.txt.gz\n",
            "100% 72.9k/72.9k [00:00<00:00, 358kB/s]\n",
            "/content\n"
          ]
        }
      ]
    },
    {
      "cell_type": "markdown",
      "source": [
        "# Data Structure Classes"
      ],
      "metadata": {
        "id": "L2_9liTVezAd"
      }
    },
    {
      "cell_type": "markdown",
      "source": [
        "## Edge Class"
      ],
      "metadata": {
        "id": "bdCCnBYfd3lH"
      }
    },
    {
      "cell_type": "code",
      "source": [
        "@dataclass(init=True, eq=True, frozen=True)\n",
        "class Edge:\n",
        "  source: int\n",
        "  destination: int\n",
        "\n",
        "  def get_reverse(self):\n",
        "    return Edge(source=self.destination, destination=self.source)\n",
        "\n",
        "  def get_minmax(self):\n",
        "    return Edge(source=min(self.source, self.destination),\n",
        "                destination=max(self.source, self.destination))"
      ],
      "metadata": {
        "id": "7Yfc5C19d5CM"
      },
      "execution_count": 6,
      "outputs": []
    },
    {
      "cell_type": "markdown",
      "source": [
        "## Graph Class"
      ],
      "metadata": {
        "id": "y5U0Qg7xq0d6"
      }
    },
    {
      "cell_type": "code",
      "source": [
        "class Graph():\n",
        "  def __init__(self, directed):\n",
        "    self.edges = set()\n",
        "    self.nodes = set()\n",
        "    self.node_order = list()\n",
        "    self.node_order_dictionary = dict()\n",
        "\n",
        "    self.reset_statics()\n",
        "\n",
        "  def _set_order(self, node):\n",
        "    if node not in self.node_order_dictionary:\n",
        "      self.node_order_dictionary[node] = len(self.node_order)\n",
        "      self.node_order.append(node)\n",
        "\n",
        "  def get_order(self, node):\n",
        "    return self.node_order_dictionary[node]\n",
        "\n",
        "  def add_edge(self, edge:Edge):\n",
        "    self.nodes.add(edge.source)\n",
        "    self.nodes.add(edge.destination)\n",
        "    self.edges.add(edge)\n",
        "\n",
        "    self._set_order(edge.source)\n",
        "\n",
        "  def finish(self):\n",
        "    for node in self.nodes:\n",
        "      # Set order for remaining nodes\n",
        "      self._set_order(node)\n",
        "\n",
        "    self.reset_statics()\n",
        "\n",
        "  def reset_statics(self):\n",
        "    self.number_trees = None\n",
        "    self.node_adjacency_list = None\n",
        "\n",
        "  def number_nodes(self):\n",
        "    return len(self.nodes)\n",
        "  \n",
        "  def number_edges(self):\n",
        "    return len(self.edges)\n",
        "\n",
        "  def get_edges(self):\n",
        "    return self.edges\n",
        "  \n",
        "  def get_nodes(self):\n",
        "    return self.nodes\n",
        "\n",
        "  def get_node(self, node_id):\n",
        "    return self.node_order[node_id]\n",
        "  \n",
        "  def get_node_adjacency_list(self, node_id):\n",
        "    if self.node_adjacency_list is None:\n",
        "      self.calculate_node_adjacency_list()\n",
        "    \n",
        "    return self.node_adjacency_list[self.get_node(node_id)]\n",
        "\n",
        "  def calculate_node_adjacency_list(self):\n",
        "    self.node_adjacency_list = dict()\n",
        "\n",
        "    for node in self.nodes:\n",
        "      self.node_adjacency_list[node] = set()\n",
        "    \n",
        "    for edge in self.edges:\n",
        "      self.node_adjacency_list[edge.source].add(edge.destination) \n",
        "      self.node_adjacency_list[edge.destination].add(edge.source) \n",
        "    \n",
        "  def calculate_number_trees(self):\n",
        "    if self.number_trees is not None:\n",
        "      return self.number_trees\n",
        "\n",
        "    self.number_trees = 0\n",
        "    for node_x in self.nodes:\n",
        "      for node_y in self.node_adjacency_list[node_x]:\n",
        "        for node_z in self.node_adjacency_list[node_x]:\n",
        "\n",
        "          if node_x < node_y < node_z:\n",
        "            if node_z in self.node_adjacency_list[node_y]:\n",
        "              self.number_trees += 1\n",
        "\n",
        "  def get_number_trees(self):\n",
        "    if self.number_trees is None:\n",
        "      self.calculate_number_trees()\n",
        "\n",
        "    return self.number_trees\n",
        "\n",
        "  def get_N_edge(self, edge):\n",
        "    node_x = edge.source\n",
        "    node_y = edge.destination\n",
        "\n",
        "    number_trees = 0\n",
        "\n",
        "    for node_z in self.node_adjacency_list[node_x]:\n",
        "      if node_z in self.node_adjacency_list[node_y]:\n",
        "        number_trees += 1\n",
        "    \n",
        "    return number_trees\n",
        "\n",
        "  def get_R_edge(self, edge):\n",
        "    node_x = edge.source\n",
        "    node_y = edge.destination\n",
        "\n",
        "    node_x_order = self.get_order(node_x)\n",
        "    node_y_order = self.get_order(node_y)\n",
        "\n",
        "    if node_x_order > node_y_order:\n",
        "      return 0\n",
        "\n",
        "    number_trees = 0\n",
        "\n",
        "    for node_z in self.node_adjacency_list[node_x]:\n",
        "      if node_z in self.node_adjacency_list[node_y]:\n",
        "        if node_x_order < self.get_order(node_z) < node_y_order:\n",
        "          number_trees += 1\n",
        "          \n",
        "    return number_trees"
      ],
      "metadata": {
        "id": "A6HI35X6oy9M"
      },
      "execution_count": 7,
      "outputs": []
    },
    {
      "cell_type": "markdown",
      "source": [
        "## Snapshot"
      ],
      "metadata": {
        "id": "ad_y7yRy3wSf"
      }
    },
    {
      "cell_type": "code",
      "source": [
        "class Snapshot():\n",
        "  def __init__(self, dataset_path):\n",
        "    self.dataset_path = dataset_path\n",
        "    self.graphs = list()\n",
        "\n",
        "  def load_graphs(self):\n",
        "    for path in sorted(glob.glob(pathname=self.dataset_path, recursive=True)):\n",
        "      print(\".\", end=\"\")\n",
        "      graph = Graph(directed=False)\n",
        "\n",
        "      with open(path, \"r\") as file:\n",
        "        for i, line in enumerate(file.readlines()):\n",
        "          if line[0] == \"#\": continue\n",
        "          \n",
        "          source, destination = line[:-1].split(\"\\t\")[:2]\n",
        "          if source == destination: continue\n",
        "          edge = Edge(source=int(source), destination=int(destination))\n",
        "          graph.add_edge(edge)\n",
        "        \n",
        "      graph.finish()\n",
        "      graph.calculate_node_adjacency_list()\n",
        "      self.graphs.append(graph)\n",
        "\n",
        "  def get_graph(self, i):\n",
        "    return self.graphs[i]\n",
        "  \n",
        "  def number_graphs(self):\n",
        "    return len(self.graphs)"
      ],
      "metadata": {
        "id": "u7AJS2NV31TO"
      },
      "execution_count": 8,
      "outputs": []
    },
    {
      "cell_type": "markdown",
      "source": [
        "# Load Dataset"
      ],
      "metadata": {
        "id": "82eK6x4J9i2R"
      }
    },
    {
      "cell_type": "markdown",
      "source": [
        "## Oregon"
      ],
      "metadata": {
        "id": "bw6uqAUfJsHL"
      }
    },
    {
      "cell_type": "code",
      "source": [
        "oregon = Snapshot(dataset_path = \"/content/oregon/*\")"
      ],
      "metadata": {
        "id": "sw0gyo8b6jNk"
      },
      "execution_count": 9,
      "outputs": []
    },
    {
      "cell_type": "code",
      "source": [
        "oregon.load_graphs()"
      ],
      "metadata": {
        "colab": {
          "base_uri": "https://localhost:8080/"
        },
        "id": "It9JIEmL7tsy",
        "outputId": "632aa1c4-c138-4d96-9d93-d84cc62bf628"
      },
      "execution_count": 10,
      "outputs": [
        {
          "output_type": "stream",
          "name": "stdout",
          "text": [
            "........."
          ]
        }
      ]
    },
    {
      "cell_type": "code",
      "source": [
        "oregon.number_graphs()"
      ],
      "metadata": {
        "colab": {
          "base_uri": "https://localhost:8080/"
        },
        "id": "QT6Yvca77z5b",
        "outputId": "cf665a1e-c330-4708-9476-ed05e65c67b4"
      },
      "execution_count": 11,
      "outputs": [
        {
          "output_type": "execute_result",
          "data": {
            "text/plain": [
              "9"
            ]
          },
          "metadata": {},
          "execution_count": 11
        }
      ]
    },
    {
      "cell_type": "markdown",
      "source": [
        "## Caida 2006"
      ],
      "metadata": {
        "id": "KlJ5C_uTJuQJ"
      }
    },
    {
      "cell_type": "code",
      "source": [
        "caida2006 = Snapshot(dataset_path = \"/content/caida/as-caida2006*\")"
      ],
      "metadata": {
        "id": "-WcaOvy06qJP"
      },
      "execution_count": 12,
      "outputs": []
    },
    {
      "cell_type": "code",
      "source": [
        "caida2006.load_graphs()"
      ],
      "metadata": {
        "id": "W7IV6nks8IDd",
        "colab": {
          "base_uri": "https://localhost:8080/"
        },
        "outputId": "9c249d87-7641-4452-9c9d-64df1e55e1e6"
      },
      "execution_count": 13,
      "outputs": [
        {
          "output_type": "stream",
          "name": "stdout",
          "text": [
            "...................................................."
          ]
        }
      ]
    },
    {
      "cell_type": "code",
      "source": [
        "caida2006.number_graphs()"
      ],
      "metadata": {
        "id": "wJ3flCsO8Be5",
        "colab": {
          "base_uri": "https://localhost:8080/"
        },
        "outputId": "f682876c-27ff-4e85-f8b0-f655d60fbdf7"
      },
      "execution_count": 14,
      "outputs": [
        {
          "output_type": "execute_result",
          "data": {
            "text/plain": [
              "52"
            ]
          },
          "metadata": {},
          "execution_count": 14
        }
      ]
    },
    {
      "cell_type": "markdown",
      "source": [
        "## Caida 2007"
      ],
      "metadata": {
        "id": "g9phEBTbJwco"
      }
    },
    {
      "cell_type": "code",
      "source": [
        "caida2007 = Snapshot(dataset_path = \"/content/caida/as-caida2007*\")"
      ],
      "metadata": {
        "id": "XndTy_j66ys-"
      },
      "execution_count": 15,
      "outputs": []
    },
    {
      "cell_type": "code",
      "source": [
        "caida2007.load_graphs()"
      ],
      "metadata": {
        "colab": {
          "base_uri": "https://localhost:8080/"
        },
        "id": "YyCobVB_9Hhv",
        "outputId": "67217982-0995-4bcf-dac6-6ee10fcc9017"
      },
      "execution_count": 16,
      "outputs": [
        {
          "output_type": "stream",
          "name": "stdout",
          "text": [
            ".............................................."
          ]
        }
      ]
    },
    {
      "cell_type": "code",
      "source": [
        "caida2007.number_graphs()"
      ],
      "metadata": {
        "colab": {
          "base_uri": "https://localhost:8080/"
        },
        "id": "xkiu64qa9L-d",
        "outputId": "34505be0-bc9d-4129-d477-71130e54038e"
      },
      "execution_count": 17,
      "outputs": [
        {
          "output_type": "execute_result",
          "data": {
            "text/plain": [
              "46"
            ]
          },
          "metadata": {},
          "execution_count": 17
        }
      ]
    },
    {
      "cell_type": "markdown",
      "source": [
        "# Oracles"
      ],
      "metadata": {
        "id": "Vyb5SKIGpZac"
      }
    },
    {
      "cell_type": "markdown",
      "source": [
        "## Heavy Edge Oracle"
      ],
      "metadata": {
        "id": "C7ojGT_Av9WP"
      }
    },
    {
      "cell_type": "code",
      "source": [
        "class HeavyEdgeOracle():\n",
        "  def __init__(self, graph:Graph):\n",
        "    self.graph = graph\n",
        "    self.rho = None\n",
        "    self.T = None\n",
        "    self.N_edge = None\n",
        "\n",
        "  def set_rho(self, rho):\n",
        "    self.rho = rho\n",
        "\n",
        "  def train(self):\n",
        "    if DEBUG: print(\"Cacluate total trees...\")\n",
        "    self.graph.calculate_number_trees()\n",
        "    self.T = self.graph.get_number_trees()\n",
        "    self._calculate_N_edge()\n",
        "    if DEBUG: print(\"Training oracle completed!\")\n",
        "\n",
        "  def _calculate_N_edge(self):\n",
        "    N_edge_complete = list()\n",
        "\n",
        "    if DEBUG: print(\"Counting trees per edges (N_e)...\")\n",
        "    edges = self.graph.get_edges()\n",
        "    for i, edge in enumerate(edges):\n",
        "      if DEBUG and i % (len(edges)//10)==0:\n",
        "        print(f\"{round(i*100/len(edges), 0)}%\", end=\" \")\n",
        "      if edge.source < edge.destination:\n",
        "        number_trees = self.graph.get_N_edge(edge)\n",
        "        \n",
        "        N_edge_complete.append({\"edge\": edge, \"number_trees\": number_trees})\n",
        "\n",
        "    if DEBUG: print(\"\\nSorting and selecting top N_e\")\n",
        "    N_edge_top = sorted(N_edge_complete, key=lambda x:-x[\"number_trees\"])[:len(N_edge_complete)//10]\n",
        "\n",
        "    self.N_edge = dict()\n",
        "    for item in N_edge_top:\n",
        "      self.N_edge[item[\"edge\"]] = item[\"number_trees\"]\n",
        "\n",
        "  def is_heavy(self, edge:Edge):\n",
        "    edge = edge.get_minmax()\n",
        "    if edge in self.N_edge:\n",
        "      return self.N_edge[edge] >= self.T/self.rho\n",
        "    else:\n",
        "      return False"
      ],
      "metadata": {
        "id": "hPUJkG7FvuXA"
      },
      "execution_count": 18,
      "outputs": []
    },
    {
      "cell_type": "markdown",
      "source": [
        "## Value Oracle"
      ],
      "metadata": {
        "id": "ZWBf5SoYS_Ar"
      }
    },
    {
      "cell_type": "code",
      "source": [
        "class ValueOracle():\n",
        "  def __init__(self, graph: Graph):\n",
        "    self.graph = graph\n",
        "    \n",
        "    self.alpha = 1\n",
        "    self.beta = 10\n",
        "    self.K = 1\n",
        "    self.T = None\n",
        "    self.N_edge = None\n",
        "\n",
        "\n",
        "  def train(self):\n",
        "    if DEBUG: print(\"Cacluate total trees...\")\n",
        "    self.graph.calculate_number_trees()\n",
        "    self.T = self.graph.get_number_trees()\n",
        "    self._calculate_N_edge()\n",
        "    if DEBUG: print(\"Training oracle completed!\")\n",
        "\n",
        "  def _calculate_N_edge(self):\n",
        "    N_edge_complete = list()\n",
        "\n",
        "    if DEBUG: print(\"Counting trees per edges (N_e)...\")\n",
        "    edges = self.graph.get_edges()\n",
        "    for i, edge in enumerate(edges):\n",
        "      if DEBUG and i % (len(edges)//10)==0:\n",
        "        print(f\"{round(i*100/len(edges), 0)}%\", end=\" \")\n",
        "      if edge.source < edge.destination:\n",
        "        number_trees = self.graph.get_N_edge(edge)\n",
        "        \n",
        "        N_edge_complete.append({\"edge\": edge, \"number_trees\": number_trees})\n",
        "\n",
        "    if DEBUG: print(\"\\nSorting and selecting top N_e\")\n",
        "    N_edge_top = sorted(N_edge_complete, key=lambda x:-x[\"number_trees\"])[:len(N_edge_complete)//10]\n",
        "\n",
        "    self.N_edge = dict()\n",
        "    for item in N_edge_top:\n",
        "      self.N_edge[item[\"edge\"]] = item[\"number_trees\"]\n",
        "\n",
        "  def estimate_N(self, edge:Edge):\n",
        "    return self.N_edge.get(edge.get_minmax(), 0) "
      ],
      "metadata": {
        "id": "eeerZZgYKSjL"
      },
      "execution_count": 19,
      "outputs": []
    },
    {
      "cell_type": "code",
      "source": [
        "# class ValueOracle():\n",
        "#   def __init__(self, graph: Graph):\n",
        "#     self.graph = graph\n",
        "    \n",
        "#     self.alpha = 1\n",
        "#     self.beta = 10\n",
        "#     self.K = 1\n",
        "#     self.T = None\n",
        "  \n",
        "#   def train(self):\n",
        "#     if DEBUG: print(\"Cacluate total trees...\")\n",
        "#     self.graph.calculate_number_trees()\n",
        "#     self.T = self.graph.get_number_trees()\n",
        "#     self._calculate_N_edge()\n",
        "#     if DEBUG: print(\"Training oracle completed!\")\n",
        "\n",
        "#   def _calculate_N_edge(self):\n",
        "#     R_edge_complete = list()\n",
        "\n",
        "#     if DEBUG: print(\"Counting Ordered trees per edges (R_e)...\")\n",
        "#     edges = self.graph.get_edges()\n",
        "#     for i, edge in enumerate(edges):\n",
        "#       if DEBUG and i % (len(edges)//10)==0:\n",
        "#         print(f\"{round(i*100/len(edges), 0)}%\", end=\" \")\n",
        "#       if self.graph.get_order(edge.source) < self.graph.get_order(edge.destination):\n",
        "#         number_trees = self.graph.get_R_edge(edge)\n",
        "        \n",
        "#         if number_trees > 0:\n",
        "#           R_edge_complete.append({\"edge\": edge, \"number_trees\": number_trees})\n",
        "\n",
        "#     if DEBUG: print(\"\\nSorting R_e\")\n",
        "#     R_edge_complete = sorted(R_edge_complete, key=lambda x:-x[\"number_trees\"])\n",
        "\n",
        "#     self.R_edge = dict()\n",
        "#     for item in R_edge_complete:\n",
        "#       self.R_edge[item[\"edge\"]] = item[\"number_trees\"]\n",
        "\n",
        "#   def estimate_R(self, edge:Edge):\n",
        "#     return self.R_edge.get(edge, 0)"
      ],
      "metadata": {
        "id": "g6IBhz7ATNCJ"
      },
      "execution_count": 20,
      "outputs": []
    },
    {
      "cell_type": "markdown",
      "source": [
        "# Estimators"
      ],
      "metadata": {
        "id": "Vc3PsxrQAcu4"
      }
    },
    {
      "cell_type": "code",
      "source": [
        "class Estimator(ABC):\n",
        "  @abstractmethod\n",
        "  def estimate_number_trees(self):\n",
        "    pass"
      ],
      "metadata": {
        "id": "y4f5jS8pLLcy"
      },
      "execution_count": 22,
      "outputs": []
    },
    {
      "cell_type": "markdown",
      "source": [
        "## Algorithm 1"
      ],
      "metadata": {
        "id": "I-wk_VB-AHoh"
      }
    },
    {
      "cell_type": "code",
      "source": [
        "class EstimatorAlgorithm1(Estimator):\n",
        "  def __init__(self, graph:Graph, oracle:HeavyEdgeOracle, epsilon,\n",
        "               alpha, beta, gamma):\n",
        "    self.graph = graph \n",
        "    self.oracle = oracle\n",
        "\n",
        "    self.epsilon = epsilon\n",
        "    self.alpha = alpha\n",
        "    self.gamma = gamma\n",
        "    self.beta = beta\n",
        "\n",
        "    self.A_l, self.A_m, self.A_h = 0, 0, 0\n",
        "    self.S_l, self.S_m, self.S_aux = set(), set(), set()\n",
        "\n",
        "    self.T = self.oracle.T\n",
        "\n",
        "    self.C = dict()\n",
        "    self.B = dict()\n",
        "\n",
        "    self.n = graph.number_nodes()\n",
        "    self.m = graph.number_edges()\n",
        "\n",
        "    self.set_probabilities()\n",
        "\n",
        "  def set_probabilities(self):\n",
        "    if self.T >= ((self.m/self.epsilon) ** 0.5):\n",
        "      self.rho = (self.m * self.T) ** (1/3)      \n",
        "      \n",
        "      self.p1 = self.alpha * (self.epsilon ** -2) / self.rho\n",
        "      self.p2 = min(self.beta*(self.epsilon ** -2) * self.rho / self.T , 1)\n",
        "      self.p3 = self.gamma * (self.epsilon ** (-2)) * math.log(self.n) / self.rho\n",
        "    \n",
        "    else:\n",
        "      self.rho = (self.m ** 0.5) / self.epsilon\n",
        "      self.p1 = 0\n",
        "      self.p2 = 1\n",
        "      self.p3 = self.gamma * (self.epsilon ** (-2)) / self.rho\n",
        "    \n",
        "    if DEBUG:\n",
        "      print(f\"T = {self.T}, rho = {self.rho}, T/rho = {self.T//self.rho}\")\n",
        "      print(f\"p1 = {self.p1}, p2 = {self.p2}, p3 = {self.p3}\")\n",
        "    self.oracle.set_rho(self.rho)\n",
        "\n",
        "  def estimate_number_trees(self):\n",
        "    for node_id in range(self.graph.number_nodes()):\n",
        "      if DEBUG and node_id%(self.graph.number_nodes()//10)==0:\n",
        "         print(f\"{round(node_id*100/self.graph.number_nodes())}%\", end=\" \")\n",
        "      v = self.graph.get_node(node_id)\n",
        "      N_v = self.graph.get_node_adjacency_list(node_id)\n",
        "\n",
        "      for ab in self.S_l.union(self.S_m):\n",
        "        if ab.source in N_v and ab.destination in N_v:\n",
        "          self.C[ab] += 1\n",
        "      \n",
        "      for a in N_v:\n",
        "        av = Edge(a, v)\n",
        "\n",
        "        if av in self.S_aux:\n",
        "          self.B[av] = 1\n",
        "\n",
        "      for u in N_v:\n",
        "        vu = Edge(v, u)\n",
        "        uv = Edge(u, v)\n",
        "        \n",
        "        if random.random() < self.p3:\n",
        "          self.S_aux.add(vu)\n",
        "          self.B[vu] = 0\n",
        "\n",
        "        if self.oracle.is_heavy(uv) is False:\n",
        "          if uv in self.S_l:\n",
        "            self.A_l += self.C[uv]\n",
        "          elif random.random() < self.p1:\n",
        "            self.S_l.add(vu)\n",
        "            self.C[vu] = 0\n",
        "        else:\n",
        "          sharp = 0\n",
        "          for edge in self.S_aux:\n",
        "            if edge.source == u and self.B[edge]==1 and edge.destination in N_v:\n",
        "              sharp += 1\n",
        "          \n",
        "          if sharp >= self.p3 * self.rho:\n",
        "            self.A_h += sharp\n",
        "          elif uv in self.S_m:\n",
        "            self.A_m += self.C[uv]\n",
        "          elif random.random() < self.p2:\n",
        "            self.S_m.add(vu)\n",
        "            self.C[vu] = 0\n",
        "    \n",
        "    if DEBUG:\n",
        "      print(f\"Len(S_l) = {len(self.S_l)}, Len(S_m) = {len(self.S_m)}, Len(S_aux)={len(self.S_aux)}\")\n",
        "      print(f\"A_l {self.A_l}, A_m = {self.A_m}, A_h = {self.A_h}\")\n",
        "    return self.A_l / self.p1 + self.A_m / self.p2 + self.A_h / self.p3\n",
        "\n",
        "  def number_stored_edges(self):\n",
        "    return len(self.S_l) + len(self.S_m) + len(self.S_aux)"
      ],
      "metadata": {
        "id": "uls5mAkzAaDh"
      },
      "execution_count": 23,
      "outputs": []
    },
    {
      "cell_type": "markdown",
      "source": [
        "## Algorithm 2"
      ],
      "metadata": {
        "id": "s9GSERIgTLsw"
      }
    },
    {
      "cell_type": "code",
      "source": [
        "class EstimatorAlgorithm2(Estimator):\n",
        "  def __init__(self, oracle: ValueOracle, graph:Graph\n",
        "               , epsilon, c, H_constant=1):\n",
        "    \n",
        "    self.oracle = oracle\n",
        "    self.graph = graph\n",
        "    self.epsilon = epsilon\n",
        "    self.c = c\n",
        "\n",
        "    self.K = self.oracle.K\n",
        "    self.T = self.oracle.T\n",
        "    self.m = self.graph.number_edges()\n",
        "    self.alpha = self.oracle.alpha\n",
        "    self.beta = self.oracle.beta\n",
        "\n",
        "    self.H = int( 1/(self.epsilon**2)\\\n",
        "                  * (math.log(self.K/self.epsilon ,10) ** 2)\\\n",
        "                  * (self.alpha + self.m*self.beta/self.T)\\\n",
        "                  * H_constant)\n",
        "    \n",
        "    self.estimation_numbers = int(self.c * (self.epsilon ** -2))\n",
        "\n",
        "    if DEBUG: print(f\"H = {self.H}, estimation_numbers = {self.estimation_numbers}\")\n",
        "\n",
        "    self.X = list()\n",
        "    self.S = list()\n",
        "    self.Q = list()\n",
        "    self.A = list()\n",
        "    self.C = list()\n",
        "    self.R_div_u = list()\n",
        "\n",
        "  def estimate_number_trees(self):\n",
        "    M = 0\n",
        "    c_plus_counter = 0\n",
        "    for _ in range(self.estimation_numbers):\n",
        "      self.S.append(set())\n",
        "      self.A.append(0)\n",
        "      self.C.append(dict())\n",
        "      self.Q.append(dict())\n",
        "\n",
        "    for node_id in range(self.graph.number_nodes()):\n",
        "      if DEBUG and node_id%(self.graph.number_nodes()//10)==0 :\n",
        "         print(f\"{round(node_id*100/self.graph.number_nodes())}%\")\n",
        "         print(f\"M = {M}\")\n",
        "         print(f\"\"\"Top A = {sorted([int(Ai) for Ai in self.A], reverse=True)[:10]},\n",
        "          Median A = {sorted([int(Ai) for Ai in self.A], reverse=True)[self.estimation_numbers//2]}\"\"\")\n",
        "         print(f\"Top len(S) = {sorted([len(Si) for Si in self.S], reverse=True)[:10]}\")\n",
        "         print(f\"C Plus Counter = {c_plus_counter}\")\n",
        "         c_plus_counter = 0\n",
        "\n",
        "      y = self.graph.get_node(node_id)\n",
        "      N_y = self.graph.get_node_adjacency_list(node_id)\n",
        "\n",
        "      for i in range(self.estimation_numbers):\n",
        "        for edge in self.S[i]:\n",
        "          if edge.source in N_y and edge.destination in N_y:\n",
        "            self.C[i][edge] += 1\n",
        "            c_plus_counter += 1\n",
        "\n",
        "      for x in N_y:\n",
        "        yx = Edge(y, x)\n",
        "        for i in range(self.estimation_numbers):\n",
        "          xy = Edge(x, y)\n",
        "          if xy in self.S[i]:\n",
        "            self.A[i] = max(self.A[i], self.C[i][xy]/self.Q[i][xy])\n",
        "          else:\n",
        "            R_yx_hat = self.oracle.estimate_N(yx)\n",
        "            R_yx_hat += self.beta\n",
        "\n",
        "            self.Q[i][yx] = np.random.exponential(1)\n",
        "            self.C[i][yx] = 0\n",
        "            self.S[i].add(yx)\n",
        "\n",
        "            heapq.heappush(self.R_div_u, (-R_yx_hat/self.Q[i][yx], {\"edge\": yx, \"i\": i}))\n",
        "      \n",
        "      sum_s = 0\n",
        "      M = np.inf\n",
        "      for (s, _) in self.R_div_u:\n",
        "        sum_s += 1\n",
        "\n",
        "        if sum_s > self.H:\n",
        "          break\n",
        "        else:\n",
        "          M = -s\n",
        "      \n",
        "      reduced_R_div_u = list()\n",
        "\n",
        "      R_div_u_length = len(self.R_div_u) \n",
        "      for _ in range(R_div_u_length):\n",
        "        (s, edge_i) = heapq.heappop(self.R_div_u)\n",
        "        edge, i = edge_i[\"edge\"], edge_i[\"i\"]\n",
        "        \n",
        "        if -s >= M:\n",
        "          heapq.heappush(reduced_R_div_u, (s, edge_i))\n",
        "        else:\n",
        "          self.Q[i].pop(edge)\n",
        "          self.C[i].pop(edge)\n",
        "          self.S[i].remove(edge)\n",
        "      \n",
        "      self.R_div_u = reduced_R_div_u\n",
        "\n",
        "    for i in range(self.estimation_numbers):\n",
        "      self.X.append(self.A[i])\n",
        "\n",
        "    self.X = sorted(self.X)\n",
        "    if DEBUG: print(f\"Top X = {self.X[-10:]}\")\n",
        "    X_median = self.X[len(self.X)//2]\n",
        "\n",
        "    return int(math.log(2) * X_median)\n",
        "\n",
        "  def number_stored_edges(self):\n",
        "    return  sum([len(Si) for Si in self.S])"
      ],
      "metadata": {
        "id": "OVG80wkETFPM"
      },
      "execution_count": 24,
      "outputs": []
    },
    {
      "cell_type": "markdown",
      "source": [
        "## Algorithm 3"
      ],
      "metadata": {
        "id": "O8x7nb5_2DYi"
      }
    },
    {
      "cell_type": "code",
      "source": [
        "class EstimatorAlgorithm3(Estimator):\n",
        "  def __init__(self, oracle:ValueOracle, graph:Graph, epsilon,\n",
        "               i_constant, j_constant, c):\n",
        "    \n",
        "    self.oracle = oracle\n",
        "    self.graph = graph\n",
        "    self.epsilon = epsilon\n",
        "    self.c = c\n",
        "    self.n = self.graph.number_nodes()\n",
        "    self.beta = self.oracle.beta\n",
        "    self.T = self.oracle.T\n",
        "\n",
        "    self.i = math.ceil(math.log(self.n, 10)) * i_constant\n",
        "    self.j = math.ceil(math.log(math.log(self.n, 10), 10)) * j_constant\n",
        "    \n",
        "    self.p = [None] * self.i\n",
        "    self.I = [(None, None)] * self.i\n",
        "\n",
        "    self.p[0] = self.c * (self.epsilon ** -2) * 1 * self.beta / self.T\n",
        "    self.I[0] = (0, 2*self.beta)\n",
        "\n",
        "    for ii in range(1, self.i):\n",
        "      self.p[ii] = self.c * (self.epsilon ** -2) * (2 ** ii) \\\n",
        "                          * self.beta * (math.log(self.n, 10) ** 2) / self.T\n",
        "      self.I[ii] = ((2**ii)*self.beta, (2**(ii+1))*self.beta)\n",
        "\n",
        "    self.H = 0\n",
        "    self.S = list()\n",
        "    self.A = list()\n",
        "\n",
        "    for ii in range(self.i):\n",
        "      S_list_j = []\n",
        "      A_list_j = []\n",
        "      for jj in range(self.j):\n",
        "        S_list_j.append(set())\n",
        "        A_list_j.append(0)\n",
        "\n",
        "      self.S.append(S_list_j)\n",
        "      self.A.append(A_list_j)\n",
        "\n",
        "    self.C = dict()\n",
        "\n",
        "    if DEBUG: \n",
        "      print(f\"i = {self.i}, j = {self.j}\")\n",
        "      for ii in range(self.i):\n",
        "        print(f\"p({ii}) = {self.p[ii]}\")\n",
        "      \n",
        "      for ii in range(self.i):\n",
        "        print(f\"I({ii}) = {self.I[ii]}\")\n",
        "\n",
        "  def estimate_number_trees(self):\n",
        "    for node_id in range(self.graph.number_nodes()):\n",
        "      if DEBUG and node_id%(self.graph.number_nodes()//10)==0:\n",
        "         print(f\"{round(node_id*100/self.graph.number_nodes())}%\", end=\" \")\n",
        "\n",
        "      y = self.graph.get_node(node_id)\n",
        "      N_y = self.graph.get_node_adjacency_list(node_id)\n",
        "\n",
        "      for ii in range(self.i):\n",
        "        for jj in range(self.j):\n",
        "          for edge in self.S[ii][jj]:\n",
        "            if edge.source in N_y and edge.destination in N_y:\n",
        "              self.C[edge] += 1\n",
        "\n",
        "      for x in N_y:\n",
        "        xy = Edge(x, y)\n",
        "        yx = Edge(y, x)\n",
        "\n",
        "        flag = False\n",
        "        for ii in range(self.i):\n",
        "          for jj in range(self.j):\n",
        "            if xy in self.S[ii][jj]:\n",
        "              self.A[ii][jj] += self.C[xy] # Changing original sudocode\n",
        "              flag = True\n",
        "\n",
        "        if flag is False:\n",
        "          R_yx_hat = self.oracle.estimate_N(yx)\n",
        "\n",
        "          selected_i = None\n",
        "          for ii in range(self.i):\n",
        "            if self.I[ii][0] <= R_yx_hat + self.beta < self.I[ii][1]:\n",
        "              selected_i = ii\n",
        "          \n",
        "          for jj in range(self.j):\n",
        "            if random.random() < self.p[selected_i]:\n",
        "              self.S[selected_i][jj].add(yx)\n",
        "              self.C[yx] = 0\n",
        "\n",
        "    for ii in range(self.i):\n",
        "      A_ij_median = sorted(self.A[ii])[self.j//2]\n",
        "      self.H += A_ij_median/self.p[ii]\n",
        "    \n",
        "    if DEBUG: \n",
        "      print(f\"\\nS = {[[len(Sij) for Sij in Si] for Si in self.S]}\")\n",
        "      print(f\"A = {self.A}\")\n",
        "    \n",
        "    return int(self.H)\n",
        "\n",
        "  def number_stored_edges(self):\n",
        "    return sum([sum([len(Sij) for Sij in Si]) for Si in self.S])"
      ],
      "metadata": {
        "id": "snvj0ruU2GOk"
      },
      "execution_count": 25,
      "outputs": []
    },
    {
      "cell_type": "markdown",
      "source": [
        "## Algorithm 4"
      ],
      "metadata": {
        "id": "BwC8m7XqqAxL"
      }
    },
    {
      "cell_type": "code",
      "source": [
        "class EstimatorAlgorithm4(Estimator):\n",
        "  def __init__(self, graph:Graph, oracle:HeavyEdgeOracle, epsilon, C):\n",
        "    self.graph = graph\n",
        "    self.oracle = oracle\n",
        "    self.C = C\n",
        "    self.epsilon = epsilon\n",
        "    self.T = self.oracle.T\n",
        "    self.m = self.graph.number_edges()\n",
        "\n",
        "    self.rho = max(self.epsilon*self.T/math.sqrt(self.m), 1)\n",
        "    self.p = C * max(1 / (self.epsilon * math.sqrt(self.T)),\n",
        "                     self.rho/ (self.epsilon**2 * self.T))\n",
        "\n",
        "    self.oracle.set_rho(self.rho)\n",
        "\n",
        "    self.l1, self.l2, self.l3 = 0, 0, 0\n",
        "    self.S_L = set()\n",
        "    self.H = set()\n",
        "\n",
        "    self.stored_nodes = set()\n",
        "\n",
        "    if DEBUG: print(f\"rho = {self.rho}, p = {self.p}\")\n",
        "\n",
        "  def estimate_number_tress(self):\n",
        "    shuffled_edges = deepcopy(list(self.graph.get_edges()))\n",
        "    random.shuffle(shuffled_edges)\n",
        "\n",
        "    for i, edge in enumerate(shuffled_edges):\n",
        "      if DEBUG and i%(len(shuffled_edges)//10)==0:\n",
        "        print(f\"{round(i*100/len(shuffled_edges))}%\", end=\" \")\n",
        "\n",
        "      edge = edge.get_minmax()\n",
        "      a = edge.source\n",
        "      b = edge.destination\n",
        "\n",
        "      if self.oracle.is_heavy(edge):\n",
        "        self.H.add(edge)\n",
        "        self.stored_nodes.add(a)\n",
        "        self.stored_nodes.add(b)\n",
        "      else:\n",
        "        if random.random() < self.p:\n",
        "          self.S_L.add(edge)\n",
        "          self.stored_nodes.add(a)\n",
        "          self.stored_nodes.add(b)\n",
        "\n",
        "      for v in self.stored_nodes:\n",
        "        if v != a and v != b:\n",
        "          av = Edge(a, v).get_minmax()\n",
        "          bv = Edge(b, v).get_minmax()\n",
        "\n",
        "          if av in self.S_L and bv in self.S_L:\n",
        "            self.l1 += 1\n",
        "          elif av in self.S_L and bv in self.H:\n",
        "            self.l2 += 1\n",
        "          elif av in self.H and bv in self.S_L:\n",
        "            self.l2 += 1\n",
        "          elif av in self.H and bv in self.H:\n",
        "            self.l3 += 1\n",
        "\n",
        "    return int(self.l1/(self.p**2) + self.l2/self.p + self.l3)\n",
        "\n",
        "  def number_stored_edges(self):\n",
        "    return len(self.S_L) + len(self.H)"
      ],
      "metadata": {
        "id": "2zTxEFjsp_YH"
      },
      "execution_count": 26,
      "outputs": []
    },
    {
      "cell_type": "markdown",
      "source": [
        "# Results"
      ],
      "metadata": {
        "id": "0cI0xirlhNTA"
      }
    },
    {
      "cell_type": "markdown",
      "source": [
        "## Test Mesure"
      ],
      "metadata": {
        "id": "XKA2uJzACXYz"
      }
    },
    {
      "cell_type": "code",
      "source": [
        "def relative_error(real_number_trees, predicted_number_trees):\n",
        "  return abs(1 - predicted_number_trees/real_number_trees)"
      ],
      "metadata": {
        "id": "2ZlZt7T1CZe5"
      },
      "execution_count": 32,
      "outputs": []
    },
    {
      "cell_type": "markdown",
      "source": [
        "## Parameters"
      ],
      "metadata": {
        "id": "rhU2oA7tYrv7"
      }
    },
    {
      "cell_type": "markdown",
      "source": [
        "### Dataset Parameters"
      ],
      "metadata": {
        "id": "9HgwGNhxBwLQ"
      }
    },
    {
      "cell_type": "code",
      "source": [
        "TRAIN_GRAPH_ID = {\"Oregon\": 0, \"CAIDA2006\": 0, \"CAIDA2007\":0}\n",
        "TEST_GRAPH_ID = {\"Oregon\":4-1, \"CAIDA2006\":30-1, \"CAIDA2007\":25-1}"
      ],
      "metadata": {
        "id": "iVuzq4vjOSOm"
      },
      "execution_count": 49,
      "outputs": []
    },
    {
      "cell_type": "code",
      "source": [
        "OREGON_TRAIN_GRAPH = 0\n",
        "CAIDA2006_TRAIN_GRAPH = 0\n",
        "CAIDA2007_TRAIN_GRAPH = 0\n",
        "\n",
        "OREGON_TEST_GRAPH = 4 - 1\n",
        "CAIDA2006_TEST_GRAPH = 30 - 1\n",
        "CAIDA2007_TEST_GRAPH = 25 - 1"
      ],
      "metadata": {
        "id": "YBJV1aizBfkW"
      },
      "execution_count": 31,
      "outputs": []
    },
    {
      "cell_type": "code",
      "source": [
        "datasets = {\n",
        "    \"Oregon\": oregon,\n",
        "    \"CAIDA2006\": caida2006,\n",
        "    \"CAIDA2007\": caida2007\n",
        "}"
      ],
      "metadata": {
        "id": "wIkE0yKkQ-HM"
      },
      "execution_count": 56,
      "outputs": []
    },
    {
      "cell_type": "markdown",
      "source": [
        "### Global Parameters"
      ],
      "metadata": {
        "id": "dGSfgQGPYR3U"
      }
    },
    {
      "cell_type": "code",
      "source": [
        "EPSILON = 0.05\n",
        "NUMBER_RUNS = 3\n",
        "DEBUG = False"
      ],
      "metadata": {
        "id": "8r0HRK6NYUZK"
      },
      "execution_count": 29,
      "outputs": []
    },
    {
      "cell_type": "markdown",
      "source": [
        "### Algorithms Parameter"
      ],
      "metadata": {
        "id": "iPW29Y7qXFGP"
      }
    },
    {
      "cell_type": "code",
      "source": [
        "ALGORITHM_PARAMETERS = {\n",
        "    \"Algorithm1\": {\"alpha\": 0.1, \"beta\": 0.5, \"gamma\": 0.01},\n",
        "    \"Algorithm2\": {\"H_constant\": 1, \"c\":0.2},\n",
        "    \"Algorithm3\": {\"i_constant\": 1, \"j_constant\": 1, \"c\": 1},\n",
        "    \"Algorithm4\": {\"C\":1}\n",
        "}"
      ],
      "metadata": {
        "id": "mAukHzuoWwmz"
      },
      "execution_count": 53,
      "outputs": []
    },
    {
      "cell_type": "markdown",
      "source": [
        "## Oracle Training"
      ],
      "metadata": {
        "id": "0qpjE_NkNRDq"
      }
    },
    {
      "cell_type": "code",
      "source": [
        "oracles = {}\n",
        "for dataset_name in [\"Oregon\", \"CAIDA2006\", \"CAIDA2007\"]:\n",
        "  heavy_edge_oracle = HeavyEdgeOracle(datasets[dataset_name].get_graph(TRAIN_GRAPH_ID[dataset_name]))\n",
        "  heavy_edge_oracle.train()\n",
        "\n",
        "  value_oracle = ValueOracle(datasets[dataset_name].get_graph(TRAIN_GRAPH_ID[dataset_name]))\n",
        "  value_oracle.train()\n",
        "\n",
        "  oracles[dataset_name] = {\"HeavyEdgeOracle\": heavy_edge_oracle,\n",
        "                           \"ValueOracle\":value_oracle}"
      ],
      "metadata": {
        "colab": {
          "base_uri": "https://localhost:8080/"
        },
        "id": "7IG9gzw4N5oM",
        "outputId": "b4be9a89-5fef-4814-8822-c4f49b5f84e0"
      },
      "execution_count": 57,
      "outputs": [
        {
          "output_type": "stream",
          "name": "stdout",
          "text": [
            "Cacluate total trees...\n",
            "Counting trees per edges (N_e)...\n",
            "0.0% 10.0% 20.0% 30.0% 40.0% 50.0% 60.0% 70.0% 80.0% 90.0% 100.0% \n",
            "Sorting and selecting top N_e\n",
            "Training oracle completed!\n",
            "Cacluate total trees...\n",
            "Counting trees per edges (N_e)...\n",
            "0.0% 10.0% 20.0% 30.0% 40.0% 50.0% 60.0% 70.0% 80.0% 90.0% 100.0% \n",
            "Sorting and selecting top N_e\n",
            "Training oracle completed!\n",
            "Cacluate total trees...\n",
            "Counting trees per edges (N_e)...\n",
            "0.0% 10.0% 20.0% 30.0% 40.0% 50.0% 60.0% 70.0% 80.0% 90.0% \n",
            "Sorting and selecting top N_e\n",
            "Training oracle completed!\n",
            "Cacluate total trees...\n",
            "Counting trees per edges (N_e)...\n",
            "0.0% 10.0% 20.0% 30.0% 40.0% 50.0% 60.0% 70.0% 80.0% 90.0% \n",
            "Sorting and selecting top N_e\n",
            "Training oracle completed!\n",
            "Cacluate total trees...\n",
            "Counting trees per edges (N_e)...\n",
            "0.0% 10.0% 20.0% 30.0% 40.0% 50.0% 60.0% 70.0% 80.0% 90.0% 100.0% \n",
            "Sorting and selecting top N_e\n",
            "Training oracle completed!\n",
            "Cacluate total trees...\n",
            "Counting trees per edges (N_e)...\n",
            "0.0% 10.0% 20.0% 30.0% 40.0% 50.0% 60.0% 70.0% 80.0% 90.0% 100.0% \n",
            "Sorting and selecting top N_e\n",
            "Training oracle completed!\n"
          ]
        }
      ]
    },
    {
      "cell_type": "code",
      "source": [
        "def create_estimator(algorithm_name, dataset_name) -> Estimator:\n",
        "  if algorithm_name==\"Algorithm1\":\n",
        "    estimator = EstimatorAlgorithm1(graph=datasets[dataset_name].get_graph(TEST_GRAPH_ID[dataset_name]),\n",
        "                                    oracle=oracles[dataset_name][\"HeavyEdgeOracle\"],\n",
        "                                    epsilon=EPSILON,\n",
        "                                    alpha=ALGORITHM_PARAMETERS[\"Algorithm1\"][\"alpha\"],\n",
        "                                    beta=ALGORITHM_PARAMETERS[\"Algorithm1\"][\"beta\"],\n",
        "                                    gamma=ALGORITHM_PARAMETERS[\"Algorithm1\"][\"gamma\"])\n",
        "  \n",
        "  elif algorithm_name==\"Algorithm2\":\n",
        "    estimator = EstimatorAlgorithm2(graph=datasets[dataset_name].get_graph(TEST_GRAPH_ID[dataset_name]),\n",
        "                                    oracle=oracles[dataset_name][\"ValueOracle\"],\n",
        "                                    H_constant=ALGORITHM_PARAMETERS[\"Algorithm2\"][\"H_constant\"],\n",
        "                                    c=ALGORITHM_PARAMETERS[\"Algorithm2\"][\"c\"],\n",
        "                                    epsilon=EPSILON)\n",
        "  \n",
        "  elif algorithm_name==\"Algorithm3\":\n",
        "    estimator = EstimatorAlgorithm3(graph=datasets[dataset_name].get_graph(TEST_GRAPH_ID[dataset_name]),\n",
        "                                    oracle=oracles[dataset_name][\"ValueOracle\"],\n",
        "                                    i_constant=ALGORITHM_PARAMETERS[\"Algorithm3\"][\"i_constant\"],\n",
        "                                    j_constant=ALGORITHM_PARAMETERS[\"Algorithm3\"][\"j_constant\"],\n",
        "                                    c=ALGORITHM_PARAMETERS[\"Algorithm3\"][\"c\"],\n",
        "                                    epsilon=EPSILON)\n",
        "  \n",
        "  elif algorithm_name==\"Algorithm4\":\n",
        "    estimator = EstimatorAlgorithm4(graph=datasets[dataset_name].get_graph(TEST_GRAPH_ID[dataset_name]),\n",
        "                                    oracle=oracles[dataset_name][\"HeavyEdgeOracle\"],\n",
        "                                    C=ALGORITHM_PARAMETERS[\"Algorithm4\"][\"C\"],\n",
        "                                    epsilon=EPSILON)\n",
        "  return estimator"
      ],
      "metadata": {
        "id": "knAM1wMbQM7e"
      },
      "execution_count": 58,
      "outputs": []
    },
    {
      "cell_type": "markdown",
      "source": [
        "## Evaluate"
      ],
      "metadata": {
        "id": "1FuPXlQ1YyMd"
      }
    },
    {
      "cell_type": "code",
      "source": [
        ""
      ],
      "metadata": {
        "id": "rkJqNuo7QE3u"
      },
      "execution_count": null,
      "outputs": []
    },
    {
      "cell_type": "code",
      "source": [
        "def evaluate(estimator, ):\n",
        "  storage_list = []\n",
        "  error_list = []\n",
        "\n",
        "  start_time = time.time()\n",
        "  for run in range(NUMBER_RUNS):\n",
        "    print(f\"Run {run+1}\")\n",
        "\n",
        "    algorithm2_estimator_oregon = EstimatorAlgorithm2(oracle=algorithm2_oracle_oregon,\n",
        "                                                    graph=oregon.get_graph(OREGON_TEST_GRAPH),\n",
        "                                                    epsilon=EPSILON,\n",
        "                                                    H_constant=algorithm2_parameters[\"H_constant\"],\n",
        "                                                    c=algorithm2_parameters[\"c\"])\n",
        "    \n",
        "    estimated_number_trees = algorithm2_estimator_oregon.estimate_number_trees()\n",
        "    storage = algorithm2_estimator_oregon.number_stored_edges()\n",
        "    error = relative_error(real_number_trees, estimated_number_trees) * 100\n",
        "\n",
        "    storage_list.append(storage)\n",
        "    error_list.append(error)\n",
        "\n",
        "  total_time = time.time() - start_time"
      ],
      "metadata": {
        "id": "8OVMa1irPrDe"
      },
      "execution_count": null,
      "outputs": []
    },
    {
      "cell_type": "markdown",
      "source": [
        "### Algorithm 2"
      ],
      "metadata": {
        "id": "Y7-cGMZ9Y0Em"
      }
    },
    {
      "cell_type": "code",
      "source": [
        "for dataset_name, dataset in [(\"Oregon\", oregon), (\"CAIDA2006\", caida2006), (\"CAIDA2007\", caida2007)]:\n",
        "  for algorithm_name, "
      ],
      "metadata": {
        "id": "8NjJPqItM0v8"
      },
      "execution_count": null,
      "outputs": []
    },
    {
      "cell_type": "code",
      "source": [
        "algorithm2_oracle_oregon = ValueOracle(oregon.get_graph(OREGON_TRAIN_GRAPH))\n",
        "algorithm2_oracle_oregon.train()"
      ],
      "metadata": {
        "id": "CO53Ne08XawX"
      },
      "execution_count": null,
      "outputs": []
    },
    {
      "cell_type": "code",
      "source": [
        "real_number_trees = oregon.get_graph(OREGON_TEST_GRAPH).get_number_trees()"
      ],
      "metadata": {
        "id": "hd5y0J2pa1XY"
      },
      "execution_count": null,
      "outputs": []
    },
    {
      "cell_type": "code",
      "source": [
        ""
      ],
      "metadata": {
        "colab": {
          "base_uri": "https://localhost:8080/"
        },
        "id": "XRycUSqhai4S",
        "outputId": "9d233863-d90c-40dc-8201-9534f85467a5"
      },
      "execution_count": null,
      "outputs": [
        {
          "output_type": "stream",
          "name": "stdout",
          "text": [
            "Run 1\n",
            "Run 2\n",
            "Run 3\n"
          ]
        }
      ]
    },
    {
      "cell_type": "code",
      "source": [
        "storage_mean = np.average(storage_list)\n",
        "error_mean = np.average(error_list)\n",
        "error_std = np.std(error_list)\n",
        "time_mean = total_time / NUMBER_RUNS"
      ],
      "metadata": {
        "id": "ufjz_oq4XqK5"
      },
      "execution_count": null,
      "outputs": []
    },
    {
      "cell_type": "code",
      "source": [
        "print(f\"Space = {round(storage_mean/1000, 2)} * 10^3\")\n",
        "print(f\"Error = {round(error_mean,2)}% ± {round(error_std,2)}%\")\n",
        "print(f\"Time = {round(time_mean)} s\")"
      ],
      "metadata": {
        "colab": {
          "base_uri": "https://localhost:8080/"
        },
        "id": "taRrJxXhY7Zi",
        "outputId": "d834a4b2-c8ca-4eb8-d4cc-57f4e5056c21"
      },
      "execution_count": null,
      "outputs": [
        {
          "output_type": "stream",
          "name": "stdout",
          "text": [
            "Space = 9.66 * 10^3\n",
            "Error = 5.13% ± 0.88%\n",
            "Time = 390 s\n"
          ]
        }
      ]
    },
    {
      "cell_type": "markdown",
      "source": [
        "# Old Results"
      ],
      "metadata": {
        "id": "wgLD6mkLY25v"
      }
    },
    {
      "cell_type": "markdown",
      "source": [
        "# Results Algorithm 1"
      ],
      "metadata": {
        "id": "nMVVqMGIR1F_"
      }
    },
    {
      "cell_type": "markdown",
      "source": [
        "## Oregon"
      ],
      "metadata": {
        "id": "o-JW0k4lUfw5"
      }
    },
    {
      "cell_type": "markdown",
      "source": [
        "### Train Oracle"
      ],
      "metadata": {
        "id": "kLNLFUcdBvnc"
      }
    },
    {
      "cell_type": "code",
      "source": [
        "oregon.get_graph(1).number_edges()"
      ],
      "metadata": {
        "colab": {
          "base_uri": "https://localhost:8080/"
        },
        "id": "_nxbLSc0cEgu",
        "outputId": "38c813bc-be8b-419b-cec6-b67e0b0766f8"
      },
      "execution_count": null,
      "outputs": [
        {
          "output_type": "execute_result",
          "data": {
            "text/plain": [
              "22000"
            ]
          },
          "metadata": {},
          "execution_count": 21
        }
      ]
    },
    {
      "cell_type": "code",
      "source": [
        "oracle_oregon = HeavyEdgeOracle(graph=oregon.get_graph(0))\n",
        "oracle_oregon.train()"
      ],
      "metadata": {
        "colab": {
          "base_uri": "https://localhost:8080/"
        },
        "id": "V7HRpfXprmG4",
        "outputId": "0c7e527d-fb93-4698-9326-c633fe8b26bf"
      },
      "execution_count": null,
      "outputs": [
        {
          "output_type": "stream",
          "name": "stdout",
          "text": [
            "Cacluate total trees...\n",
            "Counting trees per edges (N_e)...\n",
            "0.0% 10.0% 20.0% 30.0% 40.0% 50.0% 60.0% 70.0% 80.0% 90.0% 100.0% \n",
            "Sorting and selecting top N_e\n",
            "Training oracle completed!\n"
          ]
        }
      ]
    },
    {
      "cell_type": "markdown",
      "source": [
        "### Run"
      ],
      "metadata": {
        "id": "HZlDF_hXCEST"
      }
    },
    {
      "cell_type": "code",
      "source": [
        "estimator_oregon = HeavyEdgeEstimator(graph=oregon.get_graph(OREGON_TEST_GRAPH), oracle=oracle_oregon\n",
        "                                      , epsilon=0.05, alpha = 0.1, beta = 0.5, gamma = 0.01)"
      ],
      "metadata": {
        "colab": {
          "base_uri": "https://localhost:8080/"
        },
        "id": "LoWU0q1JUT5R",
        "outputId": "072d1763-e6c9-4d9b-cf4e-c9b0b14e0ebb"
      },
      "execution_count": null,
      "outputs": [
        {
          "output_type": "stream",
          "name": "stdout",
          "text": [
            "T = 17144, rho = 730.6091818723577, T/rho = 23.0\n",
            "p1 = 0.05474883288147379, p2 = 1, p3 = 0.05087671898347647\n"
          ]
        }
      ]
    },
    {
      "cell_type": "code",
      "source": [
        "estimated_number_trees_oregon = estimator_oregon.estimate_number_trees()"
      ],
      "metadata": {
        "colab": {
          "base_uri": "https://localhost:8080/"
        },
        "id": "ZreiEoHSYNem",
        "outputId": "5c1cb2b6-1095-4e5c-f285-9aff560d0768"
      },
      "execution_count": null,
      "outputs": [
        {
          "output_type": "stream",
          "name": "stdout",
          "text": [
            "0% 10% 20% 30% 40% 50% 60% 70% 80% 90% 100% Len(S_l) = 2444, Len(S_m) = 278, Len(S_aux)=2380\n",
            "A_l 825, A_m = 3855, A_h = 0\n"
          ]
        }
      ]
    },
    {
      "cell_type": "code",
      "source": [
        "real_number_trees_oregon = oregon.get_graph(OREGON_TEST_GRAPH).get_number_trees()"
      ],
      "metadata": {
        "id": "Zw_a-L0Xl8oC"
      },
      "execution_count": null,
      "outputs": []
    },
    {
      "cell_type": "code",
      "source": [
        "print(f\"Space = {estimator_oregon.number_edges_store()/1000} * 10^3\")"
      ],
      "metadata": {
        "colab": {
          "base_uri": "https://localhost:8080/"
        },
        "id": "TJEOnOMRFtRr",
        "outputId": "8d61a945-b824-45a7-b8e6-25fc8492fb48"
      },
      "execution_count": null,
      "outputs": [
        {
          "output_type": "stream",
          "name": "stdout",
          "text": [
            "Space = 5.102 * 10^3\n"
          ]
        }
      ]
    },
    {
      "cell_type": "code",
      "source": [
        "print(f\"Relative Error: {round(relative_error(real_number_trees_oregon,estimated_number_trees_oregon)*100, 1)} %\")"
      ],
      "metadata": {
        "colab": {
          "base_uri": "https://localhost:8080/"
        },
        "id": "Jti3aAyeE2y2",
        "outputId": "74e23d1e-3bce-4827-a3d2-2d3c9793d15e"
      },
      "execution_count": null,
      "outputs": [
        {
          "output_type": "stream",
          "name": "stdout",
          "text": [
            "Relative Error: 1.0 %\n"
          ]
        }
      ]
    },
    {
      "cell_type": "markdown",
      "source": [
        "## Caida 2006"
      ],
      "metadata": {
        "id": "tibycPvPnPgS"
      }
    },
    {
      "cell_type": "code",
      "source": [
        "oracle_oregon.N_edge"
      ],
      "metadata": {
        "colab": {
          "base_uri": "https://localhost:8080/"
        },
        "id": "IrUHdB50Ltd5",
        "outputId": "dbb0877e-e9ff-4b3f-8ae2-f8450cf93ef8"
      },
      "execution_count": null,
      "outputs": [
        {
          "output_type": "execute_result",
          "data": {
            "text/plain": [
              "{Edge(source=701, destination=1239): 526,\n",
              " Edge(source=701, destination=7018): 364,\n",
              " Edge(source=701, destination=3561): 320,\n",
              " Edge(source=1239, destination=3561): 278,\n",
              " Edge(source=1, destination=701): 254,\n",
              " Edge(source=1239, destination=7018): 206,\n",
              " Edge(source=209, destination=701): 200,\n",
              " Edge(source=3561, destination=7018): 175,\n",
              " Edge(source=701, destination=2548): 160,\n",
              " Edge(source=701, destination=2914): 156,\n",
              " Edge(source=1, destination=1239): 151,\n",
              " Edge(source=701, destination=3549): 147,\n",
              " Edge(source=209, destination=1239): 141,\n",
              " Edge(source=701, destination=3356): 129,\n",
              " Edge(source=1, destination=7018): 124,\n",
              " Edge(source=3257, destination=9057): 120,\n",
              " Edge(source=1, destination=3561): 119,\n",
              " Edge(source=1239, destination=3549): 115,\n",
              " Edge(source=1239, destination=2548): 112,\n",
              " Edge(source=209, destination=7018): 108,\n",
              " Edge(source=209, destination=3561): 107,\n",
              " Edge(source=1239, destination=2914): 100,\n",
              " Edge(source=3257, destination=6667): 99,\n",
              " Edge(source=1, destination=209): 95,\n",
              " Edge(source=3257, destination=4513): 95,\n",
              " Edge(source=1, destination=2914): 93,\n",
              " Edge(source=2548, destination=2914): 93,\n",
              " Edge(source=2548, destination=3561): 91,\n",
              " Edge(source=701, destination=6347): 90,\n",
              " Edge(source=1, destination=3549): 88,\n",
              " Edge(source=2914, destination=3561): 88,\n",
              " Edge(source=1, destination=2548): 85,\n",
              " Edge(source=2914, destination=3549): 84,\n",
              " Edge(source=3257, destination=5459): 83,\n",
              " Edge(source=3549, destination=3561): 81,\n",
              " Edge(source=1239, destination=3356): 81,\n",
              " Edge(source=701, destination=6453): 80,\n",
              " Edge(source=2548, destination=3549): 80,\n",
              " Edge(source=2914, destination=7018): 80,\n",
              " Edge(source=2914, destination=3356): 79,\n",
              " Edge(source=701, destination=6461): 77,\n",
              " Edge(source=5459, destination=9057): 77,\n",
              " Edge(source=3356, destination=3549): 77,\n",
              " Edge(source=2548, destination=7018): 76,\n",
              " Edge(source=3356, destination=7018): 76,\n",
              " Edge(source=1, destination=3356): 73,\n",
              " Edge(source=701, destination=2828): 73,\n",
              " Edge(source=3257, destination=6461): 73,\n",
              " Edge(source=174, destination=701): 72,\n",
              " Edge(source=2548, destination=2828): 69,\n",
              " Edge(source=6667, destination=9057): 69,\n",
              " Edge(source=2828, destination=3549): 69,\n",
              " Edge(source=2828, destination=2914): 68,\n",
              " Edge(source=3549, destination=7018): 68,\n",
              " Edge(source=2548, destination=3356): 67,\n",
              " Edge(source=1, destination=2828): 65,\n",
              " Edge(source=702, destination=3257): 65,\n",
              " Edge(source=701, destination=6395): 63,\n",
              " Edge(source=293, destination=2914): 63,\n",
              " Edge(source=3356, destination=3561): 62,\n",
              " Edge(source=293, destination=2548): 62,\n",
              " Edge(source=4513, destination=6461): 62,\n",
              " Edge(source=1, destination=293): 62,\n",
              " Edge(source=2548, destination=6395): 61,\n",
              " Edge(source=4513, destination=9057): 60,\n",
              " Edge(source=1239, destination=2828): 60,\n",
              " Edge(source=3333, destination=9057): 59,\n",
              " Edge(source=293, destination=2828): 59,\n",
              " Edge(source=2914, destination=3257): 59,\n",
              " Edge(source=5459, destination=6667): 58,\n",
              " Edge(source=209, destination=3549): 58,\n",
              " Edge(source=1, destination=3257): 58,\n",
              " Edge(source=701, destination=4513): 57,\n",
              " Edge(source=701, destination=3967): 57,\n",
              " Edge(source=2914, destination=4513): 56,\n",
              " Edge(source=3257, destination=5409): 55,\n",
              " Edge(source=3561, destination=4513): 55,\n",
              " Edge(source=2828, destination=3561): 54,\n",
              " Edge(source=209, destination=2914): 54,\n",
              " Edge(source=2828, destination=3356): 54,\n",
              " Edge(source=293, destination=701): 53,\n",
              " Edge(source=3549, destination=4513): 53,\n",
              " Edge(source=3257, destination=3549): 53,\n",
              " Edge(source=2548, destination=3257): 52,\n",
              " Edge(source=2548, destination=2685): 52,\n",
              " Edge(source=3257, destination=3333): 52,\n",
              " Edge(source=2914, destination=6395): 52,\n",
              " Edge(source=4513, destination=5459): 52,\n",
              " Edge(source=1239, destination=4513): 52,\n",
              " Edge(source=5409, destination=9057): 51,\n",
              " Edge(source=293, destination=3356): 51,\n",
              " Edge(source=2914, destination=6461): 51,\n",
              " Edge(source=3549, destination=6461): 51,\n",
              " Edge(source=293, destination=3549): 51,\n",
              " Edge(source=6461, destination=9057): 51,\n",
              " Edge(source=209, destination=3356): 51,\n",
              " Edge(source=2685, destination=2914): 50,\n",
              " Edge(source=1, destination=6461): 50,\n",
              " Edge(source=3356, destination=6395): 49,\n",
              " Edge(source=4513, destination=6667): 49,\n",
              " Edge(source=1, destination=4513): 49,\n",
              " Edge(source=293, destination=3257): 48,\n",
              " Edge(source=293, destination=3561): 48,\n",
              " Edge(source=701, destination=2685): 48,\n",
              " Edge(source=2497, destination=2914): 48,\n",
              " Edge(source=209, destination=2548): 47,\n",
              " Edge(source=701, destination=3257): 47,\n",
              " Edge(source=2551, destination=2914): 47,\n",
              " Edge(source=293, destination=2685): 47,\n",
              " Edge(source=3333, destination=6667): 47,\n",
              " Edge(source=293, destination=6395): 46,\n",
              " Edge(source=2685, destination=3356): 46,\n",
              " Edge(source=1239, destination=6461): 46,\n",
              " Edge(source=2548, destination=2551): 46,\n",
              " Edge(source=1, destination=6395): 46,\n",
              " Edge(source=2548, destination=4513): 46,\n",
              " Edge(source=293, destination=1239): 45,\n",
              " Edge(source=3356, destination=4513): 45,\n",
              " Edge(source=3257, destination=8918): 45,\n",
              " Edge(source=2551, destination=2828): 45,\n",
              " Edge(source=2828, destination=6395): 44,\n",
              " Edge(source=2828, destination=7018): 44,\n",
              " Edge(source=3257, destination=3356): 44,\n",
              " Edge(source=5459, destination=8297): 44,\n",
              " Edge(source=1239, destination=2685): 43,\n",
              " Edge(source=293, destination=2551): 43,\n",
              " Edge(source=174, destination=7018): 43,\n",
              " Edge(source=2685, destination=2828): 43,\n",
              " Edge(source=5459, destination=6461): 42,\n",
              " Edge(source=2828, destination=4513): 42,\n",
              " Edge(source=3549, destination=6395): 42,\n",
              " Edge(source=701, destination=4565): 42,\n",
              " Edge(source=2914, destination=6453): 42,\n",
              " Edge(source=1, destination=2685): 42,\n",
              " Edge(source=702, destination=9057): 42,\n",
              " Edge(source=2551, destination=3549): 41,\n",
              " Edge(source=3561, destination=6461): 41,\n",
              " Edge(source=3257, destination=6395): 41,\n",
              " Edge(source=1755, destination=9057): 41,\n",
              " Edge(source=1239, destination=2551): 41,\n",
              " Edge(source=1239, destination=6453): 41,\n",
              " Edge(source=2548, destination=6427): 41,\n",
              " Edge(source=3549, destination=6453): 41,\n",
              " Edge(source=701, destination=1740): 41,\n",
              " Edge(source=2914, destination=6427): 41,\n",
              " Edge(source=2548, destination=6461): 41,\n",
              " Edge(source=701, destination=2551): 41,\n",
              " Edge(source=2497, destination=3549): 41,\n",
              " Edge(source=2685, destination=7018): 40,\n",
              " Edge(source=2497, destination=2548): 40,\n",
              " Edge(source=701, destination=4006): 40,\n",
              " Edge(source=1, destination=2551): 40,\n",
              " Edge(source=2551, destination=3561): 40,\n",
              " Edge(source=2551, destination=3356): 40,\n",
              " Edge(source=6395, destination=7018): 40,\n",
              " Edge(source=2685, destination=3549): 40,\n",
              " Edge(source=174, destination=1239): 40,\n",
              " Edge(source=2685, destination=6395): 39,\n",
              " Edge(source=293, destination=7018): 39,\n",
              " Edge(source=3356, destination=6427): 39,\n",
              " Edge(source=2828, destination=6461): 39,\n",
              " Edge(source=701, destination=6172): 38,\n",
              " Edge(source=2685, destination=3561): 38,\n",
              " Edge(source=3549, destination=3967): 38,\n",
              " Edge(source=701, destination=5650): 37,\n",
              " Edge(source=2548, destination=4006): 37,\n",
              " Edge(source=2497, destination=2516): 37,\n",
              " Edge(source=1, destination=4006): 37,\n",
              " Edge(source=2551, destination=2685): 37,\n",
              " Edge(source=3356, destination=6461): 37,\n",
              " Edge(source=174, destination=2914): 37,\n",
              " Edge(source=293, destination=6427): 36,\n",
              " Edge(source=2497, destination=2828): 36,\n",
              " Edge(source=293, destination=2497): 36,\n",
              " Edge(source=6461, destination=6667): 36,\n",
              " Edge(source=2914, destination=4006): 36,\n",
              " Edge(source=3549, destination=6427): 36,\n",
              " Edge(source=209, destination=2828): 36,\n",
              " Edge(source=4006, destination=7018): 36,\n",
              " Edge(source=1, destination=6453): 36,\n",
              " Edge(source=3356, destination=4006): 36,\n",
              " Edge(source=2828, destination=4006): 36,\n",
              " Edge(source=2497, destination=3356): 36,\n",
              " Edge(source=3257, destination=5413): 35,\n",
              " Edge(source=1239, destination=1740): 35,\n",
              " Edge(source=8918, destination=9057): 35,\n",
              " Edge(source=1740, destination=3967): 35,\n",
              " Edge(source=293, destination=4513): 35,\n",
              " Edge(source=1755, destination=4513): 35,\n",
              " Edge(source=701, destination=2497): 34,\n",
              " Edge(source=1, destination=2497): 34,\n",
              " Edge(source=1239, destination=4006): 34,\n",
              " Edge(source=174, destination=3561): 34,\n",
              " Edge(source=1, destination=174): 34,\n",
              " Edge(source=2548, destination=6453): 34,\n",
              " Edge(source=1740, destination=2914): 34,\n",
              " Edge(source=3257, destination=7018): 33,\n",
              " Edge(source=286, destination=3257): 33,\n",
              " Edge(source=6453, destination=7018): 33,\n",
              " Edge(source=2551, destination=7018): 33,\n",
              " Edge(source=2551, destination=6395): 33,\n",
              " Edge(source=3257, destination=6427): 33,\n",
              " Edge(source=293, destination=4006): 33,\n",
              " Edge(source=4513, destination=5409): 33,\n",
              " Edge(source=1221, destination=7474): 32,\n",
              " Edge(source=6461, destination=7018): 32,\n",
              " Edge(source=1740, destination=2828): 32,\n",
              " Edge(source=3561, destination=4006): 32,\n",
              " Edge(source=6395, destination=6427): 32,\n",
              " Edge(source=1239, destination=3967): 32,\n",
              " Edge(source=1740, destination=2548): 32,\n",
              " Edge(source=4513, destination=6395): 32,\n",
              " Edge(source=2551, destination=3257): 31,\n",
              " Edge(source=1, destination=3967): 31,\n",
              " Edge(source=286, destination=9057): 31,\n",
              " Edge(source=2497, destination=2685): 31,\n",
              " Edge(source=2551, destination=4006): 31,\n",
              " Edge(source=6667, destination=8918): 31,\n",
              " Edge(source=1239, destination=2497): 31,\n",
              " Edge(source=3333, destination=4513): 31,\n",
              " Edge(source=3549, destination=4006): 31,\n",
              " Edge(source=2497, destination=6395): 31,\n",
              " Edge(source=2828, destination=6453): 31,\n",
              " Edge(source=209, destination=293): 31,\n",
              " Edge(source=1299, destination=3257): 31,\n",
              " Edge(source=1239, destination=4200): 30,\n",
              " Edge(source=5413, destination=6667): 30,\n",
              " Edge(source=4513, destination=7018): 30,\n",
              " Edge(source=1239, destination=6347): 30,\n",
              " Edge(source=293, destination=1740): 30,\n",
              " Edge(source=2497, destination=3561): 30,\n",
              " Edge(source=1740, destination=7018): 30,\n",
              " Edge(source=3561, destination=6347): 30,\n",
              " Edge(source=4513, destination=8918): 30,\n",
              " Edge(source=1, destination=5056): 29,\n",
              " Edge(source=2497, destination=6461): 29,\n",
              " Edge(source=7018, destination=7922): 29,\n",
              " Edge(source=2497, destination=2551): 29,\n",
              " Edge(source=2685, destination=4006): 29,\n",
              " Edge(source=5409, destination=5459): 29,\n",
              " Edge(source=2685, destination=6427): 29,\n",
              " Edge(source=4513, destination=6427): 28,\n",
              " Edge(source=2548, destination=5056): 28,\n",
              " Edge(source=6395, destination=6461): 28,\n",
              " Edge(source=2685, destination=4513): 28,\n",
              " Edge(source=701, destination=10910): 28,\n",
              " Edge(source=174, destination=209): 28,\n",
              " Edge(source=701, destination=4200): 28,\n",
              " Edge(source=2497, destination=3257): 28,\n",
              " Edge(source=1740, destination=2551): 28,\n",
              " Edge(source=2551, destination=6427): 28,\n",
              " Edge(source=1239, destination=5696): 28,\n",
              " Edge(source=702, destination=5459): 28,\n",
              " Edge(source=293, destination=6453): 28,\n",
              " Edge(source=701, destination=715): 28,\n",
              " Edge(source=6453, destination=6461): 28,\n",
              " Edge(source=1239, destination=5650): 28,\n",
              " Edge(source=1, destination=5696): 27,\n",
              " Edge(source=293, destination=11537): 27,\n",
              " Edge(source=174, destination=3549): 27,\n",
              " Edge(source=174, destination=2548): 27,\n",
              " Edge(source=702, destination=1755): 27,\n",
              " Edge(source=3333, destination=6461): 27,\n",
              " Edge(source=3356, destination=3967): 27,\n",
              " Edge(source=3967, destination=7018): 27,\n",
              " Edge(source=1299, destination=9057): 27,\n",
              " Edge(source=5696, destination=7018): 27,\n",
              " Edge(source=702, destination=8297): 27,\n",
              " Edge(source=3561, destination=5696): 26,\n",
              " Edge(source=3967, destination=4513): 26,\n",
              " Edge(source=715, destination=4513): 26,\n",
              " Edge(source=2914, destination=3967): 26,\n",
              " Edge(source=5413, destination=5459): 26,\n",
              " Edge(source=2516, destination=3549): 26,\n",
              " Edge(source=3257, destination=5056): 26,\n",
              " Edge(source=2548, destination=4200): 26,\n",
              " Edge(source=293, destination=6461): 26,\n",
              " Edge(source=6461, destination=8918): 26,\n",
              " Edge(source=3549, destination=6172): 26,\n",
              " Edge(source=1755, destination=3333): 25,\n",
              " Edge(source=6461, destination=8297): 25,\n",
              " Edge(source=702, destination=3333): 25,\n",
              " Edge(source=1740, destination=3549): 25,\n",
              " Edge(source=1755, destination=6461): 25,\n",
              " Edge(source=1299, destination=5459): 25,\n",
              " Edge(source=2548, destination=3967): 25,\n",
              " Edge(source=2497, destination=4513): 25,\n",
              " Edge(source=3561, destination=4200): 25,\n",
              " Edge(source=1755, destination=3561): 24,\n",
              " Edge(source=2914, destination=5459): 24,\n",
              " Edge(source=6395, destination=6453): 24,\n",
              " Edge(source=701, destination=3491): 24,\n",
              " Edge(source=701, destination=4323): 24,\n",
              " Edge(source=3561, destination=3967): 24,\n",
              " Edge(source=2548, destination=5696): 24,\n",
              " Edge(source=4513, destination=5413): 23,\n",
              " Edge(source=4323, destination=7018): 23,\n",
              " Edge(source=3333, destination=5413): 23,\n",
              " Edge(source=174, destination=3356): 23,\n",
              " Edge(source=3356, destination=6172): 23,\n",
              " Edge(source=5511, destination=6453): 23,\n",
              " Edge(source=2497, destination=6427): 23,\n",
              " Edge(source=2914, destination=5696): 23,\n",
              " Edge(source=702, destination=1299): 23,\n",
              " Edge(source=3561, destination=5511): 23,\n",
              " Edge(source=4200, destination=7018): 23,\n",
              " Edge(source=4006, destination=4513): 23,\n",
              " Edge(source=1239, destination=5056): 22,\n",
              " Edge(source=1740, destination=2497): 22,\n",
              " Edge(source=5511, destination=6461): 22,\n",
              " Edge(source=209, destination=2685): 22,\n",
              " Edge(source=3257, destination=5511): 22,\n",
              " Edge(source=2497, destination=4694): 22,\n",
              " Edge(source=3257, destination=5400): 22,\n",
              " Edge(source=2548, destination=6172): 22,\n",
              " Edge(source=701, destination=5006): 22,\n",
              " Edge(source=286, destination=3333): 22,\n",
              " Edge(source=3549, destination=4565): 22,\n",
              " Edge(source=701, destination=5056): 22,\n",
              " Edge(source=209, destination=5696): 22,\n",
              " Edge(source=286, destination=5459): 22,\n",
              " Edge(source=174, destination=2828): 22,\n",
              " Edge(source=1, destination=715): 22,\n",
              " Edge(source=701, destination=6467): 22,\n",
              " Edge(source=2685, destination=6453): 22,\n",
              " Edge(source=2551, destination=6461): 22,\n",
              " Edge(source=3549, destination=5511): 22,\n",
              " Edge(source=3257, destination=8938): 21,\n",
              " Edge(source=5056, destination=6395): 21,\n",
              " Edge(source=1, destination=1755): 21,\n",
              " Edge(source=209, destination=4006): 21,\n",
              " Edge(source=5413, destination=8297): 21,\n",
              " Edge(source=2548, destination=3491): 21,\n",
              " Edge(source=2914, destination=4565): 21,\n",
              " Edge(source=3561, destination=6172): 21,\n",
              " Edge(source=10764, destination=11537): 21,\n",
              " Edge(source=2914, destination=6172): 21,\n",
              " Edge(source=3356, destination=4565): 21,\n",
              " Edge(source=5056, destination=7018): 21,\n",
              " Edge(source=2914, destination=4200): 21,\n",
              " Edge(source=6172, destination=7018): 21,\n",
              " Edge(source=3549, destination=4200): 21,\n",
              " Edge(source=1299, destination=8297): 21,\n",
              " Edge(source=2685, destination=6461): 21,\n",
              " Edge(source=577, destination=701): 21,\n",
              " Edge(source=3356, destination=5696): 21,\n",
              " Edge(source=2828, destination=4200): 21,\n",
              " Edge(source=1239, destination=6172): 21,\n",
              " Edge(source=3561, destination=5650): 21,\n",
              " Edge(source=3561, destination=5056): 21,\n",
              " Edge(source=2828, destination=3967): 21,\n",
              " Edge(source=1299, destination=6667): 21,\n",
              " Edge(source=1, destination=4200): 20,\n",
              " Edge(source=5413, destination=6461): 20,\n",
              " Edge(source=4006, destination=6461): 20,\n",
              " Edge(source=209, destination=6453): 20,\n",
              " Edge(source=4565, destination=7018): 20,\n",
              " Edge(source=1755, destination=3300): 20,\n",
              " Edge(source=715, destination=3561): 20,\n",
              " Edge(source=3549, destination=5650): 20,\n",
              " Edge(source=1239, destination=4565): 20,\n",
              " Edge(source=2548, destination=6939): 20,\n",
              " Edge(source=1, destination=6172): 20,\n",
              " Edge(source=209, destination=2551): 20,\n",
              " Edge(source=2828, destination=6172): 20,\n",
              " Edge(source=2914, destination=6939): 20,\n",
              " Edge(source=2548, destination=4544): 20,\n",
              " Edge(source=5409, destination=8297): 20,\n",
              " Edge(source=2551, destination=5696): 20,\n",
              " Edge(source=1, destination=4565): 20,\n",
              " Edge(source=2914, destination=4544): 20,\n",
              " Edge(source=701, destination=702): 20,\n",
              " Edge(source=286, destination=702): 20,\n",
              " Edge(source=2548, destination=4565): 20,\n",
              " Edge(source=1740, destination=4006): 19,\n",
              " Edge(source=293, destination=6172): 19,\n",
              " Edge(source=1273, destination=3257): 19,\n",
              " Edge(source=6467, destination=7018): 19,\n",
              " Edge(source=286, destination=6667): 19,\n",
              " Edge(source=701, destination=1755): 19,\n",
              " Edge(source=209, destination=3257): 19,\n",
              " Edge(source=2548, destination=3932): 19,\n",
              " Edge(source=1239, destination=3491): 19,\n",
              " Edge(source=293, destination=3491): 19,\n",
              " Edge(source=4006, destination=4200): 19,\n",
              " Edge(source=293, destination=5696): 19,\n",
              " Edge(source=1239, destination=2041): 19,\n",
              " Edge(source=5409, destination=6461): 19,\n",
              " Edge(source=293, destination=297): 19,\n",
              " Edge(source=174, destination=2685): 19,\n",
              " Edge(source=293, destination=7170): 19,\n",
              " Edge(source=3561, destination=6259): 19,\n",
              " Edge(source=293, destination=4200): 19,\n",
              " Edge(source=293, destination=4565): 19,\n",
              " Edge(source=2551, destination=4200): 19,\n",
              " Edge(source=715, destination=6461): 19,\n",
              " Edge(source=701, destination=5511): 19,\n",
              " Edge(source=2551, destination=3967): 19,\n",
              " Edge(source=1299, destination=5413): 19,\n",
              " Edge(source=2516, destination=6461): 19,\n",
              " Edge(source=702, destination=6730): 19,\n",
              " Edge(source=4513, destination=5056): 19,\n",
              " Edge(source=293, destination=3967): 19,\n",
              " Edge(source=3356, destination=4200): 19,\n",
              " Edge(source=2516, destination=2914): 19,\n",
              " Edge(source=3561, destination=4565): 19,\n",
              " Edge(source=2828, destination=5696): 19,\n",
              " Edge(source=2685, destination=5696): 18,\n",
              " Edge(source=1299, destination=3333): 18,\n",
              " Edge(source=4513, destination=5696): 18,\n",
              " Edge(source=3491, destination=3561): 18,\n",
              " Edge(source=4513, destination=6172): 18,\n",
              " Edge(source=174, destination=4513): 18,\n",
              " Edge(source=286, destination=1755): 18,\n",
              " Edge(source=2914, destination=3932): 18,\n",
              " Edge(source=3967, destination=6395): 18,\n",
              " Edge(source=209, destination=4200): 18,\n",
              " Edge(source=701, destination=3932): 18,\n",
              " Edge(source=4513, destination=4565): 18,\n",
              " Edge(source=2914, destination=5650): 18,\n",
              " Edge(source=2914, destination=5511): 18,\n",
              " Edge(source=209, destination=2497): 18,\n",
              " Edge(source=2497, destination=3967): 18,\n",
              " Edge(source=293, destination=10764): 18,\n",
              " Edge(source=701, destination=2516): 18,\n",
              " Edge(source=1239, destination=5511): 18,\n",
              " Edge(source=1, destination=1833): 18,\n",
              " Edge(source=3549, destination=5459): 18,\n",
              " Edge(source=2828, destination=4544): 18,\n",
              " Edge(source=2685, destination=4565): 18,\n",
              " Edge(source=286, destination=6461): 18,\n",
              " Edge(source=715, destination=1239): 18,\n",
              " Edge(source=2516, destination=6453): 18,\n",
              " Edge(source=174, destination=6453): 18,\n",
              " Edge(source=702, destination=3303): 18,\n",
              " Edge(source=1, destination=5511): 18,\n",
              " Edge(source=702, destination=8918): 18,\n",
              " Edge(source=1239, destination=1755): 18,\n",
              " Edge(source=174, destination=2551): 18,\n",
              " Edge(source=297, destination=2551): 17,\n",
              " Edge(source=2685, destination=6172): 17,\n",
              " Edge(source=2685, destination=3491): 17,\n",
              " Edge(source=1239, destination=2516): 17,\n",
              " Edge(source=286, destination=1299): 17,\n",
              " Edge(source=5459, destination=8918): 17,\n",
              " Edge(source=4513, destination=5511): 17,\n",
              " Edge(source=2551, destination=6172): 17,\n",
              " Edge(source=2914, destination=3491): 17,\n",
              " Edge(source=293, destination=4544): 17,\n",
              " Edge(source=2685, destination=4200): 17,\n",
              " Edge(source=3303, destination=4513): 17,\n",
              " Edge(source=701, destination=10912): 17,\n",
              " Edge(source=701, destination=1833): 17,\n",
              " Edge(source=3333, destination=8918): 17,\n",
              " Edge(source=1, destination=3932): 17,\n",
              " Edge(source=2497, destination=5696): 17,\n",
              " Edge(source=1221, destination=6461): 17,\n",
              " Edge(source=2548, destination=6259): 17,\n",
              " Edge(source=1299, destination=6461): 17,\n",
              " Edge(source=1239, destination=6467): 17,\n",
              " Edge(source=4436, destination=4513): 17,\n",
              " Edge(source=4565, destination=6395): 17,\n",
              " Edge(source=1239, destination=4540): 17,\n",
              " Edge(source=2551, destination=4565): 17,\n",
              " Edge(source=293, destination=3932): 17,\n",
              " Edge(source=1239, destination=4544): 17,\n",
              " Edge(source=4513, destination=6939): 17,\n",
              " Edge(source=2551, destination=4544): 17,\n",
              " Edge(source=3549, destination=6259): 17,\n",
              " Edge(source=2828, destination=4565): 17,\n",
              " Edge(source=3356, destination=3491): 17,\n",
              " Edge(source=6427, destination=6939): 17,\n",
              " Edge(source=3257, destination=8220): 17,\n",
              " Edge(source=293, destination=5511): 17,\n",
              " Edge(source=701, destination=6553): 17,\n",
              " Edge(source=702, destination=5400): 17,\n",
              " Edge(source=2685, destination=3967): 17,\n",
              " Edge(source=3491, destination=3549): 17,\n",
              " Edge(source=6453, destination=8297): 17,\n",
              " Edge(source=297, destination=2548): 17,\n",
              " Edge(source=701, destination=5000): 17,\n",
              " Edge(source=297, destination=2914): 17,\n",
              " Edge(source=1273, destination=9057): 17,\n",
              " Edge(source=6395, destination=6939): 17,\n",
              " Edge(source=1, destination=3491): 17,\n",
              " Edge(source=3356, destination=5650): 17,\n",
              " Edge(source=3356, destination=3932): 17,\n",
              " Edge(source=1270, destination=3257): 17,\n",
              " Edge(source=1755, destination=5511): 17,\n",
              " Edge(source=1, destination=4544): 17,\n",
              " Edge(source=3967, destination=4006): 17,\n",
              " Edge(source=2548, destination=5650): 17,\n",
              " Edge(source=3356, destination=6939): 16,\n",
              " Edge(source=5650, destination=5696): 16,\n",
              " Edge(source=1239, destination=1833): 16,\n",
              " Edge(source=4513, destination=5462): 16,\n",
              " Edge(source=3549, destination=9057): 16,\n",
              " Edge(source=3356, destination=4544): 16,\n",
              " Edge(source=2914, destination=7170): 16,\n",
              " Edge(source=2041, destination=2914): 16,\n",
              " Edge(source=701, destination=10911): 16,\n",
              " Edge(source=3561, destination=6553): 16,\n",
              " Edge(source=174, destination=4200): 16,\n",
              " Edge(source=1833, destination=4513): 16,\n",
              " Edge(source=174, destination=4006): 16,\n",
              " Edge(source=297, destination=2828): 16,\n",
              " Edge(source=1221, destination=2914): 16,\n",
              " Edge(source=1, destination=4323): 16,\n",
              " Edge(source=2685, destination=3932): 16,\n",
              " Edge(source=2914, destination=6066): 16,\n",
              " Edge(source=1, destination=5006): 16,\n",
              " Edge(source=3561, destination=5400): 16,\n",
              " Edge(source=2548, destination=6066): 16,\n",
              " Edge(source=3303, destination=3549): 16,\n",
              " Edge(source=1239, destination=4323): 16,\n",
              " Edge(source=3257, destination=3967): 16,\n",
              " Edge(source=4513, destination=5650): 16,\n",
              " Edge(source=1, destination=4436): 16,\n",
              " Edge(source=6172, destination=6453): 16,\n",
              " Edge(source=701, destination=1668): 16,\n",
              " Edge(source=286, destination=5400): 16,\n",
              " Edge(source=293, destination=5650): 16,\n",
              " Edge(source=2548, destination=6347): 16,\n",
              " Edge(source=1740, destination=6453): 16,\n",
              " Edge(source=2828, destination=3491): 16,\n",
              " Edge(source=2914, destination=6079): 16,\n",
              " Edge(source=5006, destination=7018): 16,\n",
              " Edge(source=5696, destination=6395): 16,\n",
              " Edge(source=3257, destination=6730): 16,\n",
              " Edge(source=701, destination=7922): 16,\n",
              " Edge(source=3257, destination=5378): 16,\n",
              " Edge(source=293, destination=6939): 16,\n",
              " Edge(source=2041, destination=3549): 16,\n",
              " Edge(source=2828, destination=5511): 16,\n",
              " Edge(source=701, destination=4969): 16,\n",
              " Edge(source=701, destination=6079): 16,\n",
              " Edge(source=1833, destination=3561): 16,\n",
              " Edge(source=3967, destination=6453): 16,\n",
              " Edge(source=6461, destination=7473): 16,\n",
              " Edge(source=701, destination=2041): 16,\n",
              " Edge(source=297, destination=2685): 16,\n",
              " Edge(source=297, destination=701): 16,\n",
              " Edge(source=2497, destination=4565): 16,\n",
              " Edge(source=4006, destination=6172): 16,\n",
              " Edge(source=1746, destination=2548): 16,\n",
              " Edge(source=1833, destination=3549): 16,\n",
              " Edge(source=5511, destination=9057): 16,\n",
              " Edge(source=2828, destination=3932): 16,\n",
              " Edge(source=3561, destination=10910): 16,\n",
              " Edge(source=4544, destination=7018): 16,\n",
              " Edge(source=2914, destination=6259): 16,\n",
              " Edge(source=1746, destination=2914): 16,\n",
              " Edge(source=2548, destination=7194): 16,\n",
              " Edge(source=5400, destination=5459): 15,\n",
              " Edge(source=6453, destination=7473): 15,\n",
              " Edge(source=6259, destination=7018): 15,\n",
              " Edge(source=293, destination=6259): 15,\n",
              " Edge(source=7018, destination=7170): 15,\n",
              " Edge(source=2551, destination=5650): 15,\n",
              " Edge(source=3549, destination=4323): 15,\n",
              " Edge(source=3220, destination=6667): 15,\n",
              " Edge(source=293, destination=2041): 15,\n",
              " Edge(source=3561, destination=5006): 15,\n",
              " Edge(source=209, destination=3932): 15,\n",
              " Edge(source=1, destination=1221): 15,\n",
              " Edge(source=6172, destination=6395): 15,\n",
              " Edge(source=297, destination=3356): 15,\n",
              " Edge(source=4544, destination=6395): 15,\n",
              " Edge(source=293, destination=6079): 15,\n",
              " Edge(source=2551, destination=6066): 15,\n",
              " Edge(source=2041, destination=2548): 15,\n",
              " Edge(source=1755, destination=5413): 15,\n",
              " Edge(source=3356, destination=6259): 15,\n",
              " Edge(source=3561, destination=4544): 15,\n",
              " Edge(source=286, destination=8297): 15,\n",
              " Edge(source=1833, destination=2914): 15,\n",
              " Edge(source=4513, destination=7194): 15,\n",
              " Edge(source=702, destination=5511): 15,\n",
              " Edge(source=1833, destination=3356): 15,\n",
              " Edge(source=1221, destination=7473): 15,\n",
              " Edge(source=4323, destination=4513): 15,\n",
              " Edge(source=3561, destination=8297): 15,\n",
              " Edge(source=701, destination=6402): 15,\n",
              " Edge(source=3786, destination=3976): 15,\n",
              " Edge(source=2041, destination=2551): 15,\n",
              " Edge(source=5400, destination=9057): 15,\n",
              " Edge(source=1833, destination=2548): 15,\n",
              " Edge(source=2548, destination=6079): 15,\n",
              " Edge(source=3320, destination=4513): 15,\n",
              " Edge(source=2551, destination=6259): 15,\n",
              " Edge(source=3549, destination=10911): 15,\n",
              " Edge(source=1746, destination=2551): 15,\n",
              " Edge(source=3561, destination=4540): 15,\n",
              " Edge(source=701, destination=4540): 15,\n",
              " Edge(source=2828, destination=6939): 15,\n",
              " Edge(source=3356, destination=6079): 15,\n",
              " Edge(source=1299, destination=1755): 15,\n",
              " Edge(source=3932, destination=7018): 15,\n",
              " Edge(source=2685, destination=4544): 15,\n",
              " Edge(source=2548, destination=5000): 15,\n",
              " Edge(source=702, destination=3292): 15,\n",
              " Edge(source=3549, destination=6347): 15,\n",
              " Edge(source=3561, destination=3932): 15,\n",
              " Edge(source=2551, destination=7170): 15,\n",
              " Edge(source=2548, destination=7170): 15,\n",
              " Edge(source=293, destination=1746): 15,\n",
              " Edge(source=1239, destination=10910): 15,\n",
              " Edge(source=1, destination=297): 15,\n",
              " Edge(source=8938, destination=9057): 15,\n",
              " Edge(source=2551, destination=7922): 15,\n",
              " Edge(source=1755, destination=5400): 15,\n",
              " Edge(source=701, destination=10913): 15,\n",
              " Edge(source=715, destination=6427): 15,\n",
              " Edge(source=2497, destination=4544): 15,\n",
              " Edge(source=3257, destination=3292): 15,\n",
              " Edge(source=3292, destination=4513): 15,\n",
              " Edge(source=297, destination=2497): 15,\n",
              " Edge(source=5400, destination=6461): 15,\n",
              " Edge(source=286, destination=5511): 15,\n",
              " Edge(source=6461, destination=8220): 15,\n",
              " Edge(source=2914, destination=5000): 15,\n",
              " Edge(source=2548, destination=5511): 15,\n",
              " Edge(source=1, destination=7170): 15,\n",
              " Edge(source=1239, destination=5006): 15,\n",
              " Edge(source=2041, destination=2828): 14,\n",
              " Edge(source=209, destination=5511): 14,\n",
              " Edge(source=3549, destination=6079): 14,\n",
              " Edge(source=297, destination=7018): 14,\n",
              " Edge(source=4513, destination=5400): 14,\n",
              " Edge(source=2685, destination=6259): 14,\n",
              " Edge(source=3491, destination=4006): 14,\n",
              " Edge(source=3561, destination=4637): 14,\n",
              " Edge(source=2828, destination=6066): 14,\n",
              " Edge(source=3549, destination=7922): 14,\n",
              " Edge(source=3257, destination=4565): 14,\n",
              " Edge(source=5459, destination=5511): 14,\n",
              " Edge(source=701, destination=12179): 14,\n",
              " Edge(source=3549, destination=7170): 14,\n",
              " Edge(source=2914, destination=3320): 14,\n",
              " Edge(source=2914, destination=4436): 14,\n",
              " Edge(source=5409, destination=5413): 14,\n",
              " Edge(source=4006, destination=4565): 14,\n",
              " Edge(source=2914, destination=7194): 14,\n",
              " Edge(source=6461, destination=6939): 14,\n",
              " Edge(source=3257, destination=7176): 14,\n",
              " Edge(source=3257, destination=5462): 14,\n",
              " Edge(source=2685, destination=5650): 14,\n",
              " Edge(source=2516, destination=2548): 14,\n",
              " Edge(source=297, destination=1239): 14,\n",
              " Edge(source=1746, destination=2828): 14,\n",
              " Edge(source=2041, destination=7018): 14,\n",
              " Edge(source=2551, destination=6939): 14,\n",
              " Edge(source=1221, destination=3561): 14,\n",
              " Edge(source=8933, destination=9010): 14,\n",
              " Edge(source=2041, destination=2685): 14,\n",
              " Edge(source=1833, destination=7018): 14,\n",
              " Edge(source=7018, destination=10910): 14,\n",
              " Edge(source=3356, destination=9057): 14,\n",
              " Edge(source=2685, destination=6939): 14,\n",
              " Edge(source=3561, destination=4436): 14,\n",
              " Edge(source=2914, destination=7922): 14,\n",
              " Edge(source=2548, destination=4323): 14,\n",
              " Edge(source=2548, destination=4969): 14,\n",
              " Edge(source=2548, destination=6113): 14,\n",
              " Edge(source=3549, destination=3914): 14,\n",
              " Edge(source=3356, destination=5511): 14,\n",
              " Edge(source=5459, destination=5551): 14,\n",
              " Edge(source=2497, destination=3932): 14,\n",
              " Edge(source=5000, destination=7018): 14,\n",
              " Edge(source=5650, destination=6395): 14,\n",
              " Edge(source=5056, destination=6461): 14,\n",
              " Edge(source=2516, destination=3356): 14,\n",
              " Edge(source=3320, destination=3549): 14,\n",
              " Edge(source=1755, destination=2914): 14,\n",
              " Edge(source=2516, destination=2828): 14,\n",
              " Edge(source=2041, destination=2497): 14,\n",
              " Edge(source=2041, destination=3356): 14,\n",
              " Edge(source=2856, destination=5400): 14,\n",
              " Edge(source=4969, destination=6461): 14,\n",
              " Edge(source=2551, destination=5000): 14,\n",
              " Edge(source=209, destination=5006): 14,\n",
              " Edge(source=3333, destination=5400): 14,\n",
              " Edge(source=5378, destination=9057): 14,\n",
              " Edge(source=293, destination=7922): 14,\n",
              " Edge(source=174, destination=6395): 14,\n",
              " Edge(source=1239, destination=7170): 14,\n",
              " Edge(source=6259, destination=6461): 14,\n",
              " Edge(source=1, destination=6553): 14,\n",
              " Edge(source=701, destination=703): 14,\n",
              " Edge(source=1, destination=7922): 14,\n",
              " Edge(source=2548, destination=7922): 14,\n",
              " Edge(source=4513, destination=8220): 14,\n",
              " Edge(source=701, destination=3914): 14,\n",
              " Edge(source=3303, destination=3561): 14,\n",
              " Edge(source=2551, destination=3491): 14,\n",
              " Edge(source=3356, destination=7922): 14,\n",
              " Edge(source=2914, destination=5462): 14,\n",
              " Edge(source=2548, destination=4436): 14,\n",
              " Edge(source=2551, destination=6079): 14,\n",
              " Edge(source=5400, destination=8297): 14,\n",
              " Edge(source=4006, destination=5696): 14,\n",
              " Edge(source=1, destination=2041): 14,\n",
              " Edge(source=3356, destination=4436): 13,\n",
              " Edge(source=4513, destination=13646): 13,\n",
              " Edge(source=1221, destination=4513): 13,\n",
              " Edge(source=2828, destination=6259): 13,\n",
              " Edge(source=6259, destination=6395): 13,\n",
              " Edge(source=286, destination=1273): 13,\n",
              " Edge(source=701, destination=4637): 13,\n",
              " Edge(source=2551, destination=3914): 13,\n",
              " Edge(source=1221, destination=6453): 13,\n",
              " Edge(source=3932, destination=4006): 13,\n",
              " Edge(source=3257, destination=6172): 13,\n",
              " Edge(source=701, destination=11854): 13,\n",
              " Edge(source=3976, destination=4766): 13,\n",
              " Edge(source=2497, destination=5462): 13,\n",
              " Edge(source=3549, destination=5000): 13,\n",
              " Edge(source=297, destination=4006): 13,\n",
              " Edge(source=2685, destination=7170): 13,\n",
              " Edge(source=2548, destination=6402): 13,\n",
              " Edge(source=1740, destination=6461): 13,\n",
              " Edge(source=1267, destination=3269): 13,\n",
              " Edge(source=715, destination=1221): 13,\n",
              " Edge(source=2914, destination=6113): 13,\n",
              " Edge(source=293, destination=6113): 13,\n",
              " Edge(source=3356, destination=3914): 13,\n",
              " Edge(source=1755, destination=6730): 13,\n",
              " Edge(source=3932, destination=6395): 13,\n",
              " Edge(source=1273, destination=5409): 13,\n",
              " Edge(source=577, destination=6453): 13,\n",
              " Edge(source=4766, destination=9318): 13,\n",
              " Edge(source=2828, destination=6113): 13,\n",
              " Edge(source=5378, destination=6667): 13,\n",
              " Edge(source=1, destination=1746): 13,\n",
              " Edge(source=1668, destination=3549): 13,\n",
              " Edge(source=3549, destination=4436): 13,\n",
              " Edge(source=701, destination=11853): 13,\n",
              " Edge(source=293, destination=7194): 13,\n",
              " Edge(source=3257, destination=5551): 13,\n",
              " Edge(source=517, destination=3257): 13,\n",
              " Edge(source=1740, destination=6066): 13,\n",
              " Edge(source=5511, destination=8297): 13,\n",
              " Edge(source=297, destination=3561): 13,\n",
              " Edge(source=3356, destination=6347): 13,\n",
              " Edge(source=1668, destination=6461): 13,\n",
              " Edge(source=2914, destination=4694): 13,\n",
              " Edge(source=2497, destination=6939): 13,\n",
              " Edge(source=1239, destination=10911): 13,\n",
              " Edge(source=3549, destination=7473): 13,\n",
              " Edge(source=1746, destination=2497): 13,\n",
              " Edge(source=2828, destination=5000): 13,\n",
              " Edge(source=2685, destination=5000): 13,\n",
              " Edge(source=1740, destination=4200): 13,\n",
              " Edge(source=2685, destination=7922): 13,\n",
              " Edge(source=2914, destination=3914): 13,\n",
              " Edge(source=3257, destination=5696): 13,\n",
              " Edge(source=2548, destination=3914): 13,\n",
              " Edge(source=2041, destination=3561): 13,\n",
              " Edge(source=6395, destination=6402): 13,\n",
              " Edge(source=4513, destination=7473): 13,\n",
              " Edge(source=5400, destination=6667): 13,\n",
              " Edge(source=1746, destination=3356): 13,\n",
              " Edge(source=702, destination=2856): 13,\n",
              " Edge(source=701, destination=6113): 13,\n",
              " Edge(source=293, destination=4436): 13,\n",
              " Edge(source=3356, destination=5462): 13,\n",
              " Edge(source=2551, destination=6113): 13,\n",
              " Edge(source=2914, destination=4540): 13,\n",
              " Edge(source=2497, destination=5000): 13,\n",
              " Edge(source=3220, destination=3257): 13,\n",
              " Edge(source=3356, destination=5000): 13,\n",
              " Edge(source=4513, destination=6079): 13,\n",
              " Edge(source=1, destination=3303): 13,\n",
              " Edge(source=3356, destination=7170): 13,\n",
              " Edge(source=209, destination=6427): 13,\n",
              " Edge(source=1, destination=10910): 13,\n",
              " Edge(source=6402, destination=7018): 13,\n",
              " Edge(source=293, destination=4323): 13,\n",
              " Edge(source=3356, destination=7194): 13,\n",
              " Edge(source=2548, destination=10910): 13,\n",
              " Edge(source=2497, destination=4436): 13,\n",
              " Edge(source=2828, destination=5650): 13,\n",
              " Edge(source=5378, destination=5459): 13,\n",
              " Edge(source=2497, destination=6066): 13,\n",
              " Edge(source=2914, destination=7473): 13,\n",
              " Edge(source=6395, destination=7922): 13,\n",
              " Edge(source=1746, destination=7018): 13,\n",
              " Edge(source=1, destination=6113): 12,\n",
              " Edge(source=2828, destination=7170): 12,\n",
              " Edge(source=2548, destination=3303): 12,\n",
              " Edge(source=6172, destination=6427): 12,\n",
              " Edge(source=701, destination=7194): 12,\n",
              " Edge(source=3303, destination=3356): 12,\n",
              " Edge(source=2914, destination=8918): 12,\n",
              " Edge(source=2828, destination=4436): 12,\n",
              " Edge(source=3257, destination=5669): 12,\n",
              " Edge(source=2551, destination=3563): 12,\n",
              " Edge(source=5000, destination=5696): 12,\n",
              " Edge(source=5000, destination=6395): 12,\n",
              " Edge(source=3257, destination=3320): 12,\n",
              " Edge(source=3257, destination=4544): 12,\n",
              " Edge(source=3356, destination=4969): 12,\n",
              " Edge(source=3300, destination=3549): 12,\n",
              " Edge(source=2914, destination=8070): 12,\n",
              " Edge(source=1, destination=4540): 12,\n",
              " Edge(source=3549, destination=7194): 12,\n",
              " Edge(source=2856, destination=4513): 12,\n",
              " Edge(source=702, destination=5378): 12,\n",
              " Edge(source=2828, destination=6079): 12,\n",
              " Edge(source=7176, destination=9057): 12,\n",
              " Edge(source=6427, destination=7091): 12,\n",
              " Edge(source=2914, destination=3407): 12,\n",
              " Edge(source=2548, destination=3407): 12,\n",
              " Edge(source=3561, destination=6467): 12,\n",
              " Edge(source=1239, destination=6113): 12,\n",
              " Edge(source=3549, destination=8297): 12,\n",
              " Edge(source=3356, destination=6402): 12,\n",
              " Edge(source=1239, destination=1746): 12,\n",
              " Edge(source=2856, destination=3257): 12,\n",
              " Edge(source=293, destination=3407): 12,\n",
              " Edge(source=1746, destination=6395): 12,\n",
              " Edge(source=3561, destination=3914): 12,\n",
              " Edge(source=2828, destination=7922): 12,\n",
              " Edge(source=174, destination=1833): 12,\n",
              " Edge(source=1239, destination=3914): 12,\n",
              " Edge(source=1668, destination=2828): 12,\n",
              " Edge(source=2914, destination=3563): 12,\n",
              " Edge(source=293, destination=6402): 12,\n",
              " Edge(source=3320, destination=6453): 12,\n",
              " Edge(source=4513, destination=5378): 12,\n",
              " Edge(source=715, destination=2551): 12,\n",
              " Edge(source=701, destination=8918): 12,\n",
              " Edge(source=3786, destination=6461): 12,\n",
              " Edge(source=1, destination=6402): 12,\n",
              " Edge(source=4006, destination=6259): 12,\n",
              " Edge(source=1, destination=3914): 12,\n",
              " Edge(source=209, destination=10910): 12,\n",
              " Edge(source=1221, destination=2764): 12,\n",
              " Edge(source=2548, destination=3320): 12,\n",
              " Edge(source=8220, destination=9057): 12,\n",
              " Edge(source=2914, destination=6402): 12,\n",
              " Edge(source=1668, destination=2548): 12,\n",
              " Edge(source=2685, destination=3914): 12,\n",
              " Edge(source=3303, destination=7018): 12,\n",
              " Edge(source=2548, destination=5462): 12,\n",
              " Edge(source=1, destination=3320): 12,\n",
              " Edge(source=3549, destination=3563): 12,\n",
              " Edge(source=701, destination=4355): 12,\n",
              " Edge(source=3300, destination=3561): 12,\n",
              " Edge(source=3561, destination=6079): 12,\n",
              " Edge(source=2685, destination=4436): 12,\n",
              " Edge(source=3549, destination=6402): 12,\n",
              " Edge(source=1, destination=6730): 12,\n",
              " Edge(source=6395, destination=7194): 12,\n",
              " Edge(source=2516, destination=6395): 12,\n",
              " Edge(source=3932, destination=4200): 12,\n",
              " Edge(source=4513, destination=5669): 12,\n",
              " Edge(source=6461, destination=8070): 12,\n",
              " Edge(source=293, destination=3320): 12,\n",
              " Edge(source=4006, destination=7170): 12,\n",
              " Edge(source=4565, destination=6427): 12,\n",
              " Edge(source=3257, destination=3932): 12,\n",
              " Edge(source=2548, destination=7911): 12,\n",
              " Edge(source=2914, destination=3303): 12,\n",
              " Edge(source=1, destination=6467): 12,\n",
              " Edge(source=2828, destination=7194): 12,\n",
              " Edge(source=4436, destination=6395): 12,\n",
              " Edge(source=2828, destination=4323): 12,\n",
              " Edge(source=4200, destination=6259): 12,\n",
              " Edge(source=3549, destination=10910): 12,\n",
              " Edge(source=1239, destination=3320): 12,\n",
              " Edge(source=297, destination=6395): 12,\n",
              " Edge(source=1273, destination=1755): 12,\n",
              " Edge(source=2856, destination=6461): 12,\n",
              " Edge(source=5462, destination=6395): 12,\n",
              " Edge(source=2685, destination=6113): 12,\n",
              " Edge(source=3407, destination=3549): 12,\n",
              " Edge(source=3257, destination=5430): 12,\n",
              " Edge(source=2548, destination=4355): 12,\n",
              " Edge(source=1, destination=8070): 12,\n",
              " Edge(source=1239, destination=3303): 12,\n",
              " Edge(source=1, destination=12076): 12,\n",
              " Edge(source=3300, destination=3333): 12,\n",
              " Edge(source=4006, destination=4544): 12,\n",
              " Edge(source=293, destination=5462): 12,\n",
              " Edge(source=1740, destination=6172): 12,\n",
              " Edge(source=2828, destination=3303): 11,\n",
              " Edge(source=1, destination=8918): 11,\n",
              " Edge(source=701, destination=6066): 11,\n",
              " Edge(source=6079, destination=6395): 11,\n",
              " Edge(source=5650, destination=6427): 11,\n",
              " Edge(source=701, destination=6993): 11,\n",
              " Edge(source=2828, destination=3786): 11,\n",
              " Edge(source=2686, destination=9057): 11,\n",
              " Edge(source=3356, destination=3563): 11,\n",
              " Edge(source=2828, destination=3320): 11,\n",
              " Edge(source=2828, destination=4540): 11,\n",
              " Edge(source=1299, destination=5511): 11,\n",
              " Edge(source=3356, destination=4355): 11,\n",
              " Edge(source=4006, destination=6079): 11,\n",
              " Edge(source=701, destination=8070): 11,\n",
              " Edge(source=3356, destination=6467): 11,\n",
              " Edge(source=3257, destination=6259): 11,\n",
              " Edge(source=2685, destination=6402): 11,\n",
              " Edge(source=1740, destination=1746): 11,\n",
              " Edge(source=3914, destination=6395): 11,\n",
              " Edge(source=1239, destination=1668): 11,\n",
              " Edge(source=2548, destination=5006): 11,\n",
              " Edge(source=6113, destination=6395): 11,\n",
              " Edge(source=174, destination=10910): 11,\n",
              " Edge(source=4006, destination=7922): 11,\n",
              " Edge(source=1740, destination=4544): 11,\n",
              " Edge(source=2551, destination=3407): 11,\n",
              " Edge(source=209, destination=10911): 11,\n",
              " Edge(source=1, destination=1668): 11,\n",
              " Edge(source=1239, destination=6553): 11,\n",
              " Edge(source=1833, destination=3967): 11,\n",
              " Edge(source=1239, destination=10913): 11,\n",
              " Edge(source=174, destination=1740): 11,\n",
              " Edge(source=2818, destination=3257): 11,\n",
              " Edge(source=3549, destination=4183): 11,\n",
              " Edge(source=1, destination=10764): 11,\n",
              " Edge(source=286, destination=5413): 11,\n",
              " Edge(source=293, destination=4969): 11,\n",
              " Edge(source=3549, destination=7960): 11,\n",
              " Edge(source=2828, destination=5462): 11,\n",
              " Edge(source=3786, destination=9318): 11,\n",
              " Edge(source=3292, destination=3549): 11,\n",
              " Edge(source=4565, destination=6453): 11,\n",
              " Edge(source=1668, destination=6453): 11,\n",
              " Edge(source=3356, destination=8918): 11,\n",
              " Edge(source=3491, destination=3932): 11,\n",
              " Edge(source=286, destination=3561): 11,\n",
              " Edge(source=286, destination=3300): 11,\n",
              " Edge(source=2914, destination=6993): 11,\n",
              " Edge(source=1239, destination=12076): 11,\n",
              " Edge(source=1239, destination=7911): 11,\n",
              " Edge(source=3257, destination=4436): 11,\n",
              " Edge(source=5413, destination=8220): 11,\n",
              " Edge(source=5400, destination=5413): 11,\n",
              " Edge(source=209, destination=2516): 11,\n",
              " Edge(source=1740, destination=5696): 11,\n",
              " Edge(source=1136, destination=3333): 11,\n",
              " Edge(source=3320, destination=7018): 11,\n",
              " Edge(source=1, destination=10911): 11,\n",
              " Edge(source=2828, destination=3914): 11,\n",
              " Edge(source=3407, destination=4513): 11,\n",
              " Edge(source=3561, destination=5000): 11,\n",
              " Edge(source=3257, destination=7473): 11,\n",
              " Edge(source=4513, destination=12050): 11,\n",
              " Edge(source=5378, destination=8297): 11,\n",
              " Edge(source=701, destination=4183): 11,\n",
              " Edge(source=5459, destination=8220): 11,\n",
              " Edge(source=7018, destination=10912): 11,\n",
              " Edge(source=3561, destination=10911): 11,\n",
              " Edge(source=3257, destination=5650): 11,\n",
              " Edge(source=3257, destination=6402): 11,\n",
              " Edge(source=3333, destination=5511): 11,\n",
              " Edge(source=5089, destination=6461): 11,\n",
              " Edge(source=1755, destination=8938): 11,\n",
              " Edge(source=6461, destination=13646): 11,\n",
              " Edge(source=5551, destination=8297): 11,\n",
              " Edge(source=1239, destination=8070): 11,\n",
              " Edge(source=3549, destination=10913): 11,\n",
              " Edge(source=2551, destination=4540): 11,\n",
              " Edge(source=4000, destination=5511): 11,\n",
              " Edge(source=293, destination=3563): 11,\n",
              " Edge(source=701, destination=3407): 11,\n",
              " Edge(source=1, destination=7473): 11,\n",
              " Edge(source=3257, destination=6774): 11,\n",
              " Edge(source=1239, destination=4637): 11,\n",
              " Edge(source=3257, destination=7194): 11,\n",
              " Edge(source=297, destination=1740): 11,\n",
              " Edge(source=701, destination=10530): 11,\n",
              " Edge(source=3257, destination=7922): 11,\n",
              " Edge(source=1299, destination=5400): 11,\n",
              " Edge(source=1, destination=3407): 11,\n",
              " Edge(source=701, destination=6730): 11,\n",
              " Edge(source=3561, destination=11854): 11,\n",
              " Edge(source=2914, destination=4766): 11,\n",
              " Edge(source=2685, destination=4969): 11,\n",
              " Edge(source=209, destination=10912): 11,\n",
              " Edge(source=1, destination=11853): 11,\n",
              " Edge(source=2548, destination=4540): 11,\n",
              " Edge(source=7018, destination=10913): 11,\n",
              " Edge(source=2516, destination=3257): 11,\n",
              " Edge(source=3549, destination=8070): 11,\n",
              " Edge(source=3549, destination=4355): 11,\n",
              " Edge(source=2548, destination=4183): 11,\n",
              " Edge(source=1273, destination=4513): 11,\n",
              " Edge(source=7018, destination=8070): 11,\n",
              " Edge(source=5459, destination=7176): 11,\n",
              " Edge(source=2529, destination=6461): 11,\n",
              " Edge(source=7018, destination=11854): 11,\n",
              " Edge(source=3549, destination=6467): 11,\n",
              " Edge(source=2497, destination=3563): 11,\n",
              " Edge(source=1239, destination=5727): 11,\n",
              " Edge(source=1, destination=5462): 11,\n",
              " Edge(source=2686, destination=6461): 11,\n",
              " Edge(source=1668, destination=7018): 11,\n",
              " ...}"
            ]
          },
          "metadata": {},
          "execution_count": 113
        }
      ]
    },
    {
      "cell_type": "code",
      "source": [
        "caida2006.get_graph(1).number_nodes()"
      ],
      "metadata": {
        "colab": {
          "base_uri": "https://localhost:8080/"
        },
        "id": "X2ZKhQ2uswQo",
        "outputId": "6b7a5bc8-203a-49fe-daa3-78a27ae66e75"
      },
      "execution_count": null,
      "outputs": [
        {
          "output_type": "execute_result",
          "data": {
            "text/plain": [
              "21157"
            ]
          },
          "metadata": {},
          "execution_count": 32
        }
      ]
    },
    {
      "cell_type": "code",
      "source": [
        "caida2006.get_graph(1).number_edges()"
      ],
      "metadata": {
        "colab": {
          "base_uri": "https://localhost:8080/"
        },
        "id": "i1aKwvlDs6xu",
        "outputId": "be8a5be8-b506-491c-9384-b5f2a046a771"
      },
      "execution_count": null,
      "outputs": [
        {
          "output_type": "execute_result",
          "data": {
            "text/plain": [
              "85468"
            ]
          },
          "metadata": {},
          "execution_count": 33
        }
      ]
    },
    {
      "cell_type": "code",
      "source": [
        "oracle_caida2006 = HeavyEdgeOracle(graph=caida2006.get_graph(0))\n",
        "oracle_caida2006.train()"
      ],
      "metadata": {
        "colab": {
          "base_uri": "https://localhost:8080/"
        },
        "id": "EaG0jbxMmGi_",
        "outputId": "1699e71e-35c3-482d-df79-34e8d3f1b451"
      },
      "execution_count": null,
      "outputs": [
        {
          "output_type": "stream",
          "name": "stdout",
          "text": [
            "Cacluate total trees...\n",
            "Counting Trees per edges...\n",
            "0.0% 10.0% 20.0% 30.0% 40.0% 50.0% 60.0% 70.0% 80.0% 90.0% \n",
            "Sorting and selecting top N_e\n",
            "Training oracle completed!\n"
          ]
        }
      ]
    },
    {
      "cell_type": "code",
      "source": [
        "estimator_caida2006 = HeavyEdgeEstimator(graph=caida2006.get_graph(1), oracle=oracle_caida2006\n",
        "                                         , epsilon=0.05, alpha = 3, beta = 1, gamma = 0.3)"
      ],
      "metadata": {
        "colab": {
          "base_uri": "https://localhost:8080/"
        },
        "id": "LihdMO4yncIR",
        "outputId": "5567850a-8e67-48fa-dcc3-d1f4c9113edb"
      },
      "execution_count": null,
      "outputs": [
        {
          "output_type": "stream",
          "name": "stdout",
          "text": [
            "T = 30433, rho = 1375.253532356451, p1 = 0.8725663826827915, p2 = 1, p3 = 0.8690522174701264\n"
          ]
        }
      ]
    },
    {
      "cell_type": "code",
      "source": [
        "estimated_number_trees_caida2006 = estimator_caida2006.estimate_number_trees()"
      ],
      "metadata": {
        "colab": {
          "base_uri": "https://localhost:8080/"
        },
        "id": "oOilFWb9niA9",
        "outputId": "edcb1170-033b-498f-c0a1-7c459f02d3ac"
      },
      "execution_count": null,
      "outputs": [
        {
          "output_type": "stream",
          "name": "stdout",
          "text": [
            "0% 10% 20% 30% 40% 50% 60% 70% 80% 90% 100% Len(S_l) = 41440, Len(S_m) = 568, Len(S_aux)=74325\n",
            "A_l 17309, A_m = 10808, A_h = 0\n"
          ]
        }
      ]
    },
    {
      "cell_type": "code",
      "source": [
        "estimated_number_trees_caida2006"
      ],
      "metadata": {
        "colab": {
          "base_uri": "https://localhost:8080/"
        },
        "id": "8A0_SL101syc",
        "outputId": "a1e42c73-cd50-48f3-91f5-395ec0e0322f"
      },
      "execution_count": null,
      "outputs": [
        {
          "output_type": "execute_result",
          "data": {
            "text/plain": [
              "30644.88615963151"
            ]
          },
          "metadata": {},
          "execution_count": 37
        }
      ]
    },
    {
      "cell_type": "code",
      "source": [
        "caida2006.get_graph(1).get_number_trees()"
      ],
      "metadata": {
        "colab": {
          "base_uri": "https://localhost:8080/"
        },
        "id": "w-DG6OJS8DTC",
        "outputId": "0c864bd2-6591-498c-ee4f-e4c09ad5f510"
      },
      "execution_count": null,
      "outputs": [
        {
          "output_type": "execute_result",
          "data": {
            "text/plain": [
              "30689"
            ]
          },
          "metadata": {},
          "execution_count": 38
        }
      ]
    },
    {
      "cell_type": "code",
      "source": [
        ""
      ],
      "metadata": {
        "id": "QhgX6JCX0Kdx"
      },
      "execution_count": null,
      "outputs": []
    },
    {
      "cell_type": "markdown",
      "source": [
        "# Results Algorithm 2"
      ],
      "metadata": {
        "id": "d8GUwWVTz_X5"
      }
    },
    {
      "cell_type": "code",
      "source": [
        "value_oracle = ValueOracle(oregon.get_graph(OREGON_TRAIN_GRAPH))"
      ],
      "metadata": {
        "id": "Cbl2yxdboUpM"
      },
      "execution_count": 39,
      "outputs": []
    },
    {
      "cell_type": "code",
      "source": [
        "value_oracle.train()"
      ],
      "metadata": {
        "id": "2nHBiVnNogD2"
      },
      "execution_count": 40,
      "outputs": []
    },
    {
      "cell_type": "code",
      "source": [
        "value_estimator = EstimatorAlgorithm2(oracle=value_oracle, graph=oregon.get_graph(OREGON_TEST_GRAPH), epsilon=0.05, c=0.2, H_constant=0.5)"
      ],
      "metadata": {
        "colab": {
          "base_uri": "https://localhost:8080/"
        },
        "id": "Kwt66uvbosoi",
        "outputId": "ab234347-5d7c-46aa-9017-24c4231dc9a0"
      },
      "execution_count": 44,
      "outputs": [
        {
          "output_type": "stream",
          "name": "stdout",
          "text": [
            "H = 4830, estimation_numbers = 80\n"
          ]
        }
      ]
    },
    {
      "cell_type": "code",
      "source": [
        "estimated_number_trees = value_estimator.estimate_number_trees()"
      ],
      "metadata": {
        "colab": {
          "base_uri": "https://localhost:8080/"
        },
        "id": "QJN3ERcgpHbf",
        "outputId": "816f983a-0da3-41b4-8a76-10608c26d234"
      },
      "execution_count": 45,
      "outputs": [
        {
          "output_type": "stream",
          "name": "stdout",
          "text": [
            "0%\n",
            "M = 0\n",
            "Top A = [0, 0, 0, 0, 0, 0, 0, 0, 0, 0],\n",
            "          Median A = 0\n",
            "Top len(S) = [0, 0, 0, 0, 0, 0, 0, 0, 0, 0]\n",
            "C Plus Counter = 0\n",
            "10%\n",
            "M = 3829.6962246067365\n",
            "Top A = [863807, 271519, 123026, 96295, 92750, 41169, 39252, 37391, 34298, 33743],\n",
            "          Median A = 6505\n",
            "Top len(S) = [82, 73, 73, 71, 70, 70, 69, 69, 69, 69]\n",
            "C Plus Counter = 34732\n",
            "20%\n",
            "M = 5529.647298684341\n",
            "Top A = [863807, 361331, 271519, 197803, 191359, 123026, 96575, 96295, 92750, 91308],\n",
            "          Median A = 17744\n",
            "Top len(S) = [77, 76, 74, 71, 71, 71, 70, 70, 70, 69]\n",
            "C Plus Counter = 13275\n",
            "30%\n",
            "M = 6234.649663081258\n",
            "Top A = [863807, 361331, 271519, 197803, 195057, 191359, 172285, 123026, 96575, 96295],\n",
            "          Median A = 19063\n",
            "Top len(S) = [80, 79, 73, 72, 72, 71, 71, 71, 70, 69]\n",
            "C Plus Counter = 4267\n",
            "40%\n",
            "M = 6545.203598556567\n",
            "Top A = [863807, 361331, 271519, 197803, 195057, 191359, 172285, 123026, 96575, 96295],\n",
            "          Median A = 22196\n",
            "Top len(S) = [79, 78, 75, 75, 73, 72, 71, 70, 69, 69]\n",
            "C Plus Counter = 1868\n",
            "50%\n",
            "M = 6936.593452993607\n",
            "Top A = [863807, 361331, 271519, 214690, 197803, 195057, 191359, 172285, 123026, 96575],\n",
            "          Median A = 22824\n",
            "Top len(S) = [76, 75, 74, 73, 73, 72, 71, 71, 69, 69]\n",
            "C Plus Counter = 1477\n",
            "60%\n",
            "M = 7358.786140242435\n",
            "Top A = [863807, 361331, 271519, 214690, 197803, 195057, 191359, 172285, 123026, 96575],\n",
            "          Median A = 23499\n",
            "Top len(S) = [76, 75, 75, 73, 72, 72, 71, 70, 70, 69]\n",
            "C Plus Counter = 2368\n",
            "70%\n",
            "M = 7663.063501275713\n",
            "Top A = [863807, 361331, 271519, 214690, 197803, 195057, 191359, 172285, 123026, 96575],\n",
            "          Median A = 25544\n",
            "Top len(S) = [78, 74, 74, 74, 74, 73, 71, 70, 69, 68]\n",
            "C Plus Counter = 1549\n",
            "80%\n",
            "M = 7980.7287862688245\n",
            "Top A = [863807, 361331, 271519, 214690, 197803, 195057, 191359, 172285, 123026, 96575],\n",
            "          Median A = 27796\n",
            "Top len(S) = [78, 76, 75, 75, 74, 73, 71, 70, 69, 68]\n",
            "C Plus Counter = 1164\n",
            "90%\n",
            "M = 8276.439878451509\n",
            "Top A = [863807, 361331, 271519, 214690, 197803, 195057, 191359, 172285, 123026, 96575],\n",
            "          Median A = 27796\n",
            "Top len(S) = [79, 78, 76, 75, 75, 74, 71, 70, 70, 69]\n",
            "C Plus Counter = 924\n",
            "100%\n",
            "M = 8571.398125888772\n",
            "Top A = [863807, 560595, 361331, 271519, 214690, 197803, 195057, 191359, 172285, 123026],\n",
            "          Median A = 28150\n",
            "Top len(S) = [82, 76, 75, 74, 74, 72, 72, 71, 70, 70]\n",
            "C Plus Counter = 977\n",
            "Top X = [123026.54797351587, 172285.7066334, 191359.91564768343, 195057.08466207044, 197803.568961677, 214690.00764216585, 271519.3753574259, 361331.19687873777, 560595.3178610718, 863807.4887888742]\n"
          ]
        }
      ]
    },
    {
      "cell_type": "code",
      "source": [
        "estimated_number_trees"
      ],
      "metadata": {
        "colab": {
          "base_uri": "https://localhost:8080/"
        },
        "id": "o9DFWaQBp33X",
        "outputId": "610947ad-6d39-4b6b-fcc6-003b5723e1d5"
      },
      "execution_count": 46,
      "outputs": [
        {
          "output_type": "execute_result",
          "data": {
            "text/plain": [
              "20093"
            ]
          },
          "metadata": {},
          "execution_count": 46
        }
      ]
    },
    {
      "cell_type": "code",
      "source": [
        "real_number_trees_oregon = oregon.get_graph(OREGON_TEST_GRAPH).get_number_trees()"
      ],
      "metadata": {
        "id": "96I4ZKgLp-Ni"
      },
      "execution_count": 47,
      "outputs": []
    },
    {
      "cell_type": "code",
      "source": [
        "real_number_trees_oregon"
      ],
      "metadata": {
        "colab": {
          "base_uri": "https://localhost:8080/"
        },
        "id": "kk-YkrtSv8a0",
        "outputId": "15586b45-f0a8-4c63-9436-12839f13de28"
      },
      "execution_count": 48,
      "outputs": [
        {
          "output_type": "execute_result",
          "data": {
            "text/plain": [
              "19108"
            ]
          },
          "metadata": {},
          "execution_count": 48
        }
      ]
    },
    {
      "cell_type": "code",
      "source": [
        "print(f\"Relative Error: {round(relative_error(real_number_trees_oregon,estimated_number_trees)*100, 1)} %\")"
      ],
      "metadata": {
        "colab": {
          "base_uri": "https://localhost:8080/"
        },
        "outputId": "dbbb9254-9cef-441c-c5ab-a80718e90c6b",
        "id": "Cs5njUl3p-Nj"
      },
      "execution_count": 51,
      "outputs": [
        {
          "output_type": "stream",
          "name": "stdout",
          "text": [
            "Relative Error: 5.2 %\n"
          ]
        }
      ]
    },
    {
      "cell_type": "code",
      "source": [
        "value_estimator.number_stored_edges()"
      ],
      "metadata": {
        "colab": {
          "base_uri": "https://localhost:8080/"
        },
        "id": "1uOtcrV-LvFB",
        "outputId": "0bb4c740-3a0d-4f36-a627-55c2d8eb911a"
      },
      "execution_count": 52,
      "outputs": [
        {
          "output_type": "execute_result",
          "data": {
            "text/plain": [
              "4830"
            ]
          },
          "metadata": {},
          "execution_count": 52
        }
      ]
    },
    {
      "cell_type": "markdown",
      "source": [
        "# Results Algorithm 3"
      ],
      "metadata": {
        "id": "utXEiDoIDCh3"
      }
    },
    {
      "cell_type": "markdown",
      "source": [
        "## Oregon"
      ],
      "metadata": {
        "id": "0iZVCIBitxI_"
      }
    },
    {
      "cell_type": "code",
      "source": [
        "value_oracle = ValueOracle(oregon.get_graph(OREGON_TRAIN_GRAPH))"
      ],
      "metadata": {
        "id": "VlgWL3P2DFIq"
      },
      "execution_count": null,
      "outputs": []
    },
    {
      "cell_type": "code",
      "source": [
        "value_oracle.train()"
      ],
      "metadata": {
        "colab": {
          "base_uri": "https://localhost:8080/"
        },
        "id": "PzWLx8H6DIAv",
        "outputId": "4ea0df95-05cd-40bf-ada3-e47eaaf8aa37"
      },
      "execution_count": null,
      "outputs": [
        {
          "output_type": "stream",
          "name": "stdout",
          "text": [
            "Cacluate total trees...\n",
            "Counting Ordered trees per edges (R_e)...\n",
            "0.0% 10.0% 20.0% 30.0% 40.0% 50.0% 60.0% 70.0% 80.0% 90.0% 100.0% \n",
            "Sorting R_e\n",
            "Training oracle completed!\n"
          ]
        }
      ]
    },
    {
      "cell_type": "code",
      "source": [
        "algorithm3 = EstimatorAlgorithm3(oracle=value_oracle, graph=oregon.get_graph(OREGON_TEST_GRAPH), epsilon=0.05, i_constant=1, j_constant=1, c=1)"
      ],
      "metadata": {
        "colab": {
          "base_uri": "https://localhost:8080/"
        },
        "id": "0zlnu0A6DKe0",
        "outputId": "4ed0e7b0-a498-4d28-d085-eeb36b9734b1"
      },
      "execution_count": null,
      "outputs": [
        {
          "output_type": "stream",
          "name": "stdout",
          "text": [
            "i = 5, j = 1\n",
            "p(0) = 0.23331777881474566\n",
            "p(1) = 7.600373111142026\n",
            "p(2) = 15.200746222284051\n",
            "p(3) = 30.401492444568103\n",
            "p(4) = 60.802984889136205\n",
            "I(0) = (0, 20)\n",
            "I(1) = (20, 40)\n",
            "I(2) = (40, 80)\n",
            "I(3) = (80, 160)\n",
            "I(4) = (160, 320)\n"
          ]
        }
      ]
    },
    {
      "cell_type": "code",
      "source": [
        "estimated_number_trees = algorithm3.estimate_number_trees()"
      ],
      "metadata": {
        "colab": {
          "base_uri": "https://localhost:8080/"
        },
        "id": "ELgoPTTqDf-q",
        "outputId": "4a6c61d7-123e-4230-e216-437e02e5bccc"
      },
      "execution_count": null,
      "outputs": [
        {
          "output_type": "stream",
          "name": "stdout",
          "text": [
            "0% 10% 20% 30% 40% 50% 60% 70% 80% 90% 100% \n",
            "S = [[9362], [119], [2], [0], [0]]\n",
            "A = [[4240], [1084], [17], [0], [0]]\n"
          ]
        }
      ]
    },
    {
      "cell_type": "code",
      "source": [
        "estimated_number_trees"
      ],
      "metadata": {
        "colab": {
          "base_uri": "https://localhost:8080/"
        },
        "id": "dvCko6OADlLB",
        "outputId": "7ff16f5c-e02c-4d5d-81e5-fe8a3c90fcde"
      },
      "execution_count": null,
      "outputs": [
        {
          "output_type": "execute_result",
          "data": {
            "text/plain": [
              "18316"
            ]
          },
          "metadata": {},
          "execution_count": 326
        }
      ]
    },
    {
      "cell_type": "code",
      "source": [
        "real_number_trees_oregon = oregon.get_graph(OREGON_TEST_GRAPH).get_number_trees()"
      ],
      "metadata": {
        "id": "1aezknDAHH78"
      },
      "execution_count": null,
      "outputs": []
    },
    {
      "cell_type": "code",
      "source": [
        "real_number_trees_oregon"
      ],
      "metadata": {
        "colab": {
          "base_uri": "https://localhost:8080/"
        },
        "id": "LCCjAvyvHPFC",
        "outputId": "d9efae7c-f92c-4393-8fd9-23f2510be02b"
      },
      "execution_count": null,
      "outputs": [
        {
          "output_type": "execute_result",
          "data": {
            "text/plain": [
              "19108"
            ]
          },
          "metadata": {},
          "execution_count": 328
        }
      ]
    },
    {
      "cell_type": "code",
      "source": [
        "algorithm3.number_stored_edges()"
      ],
      "metadata": {
        "colab": {
          "base_uri": "https://localhost:8080/"
        },
        "id": "2zafPsTAI55i",
        "outputId": "af87a51a-424f-4ed0-ca64-adf372e718e7"
      },
      "execution_count": null,
      "outputs": [
        {
          "output_type": "execute_result",
          "data": {
            "text/plain": [
              "9483"
            ]
          },
          "metadata": {},
          "execution_count": 329
        }
      ]
    },
    {
      "cell_type": "code",
      "source": [
        "print(f\"Relative Error: {round(relative_error(real_number_trees_oregon,estimated_number_trees)*100, 1)} %\")"
      ],
      "metadata": {
        "colab": {
          "base_uri": "https://localhost:8080/"
        },
        "id": "VZG2rZ2jHQ4n",
        "outputId": "4f6dd9d4-816e-4223-81a1-3f7bc98f31ec"
      },
      "execution_count": null,
      "outputs": [
        {
          "output_type": "stream",
          "name": "stdout",
          "text": [
            "Relative Error: 4.1 %\n"
          ]
        }
      ]
    },
    {
      "cell_type": "markdown",
      "source": [
        "## CAIDA 2006"
      ],
      "metadata": {
        "id": "ILZK0nqRttWY"
      }
    },
    {
      "cell_type": "code",
      "source": [
        "value_oracle = ValueOracle(caida2006.get_graph(CAIDA2006_TRAIN_GRAPH))"
      ],
      "metadata": {
        "id": "KHHovL9ZN6ZV"
      },
      "execution_count": null,
      "outputs": []
    },
    {
      "cell_type": "code",
      "source": [
        "value_oracle.train()"
      ],
      "metadata": {
        "colab": {
          "base_uri": "https://localhost:8080/"
        },
        "id": "B-0Dp_PPt0F1",
        "outputId": "61c06a4c-5c7e-41e5-9b63-a4b8472fea9c"
      },
      "execution_count": null,
      "outputs": [
        {
          "output_type": "stream",
          "name": "stdout",
          "text": [
            "Cacluate total trees...\n",
            "Counting Ordered trees per edges (R_e)...\n",
            "0.0% 10.0% 20.0% 30.0% 40.0% 50.0% 60.0% 70.0% 80.0% 90.0% \n",
            "Sorting R_e\n",
            "Training oracle completed!\n"
          ]
        }
      ]
    },
    {
      "cell_type": "code",
      "source": [
        "algorithm3 = EstimatorAlgorithm3(oracle=value_oracle,\n",
        "                                 graph=caida2006.get_graph(CAIDA2006_TEST_GRAPH),\n",
        "                                 epsilon=0.05, i_constant=20, j_constant=20, c=100)"
      ],
      "metadata": {
        "colab": {
          "base_uri": "https://localhost:8080/"
        },
        "id": "d8XJJNsft1Or",
        "outputId": "a782a1c6-516c-43f0-bf4f-c22f0b689fcf"
      },
      "execution_count": null,
      "outputs": [
        {
          "output_type": "stream",
          "name": "stdout",
          "text": [
            "i = 100, j = 20\n",
            "p(0) = 13.143626983866197\n",
            "p(1) = 498.3694008646346\n",
            "p(2) = 996.7388017292692\n",
            "p(3) = 1993.4776034585384\n",
            "p(4) = 3986.955206917077\n",
            "p(5) = 7973.910413834154\n",
            "p(6) = 15947.820827668307\n",
            "p(7) = 31895.641655336614\n",
            "p(8) = 63791.28331067323\n",
            "p(9) = 127582.56662134646\n",
            "p(10) = 255165.13324269291\n",
            "p(11) = 510330.26648538583\n",
            "p(12) = 1020660.5329707717\n",
            "p(13) = 2041321.0659415433\n",
            "p(14) = 4082642.1318830866\n",
            "p(15) = 8165284.263766173\n",
            "p(16) = 16330568.527532347\n",
            "p(17) = 32661137.055064693\n",
            "p(18) = 65322274.110129386\n",
            "p(19) = 130644548.22025877\n",
            "p(20) = 261289096.44051754\n",
            "p(21) = 522578192.8810351\n",
            "p(22) = 1045156385.7620702\n",
            "p(23) = 2090312771.5241404\n",
            "p(24) = 4180625543.0482807\n",
            "p(25) = 8361251086.096561\n",
            "p(26) = 16722502172.193123\n",
            "p(27) = 33445004344.386246\n",
            "p(28) = 66890008688.77249\n",
            "p(29) = 133780017377.54498\n",
            "p(30) = 267560034755.08997\n",
            "p(31) = 535120069510.17993\n",
            "p(32) = 1070240139020.3599\n",
            "p(33) = 2140480278040.7197\n",
            "p(34) = 4280960556081.4395\n",
            "p(35) = 8561921112162.879\n",
            "p(36) = 17123842224325.758\n",
            "p(37) = 34247684448651.516\n",
            "p(38) = 68495368897303.03\n",
            "p(39) = 136990737794606.06\n",
            "p(40) = 273981475589212.12\n",
            "p(41) = 547962951178424.25\n",
            "p(42) = 1095925902356848.5\n",
            "p(43) = 2191851804713697.0\n",
            "p(44) = 4383703609427394.0\n",
            "p(45) = 8767407218854788.0\n",
            "p(46) = 1.7534814437709576e+16\n",
            "p(47) = 3.506962887541915e+16\n",
            "p(48) = 7.01392577508383e+16\n",
            "p(49) = 1.402785155016766e+17\n",
            "p(50) = 2.805570310033532e+17\n",
            "p(51) = 5.611140620067064e+17\n",
            "p(52) = 1.1222281240134129e+18\n",
            "p(53) = 2.2444562480268257e+18\n",
            "p(54) = 4.4889124960536515e+18\n",
            "p(55) = 8.977824992107303e+18\n",
            "p(56) = 1.7955649984214606e+19\n",
            "p(57) = 3.591129996842921e+19\n",
            "p(58) = 7.182259993685842e+19\n",
            "p(59) = 1.4364519987371685e+20\n",
            "p(60) = 2.872903997474337e+20\n",
            "p(61) = 5.745807994948674e+20\n",
            "p(62) = 1.1491615989897348e+21\n",
            "p(63) = 2.2983231979794695e+21\n",
            "p(64) = 4.596646395958939e+21\n",
            "p(65) = 9.193292791917878e+21\n",
            "p(66) = 1.8386585583835756e+22\n",
            "p(67) = 3.6773171167671513e+22\n",
            "p(68) = 7.3546342335343025e+22\n",
            "p(69) = 1.4709268467068605e+23\n",
            "p(70) = 2.941853693413721e+23\n",
            "p(71) = 5.883707386827442e+23\n",
            "p(72) = 1.1767414773654884e+24\n",
            "p(73) = 2.3534829547309768e+24\n",
            "p(74) = 4.7069659094619536e+24\n",
            "p(75) = 9.413931818923907e+24\n",
            "p(76) = 1.8827863637847815e+25\n",
            "p(77) = 3.765572727569563e+25\n",
            "p(78) = 7.531145455139126e+25\n",
            "p(79) = 1.5062290910278252e+26\n",
            "p(80) = 3.0124581820556503e+26\n",
            "p(81) = 6.0249163641113006e+26\n",
            "p(82) = 1.2049832728222601e+27\n",
            "p(83) = 2.4099665456445203e+27\n",
            "p(84) = 4.8199330912890405e+27\n",
            "p(85) = 9.639866182578081e+27\n",
            "p(86) = 1.9279732365156162e+28\n",
            "p(87) = 3.8559464730312324e+28\n",
            "p(88) = 7.711892946062465e+28\n",
            "p(89) = 1.542378589212493e+29\n",
            "p(90) = 3.084757178424986e+29\n",
            "p(91) = 6.169514356849972e+29\n",
            "p(92) = 1.2339028713699944e+30\n",
            "p(93) = 2.4678057427399887e+30\n",
            "p(94) = 4.9356114854799775e+30\n",
            "p(95) = 9.871222970959955e+30\n",
            "p(96) = 1.974244594191991e+31\n",
            "p(97) = 3.948489188383982e+31\n",
            "p(98) = 7.896978376767964e+31\n",
            "p(99) = 1.5793956753535928e+32\n",
            "I(0) = (0, 20)\n",
            "I(1) = (20, 40)\n",
            "I(2) = (40, 80)\n",
            "I(3) = (80, 160)\n",
            "I(4) = (160, 320)\n",
            "I(5) = (320, 640)\n",
            "I(6) = (640, 1280)\n",
            "I(7) = (1280, 2560)\n",
            "I(8) = (2560, 5120)\n",
            "I(9) = (5120, 10240)\n",
            "I(10) = (10240, 20480)\n",
            "I(11) = (20480, 40960)\n",
            "I(12) = (40960, 81920)\n",
            "I(13) = (81920, 163840)\n",
            "I(14) = (163840, 327680)\n",
            "I(15) = (327680, 655360)\n",
            "I(16) = (655360, 1310720)\n",
            "I(17) = (1310720, 2621440)\n",
            "I(18) = (2621440, 5242880)\n",
            "I(19) = (5242880, 10485760)\n",
            "I(20) = (10485760, 20971520)\n",
            "I(21) = (20971520, 41943040)\n",
            "I(22) = (41943040, 83886080)\n",
            "I(23) = (83886080, 167772160)\n",
            "I(24) = (167772160, 335544320)\n",
            "I(25) = (335544320, 671088640)\n",
            "I(26) = (671088640, 1342177280)\n",
            "I(27) = (1342177280, 2684354560)\n",
            "I(28) = (2684354560, 5368709120)\n",
            "I(29) = (5368709120, 10737418240)\n",
            "I(30) = (10737418240, 21474836480)\n",
            "I(31) = (21474836480, 42949672960)\n",
            "I(32) = (42949672960, 85899345920)\n",
            "I(33) = (85899345920, 171798691840)\n",
            "I(34) = (171798691840, 343597383680)\n",
            "I(35) = (343597383680, 687194767360)\n",
            "I(36) = (687194767360, 1374389534720)\n",
            "I(37) = (1374389534720, 2748779069440)\n",
            "I(38) = (2748779069440, 5497558138880)\n",
            "I(39) = (5497558138880, 10995116277760)\n",
            "I(40) = (10995116277760, 21990232555520)\n",
            "I(41) = (21990232555520, 43980465111040)\n",
            "I(42) = (43980465111040, 87960930222080)\n",
            "I(43) = (87960930222080, 175921860444160)\n",
            "I(44) = (175921860444160, 351843720888320)\n",
            "I(45) = (351843720888320, 703687441776640)\n",
            "I(46) = (703687441776640, 1407374883553280)\n",
            "I(47) = (1407374883553280, 2814749767106560)\n",
            "I(48) = (2814749767106560, 5629499534213120)\n",
            "I(49) = (5629499534213120, 11258999068426240)\n",
            "I(50) = (11258999068426240, 22517998136852480)\n",
            "I(51) = (22517998136852480, 45035996273704960)\n",
            "I(52) = (45035996273704960, 90071992547409920)\n",
            "I(53) = (90071992547409920, 180143985094819840)\n",
            "I(54) = (180143985094819840, 360287970189639680)\n",
            "I(55) = (360287970189639680, 720575940379279360)\n",
            "I(56) = (720575940379279360, 1441151880758558720)\n",
            "I(57) = (1441151880758558720, 2882303761517117440)\n",
            "I(58) = (2882303761517117440, 5764607523034234880)\n",
            "I(59) = (5764607523034234880, 11529215046068469760)\n",
            "I(60) = (11529215046068469760, 23058430092136939520)\n",
            "I(61) = (23058430092136939520, 46116860184273879040)\n",
            "I(62) = (46116860184273879040, 92233720368547758080)\n",
            "I(63) = (92233720368547758080, 184467440737095516160)\n",
            "I(64) = (184467440737095516160, 368934881474191032320)\n",
            "I(65) = (368934881474191032320, 737869762948382064640)\n",
            "I(66) = (737869762948382064640, 1475739525896764129280)\n",
            "I(67) = (1475739525896764129280, 2951479051793528258560)\n",
            "I(68) = (2951479051793528258560, 5902958103587056517120)\n",
            "I(69) = (5902958103587056517120, 11805916207174113034240)\n",
            "I(70) = (11805916207174113034240, 23611832414348226068480)\n",
            "I(71) = (23611832414348226068480, 47223664828696452136960)\n",
            "I(72) = (47223664828696452136960, 94447329657392904273920)\n",
            "I(73) = (94447329657392904273920, 188894659314785808547840)\n",
            "I(74) = (188894659314785808547840, 377789318629571617095680)\n",
            "I(75) = (377789318629571617095680, 755578637259143234191360)\n",
            "I(76) = (755578637259143234191360, 1511157274518286468382720)\n",
            "I(77) = (1511157274518286468382720, 3022314549036572936765440)\n",
            "I(78) = (3022314549036572936765440, 6044629098073145873530880)\n",
            "I(79) = (6044629098073145873530880, 12089258196146291747061760)\n",
            "I(80) = (12089258196146291747061760, 24178516392292583494123520)\n",
            "I(81) = (24178516392292583494123520, 48357032784585166988247040)\n",
            "I(82) = (48357032784585166988247040, 96714065569170333976494080)\n",
            "I(83) = (96714065569170333976494080, 193428131138340667952988160)\n",
            "I(84) = (193428131138340667952988160, 386856262276681335905976320)\n",
            "I(85) = (386856262276681335905976320, 773712524553362671811952640)\n",
            "I(86) = (773712524553362671811952640, 1547425049106725343623905280)\n",
            "I(87) = (1547425049106725343623905280, 3094850098213450687247810560)\n",
            "I(88) = (3094850098213450687247810560, 6189700196426901374495621120)\n",
            "I(89) = (6189700196426901374495621120, 12379400392853802748991242240)\n",
            "I(90) = (12379400392853802748991242240, 24758800785707605497982484480)\n",
            "I(91) = (24758800785707605497982484480, 49517601571415210995964968960)\n",
            "I(92) = (49517601571415210995964968960, 99035203142830421991929937920)\n",
            "I(93) = (99035203142830421991929937920, 198070406285660843983859875840)\n",
            "I(94) = (198070406285660843983859875840, 396140812571321687967719751680)\n",
            "I(95) = (396140812571321687967719751680, 792281625142643375935439503360)\n",
            "I(96) = (792281625142643375935439503360, 1584563250285286751870879006720)\n",
            "I(97) = (1584563250285286751870879006720, 3169126500570573503741758013440)\n",
            "I(98) = (3169126500570573503741758013440, 6338253001141147007483516026880)\n",
            "I(99) = (6338253001141147007483516026880, 12676506002282294014967032053760)\n"
          ]
        }
      ]
    },
    {
      "cell_type": "code",
      "source": [
        "estimated_number_trees = algorithm3.estimate_number_trees()"
      ],
      "metadata": {
        "colab": {
          "base_uri": "https://localhost:8080/"
        },
        "id": "XXZ9nhott5uy",
        "outputId": "4b7dc4ab-fba2-4b64-e4b8-209cef37dc8c"
      },
      "execution_count": null,
      "outputs": [
        {
          "output_type": "stream",
          "name": "stdout",
          "text": [
            "0% 10% 20% 30% 40% 50% 60% 70% 80% 90% 100% \n",
            "S = [[45612, 45612, 45612, 45612, 45612, 45612, 45612, 45612, 45612, 45612, 45612, 45612, 45612, 45612, 45612, 45612, 45612, 45612, 45612, 45612], [364, 364, 364, 364, 364, 364, 364, 364, 364, 364, 364, 364, 364, 364, 364, 364, 364, 364, 364, 364], [95, 95, 95, 95, 95, 95, 95, 95, 95, 95, 95, 95, 95, 95, 95, 95, 95, 95, 95, 95], [12, 12, 12, 12, 12, 12, 12, 12, 12, 12, 12, 12, 12, 12, 12, 12, 12, 12, 12, 12], [2, 2, 2, 2, 2, 2, 2, 2, 2, 2, 2, 2, 2, 2, 2, 2, 2, 2, 2, 2], [0, 0, 0, 0, 0, 0, 0, 0, 0, 0, 0, 0, 0, 0, 0, 0, 0, 0, 0, 0], [0, 0, 0, 0, 0, 0, 0, 0, 0, 0, 0, 0, 0, 0, 0, 0, 0, 0, 0, 0], [0, 0, 0, 0, 0, 0, 0, 0, 0, 0, 0, 0, 0, 0, 0, 0, 0, 0, 0, 0], [0, 0, 0, 0, 0, 0, 0, 0, 0, 0, 0, 0, 0, 0, 0, 0, 0, 0, 0, 0], [0, 0, 0, 0, 0, 0, 0, 0, 0, 0, 0, 0, 0, 0, 0, 0, 0, 0, 0, 0], [0, 0, 0, 0, 0, 0, 0, 0, 0, 0, 0, 0, 0, 0, 0, 0, 0, 0, 0, 0], [0, 0, 0, 0, 0, 0, 0, 0, 0, 0, 0, 0, 0, 0, 0, 0, 0, 0, 0, 0], [0, 0, 0, 0, 0, 0, 0, 0, 0, 0, 0, 0, 0, 0, 0, 0, 0, 0, 0, 0], [0, 0, 0, 0, 0, 0, 0, 0, 0, 0, 0, 0, 0, 0, 0, 0, 0, 0, 0, 0], [0, 0, 0, 0, 0, 0, 0, 0, 0, 0, 0, 0, 0, 0, 0, 0, 0, 0, 0, 0], [0, 0, 0, 0, 0, 0, 0, 0, 0, 0, 0, 0, 0, 0, 0, 0, 0, 0, 0, 0], [0, 0, 0, 0, 0, 0, 0, 0, 0, 0, 0, 0, 0, 0, 0, 0, 0, 0, 0, 0], [0, 0, 0, 0, 0, 0, 0, 0, 0, 0, 0, 0, 0, 0, 0, 0, 0, 0, 0, 0], [0, 0, 0, 0, 0, 0, 0, 0, 0, 0, 0, 0, 0, 0, 0, 0, 0, 0, 0, 0], [0, 0, 0, 0, 0, 0, 0, 0, 0, 0, 0, 0, 0, 0, 0, 0, 0, 0, 0, 0], [0, 0, 0, 0, 0, 0, 0, 0, 0, 0, 0, 0, 0, 0, 0, 0, 0, 0, 0, 0], [0, 0, 0, 0, 0, 0, 0, 0, 0, 0, 0, 0, 0, 0, 0, 0, 0, 0, 0, 0], [0, 0, 0, 0, 0, 0, 0, 0, 0, 0, 0, 0, 0, 0, 0, 0, 0, 0, 0, 0], [0, 0, 0, 0, 0, 0, 0, 0, 0, 0, 0, 0, 0, 0, 0, 0, 0, 0, 0, 0], [0, 0, 0, 0, 0, 0, 0, 0, 0, 0, 0, 0, 0, 0, 0, 0, 0, 0, 0, 0], [0, 0, 0, 0, 0, 0, 0, 0, 0, 0, 0, 0, 0, 0, 0, 0, 0, 0, 0, 0], [0, 0, 0, 0, 0, 0, 0, 0, 0, 0, 0, 0, 0, 0, 0, 0, 0, 0, 0, 0], [0, 0, 0, 0, 0, 0, 0, 0, 0, 0, 0, 0, 0, 0, 0, 0, 0, 0, 0, 0], [0, 0, 0, 0, 0, 0, 0, 0, 0, 0, 0, 0, 0, 0, 0, 0, 0, 0, 0, 0], [0, 0, 0, 0, 0, 0, 0, 0, 0, 0, 0, 0, 0, 0, 0, 0, 0, 0, 0, 0], [0, 0, 0, 0, 0, 0, 0, 0, 0, 0, 0, 0, 0, 0, 0, 0, 0, 0, 0, 0], [0, 0, 0, 0, 0, 0, 0, 0, 0, 0, 0, 0, 0, 0, 0, 0, 0, 0, 0, 0], [0, 0, 0, 0, 0, 0, 0, 0, 0, 0, 0, 0, 0, 0, 0, 0, 0, 0, 0, 0], [0, 0, 0, 0, 0, 0, 0, 0, 0, 0, 0, 0, 0, 0, 0, 0, 0, 0, 0, 0], [0, 0, 0, 0, 0, 0, 0, 0, 0, 0, 0, 0, 0, 0, 0, 0, 0, 0, 0, 0], [0, 0, 0, 0, 0, 0, 0, 0, 0, 0, 0, 0, 0, 0, 0, 0, 0, 0, 0, 0], [0, 0, 0, 0, 0, 0, 0, 0, 0, 0, 0, 0, 0, 0, 0, 0, 0, 0, 0, 0], [0, 0, 0, 0, 0, 0, 0, 0, 0, 0, 0, 0, 0, 0, 0, 0, 0, 0, 0, 0], [0, 0, 0, 0, 0, 0, 0, 0, 0, 0, 0, 0, 0, 0, 0, 0, 0, 0, 0, 0], [0, 0, 0, 0, 0, 0, 0, 0, 0, 0, 0, 0, 0, 0, 0, 0, 0, 0, 0, 0], [0, 0, 0, 0, 0, 0, 0, 0, 0, 0, 0, 0, 0, 0, 0, 0, 0, 0, 0, 0], [0, 0, 0, 0, 0, 0, 0, 0, 0, 0, 0, 0, 0, 0, 0, 0, 0, 0, 0, 0], [0, 0, 0, 0, 0, 0, 0, 0, 0, 0, 0, 0, 0, 0, 0, 0, 0, 0, 0, 0], [0, 0, 0, 0, 0, 0, 0, 0, 0, 0, 0, 0, 0, 0, 0, 0, 0, 0, 0, 0], [0, 0, 0, 0, 0, 0, 0, 0, 0, 0, 0, 0, 0, 0, 0, 0, 0, 0, 0, 0], [0, 0, 0, 0, 0, 0, 0, 0, 0, 0, 0, 0, 0, 0, 0, 0, 0, 0, 0, 0], [0, 0, 0, 0, 0, 0, 0, 0, 0, 0, 0, 0, 0, 0, 0, 0, 0, 0, 0, 0], [0, 0, 0, 0, 0, 0, 0, 0, 0, 0, 0, 0, 0, 0, 0, 0, 0, 0, 0, 0], [0, 0, 0, 0, 0, 0, 0, 0, 0, 0, 0, 0, 0, 0, 0, 0, 0, 0, 0, 0], [0, 0, 0, 0, 0, 0, 0, 0, 0, 0, 0, 0, 0, 0, 0, 0, 0, 0, 0, 0], [0, 0, 0, 0, 0, 0, 0, 0, 0, 0, 0, 0, 0, 0, 0, 0, 0, 0, 0, 0], [0, 0, 0, 0, 0, 0, 0, 0, 0, 0, 0, 0, 0, 0, 0, 0, 0, 0, 0, 0], [0, 0, 0, 0, 0, 0, 0, 0, 0, 0, 0, 0, 0, 0, 0, 0, 0, 0, 0, 0], [0, 0, 0, 0, 0, 0, 0, 0, 0, 0, 0, 0, 0, 0, 0, 0, 0, 0, 0, 0], [0, 0, 0, 0, 0, 0, 0, 0, 0, 0, 0, 0, 0, 0, 0, 0, 0, 0, 0, 0], [0, 0, 0, 0, 0, 0, 0, 0, 0, 0, 0, 0, 0, 0, 0, 0, 0, 0, 0, 0], [0, 0, 0, 0, 0, 0, 0, 0, 0, 0, 0, 0, 0, 0, 0, 0, 0, 0, 0, 0], [0, 0, 0, 0, 0, 0, 0, 0, 0, 0, 0, 0, 0, 0, 0, 0, 0, 0, 0, 0], [0, 0, 0, 0, 0, 0, 0, 0, 0, 0, 0, 0, 0, 0, 0, 0, 0, 0, 0, 0], [0, 0, 0, 0, 0, 0, 0, 0, 0, 0, 0, 0, 0, 0, 0, 0, 0, 0, 0, 0], [0, 0, 0, 0, 0, 0, 0, 0, 0, 0, 0, 0, 0, 0, 0, 0, 0, 0, 0, 0], [0, 0, 0, 0, 0, 0, 0, 0, 0, 0, 0, 0, 0, 0, 0, 0, 0, 0, 0, 0], [0, 0, 0, 0, 0, 0, 0, 0, 0, 0, 0, 0, 0, 0, 0, 0, 0, 0, 0, 0], [0, 0, 0, 0, 0, 0, 0, 0, 0, 0, 0, 0, 0, 0, 0, 0, 0, 0, 0, 0], [0, 0, 0, 0, 0, 0, 0, 0, 0, 0, 0, 0, 0, 0, 0, 0, 0, 0, 0, 0], [0, 0, 0, 0, 0, 0, 0, 0, 0, 0, 0, 0, 0, 0, 0, 0, 0, 0, 0, 0], [0, 0, 0, 0, 0, 0, 0, 0, 0, 0, 0, 0, 0, 0, 0, 0, 0, 0, 0, 0], [0, 0, 0, 0, 0, 0, 0, 0, 0, 0, 0, 0, 0, 0, 0, 0, 0, 0, 0, 0], [0, 0, 0, 0, 0, 0, 0, 0, 0, 0, 0, 0, 0, 0, 0, 0, 0, 0, 0, 0], [0, 0, 0, 0, 0, 0, 0, 0, 0, 0, 0, 0, 0, 0, 0, 0, 0, 0, 0, 0], [0, 0, 0, 0, 0, 0, 0, 0, 0, 0, 0, 0, 0, 0, 0, 0, 0, 0, 0, 0], [0, 0, 0, 0, 0, 0, 0, 0, 0, 0, 0, 0, 0, 0, 0, 0, 0, 0, 0, 0], [0, 0, 0, 0, 0, 0, 0, 0, 0, 0, 0, 0, 0, 0, 0, 0, 0, 0, 0, 0], [0, 0, 0, 0, 0, 0, 0, 0, 0, 0, 0, 0, 0, 0, 0, 0, 0, 0, 0, 0], [0, 0, 0, 0, 0, 0, 0, 0, 0, 0, 0, 0, 0, 0, 0, 0, 0, 0, 0, 0], [0, 0, 0, 0, 0, 0, 0, 0, 0, 0, 0, 0, 0, 0, 0, 0, 0, 0, 0, 0], [0, 0, 0, 0, 0, 0, 0, 0, 0, 0, 0, 0, 0, 0, 0, 0, 0, 0, 0, 0], [0, 0, 0, 0, 0, 0, 0, 0, 0, 0, 0, 0, 0, 0, 0, 0, 0, 0, 0, 0], [0, 0, 0, 0, 0, 0, 0, 0, 0, 0, 0, 0, 0, 0, 0, 0, 0, 0, 0, 0], [0, 0, 0, 0, 0, 0, 0, 0, 0, 0, 0, 0, 0, 0, 0, 0, 0, 0, 0, 0], [0, 0, 0, 0, 0, 0, 0, 0, 0, 0, 0, 0, 0, 0, 0, 0, 0, 0, 0, 0], [0, 0, 0, 0, 0, 0, 0, 0, 0, 0, 0, 0, 0, 0, 0, 0, 0, 0, 0, 0], [0, 0, 0, 0, 0, 0, 0, 0, 0, 0, 0, 0, 0, 0, 0, 0, 0, 0, 0, 0], [0, 0, 0, 0, 0, 0, 0, 0, 0, 0, 0, 0, 0, 0, 0, 0, 0, 0, 0, 0], [0, 0, 0, 0, 0, 0, 0, 0, 0, 0, 0, 0, 0, 0, 0, 0, 0, 0, 0, 0], [0, 0, 0, 0, 0, 0, 0, 0, 0, 0, 0, 0, 0, 0, 0, 0, 0, 0, 0, 0], [0, 0, 0, 0, 0, 0, 0, 0, 0, 0, 0, 0, 0, 0, 0, 0, 0, 0, 0, 0], [0, 0, 0, 0, 0, 0, 0, 0, 0, 0, 0, 0, 0, 0, 0, 0, 0, 0, 0, 0], [0, 0, 0, 0, 0, 0, 0, 0, 0, 0, 0, 0, 0, 0, 0, 0, 0, 0, 0, 0], [0, 0, 0, 0, 0, 0, 0, 0, 0, 0, 0, 0, 0, 0, 0, 0, 0, 0, 0, 0], [0, 0, 0, 0, 0, 0, 0, 0, 0, 0, 0, 0, 0, 0, 0, 0, 0, 0, 0, 0], [0, 0, 0, 0, 0, 0, 0, 0, 0, 0, 0, 0, 0, 0, 0, 0, 0, 0, 0, 0], [0, 0, 0, 0, 0, 0, 0, 0, 0, 0, 0, 0, 0, 0, 0, 0, 0, 0, 0, 0], [0, 0, 0, 0, 0, 0, 0, 0, 0, 0, 0, 0, 0, 0, 0, 0, 0, 0, 0, 0], [0, 0, 0, 0, 0, 0, 0, 0, 0, 0, 0, 0, 0, 0, 0, 0, 0, 0, 0, 0], [0, 0, 0, 0, 0, 0, 0, 0, 0, 0, 0, 0, 0, 0, 0, 0, 0, 0, 0, 0], [0, 0, 0, 0, 0, 0, 0, 0, 0, 0, 0, 0, 0, 0, 0, 0, 0, 0, 0, 0], [0, 0, 0, 0, 0, 0, 0, 0, 0, 0, 0, 0, 0, 0, 0, 0, 0, 0, 0, 0], [0, 0, 0, 0, 0, 0, 0, 0, 0, 0, 0, 0, 0, 0, 0, 0, 0, 0, 0, 0], [0, 0, 0, 0, 0, 0, 0, 0, 0, 0, 0, 0, 0, 0, 0, 0, 0, 0, 0, 0]]\n",
            "A = [[467280, 467280, 467280, 467280, 467280, 467280, 467280, 467280, 467280, 467280, 467280, 467280, 467280, 467280, 467280, 467280, 467280, 467280, 467280, 467280], [115120, 115120, 115120, 115120, 115120, 115120, 115120, 115120, 115120, 115120, 115120, 115120, 115120, 115120, 115120, 115120, 115120, 115120, 115120, 115120], [86280, 86280, 86280, 86280, 86280, 86280, 86280, 86280, 86280, 86280, 86280, 86280, 86280, 86280, 86280, 86280, 86280, 86280, 86280, 86280], [20200, 20200, 20200, 20200, 20200, 20200, 20200, 20200, 20200, 20200, 20200, 20200, 20200, 20200, 20200, 20200, 20200, 20200, 20200, 20200], [9640, 9640, 9640, 9640, 9640, 9640, 9640, 9640, 9640, 9640, 9640, 9640, 9640, 9640, 9640, 9640, 9640, 9640, 9640, 9640], [0, 0, 0, 0, 0, 0, 0, 0, 0, 0, 0, 0, 0, 0, 0, 0, 0, 0, 0, 0], [0, 0, 0, 0, 0, 0, 0, 0, 0, 0, 0, 0, 0, 0, 0, 0, 0, 0, 0, 0], [0, 0, 0, 0, 0, 0, 0, 0, 0, 0, 0, 0, 0, 0, 0, 0, 0, 0, 0, 0], [0, 0, 0, 0, 0, 0, 0, 0, 0, 0, 0, 0, 0, 0, 0, 0, 0, 0, 0, 0], [0, 0, 0, 0, 0, 0, 0, 0, 0, 0, 0, 0, 0, 0, 0, 0, 0, 0, 0, 0], [0, 0, 0, 0, 0, 0, 0, 0, 0, 0, 0, 0, 0, 0, 0, 0, 0, 0, 0, 0], [0, 0, 0, 0, 0, 0, 0, 0, 0, 0, 0, 0, 0, 0, 0, 0, 0, 0, 0, 0], [0, 0, 0, 0, 0, 0, 0, 0, 0, 0, 0, 0, 0, 0, 0, 0, 0, 0, 0, 0], [0, 0, 0, 0, 0, 0, 0, 0, 0, 0, 0, 0, 0, 0, 0, 0, 0, 0, 0, 0], [0, 0, 0, 0, 0, 0, 0, 0, 0, 0, 0, 0, 0, 0, 0, 0, 0, 0, 0, 0], [0, 0, 0, 0, 0, 0, 0, 0, 0, 0, 0, 0, 0, 0, 0, 0, 0, 0, 0, 0], [0, 0, 0, 0, 0, 0, 0, 0, 0, 0, 0, 0, 0, 0, 0, 0, 0, 0, 0, 0], [0, 0, 0, 0, 0, 0, 0, 0, 0, 0, 0, 0, 0, 0, 0, 0, 0, 0, 0, 0], [0, 0, 0, 0, 0, 0, 0, 0, 0, 0, 0, 0, 0, 0, 0, 0, 0, 0, 0, 0], [0, 0, 0, 0, 0, 0, 0, 0, 0, 0, 0, 0, 0, 0, 0, 0, 0, 0, 0, 0], [0, 0, 0, 0, 0, 0, 0, 0, 0, 0, 0, 0, 0, 0, 0, 0, 0, 0, 0, 0], [0, 0, 0, 0, 0, 0, 0, 0, 0, 0, 0, 0, 0, 0, 0, 0, 0, 0, 0, 0], [0, 0, 0, 0, 0, 0, 0, 0, 0, 0, 0, 0, 0, 0, 0, 0, 0, 0, 0, 0], [0, 0, 0, 0, 0, 0, 0, 0, 0, 0, 0, 0, 0, 0, 0, 0, 0, 0, 0, 0], [0, 0, 0, 0, 0, 0, 0, 0, 0, 0, 0, 0, 0, 0, 0, 0, 0, 0, 0, 0], [0, 0, 0, 0, 0, 0, 0, 0, 0, 0, 0, 0, 0, 0, 0, 0, 0, 0, 0, 0], [0, 0, 0, 0, 0, 0, 0, 0, 0, 0, 0, 0, 0, 0, 0, 0, 0, 0, 0, 0], [0, 0, 0, 0, 0, 0, 0, 0, 0, 0, 0, 0, 0, 0, 0, 0, 0, 0, 0, 0], [0, 0, 0, 0, 0, 0, 0, 0, 0, 0, 0, 0, 0, 0, 0, 0, 0, 0, 0, 0], [0, 0, 0, 0, 0, 0, 0, 0, 0, 0, 0, 0, 0, 0, 0, 0, 0, 0, 0, 0], [0, 0, 0, 0, 0, 0, 0, 0, 0, 0, 0, 0, 0, 0, 0, 0, 0, 0, 0, 0], [0, 0, 0, 0, 0, 0, 0, 0, 0, 0, 0, 0, 0, 0, 0, 0, 0, 0, 0, 0], [0, 0, 0, 0, 0, 0, 0, 0, 0, 0, 0, 0, 0, 0, 0, 0, 0, 0, 0, 0], [0, 0, 0, 0, 0, 0, 0, 0, 0, 0, 0, 0, 0, 0, 0, 0, 0, 0, 0, 0], [0, 0, 0, 0, 0, 0, 0, 0, 0, 0, 0, 0, 0, 0, 0, 0, 0, 0, 0, 0], [0, 0, 0, 0, 0, 0, 0, 0, 0, 0, 0, 0, 0, 0, 0, 0, 0, 0, 0, 0], [0, 0, 0, 0, 0, 0, 0, 0, 0, 0, 0, 0, 0, 0, 0, 0, 0, 0, 0, 0], [0, 0, 0, 0, 0, 0, 0, 0, 0, 0, 0, 0, 0, 0, 0, 0, 0, 0, 0, 0], [0, 0, 0, 0, 0, 0, 0, 0, 0, 0, 0, 0, 0, 0, 0, 0, 0, 0, 0, 0], [0, 0, 0, 0, 0, 0, 0, 0, 0, 0, 0, 0, 0, 0, 0, 0, 0, 0, 0, 0], [0, 0, 0, 0, 0, 0, 0, 0, 0, 0, 0, 0, 0, 0, 0, 0, 0, 0, 0, 0], [0, 0, 0, 0, 0, 0, 0, 0, 0, 0, 0, 0, 0, 0, 0, 0, 0, 0, 0, 0], [0, 0, 0, 0, 0, 0, 0, 0, 0, 0, 0, 0, 0, 0, 0, 0, 0, 0, 0, 0], [0, 0, 0, 0, 0, 0, 0, 0, 0, 0, 0, 0, 0, 0, 0, 0, 0, 0, 0, 0], [0, 0, 0, 0, 0, 0, 0, 0, 0, 0, 0, 0, 0, 0, 0, 0, 0, 0, 0, 0], [0, 0, 0, 0, 0, 0, 0, 0, 0, 0, 0, 0, 0, 0, 0, 0, 0, 0, 0, 0], [0, 0, 0, 0, 0, 0, 0, 0, 0, 0, 0, 0, 0, 0, 0, 0, 0, 0, 0, 0], [0, 0, 0, 0, 0, 0, 0, 0, 0, 0, 0, 0, 0, 0, 0, 0, 0, 0, 0, 0], [0, 0, 0, 0, 0, 0, 0, 0, 0, 0, 0, 0, 0, 0, 0, 0, 0, 0, 0, 0], [0, 0, 0, 0, 0, 0, 0, 0, 0, 0, 0, 0, 0, 0, 0, 0, 0, 0, 0, 0], [0, 0, 0, 0, 0, 0, 0, 0, 0, 0, 0, 0, 0, 0, 0, 0, 0, 0, 0, 0], [0, 0, 0, 0, 0, 0, 0, 0, 0, 0, 0, 0, 0, 0, 0, 0, 0, 0, 0, 0], [0, 0, 0, 0, 0, 0, 0, 0, 0, 0, 0, 0, 0, 0, 0, 0, 0, 0, 0, 0], [0, 0, 0, 0, 0, 0, 0, 0, 0, 0, 0, 0, 0, 0, 0, 0, 0, 0, 0, 0], [0, 0, 0, 0, 0, 0, 0, 0, 0, 0, 0, 0, 0, 0, 0, 0, 0, 0, 0, 0], [0, 0, 0, 0, 0, 0, 0, 0, 0, 0, 0, 0, 0, 0, 0, 0, 0, 0, 0, 0], [0, 0, 0, 0, 0, 0, 0, 0, 0, 0, 0, 0, 0, 0, 0, 0, 0, 0, 0, 0], [0, 0, 0, 0, 0, 0, 0, 0, 0, 0, 0, 0, 0, 0, 0, 0, 0, 0, 0, 0], [0, 0, 0, 0, 0, 0, 0, 0, 0, 0, 0, 0, 0, 0, 0, 0, 0, 0, 0, 0], [0, 0, 0, 0, 0, 0, 0, 0, 0, 0, 0, 0, 0, 0, 0, 0, 0, 0, 0, 0], [0, 0, 0, 0, 0, 0, 0, 0, 0, 0, 0, 0, 0, 0, 0, 0, 0, 0, 0, 0], [0, 0, 0, 0, 0, 0, 0, 0, 0, 0, 0, 0, 0, 0, 0, 0, 0, 0, 0, 0], [0, 0, 0, 0, 0, 0, 0, 0, 0, 0, 0, 0, 0, 0, 0, 0, 0, 0, 0, 0], [0, 0, 0, 0, 0, 0, 0, 0, 0, 0, 0, 0, 0, 0, 0, 0, 0, 0, 0, 0], [0, 0, 0, 0, 0, 0, 0, 0, 0, 0, 0, 0, 0, 0, 0, 0, 0, 0, 0, 0], [0, 0, 0, 0, 0, 0, 0, 0, 0, 0, 0, 0, 0, 0, 0, 0, 0, 0, 0, 0], [0, 0, 0, 0, 0, 0, 0, 0, 0, 0, 0, 0, 0, 0, 0, 0, 0, 0, 0, 0], [0, 0, 0, 0, 0, 0, 0, 0, 0, 0, 0, 0, 0, 0, 0, 0, 0, 0, 0, 0], [0, 0, 0, 0, 0, 0, 0, 0, 0, 0, 0, 0, 0, 0, 0, 0, 0, 0, 0, 0], [0, 0, 0, 0, 0, 0, 0, 0, 0, 0, 0, 0, 0, 0, 0, 0, 0, 0, 0, 0], [0, 0, 0, 0, 0, 0, 0, 0, 0, 0, 0, 0, 0, 0, 0, 0, 0, 0, 0, 0], [0, 0, 0, 0, 0, 0, 0, 0, 0, 0, 0, 0, 0, 0, 0, 0, 0, 0, 0, 0], [0, 0, 0, 0, 0, 0, 0, 0, 0, 0, 0, 0, 0, 0, 0, 0, 0, 0, 0, 0], [0, 0, 0, 0, 0, 0, 0, 0, 0, 0, 0, 0, 0, 0, 0, 0, 0, 0, 0, 0], [0, 0, 0, 0, 0, 0, 0, 0, 0, 0, 0, 0, 0, 0, 0, 0, 0, 0, 0, 0], [0, 0, 0, 0, 0, 0, 0, 0, 0, 0, 0, 0, 0, 0, 0, 0, 0, 0, 0, 0], [0, 0, 0, 0, 0, 0, 0, 0, 0, 0, 0, 0, 0, 0, 0, 0, 0, 0, 0, 0], [0, 0, 0, 0, 0, 0, 0, 0, 0, 0, 0, 0, 0, 0, 0, 0, 0, 0, 0, 0], [0, 0, 0, 0, 0, 0, 0, 0, 0, 0, 0, 0, 0, 0, 0, 0, 0, 0, 0, 0], [0, 0, 0, 0, 0, 0, 0, 0, 0, 0, 0, 0, 0, 0, 0, 0, 0, 0, 0, 0], [0, 0, 0, 0, 0, 0, 0, 0, 0, 0, 0, 0, 0, 0, 0, 0, 0, 0, 0, 0], [0, 0, 0, 0, 0, 0, 0, 0, 0, 0, 0, 0, 0, 0, 0, 0, 0, 0, 0, 0], [0, 0, 0, 0, 0, 0, 0, 0, 0, 0, 0, 0, 0, 0, 0, 0, 0, 0, 0, 0], [0, 0, 0, 0, 0, 0, 0, 0, 0, 0, 0, 0, 0, 0, 0, 0, 0, 0, 0, 0], [0, 0, 0, 0, 0, 0, 0, 0, 0, 0, 0, 0, 0, 0, 0, 0, 0, 0, 0, 0], [0, 0, 0, 0, 0, 0, 0, 0, 0, 0, 0, 0, 0, 0, 0, 0, 0, 0, 0, 0], [0, 0, 0, 0, 0, 0, 0, 0, 0, 0, 0, 0, 0, 0, 0, 0, 0, 0, 0, 0], [0, 0, 0, 0, 0, 0, 0, 0, 0, 0, 0, 0, 0, 0, 0, 0, 0, 0, 0, 0], [0, 0, 0, 0, 0, 0, 0, 0, 0, 0, 0, 0, 0, 0, 0, 0, 0, 0, 0, 0], [0, 0, 0, 0, 0, 0, 0, 0, 0, 0, 0, 0, 0, 0, 0, 0, 0, 0, 0, 0], [0, 0, 0, 0, 0, 0, 0, 0, 0, 0, 0, 0, 0, 0, 0, 0, 0, 0, 0, 0], [0, 0, 0, 0, 0, 0, 0, 0, 0, 0, 0, 0, 0, 0, 0, 0, 0, 0, 0, 0], [0, 0, 0, 0, 0, 0, 0, 0, 0, 0, 0, 0, 0, 0, 0, 0, 0, 0, 0, 0], [0, 0, 0, 0, 0, 0, 0, 0, 0, 0, 0, 0, 0, 0, 0, 0, 0, 0, 0, 0], [0, 0, 0, 0, 0, 0, 0, 0, 0, 0, 0, 0, 0, 0, 0, 0, 0, 0, 0, 0], [0, 0, 0, 0, 0, 0, 0, 0, 0, 0, 0, 0, 0, 0, 0, 0, 0, 0, 0, 0], [0, 0, 0, 0, 0, 0, 0, 0, 0, 0, 0, 0, 0, 0, 0, 0, 0, 0, 0, 0], [0, 0, 0, 0, 0, 0, 0, 0, 0, 0, 0, 0, 0, 0, 0, 0, 0, 0, 0, 0], [0, 0, 0, 0, 0, 0, 0, 0, 0, 0, 0, 0, 0, 0, 0, 0, 0, 0, 0, 0], [0, 0, 0, 0, 0, 0, 0, 0, 0, 0, 0, 0, 0, 0, 0, 0, 0, 0, 0, 0]]\n"
          ]
        }
      ]
    },
    {
      "cell_type": "code",
      "source": [
        ""
      ],
      "metadata": {
        "id": "tHHtsaW76QL0"
      },
      "execution_count": null,
      "outputs": []
    },
    {
      "cell_type": "code",
      "source": [
        "estimated_number_trees"
      ],
      "metadata": {
        "colab": {
          "base_uri": "https://localhost:8080/"
        },
        "id": "j5GAQ5swuSqi",
        "outputId": "4f291d6a-f696-4a4e-a472-b21b91d9dc4a"
      },
      "execution_count": null,
      "outputs": [
        {
          "output_type": "execute_result",
          "data": {
            "text/plain": [
              "35881"
            ]
          },
          "metadata": {},
          "execution_count": 147
        }
      ]
    },
    {
      "cell_type": "code",
      "source": [
        "real_number_trees = caida2006.get_graph(CAIDA2006_TEST_GRAPH).get_number_trees()"
      ],
      "metadata": {
        "id": "MQnth0zeuJl4"
      },
      "execution_count": null,
      "outputs": []
    },
    {
      "cell_type": "code",
      "source": [
        "real_number_trees"
      ],
      "metadata": {
        "colab": {
          "base_uri": "https://localhost:8080/"
        },
        "id": "6gePYfJAub5P",
        "outputId": "7e5f7377-492e-48ca-f7c1-ce6ca5b1f69d"
      },
      "execution_count": null,
      "outputs": [
        {
          "output_type": "execute_result",
          "data": {
            "text/plain": [
              "34926"
            ]
          },
          "metadata": {},
          "execution_count": 149
        }
      ]
    },
    {
      "cell_type": "code",
      "source": [
        "print(f\"Relative Error: {round(relative_error(real_number_trees, estimated_number_trees)*100, 1)} %\")"
      ],
      "metadata": {
        "colab": {
          "base_uri": "https://localhost:8080/"
        },
        "id": "iLSEPOHkuFiJ",
        "outputId": "88792544-507f-45eb-a9da-dfb252115656"
      },
      "execution_count": null,
      "outputs": [
        {
          "output_type": "stream",
          "name": "stdout",
          "text": [
            "Relative Error: 2.7 %\n"
          ]
        }
      ]
    },
    {
      "cell_type": "markdown",
      "source": [
        "# Results Algorithm 4"
      ],
      "metadata": {
        "id": "H-yqXceCzCUL"
      }
    },
    {
      "cell_type": "code",
      "source": [
        "oracle = HeavyEdgeOracle(graph=oregon.get_graph(OREGON_TRAIN_GRAPH))"
      ],
      "metadata": {
        "id": "Budz7XXqua2u"
      },
      "execution_count": null,
      "outputs": []
    },
    {
      "cell_type": "code",
      "source": [
        "oracle.train()"
      ],
      "metadata": {
        "colab": {
          "base_uri": "https://localhost:8080/"
        },
        "id": "CghY8jYRAptj",
        "outputId": "fe157b23-4a5a-48be-e859-f6c959a8d298"
      },
      "execution_count": null,
      "outputs": [
        {
          "output_type": "stream",
          "name": "stdout",
          "text": [
            "Cacluate total trees...\n",
            "Counting trees per edges (N_e)...\n",
            "0.0% 10.0% 20.0% 30.0% 40.0% 50.0% 60.0% 70.0% 80.0% 90.0% 100.0% \n",
            "Sorting and selecting top N_e\n",
            "Training oracle completed!\n"
          ]
        }
      ]
    },
    {
      "cell_type": "code",
      "source": [
        "algorithm4 = EstimatorAlgorithm4(graph=oregon.get_graph(OREGON_TEST_GRAPH), oracle=oracle, epsilon=0.05, C=1)"
      ],
      "metadata": {
        "colab": {
          "base_uri": "https://localhost:8080/"
        },
        "id": "MlW6YFp8Aq9u",
        "outputId": "e12a47ad-0cf6-44d5-afe0-ad4988c2538e"
      },
      "execution_count": null,
      "outputs": [
        {
          "output_type": "stream",
          "name": "stdout",
          "text": [
            "rho = 5.683430486908874, p = 0.15274743166899588\n"
          ]
        }
      ]
    },
    {
      "cell_type": "code",
      "source": [
        "estimated_number_trees = algorithm4.estimate_number_tress()"
      ],
      "metadata": {
        "colab": {
          "base_uri": "https://localhost:8080/"
        },
        "id": "_HVjtRfCA5PM",
        "outputId": "9fdbc8ee-037e-4d36-9f39-b4bd45d55028"
      },
      "execution_count": null,
      "outputs": [
        {
          "output_type": "stream",
          "name": "stdout",
          "text": [
            "0% 10% 20% 30% 40% 50% 60% 70% 80% 90% 100% "
          ]
        }
      ]
    },
    {
      "cell_type": "code",
      "source": [
        "estimated_number_trees"
      ],
      "metadata": {
        "colab": {
          "base_uri": "https://localhost:8080/"
        },
        "id": "KYIcTWWSBWAB",
        "outputId": "6896298a-caa1-415c-b55c-0d6b6ead9204"
      },
      "execution_count": null,
      "outputs": [
        {
          "output_type": "execute_result",
          "data": {
            "text/plain": [
              "18729"
            ]
          },
          "metadata": {},
          "execution_count": 306
        }
      ]
    },
    {
      "cell_type": "code",
      "source": [
        "real_number_trees = oregon.get_graph(OREGON_TEST_GRAPH).get_number_trees()"
      ],
      "metadata": {
        "id": "d3JhhDrwCH82"
      },
      "execution_count": null,
      "outputs": []
    },
    {
      "cell_type": "code",
      "source": [
        "real_number_trees"
      ],
      "metadata": {
        "colab": {
          "base_uri": "https://localhost:8080/"
        },
        "id": "XK-lVcr5Dn4o",
        "outputId": "491c4693-69cf-4e9f-dd25-0cb047f06a2a"
      },
      "execution_count": null,
      "outputs": [
        {
          "output_type": "execute_result",
          "data": {
            "text/plain": [
              "19108"
            ]
          },
          "metadata": {},
          "execution_count": 308
        }
      ]
    },
    {
      "cell_type": "code",
      "source": [
        "print(f\"Relative Error: {round(relative_error(real_number_trees, estimated_number_trees)*100, 1)} %\")"
      ],
      "metadata": {
        "colab": {
          "base_uri": "https://localhost:8080/"
        },
        "id": "2uYjwF05DpWR",
        "outputId": "ec4754cc-d01d-4b0a-80d2-3a33e755d819"
      },
      "execution_count": null,
      "outputs": [
        {
          "output_type": "stream",
          "name": "stdout",
          "text": [
            "Relative Error: 2.0 %\n"
          ]
        }
      ]
    },
    {
      "cell_type": "code",
      "source": [
        "print(algorithm4.number_stored_edges())"
      ],
      "metadata": {
        "colab": {
          "base_uri": "https://localhost:8080/"
        },
        "id": "CNz75N11Gnzz",
        "outputId": "2a925d97-9875-4189-e1c8-bb248e957e4f"
      },
      "execution_count": null,
      "outputs": [
        {
          "output_type": "stream",
          "name": "stdout",
          "text": [
            "3456\n"
          ]
        }
      ]
    },
    {
      "cell_type": "code",
      "source": [
        ""
      ],
      "metadata": {
        "id": "j-yKoTgvHRXF"
      },
      "execution_count": null,
      "outputs": []
    }
  ]
}