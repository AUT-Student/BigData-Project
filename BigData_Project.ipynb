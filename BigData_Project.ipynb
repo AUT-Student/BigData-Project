{
  "nbformat": 4,
  "nbformat_minor": 0,
  "metadata": {
    "colab": {
      "name": "BigData-Project.ipynb",
      "provenance": [],
      "toc_visible": true,
      "authorship_tag": "ABX9TyOk1JdvcFD5zeu2uwLiDNNT",
      "include_colab_link": true
    },
    "kernelspec": {
      "name": "python3",
      "display_name": "Python 3"
    },
    "language_info": {
      "name": "python"
    }
  },
  "cells": [
    {
      "cell_type": "markdown",
      "metadata": {
        "id": "view-in-github",
        "colab_type": "text"
      },
      "source": [
        "<a href=\"https://colab.research.google.com/github/AUT-Student/BigData-Project/blob/main/BigData_Project.ipynb\" target=\"_parent\"><img src=\"https://colab.research.google.com/assets/colab-badge.svg\" alt=\"Open In Colab\"/></a>"
      ]
    },
    {
      "cell_type": "markdown",
      "source": [
        "# Library"
      ],
      "metadata": {
        "id": "wusr27wnftZx"
      }
    },
    {
      "cell_type": "code",
      "execution_count": 1,
      "metadata": {
        "id": "X1VtRcdFfnbi"
      },
      "outputs": [],
      "source": [
        "from dataclasses import dataclass\n",
        "import matplotlib.pyplot as plt\n",
        "import pandas as pd\n",
        "import numpy as np\n",
        "import random\n",
        "import math\n",
        "import glob"
      ]
    },
    {
      "cell_type": "markdown",
      "source": [
        "# Load Datasets"
      ],
      "metadata": {
        "id": "AJt4yvU7fvlG"
      }
    },
    {
      "cell_type": "markdown",
      "source": [
        "## CAIDA"
      ],
      "metadata": {
        "id": "RVaWSWkAgBxg"
      }
    },
    {
      "cell_type": "code",
      "source": [
        "!gdown https://snap.stanford.edu/data/as-caida.tar.gz\n",
        "!mkdir caida\n",
        "!tar -C /content/caida -xzf /content/as-caida.tar.gz "
      ],
      "metadata": {
        "colab": {
          "base_uri": "https://localhost:8080/"
        },
        "id": "rKwOiwXqfwSP",
        "outputId": "13e762af-fcfb-4d4f-863e-ddb3a3be0245"
      },
      "execution_count": 2,
      "outputs": [
        {
          "output_type": "stream",
          "name": "stdout",
          "text": [
            "Downloading...\n",
            "From: https://snap.stanford.edu/data/as-caida.tar.gz\n",
            "To: /content/as-caida.tar.gz\n",
            "100% 46.4M/46.4M [00:01<00:00, 28.6MB/s]\n"
          ]
        }
      ]
    },
    {
      "cell_type": "code",
      "source": [
        "!grep as-caida2006 /content/caida/* | wc -l"
      ],
      "metadata": {
        "colab": {
          "base_uri": "https://localhost:8080/"
        },
        "id": "K0Bq6reRgKfo",
        "outputId": "33a71926-5020-46ab-c071-3d573ffa164a"
      },
      "execution_count": 3,
      "outputs": [
        {
          "output_type": "stream",
          "name": "stdout",
          "text": [
            "52\n"
          ]
        }
      ]
    },
    {
      "cell_type": "code",
      "source": [
        "!grep as-caida2007 /content/caida/* | wc -l"
      ],
      "metadata": {
        "colab": {
          "base_uri": "https://localhost:8080/"
        },
        "id": "_RbddHnpiTS-",
        "outputId": "57b4630a-d629-4e70-c184-a285bdfe9bbe"
      },
      "execution_count": 4,
      "outputs": [
        {
          "output_type": "stream",
          "name": "stdout",
          "text": [
            "46\n"
          ]
        }
      ]
    },
    {
      "cell_type": "code",
      "source": [
        "!head /content/caida/as-caida20060102.txt -n 40"
      ],
      "metadata": {
        "colab": {
          "base_uri": "https://localhost:8080/"
        },
        "id": "zKtkOIb3jP0U",
        "outputId": "bcce058c-8f9c-467e-d500-6366bc76930e"
      },
      "execution_count": 5,
      "outputs": [
        {
          "output_type": "stream",
          "name": "stdout",
          "text": [
            "# Directed graph: as-caida20060102.txt\n",
            "# The CAIDA AS Relationships Dataset, from 01 02 2006\n",
            "# Relationships:\t-1 (<FromNodeId> is a customer of <ToNodeId>)\n",
            "# \t\t\t1 (<FromNodeId> is a provider of <ToNodeId>)\n",
            "# \t\t\t0 (<FromNodeId> and <ToNodeId> are peers)\n",
            "# \t\t\t2 (<FromNodeId> and <ToNodeId> are siblings (the same organization).)\n",
            "# Nodes:21202\tEdges: 85850\n",
            "# FromNodeId        ToNodeId\tRelationship\n",
            "8563\t26716\t1\n",
            "8563\t2914\t-1\n",
            "8563\t21414\t-1\n",
            "8563\t21482\t1\n",
            "8563\t3277\t0\n",
            "8563\t4323\t-1\n",
            "28801\t702\t-1\n",
            "28801\t8422\t-1\n",
            "28801\t8220\t-1\n",
            "5006\t20283\t1\n",
            "5006\t21902\t1\n",
            "5006\t25637\t1\n",
            "5006\t17162\t1\n",
            "5006\t18581\t1\n",
            "5006\t11401\t1\n",
            "5006\t16904\t1\n",
            "5006\t21730\t1\n",
            "5006\t32461\t1\n",
            "5006\t7018\t-1\n",
            "5006\t14278\t1\n",
            "5006\t1347\t2\n",
            "5006\t32664\t1\n",
            "5006\t33111\t1\n",
            "5006\t26021\t1\n",
            "5006\t23359\t1\n",
            "5006\t21951\t1\n",
            "5006\t7792\t1\n",
            "5006\t16595\t1\n",
            "5006\t10337\t1\n",
            "5006\t18699\t1\n",
            "5006\t32110\t1\n",
            "5006\t7973\t1\n"
          ]
        }
      ]
    },
    {
      "cell_type": "code",
      "source": [
        "!head /content/caida/as-caida20040105.txt -n 40"
      ],
      "metadata": {
        "colab": {
          "base_uri": "https://localhost:8080/"
        },
        "id": "_N71P2uKg0Kk",
        "outputId": "c0b56b8d-888b-4fb7-cc4a-712a1a544520"
      },
      "execution_count": 6,
      "outputs": [
        {
          "output_type": "stream",
          "name": "stdout",
          "text": [
            "# Directed graph: as-caida20040105.txt\n",
            "# The CAIDA AS Relationships Dataset, from 01 05 2004\n",
            "# Relationships:\t-1 (<FromNodeId> is a customer of <ToNodeId>)\n",
            "# \t\t\t1 (<FromNodeId> is a provider of <ToNodeId>)\n",
            "# \t\t\t0 (<FromNodeId> and <ToNodeId> are peers)\n",
            "# \t\t\t2 (<FromNodeId> and <ToNodeId> are siblings (the same organization).)\n",
            "# Nodes:16301\tEdges: 65910\n",
            "# FromNodeId        ToNodeId\tRelationship\n",
            "6712\t1668\t0\n",
            "6712\t3215\t-1\n",
            "8563\t26716\t1\n",
            "8563\t4323\t-1\n",
            "13666\t19262\t-1\n",
            "28689\t20804\t-1\n",
            "28689\t6778\t-1\n",
            "28801\t702\t0\n",
            "28801\t8422\t-1\n",
            "5006\t20283\t1\n",
            "5006\t21902\t1\n",
            "5006\t25637\t1\n",
            "5006\t17162\t1\n",
            "5006\t18581\t1\n",
            "5006\t11401\t1\n",
            "5006\t16904\t1\n",
            "5006\t21730\t1\n",
            "5006\t7018\t-1\n",
            "5006\t14278\t1\n",
            "5006\t18454\t1\n",
            "5006\t1347\t1\n",
            "5006\t26021\t1\n",
            "5006\t7792\t1\n",
            "5006\t16595\t1\n",
            "5006\t10337\t1\n",
            "5006\t4045\t1\n",
            "5006\t18699\t1\n",
            "5006\t7973\t1\n",
            "5006\t25615\t1\n",
            "5006\t18723\t1\n",
            "5006\t1239\t-1\n",
            "5006\t10765\t1\n"
          ]
        }
      ]
    },
    {
      "cell_type": "markdown",
      "source": [
        "## Oregon"
      ],
      "metadata": {
        "id": "7xPifcOjkai0"
      }
    },
    {
      "cell_type": "code",
      "source": [
        "!rm oregon -r"
      ],
      "metadata": {
        "id": "Qo9bKPYmnBIl",
        "colab": {
          "base_uri": "https://localhost:8080/"
        },
        "outputId": "d6379810-5431-4f6b-fa61-979857d6c1b1"
      },
      "execution_count": 7,
      "outputs": [
        {
          "output_type": "stream",
          "name": "stdout",
          "text": [
            "rm: cannot remove 'oregon': No such file or directory\n"
          ]
        }
      ]
    },
    {
      "cell_type": "code",
      "source": [
        "!mkdir oregon\n",
        "%cd oregon\n",
        "\n",
        "!gdown https://snap.stanford.edu/data/oregon1_010331.txt.gz\n",
        "!gdown https://snap.stanford.edu/data/oregon1_010407.txt.gz\n",
        "!gdown https://snap.stanford.edu/data/oregon1_010414.txt.gz\n",
        "!gdown https://snap.stanford.edu/data/oregon1_010421.txt.gz\n",
        "!gdown https://snap.stanford.edu/data/oregon1_010428.txt.gz\n",
        "!gdown https://snap.stanford.edu/data/oregon1_010505.txt.gz\n",
        "!gdown https://snap.stanford.edu/data/oregon1_010512.txt.gz\n",
        "!gdown https://snap.stanford.edu/data/oregon1_010519.txt.gz\n",
        "!gdown https://snap.stanford.edu/data/oregon1_010526.txt.gz\n",
        "\n",
        "\n",
        "!gunzip oregon1_010331.txt.gz\n",
        "!gunzip oregon1_010407.txt.gz\n",
        "!gunzip oregon1_010414.txt.gz\n",
        "!gunzip oregon1_010421.txt.gz\n",
        "!gunzip oregon1_010428.txt.gz\n",
        "!gunzip oregon1_010505.txt.gz\n",
        "!gunzip oregon1_010512.txt.gz\n",
        "!gunzip oregon1_010519.txt.gz\n",
        "!gunzip oregon1_010526.txt.gz\n",
        "\n",
        "%cd .."
      ],
      "metadata": {
        "colab": {
          "base_uri": "https://localhost:8080/"
        },
        "id": "-w2orQRBlEz6",
        "outputId": "00dae159-090f-4864-a6f0-dcd48af529c4"
      },
      "execution_count": 8,
      "outputs": [
        {
          "output_type": "stream",
          "name": "stdout",
          "text": [
            "/content/oregon\n",
            "Downloading...\n",
            "From: https://snap.stanford.edu/data/oregon1_010331.txt.gz\n",
            "To: /content/oregon/oregon1_010331.txt.gz\n",
            "100% 69.1k/69.1k [00:00<00:00, 1.15MB/s]\n",
            "Downloading...\n",
            "From: https://snap.stanford.edu/data/oregon1_010407.txt.gz\n",
            "To: /content/oregon/oregon1_010407.txt.gz\n",
            "100% 69.3k/69.3k [00:00<00:00, 1.45MB/s]\n",
            "Downloading...\n",
            "From: https://snap.stanford.edu/data/oregon1_010414.txt.gz\n",
            "To: /content/oregon/oregon1_010414.txt.gz\n",
            "100% 69.8k/69.8k [00:00<00:00, 1.55MB/s]\n",
            "Downloading...\n",
            "From: https://snap.stanford.edu/data/oregon1_010421.txt.gz\n",
            "To: /content/oregon/oregon1_010421.txt.gz\n",
            "100% 70.7k/70.7k [00:00<00:00, 1.17MB/s]\n",
            "Downloading...\n",
            "From: https://snap.stanford.edu/data/oregon1_010428.txt.gz\n",
            "To: /content/oregon/oregon1_010428.txt.gz\n",
            "100% 70.1k/70.1k [00:00<00:00, 1.17MB/s]\n",
            "Downloading...\n",
            "From: https://snap.stanford.edu/data/oregon1_010505.txt.gz\n",
            "To: /content/oregon/oregon1_010505.txt.gz\n",
            "100% 70.5k/70.5k [00:00<00:00, 1.41MB/s]\n",
            "Downloading...\n",
            "From: https://snap.stanford.edu/data/oregon1_010512.txt.gz\n",
            "To: /content/oregon/oregon1_010512.txt.gz\n",
            "100% 70.7k/70.7k [00:00<00:00, 1.48MB/s]\n",
            "Downloading...\n",
            "From: https://snap.stanford.edu/data/oregon1_010519.txt.gz\n",
            "To: /content/oregon/oregon1_010519.txt.gz\n",
            "100% 70.9k/70.9k [00:00<00:00, 1.18MB/s]\n",
            "Downloading...\n",
            "From: https://snap.stanford.edu/data/oregon1_010526.txt.gz\n",
            "To: /content/oregon/oregon1_010526.txt.gz\n",
            "100% 72.9k/72.9k [00:00<00:00, 1.09MB/s]\n",
            "/content\n"
          ]
        }
      ]
    },
    {
      "cell_type": "code",
      "source": [
        "!head /content/oregon/oregon1_010331.txt"
      ],
      "metadata": {
        "colab": {
          "base_uri": "https://localhost:8080/"
        },
        "id": "Vyec9NlAowuX",
        "outputId": "d2790905-f91d-4ff3-d2a6-34f7d6f157e0"
      },
      "execution_count": 9,
      "outputs": [
        {
          "output_type": "stream",
          "name": "stdout",
          "text": [
            "# Undirected graph: oregon1_010331.txt\n",
            "# AS peering information inferred from Oregon route-views BGP data, from March 31 2001\n",
            "# Nodes: 10670 Edges: 22002\n",
            "# FromNodeId\tToNodeId\n",
            "10000\t4725\n",
            "4725\t6805\n",
            "4725\t7523\n",
            "4725\t7524\n",
            "4725\t7673\n",
            "4725\t9352\n"
          ]
        }
      ]
    },
    {
      "cell_type": "code",
      "source": [
        "!grep \"13237\" /content/caida/as-caida20040105.txt | wc -l"
      ],
      "metadata": {
        "colab": {
          "base_uri": "https://localhost:8080/"
        },
        "id": "pwuf8ZR-r79P",
        "outputId": "e90fccb6-a491-4a68-be7a-34d432e6cf6a"
      },
      "execution_count": 11,
      "outputs": [
        {
          "output_type": "stream",
          "name": "stdout",
          "text": [
            "862\n"
          ]
        }
      ]
    },
    {
      "cell_type": "markdown",
      "source": [
        "# Data Structure Classes"
      ],
      "metadata": {
        "id": "L2_9liTVezAd"
      }
    },
    {
      "cell_type": "markdown",
      "source": [
        "## Edge Class"
      ],
      "metadata": {
        "id": "bdCCnBYfd3lH"
      }
    },
    {
      "cell_type": "code",
      "source": [
        "@dataclass(init=True, eq=True, frozen=True)\n",
        "class Edge:\n",
        "  source: int\n",
        "  destination: int\n",
        "\n",
        "  def get_reverse(self):\n",
        "    return Edge(source=self.destination, destination=self.source)\n",
        "\n",
        "  def get_minmax(self):\n",
        "    return Edge(source=min(self.source, self.destination),\n",
        "                destination=max(self.source, self.destination))"
      ],
      "metadata": {
        "id": "7Yfc5C19d5CM"
      },
      "execution_count": 12,
      "outputs": []
    },
    {
      "cell_type": "markdown",
      "source": [
        "## Graph Class"
      ],
      "metadata": {
        "id": "y5U0Qg7xq0d6"
      }
    },
    {
      "cell_type": "code",
      "source": [
        "class Graph():\n",
        "  def __init__(self, directed):\n",
        "    self.edges = set()\n",
        "    self.nodes = set()\n",
        "    self.node_order = list()\n",
        "    self.node_order_set = set()\n",
        "\n",
        "    self.reset_statics()\n",
        "\n",
        "  def _set_order(self, node):\n",
        "    if node not in self.node_order_set:\n",
        "      self.node_order_set.add(node)\n",
        "      self.node_order.append(node)\n",
        "\n",
        "  def add_edge(self, edge:Edge):\n",
        "    self.nodes.add(edge.source)\n",
        "    self.nodes.add(edge.destination)\n",
        "    self.edges.add(edge)\n",
        "\n",
        "    self._set_order(edge.source)\n",
        "\n",
        "  def finish(self):\n",
        "    for node in self.nodes:\n",
        "      # Set order for remaining nodes\n",
        "      self._set_order(node)\n",
        "\n",
        "    self.reset_statics()\n",
        "\n",
        "  def reset_statics(self):\n",
        "    self.number_trees = None\n",
        "    self.node_adjacency_list = None\n",
        "\n",
        "  def number_nodes(self):\n",
        "    return len(self.nodes)\n",
        "  \n",
        "  def number_edges(self):\n",
        "    return len(self.edges)\n",
        "\n",
        "  def get_edges(self):\n",
        "    return self.edges\n",
        "  \n",
        "  def get_nodes(self):\n",
        "    return self.nodes\n",
        "\n",
        "  def get_node(self, node_id):\n",
        "    return self.node_order[node_id]\n",
        "  \n",
        "  def get_node_adjacency_list(self, node_id):\n",
        "    if self.node_adjacency_list is None:\n",
        "      self.calculate_node_adjacency_list()\n",
        "    \n",
        "    return self.node_adjacency_list[self.get_node(node_id)]\n",
        "\n",
        "  def calculate_node_adjacency_list(self):\n",
        "    # if self.node_adjacency_list is not None:\n",
        "    #   return\n",
        "\n",
        "    self.node_adjacency_list = dict()\n",
        "\n",
        "    for node in self.nodes:\n",
        "      self.node_adjacency_list[node] = set()\n",
        "    \n",
        "    for edge in self.edges:\n",
        "      self.node_adjacency_list[edge.source].add(edge.destination) \n",
        "      self.node_adjacency_list[edge.destination].add(edge.source) \n",
        "    \n",
        "  def calculate_number_trees(self):\n",
        "    if self.number_trees is not None:\n",
        "      return self.number_trees\n",
        "\n",
        "    # if self.node_adjacency_list is None:\n",
        "    #   self.calculate_node_adjacency_list()\n",
        "\n",
        "    self.number_trees = 0\n",
        "    for node_x in self.nodes:\n",
        "      for node_y in self.node_adjacency_list[node_x]:\n",
        "        for node_z in self.node_adjacency_list[node_x]:\n",
        "\n",
        "          if node_x < node_y < node_z:\n",
        "            if node_z in self.node_adjacency_list[node_y]:\n",
        "              self.number_trees += 1\n",
        "\n",
        "  def get_number_trees(self):\n",
        "    if self.number_trees is None:\n",
        "      self.calculate_number_trees()\n",
        "\n",
        "    return self.number_trees\n",
        "\n",
        "  def get_number_trees_per_edge(self, edge):\n",
        "    # if self.node_adjacency_list is None:\n",
        "    #   self.calculate_node_adjacency_list()\n",
        "\n",
        "    node_x = edge.source\n",
        "    node_y = edge.destination\n",
        "\n",
        "    number_trees = 0\n",
        "\n",
        "    for node_z in self.node_adjacency_list[node_x]:\n",
        "      if node_z in self.node_adjacency_list[node_y]:\n",
        "        number_trees += 1\n",
        "    \n",
        "    return number_trees"
      ],
      "metadata": {
        "id": "A6HI35X6oy9M"
      },
      "execution_count": 13,
      "outputs": []
    },
    {
      "cell_type": "markdown",
      "source": [
        "## Snapshot Graphs"
      ],
      "metadata": {
        "id": "ad_y7yRy3wSf"
      }
    },
    {
      "cell_type": "code",
      "source": [
        "class Snapshot():\n",
        "  def __init__(self, dataset_path):\n",
        "    self.dataset_path = dataset_path\n",
        "    self.graphs = list()\n",
        "\n",
        "  def load_graphs(self):\n",
        "    for path in sorted(glob.glob(pathname=self.dataset_path, recursive=True)):\n",
        "      print(\".\", end=\"\")\n",
        "      graph = Graph(directed=False)\n",
        "\n",
        "      with open(path, \"r\") as file:\n",
        "        for i, line in enumerate(file.readlines()):\n",
        "          if line[0] == \"#\": continue\n",
        "          \n",
        "          source, destination = line[:-1].split(\"\\t\")[:2]\n",
        "          if source == destination: continue\n",
        "          edge = Edge(source=int(source), destination=int(destination))\n",
        "          graph.add_edge(edge)\n",
        "        \n",
        "      graph.finish()\n",
        "      graph.calculate_node_adjacency_list()\n",
        "      self.graphs.append(graph)\n",
        "\n",
        "  def get_graph(self, i):\n",
        "    return self.graphs[i]\n",
        "  \n",
        "  def number_graphs(self):\n",
        "    return len(self.graphs)"
      ],
      "metadata": {
        "id": "u7AJS2NV31TO"
      },
      "execution_count": 14,
      "outputs": []
    },
    {
      "cell_type": "markdown",
      "source": [
        "# Load Dataset"
      ],
      "metadata": {
        "id": "82eK6x4J9i2R"
      }
    },
    {
      "cell_type": "markdown",
      "source": [
        "## Oregon"
      ],
      "metadata": {
        "id": "bw6uqAUfJsHL"
      }
    },
    {
      "cell_type": "code",
      "source": [
        "oregon = Snapshot(dataset_path = \"/content/oregon/*\")"
      ],
      "metadata": {
        "id": "sw0gyo8b6jNk"
      },
      "execution_count": 15,
      "outputs": []
    },
    {
      "cell_type": "code",
      "source": [
        "oregon.load_graphs()"
      ],
      "metadata": {
        "colab": {
          "base_uri": "https://localhost:8080/"
        },
        "id": "It9JIEmL7tsy",
        "outputId": "18cbea19-5fc6-4ef2-e298-6b87f4f1ce90"
      },
      "execution_count": 16,
      "outputs": [
        {
          "output_type": "stream",
          "name": "stdout",
          "text": [
            "........."
          ]
        }
      ]
    },
    {
      "cell_type": "code",
      "source": [
        "oregon.number_graphs()"
      ],
      "metadata": {
        "colab": {
          "base_uri": "https://localhost:8080/"
        },
        "id": "QT6Yvca77z5b",
        "outputId": "98fa1bc9-ed10-4727-f44e-b9d7b9dd3a2c"
      },
      "execution_count": 17,
      "outputs": [
        {
          "output_type": "execute_result",
          "data": {
            "text/plain": [
              "9"
            ]
          },
          "metadata": {},
          "execution_count": 17
        }
      ]
    },
    {
      "cell_type": "markdown",
      "source": [
        "## Caida 2006"
      ],
      "metadata": {
        "id": "KlJ5C_uTJuQJ"
      }
    },
    {
      "cell_type": "code",
      "source": [
        "caida2006 = Snapshot(dataset_path = \"/content/caida/as-caida2006*\")"
      ],
      "metadata": {
        "id": "-WcaOvy06qJP"
      },
      "execution_count": 18,
      "outputs": []
    },
    {
      "cell_type": "code",
      "source": [
        "caida2006.load_graphs()"
      ],
      "metadata": {
        "colab": {
          "base_uri": "https://localhost:8080/"
        },
        "id": "W7IV6nks8IDd",
        "outputId": "cf6ae6d4-a48e-43d7-9257-e10df04c526a"
      },
      "execution_count": 19,
      "outputs": [
        {
          "output_type": "stream",
          "name": "stdout",
          "text": [
            "...................................................."
          ]
        }
      ]
    },
    {
      "cell_type": "code",
      "source": [
        "caida2006.number_graphs()"
      ],
      "metadata": {
        "colab": {
          "base_uri": "https://localhost:8080/"
        },
        "id": "wJ3flCsO8Be5",
        "outputId": "fe7337e8-4bda-464b-9cf8-64644e73499c"
      },
      "execution_count": 20,
      "outputs": [
        {
          "output_type": "execute_result",
          "data": {
            "text/plain": [
              "52"
            ]
          },
          "metadata": {},
          "execution_count": 20
        }
      ]
    },
    {
      "cell_type": "markdown",
      "source": [
        "## Caida 2007"
      ],
      "metadata": {
        "id": "g9phEBTbJwco"
      }
    },
    {
      "cell_type": "code",
      "source": [
        "caida2007 = Snapshot(dataset_path = \"/content/caida/as-caida2007*\")"
      ],
      "metadata": {
        "id": "XndTy_j66ys-"
      },
      "execution_count": 21,
      "outputs": []
    },
    {
      "cell_type": "code",
      "source": [
        "caida2007.load_graphs()"
      ],
      "metadata": {
        "colab": {
          "base_uri": "https://localhost:8080/"
        },
        "id": "YyCobVB_9Hhv",
        "outputId": "4b79f6df-d394-4788-da8b-2d4715d54cf7"
      },
      "execution_count": 22,
      "outputs": [
        {
          "output_type": "stream",
          "name": "stdout",
          "text": [
            ".............................................."
          ]
        }
      ]
    },
    {
      "cell_type": "code",
      "source": [
        "caida2007.number_graphs()"
      ],
      "metadata": {
        "colab": {
          "base_uri": "https://localhost:8080/"
        },
        "id": "xkiu64qa9L-d",
        "outputId": "2d83f3f9-37a1-4ed5-a9b5-ee11e5798b22"
      },
      "execution_count": 23,
      "outputs": [
        {
          "output_type": "execute_result",
          "data": {
            "text/plain": [
              "46"
            ]
          },
          "metadata": {},
          "execution_count": 23
        }
      ]
    },
    {
      "cell_type": "markdown",
      "source": [
        "# Algorithm 1"
      ],
      "metadata": {
        "id": "Vc3PsxrQAcu4"
      }
    },
    {
      "cell_type": "markdown",
      "source": [
        "## Oracle"
      ],
      "metadata": {
        "id": "C7ojGT_Av9WP"
      }
    },
    {
      "cell_type": "code",
      "source": [
        "class Oracle():\n",
        "  def __init__(self, graph:Graph, rho=None):\n",
        "    self.graph = graph\n",
        "    self.rho = rho\n",
        "    self.T = None\n",
        "    self.N_edge = None\n",
        "\n",
        "  def set_rho(self, rho):\n",
        "    self.rho = rho\n",
        "\n",
        "  def train(self):\n",
        "    print(\"Cacluate total trees...\")\n",
        "    self.graph.calculate_number_trees()\n",
        "    self.T = self.graph.get_number_trees()\n",
        "    self._calculate_number_trees_per_edge()\n",
        "    print(\"Training oracle completed!\")\n",
        "\n",
        "  def _calculate_number_trees_per_edge(self):\n",
        "    N_edge_complete = list()\n",
        "\n",
        "    print(\"Counting Trees per edges...\")\n",
        "    edges = self.graph.get_edges()\n",
        "    for i, edge in enumerate(edges):\n",
        "      if True and i % (len(edges)//10)==0: print(f\"{round(i*100/len(edges), 0)}%\", end=\" \")\n",
        "      if edge.source < edge.destination:\n",
        "        number_trees = self.graph.get_number_trees_per_edge(edge)\n",
        "        \n",
        "        N_edge_complete.append({\"edge\": edge, \"number_trees\": number_trees})\n",
        "\n",
        "    print(\"\\nSorting and selecting top N_e\")\n",
        "    N_edge_top = sorted(N_edge_complete, key=lambda x:-x[\"number_trees\"])[:len(N_edge_complete)//10]\n",
        "\n",
        "    self.N_edge = dict()\n",
        "    for item in N_edge_top:\n",
        "      self.N_edge[item[\"edge\"]] = item[\"number_trees\"]\n",
        "\n",
        "  def is_heavy(self, edge):\n",
        "    edge = edge.get_minmax()\n",
        "    if edge in self.N_edge:\n",
        "      return self.N_edge[edge] >= self.T/self.rho\n",
        "    else:\n",
        "      return False"
      ],
      "metadata": {
        "id": "hPUJkG7FvuXA"
      },
      "execution_count": 24,
      "outputs": []
    },
    {
      "cell_type": "markdown",
      "source": [
        "## Estimator"
      ],
      "metadata": {
        "id": "I-wk_VB-AHoh"
      }
    },
    {
      "cell_type": "code",
      "source": [
        "class Estimator():\n",
        "  def __init__(self, graph:Graph, oracle:Oracle, epsilon,\n",
        "               alpha, beta, gamma):\n",
        "    self.graph = graph \n",
        "    self.oracle = oracle\n",
        "\n",
        "    self.epsilon = epsilon\n",
        "    self.alpha = alpha\n",
        "    self.gamma = gamma\n",
        "    self.beta = beta\n",
        "\n",
        "    self.A_l, self.A_m, self.A_h = 0, 0, 0\n",
        "    self.S_l, self.S_m, self.S_aux = set(), set(), set()\n",
        "\n",
        "    self.T = self.oracle.T\n",
        "\n",
        "    self.C = dict()\n",
        "    self.B = dict()\n",
        "\n",
        "    self.n = graph.number_nodes()\n",
        "    self.m = graph.number_edges()\n",
        "\n",
        "    self.set_probabilities()\n",
        "\n",
        "  def set_probabilities(self):\n",
        "    if self.T >= ((self.m/self.epsilon) ** 0.5):\n",
        "      self.rho = (self.m * self.T) ** (1/3)\n",
        "      self.p1 = self.alpha * (self.epsilon ** -2) / self.rho\n",
        "      self.p2 = min(self.beta*(self.epsilon ** -2) * self.rho / self.T , 1)\n",
        "      self.p3 = self.gamma * (self.epsilon ** (-2)) * math.log(self.n) / self.rho\n",
        "    \n",
        "    else:\n",
        "      self.rho = (self.m ** 0.5) / self.epsilon\n",
        "      self.p1 = 0\n",
        "      self.p2 = 1\n",
        "      self.p3 = self.gamma * (self.epsilon ** (-2)) / self.rho\n",
        "    \n",
        "    print(f\"T = {self.T}, rho = {self.rho}, p1 = {self.p1}, p2 = {self.p2}, p3 = {self.p3}\")\n",
        "    self.oracle.set_rho(self.rho)\n",
        "\n",
        "  def estimate_number_trees(self):\n",
        "    for node_id in range(self.graph.number_nodes()):\n",
        "      if node_id%(self.graph.number_nodes()//10)==0 : print(f\"{round(node_id*100/self.graph.number_nodes())}%\", end=\" \")\n",
        "      v = self.graph.get_node(node_id)\n",
        "      N_v = self.graph.get_node_adjacency_list(node_id)\n",
        "\n",
        "      for ab in self.S_l.union(self.S_m):\n",
        "        if ab.source in N_v and ab.destination in N_v:\n",
        "          self.C[ab] += 1\n",
        "      \n",
        "      for a in N_v:\n",
        "        av = Edge(a, v)\n",
        "\n",
        "        if av in self.S_aux:\n",
        "          self.B[av] = 1\n",
        "\n",
        "      for u in N_v:\n",
        "        vu = Edge(v, u)\n",
        "        uv = Edge(u, v)\n",
        "        \n",
        "        if random.random() < self.p3:\n",
        "          self.S_aux.add(vu)\n",
        "          self.B[vu] = 0\n",
        "\n",
        "        if self.oracle.is_heavy(uv) is False:\n",
        "          if uv in self.S_l:\n",
        "            self.A_l += self.C[uv]\n",
        "          elif random.random() < self.p1:\n",
        "            self.S_l.add(vu)\n",
        "            self.C[vu] = 0\n",
        "        else:\n",
        "          sharp = 0\n",
        "          for edge in self.S_aux:\n",
        "            if edge.source == u and self.B[edge]==1 and edge.destination in N_v:\n",
        "              sharp += 1\n",
        "          \n",
        "          if sharp >= self.p3 * self.rho:\n",
        "            self.A_h += sharp\n",
        "          elif uv in self.S_m:\n",
        "            self.A_m += self.C[uv]\n",
        "          elif random.random() < self.p2:\n",
        "            self.S_m.add(vu)\n",
        "            self.C[vu] = 0\n",
        "    \n",
        "    print(f\"Len(S_l) = {len(self.S_l)}, Len(S_m) = {len(self.S_m)}, Len(S_aux)={len(self.S_aux)}\")\n",
        "    print(f\"A_l {self.A_l}, A_m = {self.A_m}, A_h = {self.A_h}\")\n",
        "    return self.A_l / self.p1 + self.A_m / self.p2 + self.A_h / self.p3"
      ],
      "metadata": {
        "id": "uls5mAkzAaDh"
      },
      "execution_count": 25,
      "outputs": []
    },
    {
      "cell_type": "markdown",
      "source": [
        "# Results"
      ],
      "metadata": {
        "id": "nMVVqMGIR1F_"
      }
    },
    {
      "cell_type": "markdown",
      "source": [
        "## Oregon"
      ],
      "metadata": {
        "id": "o-JW0k4lUfw5"
      }
    },
    {
      "cell_type": "code",
      "source": [
        "oregon.get_graph(1).number_edges()"
      ],
      "metadata": {
        "colab": {
          "base_uri": "https://localhost:8080/"
        },
        "id": "_nxbLSc0cEgu",
        "outputId": "741e9e8a-fb8a-4dd1-9eed-dadd3f3e27b0"
      },
      "execution_count": 26,
      "outputs": [
        {
          "output_type": "execute_result",
          "data": {
            "text/plain": [
              "22000"
            ]
          },
          "metadata": {},
          "execution_count": 26
        }
      ]
    },
    {
      "cell_type": "code",
      "source": [
        "oracle_oregon = Oracle(graph=oregon.get_graph(0))\n",
        "oracle_oregon.train()"
      ],
      "metadata": {
        "colab": {
          "base_uri": "https://localhost:8080/"
        },
        "id": "V7HRpfXprmG4",
        "outputId": "81a0d8f8-65b7-4e59-cba1-26a17cce1ded"
      },
      "execution_count": 27,
      "outputs": [
        {
          "output_type": "stream",
          "name": "stdout",
          "text": [
            "Cacluate total trees...\n",
            "Counting Trees per edges...\n",
            "0.0% 10.0% 20.0% 30.0% 40.0% 50.0% 60.0% 70.0% 80.0% 90.0% 100.0% \n",
            "Sorting and selecting top N_e\n",
            "Training oracle completed!\n"
          ]
        }
      ]
    },
    {
      "cell_type": "code",
      "source": [
        "estimator_oregon = Estimator(graph=oregon.get_graph(1), oracle=oracle_oregon\n",
        "                             , epsilon=0.05, alpha = 1, beta = 1, gamma = 0.1)"
      ],
      "metadata": {
        "colab": {
          "base_uri": "https://localhost:8080/"
        },
        "id": "LoWU0q1JUT5R",
        "outputId": "2bd2a3be-5d1c-4ee9-b930-fb45b23a15f6"
      },
      "execution_count": 28,
      "outputs": [
        {
          "output_type": "stream",
          "name": "stdout",
          "text": [
            "T = 17144, rho = 722.5118032258747, p1 = 0.5536241736315971, p2 = 1, p3 = 0.5138022987693875\n"
          ]
        }
      ]
    },
    {
      "cell_type": "code",
      "source": [
        "estimated_number_trees_oregon = estimator_oregon.estimate_number_trees()"
      ],
      "metadata": {
        "colab": {
          "base_uri": "https://localhost:8080/"
        },
        "id": "ZreiEoHSYNem",
        "outputId": "2fc1d810-2399-41f3-9b2e-2ba127552eee"
      },
      "execution_count": 29,
      "outputs": [
        {
          "output_type": "stream",
          "name": "stdout",
          "text": [
            "0% 10% 20% 30% 40% 50% 60% 70% 80% 90% 100% Len(S_l) = 17437, Len(S_m) = 272, Len(S_aux)=22521\n",
            "A_l 7674, A_m = 2078, A_h = 0\n"
          ]
        }
      ]
    },
    {
      "cell_type": "code",
      "source": [
        "oregon.get_graph(1).get_number_trees()"
      ],
      "metadata": {
        "colab": {
          "base_uri": "https://localhost:8080/"
        },
        "id": "Zw_a-L0Xl8oC",
        "outputId": "b59a2084-2e01-4395-99cb-328a1a336ae1"
      },
      "execution_count": 30,
      "outputs": [
        {
          "output_type": "execute_result",
          "data": {
            "text/plain": [
              "15834"
            ]
          },
          "metadata": {},
          "execution_count": 30
        }
      ]
    },
    {
      "cell_type": "code",
      "source": [
        "estimated_number_trees_oregon"
      ],
      "metadata": {
        "colab": {
          "base_uri": "https://localhost:8080/"
        },
        "id": "ij39mRlul2IC",
        "outputId": "a34f49a2-1e5b-4805-c585-f3eb1b658b90"
      },
      "execution_count": 31,
      "outputs": [
        {
          "output_type": "execute_result",
          "data": {
            "text/plain": [
              "15939.388944888407"
            ]
          },
          "metadata": {},
          "execution_count": 31
        }
      ]
    },
    {
      "cell_type": "markdown",
      "source": [
        "## Caida 2006"
      ],
      "metadata": {
        "id": "tibycPvPnPgS"
      }
    },
    {
      "cell_type": "code",
      "source": [
        "caida2006.get_graph(1).number_nodes()"
      ],
      "metadata": {
        "colab": {
          "base_uri": "https://localhost:8080/"
        },
        "id": "X2ZKhQ2uswQo",
        "outputId": "6b7a5bc8-203a-49fe-daa3-78a27ae66e75"
      },
      "execution_count": 32,
      "outputs": [
        {
          "output_type": "execute_result",
          "data": {
            "text/plain": [
              "21157"
            ]
          },
          "metadata": {},
          "execution_count": 32
        }
      ]
    },
    {
      "cell_type": "code",
      "source": [
        "caida2006.get_graph(1).number_edges()"
      ],
      "metadata": {
        "colab": {
          "base_uri": "https://localhost:8080/"
        },
        "id": "i1aKwvlDs6xu",
        "outputId": "be8a5be8-b506-491c-9384-b5f2a046a771"
      },
      "execution_count": 33,
      "outputs": [
        {
          "output_type": "execute_result",
          "data": {
            "text/plain": [
              "85468"
            ]
          },
          "metadata": {},
          "execution_count": 33
        }
      ]
    },
    {
      "cell_type": "code",
      "source": [
        "oracle_caida2006 = Oracle(graph=caida2006.get_graph(0))\n",
        "oracle_caida2006.train()"
      ],
      "metadata": {
        "colab": {
          "base_uri": "https://localhost:8080/"
        },
        "id": "EaG0jbxMmGi_",
        "outputId": "1699e71e-35c3-482d-df79-34e8d3f1b451"
      },
      "execution_count": 34,
      "outputs": [
        {
          "output_type": "stream",
          "name": "stdout",
          "text": [
            "Cacluate total trees...\n",
            "Counting Trees per edges...\n",
            "0.0% 10.0% 20.0% 30.0% 40.0% 50.0% 60.0% 70.0% 80.0% 90.0% \n",
            "Sorting and selecting top N_e\n",
            "Training oracle completed!\n"
          ]
        }
      ]
    },
    {
      "cell_type": "code",
      "source": [
        "estimator_caida2006 = Estimator(graph=caida2006.get_graph(1), oracle=oracle_caida2006\n",
        "                               , epsilon=0.05, alpha = 3, beta = 1, gamma = 0.3)"
      ],
      "metadata": {
        "colab": {
          "base_uri": "https://localhost:8080/"
        },
        "id": "LihdMO4yncIR",
        "outputId": "5567850a-8e67-48fa-dcc3-d1f4c9113edb"
      },
      "execution_count": 35,
      "outputs": [
        {
          "output_type": "stream",
          "name": "stdout",
          "text": [
            "T = 30433, rho = 1375.253532356451, p1 = 0.8725663826827915, p2 = 1, p3 = 0.8690522174701264\n"
          ]
        }
      ]
    },
    {
      "cell_type": "code",
      "source": [
        "estimated_number_trees_caida2006 = estimator_caida2006.estimate_number_trees()"
      ],
      "metadata": {
        "colab": {
          "base_uri": "https://localhost:8080/"
        },
        "id": "oOilFWb9niA9",
        "outputId": "edcb1170-033b-498f-c0a1-7c459f02d3ac"
      },
      "execution_count": 36,
      "outputs": [
        {
          "output_type": "stream",
          "name": "stdout",
          "text": [
            "0% 10% 20% 30% 40% 50% 60% 70% 80% 90% 100% Len(S_l) = 41440, Len(S_m) = 568, Len(S_aux)=74325\n",
            "A_l 17309, A_m = 10808, A_h = 0\n"
          ]
        }
      ]
    },
    {
      "cell_type": "code",
      "source": [
        "estimated_number_trees_caida2006"
      ],
      "metadata": {
        "colab": {
          "base_uri": "https://localhost:8080/"
        },
        "id": "8A0_SL101syc",
        "outputId": "a1e42c73-cd50-48f3-91f5-395ec0e0322f"
      },
      "execution_count": 37,
      "outputs": [
        {
          "output_type": "execute_result",
          "data": {
            "text/plain": [
              "30644.88615963151"
            ]
          },
          "metadata": {},
          "execution_count": 37
        }
      ]
    },
    {
      "cell_type": "code",
      "source": [
        "caida2006.get_graph(1).get_number_trees()"
      ],
      "metadata": {
        "colab": {
          "base_uri": "https://localhost:8080/"
        },
        "id": "w-DG6OJS8DTC",
        "outputId": "0c864bd2-6591-498c-ee4f-e4c09ad5f510"
      },
      "execution_count": 38,
      "outputs": [
        {
          "output_type": "execute_result",
          "data": {
            "text/plain": [
              "30689"
            ]
          },
          "metadata": {},
          "execution_count": 38
        }
      ]
    },
    {
      "cell_type": "code",
      "source": [
        ""
      ],
      "metadata": {
        "id": "0mYHbc6v8KOD"
      },
      "execution_count": null,
      "outputs": []
    }
  ]
}