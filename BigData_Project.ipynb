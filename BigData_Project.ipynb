{
  "nbformat": 4,
  "nbformat_minor": 0,
  "metadata": {
    "colab": {
      "name": "BigData-Project.ipynb",
      "provenance": [],
      "toc_visible": true,
      "authorship_tag": "ABX9TyMx4DkqxEHn3gvxuv8Akr1t",
      "include_colab_link": true
    },
    "kernelspec": {
      "name": "python3",
      "display_name": "Python 3"
    },
    "language_info": {
      "name": "python"
    }
  },
  "cells": [
    {
      "cell_type": "markdown",
      "metadata": {
        "id": "view-in-github",
        "colab_type": "text"
      },
      "source": [
        "<a href=\"https://colab.research.google.com/github/AUT-Student/BigData-Project/blob/main/BigData_Project.ipynb\" target=\"_parent\"><img src=\"https://colab.research.google.com/assets/colab-badge.svg\" alt=\"Open In Colab\"/></a>"
      ]
    },
    {
      "cell_type": "markdown",
      "source": [
        "# Library"
      ],
      "metadata": {
        "id": "wusr27wnftZx"
      }
    },
    {
      "cell_type": "code",
      "execution_count": 1,
      "metadata": {
        "id": "X1VtRcdFfnbi"
      },
      "outputs": [],
      "source": [
        "import pandas as pd\n",
        "import numpy as np\n",
        "import matplotlib.pyplot as plt\n",
        "import math\n",
        "\n",
        "from dataclasses import dataclass"
      ]
    },
    {
      "cell_type": "markdown",
      "source": [
        "# Load Datasets"
      ],
      "metadata": {
        "id": "AJt4yvU7fvlG"
      }
    },
    {
      "cell_type": "markdown",
      "source": [
        "## CAIDA"
      ],
      "metadata": {
        "id": "RVaWSWkAgBxg"
      }
    },
    {
      "cell_type": "code",
      "source": [
        "!gdown https://snap.stanford.edu/data/as-caida.tar.gz\n",
        "!mkdir caida\n",
        "!tar -C /content/caida -xzf /content/as-caida.tar.gz "
      ],
      "metadata": {
        "colab": {
          "base_uri": "https://localhost:8080/"
        },
        "id": "rKwOiwXqfwSP",
        "outputId": "7818e50d-a717-4dd3-c39d-b96b10307fc1"
      },
      "execution_count": 2,
      "outputs": [
        {
          "output_type": "stream",
          "name": "stdout",
          "text": [
            "Downloading...\n",
            "From: https://snap.stanford.edu/data/as-caida.tar.gz\n",
            "To: /content/as-caida.tar.gz\n",
            "100% 46.4M/46.4M [00:01<00:00, 31.9MB/s]\n"
          ]
        }
      ]
    },
    {
      "cell_type": "code",
      "source": [
        "!grep as-caida2006 /content/caida/* | wc -l"
      ],
      "metadata": {
        "colab": {
          "base_uri": "https://localhost:8080/"
        },
        "id": "K0Bq6reRgKfo",
        "outputId": "aa8ca750-4057-4f7f-f5a2-aca08a9ec04d"
      },
      "execution_count": 3,
      "outputs": [
        {
          "output_type": "stream",
          "name": "stdout",
          "text": [
            "52\n"
          ]
        }
      ]
    },
    {
      "cell_type": "code",
      "source": [
        "!grep as-caida2007 /content/caida/* | wc -l"
      ],
      "metadata": {
        "colab": {
          "base_uri": "https://localhost:8080/"
        },
        "id": "_RbddHnpiTS-",
        "outputId": "8ab89b1a-396b-420f-d286-55663e88157a"
      },
      "execution_count": 4,
      "outputs": [
        {
          "output_type": "stream",
          "name": "stdout",
          "text": [
            "46\n"
          ]
        }
      ]
    },
    {
      "cell_type": "code",
      "source": [
        "!head /content/caida/as-caida20060102.txt -n 40"
      ],
      "metadata": {
        "colab": {
          "base_uri": "https://localhost:8080/"
        },
        "id": "zKtkOIb3jP0U",
        "outputId": "2ee5fa09-d290-4cc2-91f6-f9e322cff506"
      },
      "execution_count": 5,
      "outputs": [
        {
          "output_type": "stream",
          "name": "stdout",
          "text": [
            "# Directed graph: as-caida20060102.txt\n",
            "# The CAIDA AS Relationships Dataset, from 01 02 2006\n",
            "# Relationships:\t-1 (<FromNodeId> is a customer of <ToNodeId>)\n",
            "# \t\t\t1 (<FromNodeId> is a provider of <ToNodeId>)\n",
            "# \t\t\t0 (<FromNodeId> and <ToNodeId> are peers)\n",
            "# \t\t\t2 (<FromNodeId> and <ToNodeId> are siblings (the same organization).)\n",
            "# Nodes:21202\tEdges: 85850\n",
            "# FromNodeId        ToNodeId\tRelationship\n",
            "8563\t26716\t1\n",
            "8563\t2914\t-1\n",
            "8563\t21414\t-1\n",
            "8563\t21482\t1\n",
            "8563\t3277\t0\n",
            "8563\t4323\t-1\n",
            "28801\t702\t-1\n",
            "28801\t8422\t-1\n",
            "28801\t8220\t-1\n",
            "5006\t20283\t1\n",
            "5006\t21902\t1\n",
            "5006\t25637\t1\n",
            "5006\t17162\t1\n",
            "5006\t18581\t1\n",
            "5006\t11401\t1\n",
            "5006\t16904\t1\n",
            "5006\t21730\t1\n",
            "5006\t32461\t1\n",
            "5006\t7018\t-1\n",
            "5006\t14278\t1\n",
            "5006\t1347\t2\n",
            "5006\t32664\t1\n",
            "5006\t33111\t1\n",
            "5006\t26021\t1\n",
            "5006\t23359\t1\n",
            "5006\t21951\t1\n",
            "5006\t7792\t1\n",
            "5006\t16595\t1\n",
            "5006\t10337\t1\n",
            "5006\t18699\t1\n",
            "5006\t32110\t1\n",
            "5006\t7973\t1\n"
          ]
        }
      ]
    },
    {
      "cell_type": "code",
      "source": [
        "!head /content/caida/as-caida20040105.txt -n 40"
      ],
      "metadata": {
        "colab": {
          "base_uri": "https://localhost:8080/"
        },
        "id": "_N71P2uKg0Kk",
        "outputId": "d18a5056-aa4c-46f6-eb31-ed35ebaeecd4"
      },
      "execution_count": 6,
      "outputs": [
        {
          "output_type": "stream",
          "name": "stdout",
          "text": [
            "# Directed graph: as-caida20040105.txt\n",
            "# The CAIDA AS Relationships Dataset, from 01 05 2004\n",
            "# Relationships:\t-1 (<FromNodeId> is a customer of <ToNodeId>)\n",
            "# \t\t\t1 (<FromNodeId> is a provider of <ToNodeId>)\n",
            "# \t\t\t0 (<FromNodeId> and <ToNodeId> are peers)\n",
            "# \t\t\t2 (<FromNodeId> and <ToNodeId> are siblings (the same organization).)\n",
            "# Nodes:16301\tEdges: 65910\n",
            "# FromNodeId        ToNodeId\tRelationship\n",
            "6712\t1668\t0\n",
            "6712\t3215\t-1\n",
            "8563\t26716\t1\n",
            "8563\t4323\t-1\n",
            "13666\t19262\t-1\n",
            "28689\t20804\t-1\n",
            "28689\t6778\t-1\n",
            "28801\t702\t0\n",
            "28801\t8422\t-1\n",
            "5006\t20283\t1\n",
            "5006\t21902\t1\n",
            "5006\t25637\t1\n",
            "5006\t17162\t1\n",
            "5006\t18581\t1\n",
            "5006\t11401\t1\n",
            "5006\t16904\t1\n",
            "5006\t21730\t1\n",
            "5006\t7018\t-1\n",
            "5006\t14278\t1\n",
            "5006\t18454\t1\n",
            "5006\t1347\t1\n",
            "5006\t26021\t1\n",
            "5006\t7792\t1\n",
            "5006\t16595\t1\n",
            "5006\t10337\t1\n",
            "5006\t4045\t1\n",
            "5006\t18699\t1\n",
            "5006\t7973\t1\n",
            "5006\t25615\t1\n",
            "5006\t18723\t1\n",
            "5006\t1239\t-1\n",
            "5006\t10765\t1\n"
          ]
        }
      ]
    },
    {
      "cell_type": "markdown",
      "source": [
        "## Oregon"
      ],
      "metadata": {
        "id": "7xPifcOjkai0"
      }
    },
    {
      "cell_type": "code",
      "source": [
        "!rm oregon -r"
      ],
      "metadata": {
        "id": "Qo9bKPYmnBIl",
        "colab": {
          "base_uri": "https://localhost:8080/"
        },
        "outputId": "a1dbbf62-213f-4e92-f45a-59ae6e860975"
      },
      "execution_count": 7,
      "outputs": [
        {
          "output_type": "stream",
          "name": "stdout",
          "text": [
            "rm: cannot remove 'oregon': No such file or directory\n"
          ]
        }
      ]
    },
    {
      "cell_type": "code",
      "source": [
        "!mkdir oregon\n",
        "%cd oregon\n",
        "\n",
        "!gdown https://snap.stanford.edu/data/oregon1_010331.txt.gz\n",
        "!gdown https://snap.stanford.edu/data/oregon1_010407.txt.gz\n",
        "!gdown https://snap.stanford.edu/data/oregon1_010414.txt.gz\n",
        "!gdown https://snap.stanford.edu/data/oregon1_010421.txt.gz\n",
        "!gdown https://snap.stanford.edu/data/oregon1_010428.txt.gz\n",
        "!gdown https://snap.stanford.edu/data/oregon1_010505.txt.gz\n",
        "!gdown https://snap.stanford.edu/data/oregon1_010512.txt.gz\n",
        "!gdown https://snap.stanford.edu/data/oregon1_010519.txt.gz\n",
        "!gdown https://snap.stanford.edu/data/oregon1_010526.txt.gz\n",
        "\n",
        "\n",
        "!gunzip oregon1_010331.txt.gz\n",
        "!gunzip oregon1_010407.txt.gz\n",
        "!gunzip oregon1_010414.txt.gz\n",
        "!gunzip oregon1_010421.txt.gz\n",
        "!gunzip oregon1_010428.txt.gz\n",
        "!gunzip oregon1_010505.txt.gz\n",
        "!gunzip oregon1_010512.txt.gz\n",
        "!gunzip oregon1_010519.txt.gz\n",
        "!gunzip oregon1_010526.txt.gz\n",
        "\n",
        "%cd .."
      ],
      "metadata": {
        "colab": {
          "base_uri": "https://localhost:8080/"
        },
        "id": "-w2orQRBlEz6",
        "outputId": "5114551e-642f-4977-f4e1-e6c10b0d1812"
      },
      "execution_count": 8,
      "outputs": [
        {
          "output_type": "stream",
          "name": "stdout",
          "text": [
            "/content/oregon\n",
            "Downloading...\n",
            "From: https://snap.stanford.edu/data/oregon1_010331.txt.gz\n",
            "To: /content/oregon/oregon1_010331.txt.gz\n",
            "100% 69.1k/69.1k [00:00<00:00, 1.81MB/s]\n",
            "Downloading...\n",
            "From: https://snap.stanford.edu/data/oregon1_010407.txt.gz\n",
            "To: /content/oregon/oregon1_010407.txt.gz\n",
            "100% 69.3k/69.3k [00:00<00:00, 1.69MB/s]\n",
            "Downloading...\n",
            "From: https://snap.stanford.edu/data/oregon1_010414.txt.gz\n",
            "To: /content/oregon/oregon1_010414.txt.gz\n",
            "100% 69.8k/69.8k [00:00<00:00, 1.80MB/s]\n",
            "Downloading...\n",
            "From: https://snap.stanford.edu/data/oregon1_010421.txt.gz\n",
            "To: /content/oregon/oregon1_010421.txt.gz\n",
            "100% 70.7k/70.7k [00:00<00:00, 1.38MB/s]\n",
            "Downloading...\n",
            "From: https://snap.stanford.edu/data/oregon1_010428.txt.gz\n",
            "To: /content/oregon/oregon1_010428.txt.gz\n",
            "100% 70.1k/70.1k [00:00<00:00, 1.86MB/s]\n",
            "Downloading...\n",
            "From: https://snap.stanford.edu/data/oregon1_010505.txt.gz\n",
            "To: /content/oregon/oregon1_010505.txt.gz\n",
            "100% 70.5k/70.5k [00:00<00:00, 1.78MB/s]\n",
            "Downloading...\n",
            "From: https://snap.stanford.edu/data/oregon1_010512.txt.gz\n",
            "To: /content/oregon/oregon1_010512.txt.gz\n",
            "100% 70.7k/70.7k [00:00<00:00, 1.36MB/s]\n",
            "Downloading...\n",
            "From: https://snap.stanford.edu/data/oregon1_010519.txt.gz\n",
            "To: /content/oregon/oregon1_010519.txt.gz\n",
            "100% 70.9k/70.9k [00:00<00:00, 1.63MB/s]\n",
            "Downloading...\n",
            "From: https://snap.stanford.edu/data/oregon1_010526.txt.gz\n",
            "To: /content/oregon/oregon1_010526.txt.gz\n",
            "100% 72.9k/72.9k [00:00<00:00, 1.38MB/s]\n",
            "/content\n"
          ]
        }
      ]
    },
    {
      "cell_type": "code",
      "source": [
        "!head /content/oregon/oregon1_010331.txt"
      ],
      "metadata": {
        "colab": {
          "base_uri": "https://localhost:8080/"
        },
        "id": "Vyec9NlAowuX",
        "outputId": "9543f290-7eb8-4cbb-b558-63003274b04d"
      },
      "execution_count": 9,
      "outputs": [
        {
          "output_type": "stream",
          "name": "stdout",
          "text": [
            "# Undirected graph: oregon1_010331.txt\n",
            "# AS peering information inferred from Oregon route-views BGP data, from March 31 2001\n",
            "# Nodes: 10670 Edges: 22002\n",
            "# FromNodeId\tToNodeId\n",
            "10000\t4725\n",
            "4725\t6805\n",
            "4725\t7523\n",
            "4725\t7524\n",
            "4725\t7673\n",
            "4725\t9352\n"
          ]
        }
      ]
    },
    {
      "cell_type": "code",
      "source": [
        "!grep \"10006\" /content/oregon/oregon1_010331.txt"
      ],
      "metadata": {
        "colab": {
          "base_uri": "https://localhost:8080/"
        },
        "id": "Kg_Sztc0vUbM",
        "outputId": "3a830ef3-38bd-43ee-c589-47812104c0b2"
      },
      "execution_count": 37,
      "outputs": [
        {
          "output_type": "stream",
          "name": "stdout",
          "text": [
            "4725\t10006\n",
            "4716\t10006\n"
          ]
        }
      ]
    },
    {
      "cell_type": "code",
      "source": [
        "!grep \"13237\" /content/caida/as-caida20040105.txt | wc -l"
      ],
      "metadata": {
        "colab": {
          "base_uri": "https://localhost:8080/"
        },
        "id": "pwuf8ZR-r79P",
        "outputId": "8c597c08-960c-4594-afbb-10cd857a13a7"
      },
      "execution_count": 27,
      "outputs": [
        {
          "output_type": "stream",
          "name": "stdout",
          "text": [
            "862\n"
          ]
        }
      ]
    },
    {
      "cell_type": "markdown",
      "source": [
        "# Data Structure Classes"
      ],
      "metadata": {
        "id": "L2_9liTVezAd"
      }
    },
    {
      "cell_type": "markdown",
      "source": [
        "## Edge Class"
      ],
      "metadata": {
        "id": "bdCCnBYfd3lH"
      }
    },
    {
      "cell_type": "code",
      "source": [
        "@dataclass(init=True, eq=True, frozen=True)\n",
        "class Edge:\n",
        "  source: int\n",
        "  destination: int\n",
        "\n",
        "  def get_reverse(self):\n",
        "    return Edge(source=self.destination, destination=self.source)"
      ],
      "metadata": {
        "id": "7Yfc5C19d5CM"
      },
      "execution_count": 43,
      "outputs": []
    },
    {
      "cell_type": "markdown",
      "source": [
        "## Graph Class"
      ],
      "metadata": {
        "id": "y5U0Qg7xq0d6"
      }
    },
    {
      "cell_type": "code",
      "source": [
        "class Graph():\n",
        "  def __init__(self, directed):\n",
        "    self.edges = set()\n",
        "    self.nodes = set()\n",
        "    self.node_order = dict()\n",
        "\n",
        "    self.reset_statics()\n",
        "\n",
        "  def _set_order(self, node):\n",
        "    if node not in self.node_order:\n",
        "      self.node_order[node] = len(self.node_order)\n",
        "\n",
        "  def add_edge(self, edge:Edge):\n",
        "    self.nodes.add(edge.source)\n",
        "    self.nodes.add(edge.destination)\n",
        "    self.edges.add(edge)\n",
        "\n",
        "    self._set_order(edge.source)\n",
        "\n",
        "  def finish(self):\n",
        "    for node in self.nodes:\n",
        "      # Set order for remaining nodes\n",
        "      self._set_order(node)\n",
        "\n",
        "    self.reset_statics()\n",
        "\n",
        "  def reset_statics(self):\n",
        "    self.number_trees = None\n",
        "    self.node_adjacency_list = None\n",
        "    self.number_trees_per_edge = None\n",
        "\n",
        "  def number_nodes(self):\n",
        "    return len(self.nodes)\n",
        "  \n",
        "  def number_edges(self):\n",
        "    return len(self.edges)//2\n",
        "\n",
        "  def get_edges(self):\n",
        "    return self.edges\n",
        "  \n",
        "  def get_nodes(self):\n",
        "    return self.nodes\n",
        "\n",
        "  def calculate_node_adjacency_list(self):\n",
        "    if self.node_adjacency_list is not None:\n",
        "      return\n",
        "\n",
        "    self.node_adjacency_list = dict()\n",
        "\n",
        "    for node in self.nodes:\n",
        "      self.node_adjacency_list[node] = set()\n",
        "    \n",
        "    for edge in self.edges:\n",
        "      self.node_adjacency_list[edge.source].add(edge.destination) \n",
        "      self.node_adjacency_list[edge.destination].add(edge.source) \n",
        "    \n",
        "  def calculate_number_trees(self):\n",
        "    if self.number_trees is not None:\n",
        "      return self.number_trees\n",
        "\n",
        "    if self.node_adjacency_list is None:\n",
        "      self.calculate_node_adjacency_list()\n",
        "\n",
        "    self.number_trees = 0\n",
        "    for node_x in self.nodes:\n",
        "      for node_y in self.node_adjacency_list[node_x]:\n",
        "        for node_z in self.node_adjacency_list[node_x]:\n",
        "\n",
        "          if node_x < node_y < node_z:\n",
        "            if node_z in self.node_adjacency_list[node_y]:\n",
        "              self.number_trees += 1\n",
        "\n",
        "  def get_number_trees(self):\n",
        "    if self.number_trees is None:\n",
        "      self.calculate_number_trees()\n",
        "\n",
        "    return self.number_trees\n",
        "\n",
        "  def calculate_number_trees_per_edge(self):\n",
        "\n",
        "    if self.number_trees_per_edge is not None:\n",
        "      return\n",
        "\n",
        "    if self.node_adjacency_list is None:\n",
        "      self.calculate_node_adjacency_list()\n",
        "\n",
        "    self.number_trees_per_edge = dict()\n",
        "\n",
        "    for edge in self.edges:\n",
        "      self.number_trees_per_edge[edge] = 0\n",
        "      number_trees = 0\n",
        "\n",
        "      node_x = edge.source\n",
        "      node_y = edge.destination\n",
        "\n",
        "      for node_z in self.node_adjacency_list[node_x]:\n",
        "        if node_z in self.node_adjacency_list[node_y]:\n",
        "          number_trees += 1\n",
        "      \n",
        "      self.number_tress_per_edge[edge] = number_trees\n",
        "    \n",
        "  def get_number_trees_per_edge(self, edge):\n",
        "    if self.number_trees_per_edge is None:\n",
        "      self.calculate_number_trees_per_edges\n",
        "\n",
        "    return self.number_trees_per_edge[edge]"
      ],
      "metadata": {
        "id": "A6HI35X6oy9M"
      },
      "execution_count": 50,
      "outputs": []
    },
    {
      "cell_type": "markdown",
      "source": [
        "# Create Graphs of Datasets"
      ],
      "metadata": {
        "id": "3FHTXnmkrF2Y"
      }
    },
    {
      "cell_type": "markdown",
      "source": [
        "## Ogegon"
      ],
      "metadata": {
        "id": "CwrpXDXAvPUS"
      }
    },
    {
      "cell_type": "code",
      "source": [
        "graph = Graph(directed=False)\n",
        "\n",
        "with open(\"/content/oregon/oregon1_010331.txt\", \"r\") as file:\n",
        "  for i, line in enumerate(file.readlines()):\n",
        "    if line[0] == \"#\": continue\n",
        "    \n",
        "    source, destination = line[:-1].split(\"\\t\")\n",
        "    edge = Edge(source=int(source), destination=int(destination))\n",
        "    graph.add_edge(edge)\n",
        "  \n",
        "  graph.finish()"
      ],
      "metadata": {
        "id": "8di5W_fyqVWC"
      },
      "execution_count": 51,
      "outputs": []
    },
    {
      "cell_type": "code",
      "source": [
        "graph.number_nodes()"
      ],
      "metadata": {
        "colab": {
          "base_uri": "https://localhost:8080/"
        },
        "id": "zL1WyTCzrnHm",
        "outputId": "52435aa1-7678-465a-90a3-f601402316bc"
      },
      "execution_count": 52,
      "outputs": [
        {
          "output_type": "execute_result",
          "data": {
            "text/plain": [
              "10670"
            ]
          },
          "metadata": {},
          "execution_count": 52
        }
      ]
    },
    {
      "cell_type": "code",
      "source": [
        "graph.number_edges()"
      ],
      "metadata": {
        "colab": {
          "base_uri": "https://localhost:8080/"
        },
        "id": "_sormhgNs_WO",
        "outputId": "265b6afa-858b-4bc3-8684-feeec4c6f5c4"
      },
      "execution_count": 53,
      "outputs": [
        {
          "output_type": "execute_result",
          "data": {
            "text/plain": [
              "11001"
            ]
          },
          "metadata": {},
          "execution_count": 53
        }
      ]
    },
    {
      "cell_type": "code",
      "source": [
        "graph.get_number_trees()"
      ],
      "metadata": {
        "colab": {
          "base_uri": "https://localhost:8080/"
        },
        "id": "vXWieRMLmE_3",
        "outputId": "19c270f9-815a-4be0-df59-560e8e10474d"
      },
      "execution_count": 55,
      "outputs": [
        {
          "output_type": "execute_result",
          "data": {
            "text/plain": [
              "17144"
            ]
          },
          "metadata": {},
          "execution_count": 55
        }
      ]
    },
    {
      "cell_type": "markdown",
      "source": [
        "## CAIDA"
      ],
      "metadata": {
        "id": "jYacPslAvRjB"
      }
    },
    {
      "cell_type": "code",
      "source": [
        "graph = Graph(directed=False)\n",
        "\n",
        "with open(\"/content/caida/as-caida20060102.txt\", \"r\") as file:\n",
        "  for i, line in enumerate(file.readlines()):\n",
        "    if line[0] == \"#\": continue\n",
        "    \n",
        "    source, destination, _ = line[:-1].split(\"\\t\")\n",
        "    \n",
        "    edge = Edge(source=int(source), destination=int(destination))\n",
        "    graph.add_edge(edge)"
      ],
      "metadata": {
        "id": "1zUPGfpRtR1w"
      },
      "execution_count": 49,
      "outputs": []
    },
    {
      "cell_type": "code",
      "source": [
        "graph.number_nodes()"
      ],
      "metadata": {
        "colab": {
          "base_uri": "https://localhost:8080/"
        },
        "id": "xxDe7cLjvNyq",
        "outputId": "cb65b210-6b6c-4b11-dd80-2f380ee83fe4"
      },
      "execution_count": null,
      "outputs": [
        {
          "output_type": "execute_result",
          "data": {
            "text/plain": [
              "21202"
            ]
          },
          "metadata": {},
          "execution_count": 48
        }
      ]
    },
    {
      "cell_type": "code",
      "source": [
        "graph.number_edges()"
      ],
      "metadata": {
        "colab": {
          "base_uri": "https://localhost:8080/"
        },
        "id": "9XlxDOINvsOR",
        "outputId": "d3ee86cc-b25f-45d8-9d04-6d04b19c1baa"
      },
      "execution_count": null,
      "outputs": [
        {
          "output_type": "execute_result",
          "data": {
            "text/plain": [
              "85850"
            ]
          },
          "metadata": {},
          "execution_count": 49
        }
      ]
    },
    {
      "cell_type": "markdown",
      "source": [
        "# Algorithm 1"
      ],
      "metadata": {
        "id": "Vc3PsxrQAcu4"
      }
    },
    {
      "cell_type": "markdown",
      "source": [
        "## Oracle"
      ],
      "metadata": {
        "id": "C7ojGT_Av9WP"
      }
    },
    {
      "cell_type": "code",
      "source": [
        "class Oracle():\n",
        "  def __init__(self, graph:Graph, rho=None):\n",
        "    self.graph = graph\n",
        "    self.rho = rho\n",
        "\n",
        "  def set_rho(self, rho):\n",
        "    self.rho = rho\n",
        "\n",
        "  def train(self):\n",
        "    self.graph.calculate_number_trees()\n",
        "    self.graph.calculate_number_trees_per_edge()\n",
        "\n",
        "  def is_heavy(self, edge):\n",
        "    return self.graph.get_number_trees_per_edge(edge) >= self.graph.get_number_trees()/self.rho "
      ],
      "metadata": {
        "id": "hPUJkG7FvuXA"
      },
      "execution_count": null,
      "outputs": []
    },
    {
      "cell_type": "markdown",
      "source": [
        "## Estimator"
      ],
      "metadata": {
        "id": "I-wk_VB-AHoh"
      }
    },
    {
      "cell_type": "code",
      "source": [
        "class estimator():\n",
        "  def __init__(self, graphs, oracle, epsilon, alpha, gamma, beta):\n",
        "    self.graphs = graphs\n",
        "    self.oracle = oracle\n",
        "\n",
        "    self.epsilon = epsilon\n",
        "    self.alpha = alpha\n",
        "    self.gamma = gamma\n",
        "    self.beta = beta\n",
        "\n",
        "    self.A_l, self.A_m, self.A_h = 0, 0, 0\n",
        "\n",
        "    self.S_l, self.S_m, self.S_aux = set(), set(), set()\n",
        "\n",
        "    self.T = self.oracle.get_number_trees() #FIXME\n",
        "    self.m = len(self.oracle.get_edges()) #FIXME\n",
        "    self.n = self.T #FIXME\n",
        "\n",
        "    self.C = dict()\n",
        "    self.B = dict()\n",
        "\n",
        "\n",
        "    self.set_probabilities()\n",
        "\n",
        "\n",
        "\n",
        "  def set_probabilities(self):\n",
        "    if self.T >= (self.m/self.T) ** 0.5:\n",
        "      self.rho = (self.m * self.T) ** (1/3)\n",
        "      self.p1 = self.alpha * (self.epsilon ** (-2)) / self.rho\n",
        "      self.p2 = min(self.beta*(self.epsilon ** (-2)) * self.rho / self.T , 1)\n",
        "      self.p3 = self.gamma * (self.epsilon ** (-2)) * math.log(self.n/self.rho)\n",
        "    \n",
        "    else:\n",
        "      self.rho = (self.m ** 0.5) / self.epsilon\n",
        "      self.p1 = 0\n",
        "      self.p2 = 1\n",
        "      self.p3 = self.gamma * (self.epsilon ** (-2)) / self.rho\n",
        "    \n",
        "  def run(self):\n",
        "    nodes = None # FIXME\n",
        "    for v in nodes:\n",
        "\n",
        "      for edge in self.S_l.union(self.S_m):\n",
        "        v_neighbours = None # FIXME\n",
        "        a = edge.source\n",
        "        b = edge.source\n",
        "\n",
        "        if a in v_neighbours\n"
      ],
      "metadata": {
        "id": "uls5mAkzAaDh"
      },
      "execution_count": null,
      "outputs": []
    },
    {
      "cell_type": "code",
      "source": [
        "set1 = set([1,2,3])\n",
        "set2 = set([1,4,5])"
      ],
      "metadata": {
        "id": "FCshUZGirgdX"
      },
      "execution_count": 61,
      "outputs": []
    },
    {
      "cell_type": "code",
      "source": [
        "set1.union(set2)"
      ],
      "metadata": {
        "colab": {
          "base_uri": "https://localhost:8080/"
        },
        "id": "B6OZJkHOrklA",
        "outputId": "3b12885e-d9f8-4321-c2e6-e30df1d9eb0d"
      },
      "execution_count": 62,
      "outputs": [
        {
          "output_type": "execute_result",
          "data": {
            "text/plain": [
              "{1, 2, 3, 4, 5}"
            ]
          },
          "metadata": {},
          "execution_count": 62
        }
      ]
    },
    {
      "cell_type": "code",
      "source": [
        ""
      ],
      "metadata": {
        "id": "V7HRpfXprmG4"
      },
      "execution_count": null,
      "outputs": []
    }
  ]
}