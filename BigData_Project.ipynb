{
  "nbformat": 4,
  "nbformat_minor": 0,
  "metadata": {
    "colab": {
      "name": "BigData-Project.ipynb",
      "provenance": [],
      "toc_visible": true,
      "authorship_tag": "ABX9TyNbaB1lquosz/VoNs+XcMDY",
      "include_colab_link": true
    },
    "kernelspec": {
      "name": "python3",
      "display_name": "Python 3"
    },
    "language_info": {
      "name": "python"
    }
  },
  "cells": [
    {
      "cell_type": "markdown",
      "metadata": {
        "id": "view-in-github",
        "colab_type": "text"
      },
      "source": [
        "<a href=\"https://colab.research.google.com/github/AUT-Student/BigData-Project/blob/main/BigData_Project.ipynb\" target=\"_parent\"><img src=\"https://colab.research.google.com/assets/colab-badge.svg\" alt=\"Open In Colab\"/></a>"
      ]
    },
    {
      "cell_type": "markdown",
      "source": [
        "# Library"
      ],
      "metadata": {
        "id": "wusr27wnftZx"
      }
    },
    {
      "cell_type": "code",
      "execution_count": 1,
      "metadata": {
        "id": "X1VtRcdFfnbi"
      },
      "outputs": [],
      "source": [
        "from dataclasses import dataclass\n",
        "import matplotlib.pyplot as plt\n",
        "import pandas as pd\n",
        "import numpy as np\n",
        "import random\n",
        "import math\n",
        "import glob"
      ]
    },
    {
      "cell_type": "markdown",
      "source": [
        "# Load Datasets"
      ],
      "metadata": {
        "id": "AJt4yvU7fvlG"
      }
    },
    {
      "cell_type": "markdown",
      "source": [
        "## CAIDA"
      ],
      "metadata": {
        "id": "RVaWSWkAgBxg"
      }
    },
    {
      "cell_type": "code",
      "source": [
        "!gdown https://snap.stanford.edu/data/as-caida.tar.gz\n",
        "!mkdir caida\n",
        "!tar -C /content/caida -xzf /content/as-caida.tar.gz "
      ],
      "metadata": {
        "colab": {
          "base_uri": "https://localhost:8080/"
        },
        "id": "rKwOiwXqfwSP",
        "outputId": "e0c95668-6fe9-4c2f-f289-813933532383"
      },
      "execution_count": 2,
      "outputs": [
        {
          "output_type": "stream",
          "name": "stdout",
          "text": [
            "Downloading...\n",
            "From: https://snap.stanford.edu/data/as-caida.tar.gz\n",
            "To: /content/as-caida.tar.gz\n",
            "100% 46.4M/46.4M [00:07<00:00, 5.82MB/s]\n"
          ]
        }
      ]
    },
    {
      "cell_type": "code",
      "source": [
        "!head /content/caida/as-caida20060102.txt -n 40"
      ],
      "metadata": {
        "colab": {
          "base_uri": "https://localhost:8080/"
        },
        "id": "zKtkOIb3jP0U",
        "outputId": "21fcf7f5-529e-44ba-b21d-2d9128fff72c"
      },
      "execution_count": 5,
      "outputs": [
        {
          "output_type": "stream",
          "name": "stdout",
          "text": [
            "# Directed graph: as-caida20060102.txt\n",
            "# The CAIDA AS Relationships Dataset, from 01 02 2006\n",
            "# Relationships:\t-1 (<FromNodeId> is a customer of <ToNodeId>)\n",
            "# \t\t\t1 (<FromNodeId> is a provider of <ToNodeId>)\n",
            "# \t\t\t0 (<FromNodeId> and <ToNodeId> are peers)\n",
            "# \t\t\t2 (<FromNodeId> and <ToNodeId> are siblings (the same organization).)\n",
            "# Nodes:21202\tEdges: 85850\n",
            "# FromNodeId        ToNodeId\tRelationship\n",
            "8563\t26716\t1\n",
            "8563\t2914\t-1\n",
            "8563\t21414\t-1\n",
            "8563\t21482\t1\n",
            "8563\t3277\t0\n",
            "8563\t4323\t-1\n",
            "28801\t702\t-1\n",
            "28801\t8422\t-1\n",
            "28801\t8220\t-1\n",
            "5006\t20283\t1\n",
            "5006\t21902\t1\n",
            "5006\t25637\t1\n",
            "5006\t17162\t1\n",
            "5006\t18581\t1\n",
            "5006\t11401\t1\n",
            "5006\t16904\t1\n",
            "5006\t21730\t1\n",
            "5006\t32461\t1\n",
            "5006\t7018\t-1\n",
            "5006\t14278\t1\n",
            "5006\t1347\t2\n",
            "5006\t32664\t1\n",
            "5006\t33111\t1\n",
            "5006\t26021\t1\n",
            "5006\t23359\t1\n",
            "5006\t21951\t1\n",
            "5006\t7792\t1\n",
            "5006\t16595\t1\n",
            "5006\t10337\t1\n",
            "5006\t18699\t1\n",
            "5006\t32110\t1\n",
            "5006\t7973\t1\n"
          ]
        }
      ]
    },
    {
      "cell_type": "code",
      "source": [
        "!head /content/caida/as-caida20040105.txt -n 40"
      ],
      "metadata": {
        "colab": {
          "base_uri": "https://localhost:8080/"
        },
        "id": "_N71P2uKg0Kk",
        "outputId": "724dcd3d-3cae-45a0-94aa-cafd2fd6427a"
      },
      "execution_count": 6,
      "outputs": [
        {
          "output_type": "stream",
          "name": "stdout",
          "text": [
            "# Directed graph: as-caida20040105.txt\n",
            "# The CAIDA AS Relationships Dataset, from 01 05 2004\n",
            "# Relationships:\t-1 (<FromNodeId> is a customer of <ToNodeId>)\n",
            "# \t\t\t1 (<FromNodeId> is a provider of <ToNodeId>)\n",
            "# \t\t\t0 (<FromNodeId> and <ToNodeId> are peers)\n",
            "# \t\t\t2 (<FromNodeId> and <ToNodeId> are siblings (the same organization).)\n",
            "# Nodes:16301\tEdges: 65910\n",
            "# FromNodeId        ToNodeId\tRelationship\n",
            "6712\t1668\t0\n",
            "6712\t3215\t-1\n",
            "8563\t26716\t1\n",
            "8563\t4323\t-1\n",
            "13666\t19262\t-1\n",
            "28689\t20804\t-1\n",
            "28689\t6778\t-1\n",
            "28801\t702\t0\n",
            "28801\t8422\t-1\n",
            "5006\t20283\t1\n",
            "5006\t21902\t1\n",
            "5006\t25637\t1\n",
            "5006\t17162\t1\n",
            "5006\t18581\t1\n",
            "5006\t11401\t1\n",
            "5006\t16904\t1\n",
            "5006\t21730\t1\n",
            "5006\t7018\t-1\n",
            "5006\t14278\t1\n",
            "5006\t18454\t1\n",
            "5006\t1347\t1\n",
            "5006\t26021\t1\n",
            "5006\t7792\t1\n",
            "5006\t16595\t1\n",
            "5006\t10337\t1\n",
            "5006\t4045\t1\n",
            "5006\t18699\t1\n",
            "5006\t7973\t1\n",
            "5006\t25615\t1\n",
            "5006\t18723\t1\n",
            "5006\t1239\t-1\n",
            "5006\t10765\t1\n"
          ]
        }
      ]
    },
    {
      "cell_type": "markdown",
      "source": [
        "## Oregon"
      ],
      "metadata": {
        "id": "7xPifcOjkai0"
      }
    },
    {
      "cell_type": "code",
      "source": [
        "!rm oregon -r"
      ],
      "metadata": {
        "id": "Qo9bKPYmnBIl",
        "colab": {
          "base_uri": "https://localhost:8080/"
        },
        "outputId": "94ab80f9-dee0-4f35-c220-cb0ec3249933"
      },
      "execution_count": 7,
      "outputs": [
        {
          "output_type": "stream",
          "name": "stdout",
          "text": [
            "rm: cannot remove 'oregon': No such file or directory\n"
          ]
        }
      ]
    },
    {
      "cell_type": "code",
      "source": [
        "!mkdir oregon\n",
        "%cd oregon\n",
        "\n",
        "!gdown https://snap.stanford.edu/data/oregon1_010331.txt.gz\n",
        "!gdown https://snap.stanford.edu/data/oregon1_010407.txt.gz\n",
        "!gdown https://snap.stanford.edu/data/oregon1_010414.txt.gz\n",
        "!gdown https://snap.stanford.edu/data/oregon1_010421.txt.gz\n",
        "!gdown https://snap.stanford.edu/data/oregon1_010428.txt.gz\n",
        "!gdown https://snap.stanford.edu/data/oregon1_010505.txt.gz\n",
        "!gdown https://snap.stanford.edu/data/oregon1_010512.txt.gz\n",
        "!gdown https://snap.stanford.edu/data/oregon1_010519.txt.gz\n",
        "!gdown https://snap.stanford.edu/data/oregon1_010526.txt.gz\n",
        "\n",
        "\n",
        "!gunzip oregon1_010331.txt.gz\n",
        "!gunzip oregon1_010407.txt.gz\n",
        "!gunzip oregon1_010414.txt.gz\n",
        "!gunzip oregon1_010421.txt.gz\n",
        "!gunzip oregon1_010428.txt.gz\n",
        "!gunzip oregon1_010505.txt.gz\n",
        "!gunzip oregon1_010512.txt.gz\n",
        "!gunzip oregon1_010519.txt.gz\n",
        "!gunzip oregon1_010526.txt.gz\n",
        "\n",
        "%cd .."
      ],
      "metadata": {
        "colab": {
          "base_uri": "https://localhost:8080/"
        },
        "id": "-w2orQRBlEz6",
        "outputId": "2b374d63-bc4e-4de3-a16b-7a831d194650"
      },
      "execution_count": 8,
      "outputs": [
        {
          "output_type": "stream",
          "name": "stdout",
          "text": [
            "/content/oregon\n",
            "Downloading...\n",
            "From: https://snap.stanford.edu/data/oregon1_010331.txt.gz\n",
            "To: /content/oregon/oregon1_010331.txt.gz\n",
            "100% 69.1k/69.1k [00:00<00:00, 117kB/s]\n",
            "Downloading...\n",
            "From: https://snap.stanford.edu/data/oregon1_010407.txt.gz\n",
            "To: /content/oregon/oregon1_010407.txt.gz\n",
            "100% 69.3k/69.3k [00:00<00:00, 156kB/s]\n",
            "Downloading...\n",
            "From: https://snap.stanford.edu/data/oregon1_010414.txt.gz\n",
            "To: /content/oregon/oregon1_010414.txt.gz\n",
            "100% 69.8k/69.8k [00:00<00:00, 157kB/s]\n",
            "Downloading...\n",
            "From: https://snap.stanford.edu/data/oregon1_010421.txt.gz\n",
            "To: /content/oregon/oregon1_010421.txt.gz\n",
            "100% 70.7k/70.7k [00:00<00:00, 159kB/s]\n",
            "Downloading...\n",
            "From: https://snap.stanford.edu/data/oregon1_010428.txt.gz\n",
            "To: /content/oregon/oregon1_010428.txt.gz\n",
            "100% 70.1k/70.1k [00:00<00:00, 158kB/s]\n",
            "Downloading...\n",
            "From: https://snap.stanford.edu/data/oregon1_010505.txt.gz\n",
            "To: /content/oregon/oregon1_010505.txt.gz\n",
            "100% 70.5k/70.5k [00:00<00:00, 159kB/s]\n",
            "Downloading...\n",
            "From: https://snap.stanford.edu/data/oregon1_010512.txt.gz\n",
            "To: /content/oregon/oregon1_010512.txt.gz\n",
            "100% 70.7k/70.7k [00:00<00:00, 159kB/s]\n",
            "Downloading...\n",
            "From: https://snap.stanford.edu/data/oregon1_010519.txt.gz\n",
            "To: /content/oregon/oregon1_010519.txt.gz\n",
            "100% 70.9k/70.9k [00:00<00:00, 119kB/s]\n",
            "Downloading...\n",
            "From: https://snap.stanford.edu/data/oregon1_010526.txt.gz\n",
            "To: /content/oregon/oregon1_010526.txt.gz\n",
            "100% 72.9k/72.9k [00:00<00:00, 123kB/s]\n",
            "/content\n"
          ]
        }
      ]
    },
    {
      "cell_type": "code",
      "source": [
        "!head /content/oregon/oregon1_010331.txt"
      ],
      "metadata": {
        "colab": {
          "base_uri": "https://localhost:8080/"
        },
        "id": "Vyec9NlAowuX",
        "outputId": "d2790905-f91d-4ff3-d2a6-34f7d6f157e0"
      },
      "execution_count": 9,
      "outputs": [
        {
          "output_type": "stream",
          "name": "stdout",
          "text": [
            "# Undirected graph: oregon1_010331.txt\n",
            "# AS peering information inferred from Oregon route-views BGP data, from March 31 2001\n",
            "# Nodes: 10670 Edges: 22002\n",
            "# FromNodeId\tToNodeId\n",
            "10000\t4725\n",
            "4725\t6805\n",
            "4725\t7523\n",
            "4725\t7524\n",
            "4725\t7673\n",
            "4725\t9352\n"
          ]
        }
      ]
    },
    {
      "cell_type": "code",
      "source": [
        "!grep \"13237\" /content/caida/as-caida20040105.txt | wc -l"
      ],
      "metadata": {
        "colab": {
          "base_uri": "https://localhost:8080/"
        },
        "id": "pwuf8ZR-r79P",
        "outputId": "e90fccb6-a491-4a68-be7a-34d432e6cf6a"
      },
      "execution_count": 11,
      "outputs": [
        {
          "output_type": "stream",
          "name": "stdout",
          "text": [
            "862\n"
          ]
        }
      ]
    },
    {
      "cell_type": "markdown",
      "source": [
        "# Data Structure Classes"
      ],
      "metadata": {
        "id": "L2_9liTVezAd"
      }
    },
    {
      "cell_type": "markdown",
      "source": [
        "## Edge Class"
      ],
      "metadata": {
        "id": "bdCCnBYfd3lH"
      }
    },
    {
      "cell_type": "code",
      "source": [
        "@dataclass(init=True, eq=True, frozen=True)\n",
        "class Edge:\n",
        "  source: int\n",
        "  destination: int\n",
        "\n",
        "  def get_reverse(self):\n",
        "    return Edge(source=self.destination, destination=self.source)\n",
        "\n",
        "  def get_minmax(self):\n",
        "    return Edge(source=min(self.source, self.destination),\n",
        "                destination=max(self.source, self.destination))"
      ],
      "metadata": {
        "id": "7Yfc5C19d5CM"
      },
      "execution_count": 9,
      "outputs": []
    },
    {
      "cell_type": "markdown",
      "source": [
        "## Graph Class"
      ],
      "metadata": {
        "id": "y5U0Qg7xq0d6"
      }
    },
    {
      "cell_type": "code",
      "source": [
        "class Graph():\n",
        "  def __init__(self, directed):\n",
        "    self.edges = set()\n",
        "    self.nodes = set()\n",
        "    self.node_order = list()\n",
        "    self.node_order_set = set()\n",
        "\n",
        "    self.reset_statics()\n",
        "\n",
        "  def _set_order(self, node):\n",
        "    if node not in self.node_order_set:\n",
        "      self.node_order_set.add(node)\n",
        "      self.node_order.append(node)\n",
        "\n",
        "  def add_edge(self, edge:Edge):\n",
        "    self.nodes.add(edge.source)\n",
        "    self.nodes.add(edge.destination)\n",
        "    self.edges.add(edge)\n",
        "\n",
        "    self._set_order(edge.source)\n",
        "\n",
        "  def finish(self):\n",
        "    for node in self.nodes:\n",
        "      # Set order for remaining nodes\n",
        "      self._set_order(node)\n",
        "\n",
        "    self.reset_statics()\n",
        "\n",
        "  def reset_statics(self):\n",
        "    self.number_trees = None\n",
        "    self.node_adjacency_list = None\n",
        "\n",
        "  def number_nodes(self):\n",
        "    return len(self.nodes)\n",
        "  \n",
        "  def number_edges(self):\n",
        "    return len(self.edges)\n",
        "\n",
        "  def get_edges(self):\n",
        "    return self.edges\n",
        "  \n",
        "  def get_nodes(self):\n",
        "    return self.nodes\n",
        "\n",
        "  def get_node(self, node_id):\n",
        "    return self.node_order[node_id]\n",
        "  \n",
        "  def get_node_adjacency_list(self, node_id):\n",
        "    if self.node_adjacency_list is None:\n",
        "      self.calculate_node_adjacency_list()\n",
        "    \n",
        "    return self.node_adjacency_list[self.get_node(node_id)]\n",
        "\n",
        "  def calculate_node_adjacency_list(self):\n",
        "    # if self.node_adjacency_list is not None:\n",
        "    #   return\n",
        "\n",
        "    self.node_adjacency_list = dict()\n",
        "\n",
        "    for node in self.nodes:\n",
        "      self.node_adjacency_list[node] = set()\n",
        "    \n",
        "    for edge in self.edges:\n",
        "      self.node_adjacency_list[edge.source].add(edge.destination) \n",
        "      self.node_adjacency_list[edge.destination].add(edge.source) \n",
        "    \n",
        "  def calculate_number_trees(self):\n",
        "    if self.number_trees is not None:\n",
        "      return self.number_trees\n",
        "\n",
        "    # if self.node_adjacency_list is None:\n",
        "    #   self.calculate_node_adjacency_list()\n",
        "\n",
        "    self.number_trees = 0\n",
        "    for node_x in self.nodes:\n",
        "      for node_y in self.node_adjacency_list[node_x]:\n",
        "        for node_z in self.node_adjacency_list[node_x]:\n",
        "\n",
        "          if node_x < node_y < node_z:\n",
        "            if node_z in self.node_adjacency_list[node_y]:\n",
        "              self.number_trees += 1\n",
        "\n",
        "  def get_number_trees(self):\n",
        "    if self.number_trees is None:\n",
        "      self.calculate_number_trees()\n",
        "\n",
        "    return self.number_trees\n",
        "\n",
        "  def get_number_trees_per_edge(self, edge):\n",
        "    # if self.node_adjacency_list is None:\n",
        "    #   self.calculate_node_adjacency_list()\n",
        "\n",
        "    node_x = edge.source\n",
        "    node_y = edge.destination\n",
        "\n",
        "    number_trees = 0\n",
        "\n",
        "    for node_z in self.node_adjacency_list[node_x]:\n",
        "      if node_z in self.node_adjacency_list[node_y]:\n",
        "        number_trees += 1\n",
        "    \n",
        "    return number_trees"
      ],
      "metadata": {
        "id": "A6HI35X6oy9M"
      },
      "execution_count": 10,
      "outputs": []
    },
    {
      "cell_type": "markdown",
      "source": [
        "## Snapshot Graphs"
      ],
      "metadata": {
        "id": "ad_y7yRy3wSf"
      }
    },
    {
      "cell_type": "code",
      "source": [
        "class Snapshot():\n",
        "  def __init__(self, dataset_path):\n",
        "    self.dataset_path = dataset_path\n",
        "    self.graphs = list()\n",
        "\n",
        "  def load_graphs(self):\n",
        "    for path in sorted(glob.glob(pathname=self.dataset_path, recursive=True)):\n",
        "      print(\".\", end=\"\")\n",
        "      graph = Graph(directed=False)\n",
        "\n",
        "      with open(path, \"r\") as file:\n",
        "        for i, line in enumerate(file.readlines()):\n",
        "          if line[0] == \"#\": continue\n",
        "          \n",
        "          source, destination = line[:-1].split(\"\\t\")[:2]\n",
        "          if source == destination: continue\n",
        "          edge = Edge(source=int(source), destination=int(destination))\n",
        "          graph.add_edge(edge)\n",
        "        \n",
        "      graph.finish()\n",
        "      graph.calculate_node_adjacency_list()\n",
        "      self.graphs.append(graph)\n",
        "\n",
        "  def get_graph(self, i):\n",
        "    return self.graphs[i]\n",
        "  \n",
        "  def number_graphs(self):\n",
        "    return len(self.graphs)"
      ],
      "metadata": {
        "id": "u7AJS2NV31TO"
      },
      "execution_count": 11,
      "outputs": []
    },
    {
      "cell_type": "markdown",
      "source": [
        "# Load Dataset"
      ],
      "metadata": {
        "id": "82eK6x4J9i2R"
      }
    },
    {
      "cell_type": "markdown",
      "source": [
        "## Oregon"
      ],
      "metadata": {
        "id": "bw6uqAUfJsHL"
      }
    },
    {
      "cell_type": "code",
      "source": [
        "oregon = Snapshot(dataset_path = \"/content/oregon/*\")"
      ],
      "metadata": {
        "id": "sw0gyo8b6jNk"
      },
      "execution_count": 12,
      "outputs": []
    },
    {
      "cell_type": "code",
      "source": [
        "oregon.load_graphs()"
      ],
      "metadata": {
        "colab": {
          "base_uri": "https://localhost:8080/"
        },
        "id": "It9JIEmL7tsy",
        "outputId": "dd3539c9-78c8-4715-d0db-1b07050016fc"
      },
      "execution_count": 13,
      "outputs": [
        {
          "output_type": "stream",
          "name": "stdout",
          "text": [
            "........."
          ]
        }
      ]
    },
    {
      "cell_type": "code",
      "source": [
        "oregon.number_graphs()"
      ],
      "metadata": {
        "colab": {
          "base_uri": "https://localhost:8080/"
        },
        "id": "QT6Yvca77z5b",
        "outputId": "1d6c0d56-7b81-4219-863f-d59d753f5f99"
      },
      "execution_count": 14,
      "outputs": [
        {
          "output_type": "execute_result",
          "data": {
            "text/plain": [
              "9"
            ]
          },
          "metadata": {},
          "execution_count": 14
        }
      ]
    },
    {
      "cell_type": "markdown",
      "source": [
        "## Caida 2006"
      ],
      "metadata": {
        "id": "KlJ5C_uTJuQJ"
      }
    },
    {
      "cell_type": "code",
      "source": [
        "caida2006 = Snapshot(dataset_path = \"/content/caida/as-caida2006*\")"
      ],
      "metadata": {
        "id": "-WcaOvy06qJP"
      },
      "execution_count": 15,
      "outputs": []
    },
    {
      "cell_type": "code",
      "source": [
        "caida2006.load_graphs()"
      ],
      "metadata": {
        "colab": {
          "base_uri": "https://localhost:8080/"
        },
        "id": "W7IV6nks8IDd",
        "outputId": "6a8fd714-84be-45a2-c8f5-477fe2e3dba0"
      },
      "execution_count": 16,
      "outputs": [
        {
          "output_type": "stream",
          "name": "stdout",
          "text": [
            "...................................................."
          ]
        }
      ]
    },
    {
      "cell_type": "code",
      "source": [
        "caida2006.number_graphs()"
      ],
      "metadata": {
        "colab": {
          "base_uri": "https://localhost:8080/"
        },
        "id": "wJ3flCsO8Be5",
        "outputId": "c8ed0c7d-5dbc-413e-85a5-9e0887580bdd"
      },
      "execution_count": 17,
      "outputs": [
        {
          "output_type": "execute_result",
          "data": {
            "text/plain": [
              "52"
            ]
          },
          "metadata": {},
          "execution_count": 17
        }
      ]
    },
    {
      "cell_type": "markdown",
      "source": [
        "## Caida 2007"
      ],
      "metadata": {
        "id": "g9phEBTbJwco"
      }
    },
    {
      "cell_type": "code",
      "source": [
        "caida2007 = Snapshot(dataset_path = \"/content/caida/as-caida2007*\")"
      ],
      "metadata": {
        "id": "XndTy_j66ys-"
      },
      "execution_count": 18,
      "outputs": []
    },
    {
      "cell_type": "code",
      "source": [
        "caida2007.load_graphs()"
      ],
      "metadata": {
        "colab": {
          "base_uri": "https://localhost:8080/"
        },
        "id": "YyCobVB_9Hhv",
        "outputId": "31e24daf-4a28-4d21-c724-03968397b28d"
      },
      "execution_count": 19,
      "outputs": [
        {
          "output_type": "stream",
          "name": "stdout",
          "text": [
            ".............................................."
          ]
        }
      ]
    },
    {
      "cell_type": "code",
      "source": [
        "caida2007.number_graphs()"
      ],
      "metadata": {
        "colab": {
          "base_uri": "https://localhost:8080/"
        },
        "id": "xkiu64qa9L-d",
        "outputId": "7a03f5d4-676c-4c67-ae33-9a9233fe1edd"
      },
      "execution_count": 20,
      "outputs": [
        {
          "output_type": "execute_result",
          "data": {
            "text/plain": [
              "46"
            ]
          },
          "metadata": {},
          "execution_count": 20
        }
      ]
    },
    {
      "cell_type": "markdown",
      "source": [
        "# Algorithm 1"
      ],
      "metadata": {
        "id": "Vc3PsxrQAcu4"
      }
    },
    {
      "cell_type": "markdown",
      "source": [
        "## Oracle"
      ],
      "metadata": {
        "id": "C7ojGT_Av9WP"
      }
    },
    {
      "cell_type": "code",
      "source": [
        "class Oracle():\n",
        "  def __init__(self, graph:Graph, rho=None):\n",
        "    self.graph = graph\n",
        "    self.rho = rho\n",
        "    self.T = None\n",
        "    self.N_edge = None\n",
        "\n",
        "  def set_rho(self, rho):\n",
        "    self.rho = rho\n",
        "\n",
        "  def train(self):\n",
        "    print(\"Cacluate total trees...\")\n",
        "    self.graph.calculate_number_trees()\n",
        "    self.T = self.graph.get_number_trees()\n",
        "    self._calculate_number_trees_per_edge()\n",
        "    print(\"Training oracle completed!\")\n",
        "\n",
        "  def _calculate_number_trees_per_edge(self):\n",
        "    N_edge_complete = list()\n",
        "\n",
        "    print(\"Counting Trees per edges...\")\n",
        "    edges = self.graph.get_edges()\n",
        "    for i, edge in enumerate(edges):\n",
        "      if True and i % (len(edges)//10)==0: print(f\"{round(i*100/len(edges), 0)}%\", end=\" \")\n",
        "      if edge.source < edge.destination:\n",
        "        number_trees = self.graph.get_number_trees_per_edge(edge)\n",
        "        \n",
        "        N_edge_complete.append({\"edge\": edge, \"number_trees\": number_trees})\n",
        "\n",
        "    print(\"\\nSorting and selecting top N_e\")\n",
        "    N_edge_top = sorted(N_edge_complete, key=lambda x:-x[\"number_trees\"])[:len(N_edge_complete)//10]\n",
        "\n",
        "    self.N_edge = dict()\n",
        "    for item in N_edge_top:\n",
        "      self.N_edge[item[\"edge\"]] = item[\"number_trees\"]\n",
        "\n",
        "  def is_heavy(self, edge):\n",
        "    edge = edge.get_minmax()\n",
        "    if edge in self.N_edge:\n",
        "      return self.N_edge[edge] >= self.T/self.rho\n",
        "    else:\n",
        "      return False"
      ],
      "metadata": {
        "id": "hPUJkG7FvuXA"
      },
      "execution_count": 21,
      "outputs": []
    },
    {
      "cell_type": "markdown",
      "source": [
        "## Estimator"
      ],
      "metadata": {
        "id": "I-wk_VB-AHoh"
      }
    },
    {
      "cell_type": "code",
      "source": [
        "class Estimator():\n",
        "  def __init__(self, graph:Graph, oracle:Oracle, epsilon,\n",
        "               alpha, beta, gamma):\n",
        "    self.graph = graph \n",
        "    self.oracle = oracle\n",
        "\n",
        "    self.epsilon = epsilon\n",
        "    self.alpha = alpha\n",
        "    self.gamma = gamma\n",
        "    self.beta = beta\n",
        "\n",
        "    self.A_l, self.A_m, self.A_h = 0, 0, 0\n",
        "    self.S_l, self.S_m, self.S_aux = set(), set(), set()\n",
        "\n",
        "    self.T = self.oracle.T\n",
        "\n",
        "    self.C = dict()\n",
        "    self.B = dict()\n",
        "\n",
        "    self.n = graph.number_nodes()\n",
        "    self.m = graph.number_edges()\n",
        "\n",
        "    self.set_probabilities()\n",
        "\n",
        "  def set_probabilities(self):\n",
        "    if self.T >= ((self.m/self.epsilon) ** 0.5):\n",
        "      self.rho = (self.m * self.T) ** (1/3)      \n",
        "      \n",
        "      self.p1 = self.alpha * (self.epsilon ** -2) / self.rho\n",
        "      self.p2 = min(self.beta*(self.epsilon ** -2) * self.rho / self.T , 1)\n",
        "      self.p3 = self.gamma * (self.epsilon ** (-2)) * math.log(self.n) / self.rho\n",
        "    \n",
        "    else:\n",
        "      self.rho = (self.m ** 0.5) / self.epsilon\n",
        "      self.p1 = 0\n",
        "      self.p2 = 1\n",
        "      self.p3 = self.gamma * (self.epsilon ** (-2)) / self.rho\n",
        "    \n",
        "    print(f\"T = {self.T}, rho = {self.rho}, T/rho = {self.T//self.rho}\")\n",
        "    print(f\"p1 = {self.p1}, p2 = {self.p2}, p3 = {self.p3}\")\n",
        "    self.oracle.set_rho(self.rho)\n",
        "\n",
        "  def estimate_number_trees(self):\n",
        "    for node_id in range(self.graph.number_nodes()):\n",
        "      if node_id%(self.graph.number_nodes()//10)==0 : print(f\"{round(node_id*100/self.graph.number_nodes())}%\", end=\" \")\n",
        "      v = self.graph.get_node(node_id)\n",
        "      N_v = self.graph.get_node_adjacency_list(node_id)\n",
        "\n",
        "      for ab in self.S_l.union(self.S_m):\n",
        "        if ab.source in N_v and ab.destination in N_v:\n",
        "          self.C[ab] += 1\n",
        "      \n",
        "      for a in N_v:\n",
        "        av = Edge(a, v)\n",
        "\n",
        "        if av in self.S_aux:\n",
        "          self.B[av] = 1\n",
        "\n",
        "      for u in N_v:\n",
        "        vu = Edge(v, u)\n",
        "        uv = Edge(u, v)\n",
        "        \n",
        "        if random.random() < self.p3:\n",
        "          self.S_aux.add(vu)\n",
        "          self.B[vu] = 0\n",
        "\n",
        "        if self.oracle.is_heavy(uv) is False:\n",
        "          if uv in self.S_l:\n",
        "            self.A_l += self.C[uv]\n",
        "          elif random.random() < self.p1:\n",
        "            self.S_l.add(vu)\n",
        "            self.C[vu] = 0\n",
        "        else:\n",
        "          sharp = 0\n",
        "          for edge in self.S_aux:\n",
        "            if edge.source == u and self.B[edge]==1 and edge.destination in N_v:\n",
        "              sharp += 1\n",
        "          \n",
        "          if sharp >= self.p3 * self.rho:\n",
        "            self.A_h += sharp\n",
        "          elif uv in self.S_m:\n",
        "            self.A_m += self.C[uv]\n",
        "          elif random.random() < self.p2:\n",
        "            self.S_m.add(vu)\n",
        "            self.C[vu] = 0\n",
        "    \n",
        "    print(f\"Len(S_l) = {len(self.S_l)}, Len(S_m) = {len(self.S_m)}, Len(S_aux)={len(self.S_aux)}\")\n",
        "    print(f\"A_l {self.A_l}, A_m = {self.A_m}, A_h = {self.A_h}\")\n",
        "    return self.A_l / self.p1 + self.A_m / self.p2 + self.A_h / self.p3\n",
        "\n",
        "  def number_edges_store(self):\n",
        "    return len(self.S_l) + len(self.S_m) + len(self.S_aux)"
      ],
      "metadata": {
        "id": "uls5mAkzAaDh"
      },
      "execution_count": 155,
      "outputs": []
    },
    {
      "cell_type": "markdown",
      "source": [
        "# Results"
      ],
      "metadata": {
        "id": "nMVVqMGIR1F_"
      }
    },
    {
      "cell_type": "markdown",
      "source": [
        "## Test Mesure"
      ],
      "metadata": {
        "id": "XKA2uJzACXYz"
      }
    },
    {
      "cell_type": "code",
      "source": [
        "def relative_error(real_number_trees, predicted_number_trees):\n",
        "  return abs(1 - predicted_number_trees/real_number_trees)"
      ],
      "metadata": {
        "id": "2ZlZt7T1CZe5"
      },
      "execution_count": 156,
      "outputs": []
    },
    {
      "cell_type": "markdown",
      "source": [
        "## Oregon"
      ],
      "metadata": {
        "id": "o-JW0k4lUfw5"
      }
    },
    {
      "cell_type": "markdown",
      "source": [
        "### Parameters"
      ],
      "metadata": {
        "id": "9HgwGNhxBwLQ"
      }
    },
    {
      "cell_type": "code",
      "source": [
        ""
      ],
      "metadata": {
        "id": "XpjgZbA_VOTl"
      },
      "execution_count": null,
      "outputs": []
    },
    {
      "cell_type": "code",
      "source": [
        "OREGON_TEST_GRAPH = 4 - 1"
      ],
      "metadata": {
        "id": "YBJV1aizBfkW"
      },
      "execution_count": 157,
      "outputs": []
    },
    {
      "cell_type": "markdown",
      "source": [
        "### Train Oracle"
      ],
      "metadata": {
        "id": "kLNLFUcdBvnc"
      }
    },
    {
      "cell_type": "code",
      "source": [
        "oregon.get_graph(1).number_edges()"
      ],
      "metadata": {
        "colab": {
          "base_uri": "https://localhost:8080/"
        },
        "id": "_nxbLSc0cEgu",
        "outputId": "bf99219e-49a1-48b2-cb27-7f3093351f5a"
      },
      "execution_count": 158,
      "outputs": [
        {
          "output_type": "execute_result",
          "data": {
            "text/plain": [
              "22000"
            ]
          },
          "metadata": {},
          "execution_count": 158
        }
      ]
    },
    {
      "cell_type": "code",
      "source": [
        "oracle_oregon = Oracle(graph=oregon.get_graph(0))\n",
        "oracle_oregon.train()"
      ],
      "metadata": {
        "colab": {
          "base_uri": "https://localhost:8080/"
        },
        "id": "V7HRpfXprmG4",
        "outputId": "24adea67-3f38-4219-a3a0-f1a46aeb9619"
      },
      "execution_count": 159,
      "outputs": [
        {
          "output_type": "stream",
          "name": "stdout",
          "text": [
            "Cacluate total trees...\n",
            "Counting Trees per edges...\n",
            "0.0% 10.0% 20.0% 30.0% 40.0% 50.0% 60.0% 70.0% 80.0% 90.0% 100.0% \n",
            "Sorting and selecting top N_e\n",
            "Training oracle completed!\n"
          ]
        }
      ]
    },
    {
      "cell_type": "markdown",
      "source": [
        "### Run"
      ],
      "metadata": {
        "id": "HZlDF_hXCEST"
      }
    },
    {
      "cell_type": "code",
      "source": [
        "estimator_oregon = Estimator(graph=oregon.get_graph(OREGON_TEST_GRAPH), oracle=oracle_oregon\n",
        "                             , epsilon=0.05, alpha = 0.1, beta = 0.5, gamma = 0.01)"
      ],
      "metadata": {
        "colab": {
          "base_uri": "https://localhost:8080/"
        },
        "id": "LoWU0q1JUT5R",
        "outputId": "956f8986-f2a0-4f64-ede9-be420dd904f0"
      },
      "execution_count": 164,
      "outputs": [
        {
          "output_type": "stream",
          "name": "stdout",
          "text": [
            "T = 17144, rho = 730.6091818723577, T/rho = 23.0\n",
            "p1 = 0.05474883288147379, p2 = 1, p3 = 0.05087671898347647\n"
          ]
        }
      ]
    },
    {
      "cell_type": "code",
      "source": [
        "estimated_number_trees_oregon = estimator_oregon.estimate_number_trees()"
      ],
      "metadata": {
        "colab": {
          "base_uri": "https://localhost:8080/"
        },
        "id": "ZreiEoHSYNem",
        "outputId": "e3afdf8b-2b68-4804-d8e5-f60c3d47993b"
      },
      "execution_count": 165,
      "outputs": [
        {
          "output_type": "stream",
          "name": "stdout",
          "text": [
            "0% 10% 20% 30% 40% 50% 60% 70% 80% 90% 100% Len(S_l) = 2401, Len(S_m) = 278, Len(S_aux)=2369\n",
            "A_l 794, A_m = 3855, A_h = 0\n"
          ]
        }
      ]
    },
    {
      "cell_type": "code",
      "source": [
        "real_number_trees_oregon = oregon.get_graph(OREGON_TEST_GRAPH).get_number_trees()"
      ],
      "metadata": {
        "id": "Zw_a-L0Xl8oC"
      },
      "execution_count": 166,
      "outputs": []
    },
    {
      "cell_type": "code",
      "source": [
        "print(f\"Space = {estimator_oregon.number_edges_store()/1000} * 10^3\")"
      ],
      "metadata": {
        "colab": {
          "base_uri": "https://localhost:8080/"
        },
        "id": "TJEOnOMRFtRr",
        "outputId": "b0792426-105a-4b56-a6dc-9d5326abb2f2"
      },
      "execution_count": 167,
      "outputs": [
        {
          "output_type": "stream",
          "name": "stdout",
          "text": [
            "Space = 5.048 * 10^3\n"
          ]
        }
      ]
    },
    {
      "cell_type": "code",
      "source": [
        "print(f\"Relative Error: {round(relative_error(real_number_trees_oregon,estimated_number_trees_oregon)*100, 1)} %\")"
      ],
      "metadata": {
        "colab": {
          "base_uri": "https://localhost:8080/"
        },
        "id": "Jti3aAyeE2y2",
        "outputId": "14a8f80b-809a-4a52-ccc8-d0d51bdc646b"
      },
      "execution_count": 168,
      "outputs": [
        {
          "output_type": "stream",
          "name": "stdout",
          "text": [
            "Relative Error: 3.9 %\n"
          ]
        }
      ]
    },
    {
      "cell_type": "markdown",
      "source": [
        "## Caida 2006"
      ],
      "metadata": {
        "id": "tibycPvPnPgS"
      }
    },
    {
      "cell_type": "code",
      "source": [
        "oracle_oregon.N_edge"
      ],
      "metadata": {
        "colab": {
          "base_uri": "https://localhost:8080/"
        },
        "id": "IrUHdB50Ltd5",
        "outputId": "dbb0877e-e9ff-4b3f-8ae2-f8450cf93ef8"
      },
      "execution_count": 113,
      "outputs": [
        {
          "output_type": "execute_result",
          "data": {
            "text/plain": [
              "{Edge(source=701, destination=1239): 526,\n",
              " Edge(source=701, destination=7018): 364,\n",
              " Edge(source=701, destination=3561): 320,\n",
              " Edge(source=1239, destination=3561): 278,\n",
              " Edge(source=1, destination=701): 254,\n",
              " Edge(source=1239, destination=7018): 206,\n",
              " Edge(source=209, destination=701): 200,\n",
              " Edge(source=3561, destination=7018): 175,\n",
              " Edge(source=701, destination=2548): 160,\n",
              " Edge(source=701, destination=2914): 156,\n",
              " Edge(source=1, destination=1239): 151,\n",
              " Edge(source=701, destination=3549): 147,\n",
              " Edge(source=209, destination=1239): 141,\n",
              " Edge(source=701, destination=3356): 129,\n",
              " Edge(source=1, destination=7018): 124,\n",
              " Edge(source=3257, destination=9057): 120,\n",
              " Edge(source=1, destination=3561): 119,\n",
              " Edge(source=1239, destination=3549): 115,\n",
              " Edge(source=1239, destination=2548): 112,\n",
              " Edge(source=209, destination=7018): 108,\n",
              " Edge(source=209, destination=3561): 107,\n",
              " Edge(source=1239, destination=2914): 100,\n",
              " Edge(source=3257, destination=6667): 99,\n",
              " Edge(source=1, destination=209): 95,\n",
              " Edge(source=3257, destination=4513): 95,\n",
              " Edge(source=1, destination=2914): 93,\n",
              " Edge(source=2548, destination=2914): 93,\n",
              " Edge(source=2548, destination=3561): 91,\n",
              " Edge(source=701, destination=6347): 90,\n",
              " Edge(source=1, destination=3549): 88,\n",
              " Edge(source=2914, destination=3561): 88,\n",
              " Edge(source=1, destination=2548): 85,\n",
              " Edge(source=2914, destination=3549): 84,\n",
              " Edge(source=3257, destination=5459): 83,\n",
              " Edge(source=3549, destination=3561): 81,\n",
              " Edge(source=1239, destination=3356): 81,\n",
              " Edge(source=701, destination=6453): 80,\n",
              " Edge(source=2548, destination=3549): 80,\n",
              " Edge(source=2914, destination=7018): 80,\n",
              " Edge(source=2914, destination=3356): 79,\n",
              " Edge(source=701, destination=6461): 77,\n",
              " Edge(source=5459, destination=9057): 77,\n",
              " Edge(source=3356, destination=3549): 77,\n",
              " Edge(source=2548, destination=7018): 76,\n",
              " Edge(source=3356, destination=7018): 76,\n",
              " Edge(source=1, destination=3356): 73,\n",
              " Edge(source=701, destination=2828): 73,\n",
              " Edge(source=3257, destination=6461): 73,\n",
              " Edge(source=174, destination=701): 72,\n",
              " Edge(source=2548, destination=2828): 69,\n",
              " Edge(source=6667, destination=9057): 69,\n",
              " Edge(source=2828, destination=3549): 69,\n",
              " Edge(source=2828, destination=2914): 68,\n",
              " Edge(source=3549, destination=7018): 68,\n",
              " Edge(source=2548, destination=3356): 67,\n",
              " Edge(source=1, destination=2828): 65,\n",
              " Edge(source=702, destination=3257): 65,\n",
              " Edge(source=701, destination=6395): 63,\n",
              " Edge(source=293, destination=2914): 63,\n",
              " Edge(source=3356, destination=3561): 62,\n",
              " Edge(source=293, destination=2548): 62,\n",
              " Edge(source=4513, destination=6461): 62,\n",
              " Edge(source=1, destination=293): 62,\n",
              " Edge(source=2548, destination=6395): 61,\n",
              " Edge(source=4513, destination=9057): 60,\n",
              " Edge(source=1239, destination=2828): 60,\n",
              " Edge(source=3333, destination=9057): 59,\n",
              " Edge(source=293, destination=2828): 59,\n",
              " Edge(source=2914, destination=3257): 59,\n",
              " Edge(source=5459, destination=6667): 58,\n",
              " Edge(source=209, destination=3549): 58,\n",
              " Edge(source=1, destination=3257): 58,\n",
              " Edge(source=701, destination=4513): 57,\n",
              " Edge(source=701, destination=3967): 57,\n",
              " Edge(source=2914, destination=4513): 56,\n",
              " Edge(source=3257, destination=5409): 55,\n",
              " Edge(source=3561, destination=4513): 55,\n",
              " Edge(source=2828, destination=3561): 54,\n",
              " Edge(source=209, destination=2914): 54,\n",
              " Edge(source=2828, destination=3356): 54,\n",
              " Edge(source=293, destination=701): 53,\n",
              " Edge(source=3549, destination=4513): 53,\n",
              " Edge(source=3257, destination=3549): 53,\n",
              " Edge(source=2548, destination=3257): 52,\n",
              " Edge(source=2548, destination=2685): 52,\n",
              " Edge(source=3257, destination=3333): 52,\n",
              " Edge(source=2914, destination=6395): 52,\n",
              " Edge(source=4513, destination=5459): 52,\n",
              " Edge(source=1239, destination=4513): 52,\n",
              " Edge(source=5409, destination=9057): 51,\n",
              " Edge(source=293, destination=3356): 51,\n",
              " Edge(source=2914, destination=6461): 51,\n",
              " Edge(source=3549, destination=6461): 51,\n",
              " Edge(source=293, destination=3549): 51,\n",
              " Edge(source=6461, destination=9057): 51,\n",
              " Edge(source=209, destination=3356): 51,\n",
              " Edge(source=2685, destination=2914): 50,\n",
              " Edge(source=1, destination=6461): 50,\n",
              " Edge(source=3356, destination=6395): 49,\n",
              " Edge(source=4513, destination=6667): 49,\n",
              " Edge(source=1, destination=4513): 49,\n",
              " Edge(source=293, destination=3257): 48,\n",
              " Edge(source=293, destination=3561): 48,\n",
              " Edge(source=701, destination=2685): 48,\n",
              " Edge(source=2497, destination=2914): 48,\n",
              " Edge(source=209, destination=2548): 47,\n",
              " Edge(source=701, destination=3257): 47,\n",
              " Edge(source=2551, destination=2914): 47,\n",
              " Edge(source=293, destination=2685): 47,\n",
              " Edge(source=3333, destination=6667): 47,\n",
              " Edge(source=293, destination=6395): 46,\n",
              " Edge(source=2685, destination=3356): 46,\n",
              " Edge(source=1239, destination=6461): 46,\n",
              " Edge(source=2548, destination=2551): 46,\n",
              " Edge(source=1, destination=6395): 46,\n",
              " Edge(source=2548, destination=4513): 46,\n",
              " Edge(source=293, destination=1239): 45,\n",
              " Edge(source=3356, destination=4513): 45,\n",
              " Edge(source=3257, destination=8918): 45,\n",
              " Edge(source=2551, destination=2828): 45,\n",
              " Edge(source=2828, destination=6395): 44,\n",
              " Edge(source=2828, destination=7018): 44,\n",
              " Edge(source=3257, destination=3356): 44,\n",
              " Edge(source=5459, destination=8297): 44,\n",
              " Edge(source=1239, destination=2685): 43,\n",
              " Edge(source=293, destination=2551): 43,\n",
              " Edge(source=174, destination=7018): 43,\n",
              " Edge(source=2685, destination=2828): 43,\n",
              " Edge(source=5459, destination=6461): 42,\n",
              " Edge(source=2828, destination=4513): 42,\n",
              " Edge(source=3549, destination=6395): 42,\n",
              " Edge(source=701, destination=4565): 42,\n",
              " Edge(source=2914, destination=6453): 42,\n",
              " Edge(source=1, destination=2685): 42,\n",
              " Edge(source=702, destination=9057): 42,\n",
              " Edge(source=2551, destination=3549): 41,\n",
              " Edge(source=3561, destination=6461): 41,\n",
              " Edge(source=3257, destination=6395): 41,\n",
              " Edge(source=1755, destination=9057): 41,\n",
              " Edge(source=1239, destination=2551): 41,\n",
              " Edge(source=1239, destination=6453): 41,\n",
              " Edge(source=2548, destination=6427): 41,\n",
              " Edge(source=3549, destination=6453): 41,\n",
              " Edge(source=701, destination=1740): 41,\n",
              " Edge(source=2914, destination=6427): 41,\n",
              " Edge(source=2548, destination=6461): 41,\n",
              " Edge(source=701, destination=2551): 41,\n",
              " Edge(source=2497, destination=3549): 41,\n",
              " Edge(source=2685, destination=7018): 40,\n",
              " Edge(source=2497, destination=2548): 40,\n",
              " Edge(source=701, destination=4006): 40,\n",
              " Edge(source=1, destination=2551): 40,\n",
              " Edge(source=2551, destination=3561): 40,\n",
              " Edge(source=2551, destination=3356): 40,\n",
              " Edge(source=6395, destination=7018): 40,\n",
              " Edge(source=2685, destination=3549): 40,\n",
              " Edge(source=174, destination=1239): 40,\n",
              " Edge(source=2685, destination=6395): 39,\n",
              " Edge(source=293, destination=7018): 39,\n",
              " Edge(source=3356, destination=6427): 39,\n",
              " Edge(source=2828, destination=6461): 39,\n",
              " Edge(source=701, destination=6172): 38,\n",
              " Edge(source=2685, destination=3561): 38,\n",
              " Edge(source=3549, destination=3967): 38,\n",
              " Edge(source=701, destination=5650): 37,\n",
              " Edge(source=2548, destination=4006): 37,\n",
              " Edge(source=2497, destination=2516): 37,\n",
              " Edge(source=1, destination=4006): 37,\n",
              " Edge(source=2551, destination=2685): 37,\n",
              " Edge(source=3356, destination=6461): 37,\n",
              " Edge(source=174, destination=2914): 37,\n",
              " Edge(source=293, destination=6427): 36,\n",
              " Edge(source=2497, destination=2828): 36,\n",
              " Edge(source=293, destination=2497): 36,\n",
              " Edge(source=6461, destination=6667): 36,\n",
              " Edge(source=2914, destination=4006): 36,\n",
              " Edge(source=3549, destination=6427): 36,\n",
              " Edge(source=209, destination=2828): 36,\n",
              " Edge(source=4006, destination=7018): 36,\n",
              " Edge(source=1, destination=6453): 36,\n",
              " Edge(source=3356, destination=4006): 36,\n",
              " Edge(source=2828, destination=4006): 36,\n",
              " Edge(source=2497, destination=3356): 36,\n",
              " Edge(source=3257, destination=5413): 35,\n",
              " Edge(source=1239, destination=1740): 35,\n",
              " Edge(source=8918, destination=9057): 35,\n",
              " Edge(source=1740, destination=3967): 35,\n",
              " Edge(source=293, destination=4513): 35,\n",
              " Edge(source=1755, destination=4513): 35,\n",
              " Edge(source=701, destination=2497): 34,\n",
              " Edge(source=1, destination=2497): 34,\n",
              " Edge(source=1239, destination=4006): 34,\n",
              " Edge(source=174, destination=3561): 34,\n",
              " Edge(source=1, destination=174): 34,\n",
              " Edge(source=2548, destination=6453): 34,\n",
              " Edge(source=1740, destination=2914): 34,\n",
              " Edge(source=3257, destination=7018): 33,\n",
              " Edge(source=286, destination=3257): 33,\n",
              " Edge(source=6453, destination=7018): 33,\n",
              " Edge(source=2551, destination=7018): 33,\n",
              " Edge(source=2551, destination=6395): 33,\n",
              " Edge(source=3257, destination=6427): 33,\n",
              " Edge(source=293, destination=4006): 33,\n",
              " Edge(source=4513, destination=5409): 33,\n",
              " Edge(source=1221, destination=7474): 32,\n",
              " Edge(source=6461, destination=7018): 32,\n",
              " Edge(source=1740, destination=2828): 32,\n",
              " Edge(source=3561, destination=4006): 32,\n",
              " Edge(source=6395, destination=6427): 32,\n",
              " Edge(source=1239, destination=3967): 32,\n",
              " Edge(source=1740, destination=2548): 32,\n",
              " Edge(source=4513, destination=6395): 32,\n",
              " Edge(source=2551, destination=3257): 31,\n",
              " Edge(source=1, destination=3967): 31,\n",
              " Edge(source=286, destination=9057): 31,\n",
              " Edge(source=2497, destination=2685): 31,\n",
              " Edge(source=2551, destination=4006): 31,\n",
              " Edge(source=6667, destination=8918): 31,\n",
              " Edge(source=1239, destination=2497): 31,\n",
              " Edge(source=3333, destination=4513): 31,\n",
              " Edge(source=3549, destination=4006): 31,\n",
              " Edge(source=2497, destination=6395): 31,\n",
              " Edge(source=2828, destination=6453): 31,\n",
              " Edge(source=209, destination=293): 31,\n",
              " Edge(source=1299, destination=3257): 31,\n",
              " Edge(source=1239, destination=4200): 30,\n",
              " Edge(source=5413, destination=6667): 30,\n",
              " Edge(source=4513, destination=7018): 30,\n",
              " Edge(source=1239, destination=6347): 30,\n",
              " Edge(source=293, destination=1740): 30,\n",
              " Edge(source=2497, destination=3561): 30,\n",
              " Edge(source=1740, destination=7018): 30,\n",
              " Edge(source=3561, destination=6347): 30,\n",
              " Edge(source=4513, destination=8918): 30,\n",
              " Edge(source=1, destination=5056): 29,\n",
              " Edge(source=2497, destination=6461): 29,\n",
              " Edge(source=7018, destination=7922): 29,\n",
              " Edge(source=2497, destination=2551): 29,\n",
              " Edge(source=2685, destination=4006): 29,\n",
              " Edge(source=5409, destination=5459): 29,\n",
              " Edge(source=2685, destination=6427): 29,\n",
              " Edge(source=4513, destination=6427): 28,\n",
              " Edge(source=2548, destination=5056): 28,\n",
              " Edge(source=6395, destination=6461): 28,\n",
              " Edge(source=2685, destination=4513): 28,\n",
              " Edge(source=701, destination=10910): 28,\n",
              " Edge(source=174, destination=209): 28,\n",
              " Edge(source=701, destination=4200): 28,\n",
              " Edge(source=2497, destination=3257): 28,\n",
              " Edge(source=1740, destination=2551): 28,\n",
              " Edge(source=2551, destination=6427): 28,\n",
              " Edge(source=1239, destination=5696): 28,\n",
              " Edge(source=702, destination=5459): 28,\n",
              " Edge(source=293, destination=6453): 28,\n",
              " Edge(source=701, destination=715): 28,\n",
              " Edge(source=6453, destination=6461): 28,\n",
              " Edge(source=1239, destination=5650): 28,\n",
              " Edge(source=1, destination=5696): 27,\n",
              " Edge(source=293, destination=11537): 27,\n",
              " Edge(source=174, destination=3549): 27,\n",
              " Edge(source=174, destination=2548): 27,\n",
              " Edge(source=702, destination=1755): 27,\n",
              " Edge(source=3333, destination=6461): 27,\n",
              " Edge(source=3356, destination=3967): 27,\n",
              " Edge(source=3967, destination=7018): 27,\n",
              " Edge(source=1299, destination=9057): 27,\n",
              " Edge(source=5696, destination=7018): 27,\n",
              " Edge(source=702, destination=8297): 27,\n",
              " Edge(source=3561, destination=5696): 26,\n",
              " Edge(source=3967, destination=4513): 26,\n",
              " Edge(source=715, destination=4513): 26,\n",
              " Edge(source=2914, destination=3967): 26,\n",
              " Edge(source=5413, destination=5459): 26,\n",
              " Edge(source=2516, destination=3549): 26,\n",
              " Edge(source=3257, destination=5056): 26,\n",
              " Edge(source=2548, destination=4200): 26,\n",
              " Edge(source=293, destination=6461): 26,\n",
              " Edge(source=6461, destination=8918): 26,\n",
              " Edge(source=3549, destination=6172): 26,\n",
              " Edge(source=1755, destination=3333): 25,\n",
              " Edge(source=6461, destination=8297): 25,\n",
              " Edge(source=702, destination=3333): 25,\n",
              " Edge(source=1740, destination=3549): 25,\n",
              " Edge(source=1755, destination=6461): 25,\n",
              " Edge(source=1299, destination=5459): 25,\n",
              " Edge(source=2548, destination=3967): 25,\n",
              " Edge(source=2497, destination=4513): 25,\n",
              " Edge(source=3561, destination=4200): 25,\n",
              " Edge(source=1755, destination=3561): 24,\n",
              " Edge(source=2914, destination=5459): 24,\n",
              " Edge(source=6395, destination=6453): 24,\n",
              " Edge(source=701, destination=3491): 24,\n",
              " Edge(source=701, destination=4323): 24,\n",
              " Edge(source=3561, destination=3967): 24,\n",
              " Edge(source=2548, destination=5696): 24,\n",
              " Edge(source=4513, destination=5413): 23,\n",
              " Edge(source=4323, destination=7018): 23,\n",
              " Edge(source=3333, destination=5413): 23,\n",
              " Edge(source=174, destination=3356): 23,\n",
              " Edge(source=3356, destination=6172): 23,\n",
              " Edge(source=5511, destination=6453): 23,\n",
              " Edge(source=2497, destination=6427): 23,\n",
              " Edge(source=2914, destination=5696): 23,\n",
              " Edge(source=702, destination=1299): 23,\n",
              " Edge(source=3561, destination=5511): 23,\n",
              " Edge(source=4200, destination=7018): 23,\n",
              " Edge(source=4006, destination=4513): 23,\n",
              " Edge(source=1239, destination=5056): 22,\n",
              " Edge(source=1740, destination=2497): 22,\n",
              " Edge(source=5511, destination=6461): 22,\n",
              " Edge(source=209, destination=2685): 22,\n",
              " Edge(source=3257, destination=5511): 22,\n",
              " Edge(source=2497, destination=4694): 22,\n",
              " Edge(source=3257, destination=5400): 22,\n",
              " Edge(source=2548, destination=6172): 22,\n",
              " Edge(source=701, destination=5006): 22,\n",
              " Edge(source=286, destination=3333): 22,\n",
              " Edge(source=3549, destination=4565): 22,\n",
              " Edge(source=701, destination=5056): 22,\n",
              " Edge(source=209, destination=5696): 22,\n",
              " Edge(source=286, destination=5459): 22,\n",
              " Edge(source=174, destination=2828): 22,\n",
              " Edge(source=1, destination=715): 22,\n",
              " Edge(source=701, destination=6467): 22,\n",
              " Edge(source=2685, destination=6453): 22,\n",
              " Edge(source=2551, destination=6461): 22,\n",
              " Edge(source=3549, destination=5511): 22,\n",
              " Edge(source=3257, destination=8938): 21,\n",
              " Edge(source=5056, destination=6395): 21,\n",
              " Edge(source=1, destination=1755): 21,\n",
              " Edge(source=209, destination=4006): 21,\n",
              " Edge(source=5413, destination=8297): 21,\n",
              " Edge(source=2548, destination=3491): 21,\n",
              " Edge(source=2914, destination=4565): 21,\n",
              " Edge(source=3561, destination=6172): 21,\n",
              " Edge(source=10764, destination=11537): 21,\n",
              " Edge(source=2914, destination=6172): 21,\n",
              " Edge(source=3356, destination=4565): 21,\n",
              " Edge(source=5056, destination=7018): 21,\n",
              " Edge(source=2914, destination=4200): 21,\n",
              " Edge(source=6172, destination=7018): 21,\n",
              " Edge(source=3549, destination=4200): 21,\n",
              " Edge(source=1299, destination=8297): 21,\n",
              " Edge(source=2685, destination=6461): 21,\n",
              " Edge(source=577, destination=701): 21,\n",
              " Edge(source=3356, destination=5696): 21,\n",
              " Edge(source=2828, destination=4200): 21,\n",
              " Edge(source=1239, destination=6172): 21,\n",
              " Edge(source=3561, destination=5650): 21,\n",
              " Edge(source=3561, destination=5056): 21,\n",
              " Edge(source=2828, destination=3967): 21,\n",
              " Edge(source=1299, destination=6667): 21,\n",
              " Edge(source=1, destination=4200): 20,\n",
              " Edge(source=5413, destination=6461): 20,\n",
              " Edge(source=4006, destination=6461): 20,\n",
              " Edge(source=209, destination=6453): 20,\n",
              " Edge(source=4565, destination=7018): 20,\n",
              " Edge(source=1755, destination=3300): 20,\n",
              " Edge(source=715, destination=3561): 20,\n",
              " Edge(source=3549, destination=5650): 20,\n",
              " Edge(source=1239, destination=4565): 20,\n",
              " Edge(source=2548, destination=6939): 20,\n",
              " Edge(source=1, destination=6172): 20,\n",
              " Edge(source=209, destination=2551): 20,\n",
              " Edge(source=2828, destination=6172): 20,\n",
              " Edge(source=2914, destination=6939): 20,\n",
              " Edge(source=2548, destination=4544): 20,\n",
              " Edge(source=5409, destination=8297): 20,\n",
              " Edge(source=2551, destination=5696): 20,\n",
              " Edge(source=1, destination=4565): 20,\n",
              " Edge(source=2914, destination=4544): 20,\n",
              " Edge(source=701, destination=702): 20,\n",
              " Edge(source=286, destination=702): 20,\n",
              " Edge(source=2548, destination=4565): 20,\n",
              " Edge(source=1740, destination=4006): 19,\n",
              " Edge(source=293, destination=6172): 19,\n",
              " Edge(source=1273, destination=3257): 19,\n",
              " Edge(source=6467, destination=7018): 19,\n",
              " Edge(source=286, destination=6667): 19,\n",
              " Edge(source=701, destination=1755): 19,\n",
              " Edge(source=209, destination=3257): 19,\n",
              " Edge(source=2548, destination=3932): 19,\n",
              " Edge(source=1239, destination=3491): 19,\n",
              " Edge(source=293, destination=3491): 19,\n",
              " Edge(source=4006, destination=4200): 19,\n",
              " Edge(source=293, destination=5696): 19,\n",
              " Edge(source=1239, destination=2041): 19,\n",
              " Edge(source=5409, destination=6461): 19,\n",
              " Edge(source=293, destination=297): 19,\n",
              " Edge(source=174, destination=2685): 19,\n",
              " Edge(source=293, destination=7170): 19,\n",
              " Edge(source=3561, destination=6259): 19,\n",
              " Edge(source=293, destination=4200): 19,\n",
              " Edge(source=293, destination=4565): 19,\n",
              " Edge(source=2551, destination=4200): 19,\n",
              " Edge(source=715, destination=6461): 19,\n",
              " Edge(source=701, destination=5511): 19,\n",
              " Edge(source=2551, destination=3967): 19,\n",
              " Edge(source=1299, destination=5413): 19,\n",
              " Edge(source=2516, destination=6461): 19,\n",
              " Edge(source=702, destination=6730): 19,\n",
              " Edge(source=4513, destination=5056): 19,\n",
              " Edge(source=293, destination=3967): 19,\n",
              " Edge(source=3356, destination=4200): 19,\n",
              " Edge(source=2516, destination=2914): 19,\n",
              " Edge(source=3561, destination=4565): 19,\n",
              " Edge(source=2828, destination=5696): 19,\n",
              " Edge(source=2685, destination=5696): 18,\n",
              " Edge(source=1299, destination=3333): 18,\n",
              " Edge(source=4513, destination=5696): 18,\n",
              " Edge(source=3491, destination=3561): 18,\n",
              " Edge(source=4513, destination=6172): 18,\n",
              " Edge(source=174, destination=4513): 18,\n",
              " Edge(source=286, destination=1755): 18,\n",
              " Edge(source=2914, destination=3932): 18,\n",
              " Edge(source=3967, destination=6395): 18,\n",
              " Edge(source=209, destination=4200): 18,\n",
              " Edge(source=701, destination=3932): 18,\n",
              " Edge(source=4513, destination=4565): 18,\n",
              " Edge(source=2914, destination=5650): 18,\n",
              " Edge(source=2914, destination=5511): 18,\n",
              " Edge(source=209, destination=2497): 18,\n",
              " Edge(source=2497, destination=3967): 18,\n",
              " Edge(source=293, destination=10764): 18,\n",
              " Edge(source=701, destination=2516): 18,\n",
              " Edge(source=1239, destination=5511): 18,\n",
              " Edge(source=1, destination=1833): 18,\n",
              " Edge(source=3549, destination=5459): 18,\n",
              " Edge(source=2828, destination=4544): 18,\n",
              " Edge(source=2685, destination=4565): 18,\n",
              " Edge(source=286, destination=6461): 18,\n",
              " Edge(source=715, destination=1239): 18,\n",
              " Edge(source=2516, destination=6453): 18,\n",
              " Edge(source=174, destination=6453): 18,\n",
              " Edge(source=702, destination=3303): 18,\n",
              " Edge(source=1, destination=5511): 18,\n",
              " Edge(source=702, destination=8918): 18,\n",
              " Edge(source=1239, destination=1755): 18,\n",
              " Edge(source=174, destination=2551): 18,\n",
              " Edge(source=297, destination=2551): 17,\n",
              " Edge(source=2685, destination=6172): 17,\n",
              " Edge(source=2685, destination=3491): 17,\n",
              " Edge(source=1239, destination=2516): 17,\n",
              " Edge(source=286, destination=1299): 17,\n",
              " Edge(source=5459, destination=8918): 17,\n",
              " Edge(source=4513, destination=5511): 17,\n",
              " Edge(source=2551, destination=6172): 17,\n",
              " Edge(source=2914, destination=3491): 17,\n",
              " Edge(source=293, destination=4544): 17,\n",
              " Edge(source=2685, destination=4200): 17,\n",
              " Edge(source=3303, destination=4513): 17,\n",
              " Edge(source=701, destination=10912): 17,\n",
              " Edge(source=701, destination=1833): 17,\n",
              " Edge(source=3333, destination=8918): 17,\n",
              " Edge(source=1, destination=3932): 17,\n",
              " Edge(source=2497, destination=5696): 17,\n",
              " Edge(source=1221, destination=6461): 17,\n",
              " Edge(source=2548, destination=6259): 17,\n",
              " Edge(source=1299, destination=6461): 17,\n",
              " Edge(source=1239, destination=6467): 17,\n",
              " Edge(source=4436, destination=4513): 17,\n",
              " Edge(source=4565, destination=6395): 17,\n",
              " Edge(source=1239, destination=4540): 17,\n",
              " Edge(source=2551, destination=4565): 17,\n",
              " Edge(source=293, destination=3932): 17,\n",
              " Edge(source=1239, destination=4544): 17,\n",
              " Edge(source=4513, destination=6939): 17,\n",
              " Edge(source=2551, destination=4544): 17,\n",
              " Edge(source=3549, destination=6259): 17,\n",
              " Edge(source=2828, destination=4565): 17,\n",
              " Edge(source=3356, destination=3491): 17,\n",
              " Edge(source=6427, destination=6939): 17,\n",
              " Edge(source=3257, destination=8220): 17,\n",
              " Edge(source=293, destination=5511): 17,\n",
              " Edge(source=701, destination=6553): 17,\n",
              " Edge(source=702, destination=5400): 17,\n",
              " Edge(source=2685, destination=3967): 17,\n",
              " Edge(source=3491, destination=3549): 17,\n",
              " Edge(source=6453, destination=8297): 17,\n",
              " Edge(source=297, destination=2548): 17,\n",
              " Edge(source=701, destination=5000): 17,\n",
              " Edge(source=297, destination=2914): 17,\n",
              " Edge(source=1273, destination=9057): 17,\n",
              " Edge(source=6395, destination=6939): 17,\n",
              " Edge(source=1, destination=3491): 17,\n",
              " Edge(source=3356, destination=5650): 17,\n",
              " Edge(source=3356, destination=3932): 17,\n",
              " Edge(source=1270, destination=3257): 17,\n",
              " Edge(source=1755, destination=5511): 17,\n",
              " Edge(source=1, destination=4544): 17,\n",
              " Edge(source=3967, destination=4006): 17,\n",
              " Edge(source=2548, destination=5650): 17,\n",
              " Edge(source=3356, destination=6939): 16,\n",
              " Edge(source=5650, destination=5696): 16,\n",
              " Edge(source=1239, destination=1833): 16,\n",
              " Edge(source=4513, destination=5462): 16,\n",
              " Edge(source=3549, destination=9057): 16,\n",
              " Edge(source=3356, destination=4544): 16,\n",
              " Edge(source=2914, destination=7170): 16,\n",
              " Edge(source=2041, destination=2914): 16,\n",
              " Edge(source=701, destination=10911): 16,\n",
              " Edge(source=3561, destination=6553): 16,\n",
              " Edge(source=174, destination=4200): 16,\n",
              " Edge(source=1833, destination=4513): 16,\n",
              " Edge(source=174, destination=4006): 16,\n",
              " Edge(source=297, destination=2828): 16,\n",
              " Edge(source=1221, destination=2914): 16,\n",
              " Edge(source=1, destination=4323): 16,\n",
              " Edge(source=2685, destination=3932): 16,\n",
              " Edge(source=2914, destination=6066): 16,\n",
              " Edge(source=1, destination=5006): 16,\n",
              " Edge(source=3561, destination=5400): 16,\n",
              " Edge(source=2548, destination=6066): 16,\n",
              " Edge(source=3303, destination=3549): 16,\n",
              " Edge(source=1239, destination=4323): 16,\n",
              " Edge(source=3257, destination=3967): 16,\n",
              " Edge(source=4513, destination=5650): 16,\n",
              " Edge(source=1, destination=4436): 16,\n",
              " Edge(source=6172, destination=6453): 16,\n",
              " Edge(source=701, destination=1668): 16,\n",
              " Edge(source=286, destination=5400): 16,\n",
              " Edge(source=293, destination=5650): 16,\n",
              " Edge(source=2548, destination=6347): 16,\n",
              " Edge(source=1740, destination=6453): 16,\n",
              " Edge(source=2828, destination=3491): 16,\n",
              " Edge(source=2914, destination=6079): 16,\n",
              " Edge(source=5006, destination=7018): 16,\n",
              " Edge(source=5696, destination=6395): 16,\n",
              " Edge(source=3257, destination=6730): 16,\n",
              " Edge(source=701, destination=7922): 16,\n",
              " Edge(source=3257, destination=5378): 16,\n",
              " Edge(source=293, destination=6939): 16,\n",
              " Edge(source=2041, destination=3549): 16,\n",
              " Edge(source=2828, destination=5511): 16,\n",
              " Edge(source=701, destination=4969): 16,\n",
              " Edge(source=701, destination=6079): 16,\n",
              " Edge(source=1833, destination=3561): 16,\n",
              " Edge(source=3967, destination=6453): 16,\n",
              " Edge(source=6461, destination=7473): 16,\n",
              " Edge(source=701, destination=2041): 16,\n",
              " Edge(source=297, destination=2685): 16,\n",
              " Edge(source=297, destination=701): 16,\n",
              " Edge(source=2497, destination=4565): 16,\n",
              " Edge(source=4006, destination=6172): 16,\n",
              " Edge(source=1746, destination=2548): 16,\n",
              " Edge(source=1833, destination=3549): 16,\n",
              " Edge(source=5511, destination=9057): 16,\n",
              " Edge(source=2828, destination=3932): 16,\n",
              " Edge(source=3561, destination=10910): 16,\n",
              " Edge(source=4544, destination=7018): 16,\n",
              " Edge(source=2914, destination=6259): 16,\n",
              " Edge(source=1746, destination=2914): 16,\n",
              " Edge(source=2548, destination=7194): 16,\n",
              " Edge(source=5400, destination=5459): 15,\n",
              " Edge(source=6453, destination=7473): 15,\n",
              " Edge(source=6259, destination=7018): 15,\n",
              " Edge(source=293, destination=6259): 15,\n",
              " Edge(source=7018, destination=7170): 15,\n",
              " Edge(source=2551, destination=5650): 15,\n",
              " Edge(source=3549, destination=4323): 15,\n",
              " Edge(source=3220, destination=6667): 15,\n",
              " Edge(source=293, destination=2041): 15,\n",
              " Edge(source=3561, destination=5006): 15,\n",
              " Edge(source=209, destination=3932): 15,\n",
              " Edge(source=1, destination=1221): 15,\n",
              " Edge(source=6172, destination=6395): 15,\n",
              " Edge(source=297, destination=3356): 15,\n",
              " Edge(source=4544, destination=6395): 15,\n",
              " Edge(source=293, destination=6079): 15,\n",
              " Edge(source=2551, destination=6066): 15,\n",
              " Edge(source=2041, destination=2548): 15,\n",
              " Edge(source=1755, destination=5413): 15,\n",
              " Edge(source=3356, destination=6259): 15,\n",
              " Edge(source=3561, destination=4544): 15,\n",
              " Edge(source=286, destination=8297): 15,\n",
              " Edge(source=1833, destination=2914): 15,\n",
              " Edge(source=4513, destination=7194): 15,\n",
              " Edge(source=702, destination=5511): 15,\n",
              " Edge(source=1833, destination=3356): 15,\n",
              " Edge(source=1221, destination=7473): 15,\n",
              " Edge(source=4323, destination=4513): 15,\n",
              " Edge(source=3561, destination=8297): 15,\n",
              " Edge(source=701, destination=6402): 15,\n",
              " Edge(source=3786, destination=3976): 15,\n",
              " Edge(source=2041, destination=2551): 15,\n",
              " Edge(source=5400, destination=9057): 15,\n",
              " Edge(source=1833, destination=2548): 15,\n",
              " Edge(source=2548, destination=6079): 15,\n",
              " Edge(source=3320, destination=4513): 15,\n",
              " Edge(source=2551, destination=6259): 15,\n",
              " Edge(source=3549, destination=10911): 15,\n",
              " Edge(source=1746, destination=2551): 15,\n",
              " Edge(source=3561, destination=4540): 15,\n",
              " Edge(source=701, destination=4540): 15,\n",
              " Edge(source=2828, destination=6939): 15,\n",
              " Edge(source=3356, destination=6079): 15,\n",
              " Edge(source=1299, destination=1755): 15,\n",
              " Edge(source=3932, destination=7018): 15,\n",
              " Edge(source=2685, destination=4544): 15,\n",
              " Edge(source=2548, destination=5000): 15,\n",
              " Edge(source=702, destination=3292): 15,\n",
              " Edge(source=3549, destination=6347): 15,\n",
              " Edge(source=3561, destination=3932): 15,\n",
              " Edge(source=2551, destination=7170): 15,\n",
              " Edge(source=2548, destination=7170): 15,\n",
              " Edge(source=293, destination=1746): 15,\n",
              " Edge(source=1239, destination=10910): 15,\n",
              " Edge(source=1, destination=297): 15,\n",
              " Edge(source=8938, destination=9057): 15,\n",
              " Edge(source=2551, destination=7922): 15,\n",
              " Edge(source=1755, destination=5400): 15,\n",
              " Edge(source=701, destination=10913): 15,\n",
              " Edge(source=715, destination=6427): 15,\n",
              " Edge(source=2497, destination=4544): 15,\n",
              " Edge(source=3257, destination=3292): 15,\n",
              " Edge(source=3292, destination=4513): 15,\n",
              " Edge(source=297, destination=2497): 15,\n",
              " Edge(source=5400, destination=6461): 15,\n",
              " Edge(source=286, destination=5511): 15,\n",
              " Edge(source=6461, destination=8220): 15,\n",
              " Edge(source=2914, destination=5000): 15,\n",
              " Edge(source=2548, destination=5511): 15,\n",
              " Edge(source=1, destination=7170): 15,\n",
              " Edge(source=1239, destination=5006): 15,\n",
              " Edge(source=2041, destination=2828): 14,\n",
              " Edge(source=209, destination=5511): 14,\n",
              " Edge(source=3549, destination=6079): 14,\n",
              " Edge(source=297, destination=7018): 14,\n",
              " Edge(source=4513, destination=5400): 14,\n",
              " Edge(source=2685, destination=6259): 14,\n",
              " Edge(source=3491, destination=4006): 14,\n",
              " Edge(source=3561, destination=4637): 14,\n",
              " Edge(source=2828, destination=6066): 14,\n",
              " Edge(source=3549, destination=7922): 14,\n",
              " Edge(source=3257, destination=4565): 14,\n",
              " Edge(source=5459, destination=5511): 14,\n",
              " Edge(source=701, destination=12179): 14,\n",
              " Edge(source=3549, destination=7170): 14,\n",
              " Edge(source=2914, destination=3320): 14,\n",
              " Edge(source=2914, destination=4436): 14,\n",
              " Edge(source=5409, destination=5413): 14,\n",
              " Edge(source=4006, destination=4565): 14,\n",
              " Edge(source=2914, destination=7194): 14,\n",
              " Edge(source=6461, destination=6939): 14,\n",
              " Edge(source=3257, destination=7176): 14,\n",
              " Edge(source=3257, destination=5462): 14,\n",
              " Edge(source=2685, destination=5650): 14,\n",
              " Edge(source=2516, destination=2548): 14,\n",
              " Edge(source=297, destination=1239): 14,\n",
              " Edge(source=1746, destination=2828): 14,\n",
              " Edge(source=2041, destination=7018): 14,\n",
              " Edge(source=2551, destination=6939): 14,\n",
              " Edge(source=1221, destination=3561): 14,\n",
              " Edge(source=8933, destination=9010): 14,\n",
              " Edge(source=2041, destination=2685): 14,\n",
              " Edge(source=1833, destination=7018): 14,\n",
              " Edge(source=7018, destination=10910): 14,\n",
              " Edge(source=3356, destination=9057): 14,\n",
              " Edge(source=2685, destination=6939): 14,\n",
              " Edge(source=3561, destination=4436): 14,\n",
              " Edge(source=2914, destination=7922): 14,\n",
              " Edge(source=2548, destination=4323): 14,\n",
              " Edge(source=2548, destination=4969): 14,\n",
              " Edge(source=2548, destination=6113): 14,\n",
              " Edge(source=3549, destination=3914): 14,\n",
              " Edge(source=3356, destination=5511): 14,\n",
              " Edge(source=5459, destination=5551): 14,\n",
              " Edge(source=2497, destination=3932): 14,\n",
              " Edge(source=5000, destination=7018): 14,\n",
              " Edge(source=5650, destination=6395): 14,\n",
              " Edge(source=5056, destination=6461): 14,\n",
              " Edge(source=2516, destination=3356): 14,\n",
              " Edge(source=3320, destination=3549): 14,\n",
              " Edge(source=1755, destination=2914): 14,\n",
              " Edge(source=2516, destination=2828): 14,\n",
              " Edge(source=2041, destination=2497): 14,\n",
              " Edge(source=2041, destination=3356): 14,\n",
              " Edge(source=2856, destination=5400): 14,\n",
              " Edge(source=4969, destination=6461): 14,\n",
              " Edge(source=2551, destination=5000): 14,\n",
              " Edge(source=209, destination=5006): 14,\n",
              " Edge(source=3333, destination=5400): 14,\n",
              " Edge(source=5378, destination=9057): 14,\n",
              " Edge(source=293, destination=7922): 14,\n",
              " Edge(source=174, destination=6395): 14,\n",
              " Edge(source=1239, destination=7170): 14,\n",
              " Edge(source=6259, destination=6461): 14,\n",
              " Edge(source=1, destination=6553): 14,\n",
              " Edge(source=701, destination=703): 14,\n",
              " Edge(source=1, destination=7922): 14,\n",
              " Edge(source=2548, destination=7922): 14,\n",
              " Edge(source=4513, destination=8220): 14,\n",
              " Edge(source=701, destination=3914): 14,\n",
              " Edge(source=3303, destination=3561): 14,\n",
              " Edge(source=2551, destination=3491): 14,\n",
              " Edge(source=3356, destination=7922): 14,\n",
              " Edge(source=2914, destination=5462): 14,\n",
              " Edge(source=2548, destination=4436): 14,\n",
              " Edge(source=2551, destination=6079): 14,\n",
              " Edge(source=5400, destination=8297): 14,\n",
              " Edge(source=4006, destination=5696): 14,\n",
              " Edge(source=1, destination=2041): 14,\n",
              " Edge(source=3356, destination=4436): 13,\n",
              " Edge(source=4513, destination=13646): 13,\n",
              " Edge(source=1221, destination=4513): 13,\n",
              " Edge(source=2828, destination=6259): 13,\n",
              " Edge(source=6259, destination=6395): 13,\n",
              " Edge(source=286, destination=1273): 13,\n",
              " Edge(source=701, destination=4637): 13,\n",
              " Edge(source=2551, destination=3914): 13,\n",
              " Edge(source=1221, destination=6453): 13,\n",
              " Edge(source=3932, destination=4006): 13,\n",
              " Edge(source=3257, destination=6172): 13,\n",
              " Edge(source=701, destination=11854): 13,\n",
              " Edge(source=3976, destination=4766): 13,\n",
              " Edge(source=2497, destination=5462): 13,\n",
              " Edge(source=3549, destination=5000): 13,\n",
              " Edge(source=297, destination=4006): 13,\n",
              " Edge(source=2685, destination=7170): 13,\n",
              " Edge(source=2548, destination=6402): 13,\n",
              " Edge(source=1740, destination=6461): 13,\n",
              " Edge(source=1267, destination=3269): 13,\n",
              " Edge(source=715, destination=1221): 13,\n",
              " Edge(source=2914, destination=6113): 13,\n",
              " Edge(source=293, destination=6113): 13,\n",
              " Edge(source=3356, destination=3914): 13,\n",
              " Edge(source=1755, destination=6730): 13,\n",
              " Edge(source=3932, destination=6395): 13,\n",
              " Edge(source=1273, destination=5409): 13,\n",
              " Edge(source=577, destination=6453): 13,\n",
              " Edge(source=4766, destination=9318): 13,\n",
              " Edge(source=2828, destination=6113): 13,\n",
              " Edge(source=5378, destination=6667): 13,\n",
              " Edge(source=1, destination=1746): 13,\n",
              " Edge(source=1668, destination=3549): 13,\n",
              " Edge(source=3549, destination=4436): 13,\n",
              " Edge(source=701, destination=11853): 13,\n",
              " Edge(source=293, destination=7194): 13,\n",
              " Edge(source=3257, destination=5551): 13,\n",
              " Edge(source=517, destination=3257): 13,\n",
              " Edge(source=1740, destination=6066): 13,\n",
              " Edge(source=5511, destination=8297): 13,\n",
              " Edge(source=297, destination=3561): 13,\n",
              " Edge(source=3356, destination=6347): 13,\n",
              " Edge(source=1668, destination=6461): 13,\n",
              " Edge(source=2914, destination=4694): 13,\n",
              " Edge(source=2497, destination=6939): 13,\n",
              " Edge(source=1239, destination=10911): 13,\n",
              " Edge(source=3549, destination=7473): 13,\n",
              " Edge(source=1746, destination=2497): 13,\n",
              " Edge(source=2828, destination=5000): 13,\n",
              " Edge(source=2685, destination=5000): 13,\n",
              " Edge(source=1740, destination=4200): 13,\n",
              " Edge(source=2685, destination=7922): 13,\n",
              " Edge(source=2914, destination=3914): 13,\n",
              " Edge(source=3257, destination=5696): 13,\n",
              " Edge(source=2548, destination=3914): 13,\n",
              " Edge(source=2041, destination=3561): 13,\n",
              " Edge(source=6395, destination=6402): 13,\n",
              " Edge(source=4513, destination=7473): 13,\n",
              " Edge(source=5400, destination=6667): 13,\n",
              " Edge(source=1746, destination=3356): 13,\n",
              " Edge(source=702, destination=2856): 13,\n",
              " Edge(source=701, destination=6113): 13,\n",
              " Edge(source=293, destination=4436): 13,\n",
              " Edge(source=3356, destination=5462): 13,\n",
              " Edge(source=2551, destination=6113): 13,\n",
              " Edge(source=2914, destination=4540): 13,\n",
              " Edge(source=2497, destination=5000): 13,\n",
              " Edge(source=3220, destination=3257): 13,\n",
              " Edge(source=3356, destination=5000): 13,\n",
              " Edge(source=4513, destination=6079): 13,\n",
              " Edge(source=1, destination=3303): 13,\n",
              " Edge(source=3356, destination=7170): 13,\n",
              " Edge(source=209, destination=6427): 13,\n",
              " Edge(source=1, destination=10910): 13,\n",
              " Edge(source=6402, destination=7018): 13,\n",
              " Edge(source=293, destination=4323): 13,\n",
              " Edge(source=3356, destination=7194): 13,\n",
              " Edge(source=2548, destination=10910): 13,\n",
              " Edge(source=2497, destination=4436): 13,\n",
              " Edge(source=2828, destination=5650): 13,\n",
              " Edge(source=5378, destination=5459): 13,\n",
              " Edge(source=2497, destination=6066): 13,\n",
              " Edge(source=2914, destination=7473): 13,\n",
              " Edge(source=6395, destination=7922): 13,\n",
              " Edge(source=1746, destination=7018): 13,\n",
              " Edge(source=1, destination=6113): 12,\n",
              " Edge(source=2828, destination=7170): 12,\n",
              " Edge(source=2548, destination=3303): 12,\n",
              " Edge(source=6172, destination=6427): 12,\n",
              " Edge(source=701, destination=7194): 12,\n",
              " Edge(source=3303, destination=3356): 12,\n",
              " Edge(source=2914, destination=8918): 12,\n",
              " Edge(source=2828, destination=4436): 12,\n",
              " Edge(source=3257, destination=5669): 12,\n",
              " Edge(source=2551, destination=3563): 12,\n",
              " Edge(source=5000, destination=5696): 12,\n",
              " Edge(source=5000, destination=6395): 12,\n",
              " Edge(source=3257, destination=3320): 12,\n",
              " Edge(source=3257, destination=4544): 12,\n",
              " Edge(source=3356, destination=4969): 12,\n",
              " Edge(source=3300, destination=3549): 12,\n",
              " Edge(source=2914, destination=8070): 12,\n",
              " Edge(source=1, destination=4540): 12,\n",
              " Edge(source=3549, destination=7194): 12,\n",
              " Edge(source=2856, destination=4513): 12,\n",
              " Edge(source=702, destination=5378): 12,\n",
              " Edge(source=2828, destination=6079): 12,\n",
              " Edge(source=7176, destination=9057): 12,\n",
              " Edge(source=6427, destination=7091): 12,\n",
              " Edge(source=2914, destination=3407): 12,\n",
              " Edge(source=2548, destination=3407): 12,\n",
              " Edge(source=3561, destination=6467): 12,\n",
              " Edge(source=1239, destination=6113): 12,\n",
              " Edge(source=3549, destination=8297): 12,\n",
              " Edge(source=3356, destination=6402): 12,\n",
              " Edge(source=1239, destination=1746): 12,\n",
              " Edge(source=2856, destination=3257): 12,\n",
              " Edge(source=293, destination=3407): 12,\n",
              " Edge(source=1746, destination=6395): 12,\n",
              " Edge(source=3561, destination=3914): 12,\n",
              " Edge(source=2828, destination=7922): 12,\n",
              " Edge(source=174, destination=1833): 12,\n",
              " Edge(source=1239, destination=3914): 12,\n",
              " Edge(source=1668, destination=2828): 12,\n",
              " Edge(source=2914, destination=3563): 12,\n",
              " Edge(source=293, destination=6402): 12,\n",
              " Edge(source=3320, destination=6453): 12,\n",
              " Edge(source=4513, destination=5378): 12,\n",
              " Edge(source=715, destination=2551): 12,\n",
              " Edge(source=701, destination=8918): 12,\n",
              " Edge(source=3786, destination=6461): 12,\n",
              " Edge(source=1, destination=6402): 12,\n",
              " Edge(source=4006, destination=6259): 12,\n",
              " Edge(source=1, destination=3914): 12,\n",
              " Edge(source=209, destination=10910): 12,\n",
              " Edge(source=1221, destination=2764): 12,\n",
              " Edge(source=2548, destination=3320): 12,\n",
              " Edge(source=8220, destination=9057): 12,\n",
              " Edge(source=2914, destination=6402): 12,\n",
              " Edge(source=1668, destination=2548): 12,\n",
              " Edge(source=2685, destination=3914): 12,\n",
              " Edge(source=3303, destination=7018): 12,\n",
              " Edge(source=2548, destination=5462): 12,\n",
              " Edge(source=1, destination=3320): 12,\n",
              " Edge(source=3549, destination=3563): 12,\n",
              " Edge(source=701, destination=4355): 12,\n",
              " Edge(source=3300, destination=3561): 12,\n",
              " Edge(source=3561, destination=6079): 12,\n",
              " Edge(source=2685, destination=4436): 12,\n",
              " Edge(source=3549, destination=6402): 12,\n",
              " Edge(source=1, destination=6730): 12,\n",
              " Edge(source=6395, destination=7194): 12,\n",
              " Edge(source=2516, destination=6395): 12,\n",
              " Edge(source=3932, destination=4200): 12,\n",
              " Edge(source=4513, destination=5669): 12,\n",
              " Edge(source=6461, destination=8070): 12,\n",
              " Edge(source=293, destination=3320): 12,\n",
              " Edge(source=4006, destination=7170): 12,\n",
              " Edge(source=4565, destination=6427): 12,\n",
              " Edge(source=3257, destination=3932): 12,\n",
              " Edge(source=2548, destination=7911): 12,\n",
              " Edge(source=2914, destination=3303): 12,\n",
              " Edge(source=1, destination=6467): 12,\n",
              " Edge(source=2828, destination=7194): 12,\n",
              " Edge(source=4436, destination=6395): 12,\n",
              " Edge(source=2828, destination=4323): 12,\n",
              " Edge(source=4200, destination=6259): 12,\n",
              " Edge(source=3549, destination=10910): 12,\n",
              " Edge(source=1239, destination=3320): 12,\n",
              " Edge(source=297, destination=6395): 12,\n",
              " Edge(source=1273, destination=1755): 12,\n",
              " Edge(source=2856, destination=6461): 12,\n",
              " Edge(source=5462, destination=6395): 12,\n",
              " Edge(source=2685, destination=6113): 12,\n",
              " Edge(source=3407, destination=3549): 12,\n",
              " Edge(source=3257, destination=5430): 12,\n",
              " Edge(source=2548, destination=4355): 12,\n",
              " Edge(source=1, destination=8070): 12,\n",
              " Edge(source=1239, destination=3303): 12,\n",
              " Edge(source=1, destination=12076): 12,\n",
              " Edge(source=3300, destination=3333): 12,\n",
              " Edge(source=4006, destination=4544): 12,\n",
              " Edge(source=293, destination=5462): 12,\n",
              " Edge(source=1740, destination=6172): 12,\n",
              " Edge(source=2828, destination=3303): 11,\n",
              " Edge(source=1, destination=8918): 11,\n",
              " Edge(source=701, destination=6066): 11,\n",
              " Edge(source=6079, destination=6395): 11,\n",
              " Edge(source=5650, destination=6427): 11,\n",
              " Edge(source=701, destination=6993): 11,\n",
              " Edge(source=2828, destination=3786): 11,\n",
              " Edge(source=2686, destination=9057): 11,\n",
              " Edge(source=3356, destination=3563): 11,\n",
              " Edge(source=2828, destination=3320): 11,\n",
              " Edge(source=2828, destination=4540): 11,\n",
              " Edge(source=1299, destination=5511): 11,\n",
              " Edge(source=3356, destination=4355): 11,\n",
              " Edge(source=4006, destination=6079): 11,\n",
              " Edge(source=701, destination=8070): 11,\n",
              " Edge(source=3356, destination=6467): 11,\n",
              " Edge(source=3257, destination=6259): 11,\n",
              " Edge(source=2685, destination=6402): 11,\n",
              " Edge(source=1740, destination=1746): 11,\n",
              " Edge(source=3914, destination=6395): 11,\n",
              " Edge(source=1239, destination=1668): 11,\n",
              " Edge(source=2548, destination=5006): 11,\n",
              " Edge(source=6113, destination=6395): 11,\n",
              " Edge(source=174, destination=10910): 11,\n",
              " Edge(source=4006, destination=7922): 11,\n",
              " Edge(source=1740, destination=4544): 11,\n",
              " Edge(source=2551, destination=3407): 11,\n",
              " Edge(source=209, destination=10911): 11,\n",
              " Edge(source=1, destination=1668): 11,\n",
              " Edge(source=1239, destination=6553): 11,\n",
              " Edge(source=1833, destination=3967): 11,\n",
              " Edge(source=1239, destination=10913): 11,\n",
              " Edge(source=174, destination=1740): 11,\n",
              " Edge(source=2818, destination=3257): 11,\n",
              " Edge(source=3549, destination=4183): 11,\n",
              " Edge(source=1, destination=10764): 11,\n",
              " Edge(source=286, destination=5413): 11,\n",
              " Edge(source=293, destination=4969): 11,\n",
              " Edge(source=3549, destination=7960): 11,\n",
              " Edge(source=2828, destination=5462): 11,\n",
              " Edge(source=3786, destination=9318): 11,\n",
              " Edge(source=3292, destination=3549): 11,\n",
              " Edge(source=4565, destination=6453): 11,\n",
              " Edge(source=1668, destination=6453): 11,\n",
              " Edge(source=3356, destination=8918): 11,\n",
              " Edge(source=3491, destination=3932): 11,\n",
              " Edge(source=286, destination=3561): 11,\n",
              " Edge(source=286, destination=3300): 11,\n",
              " Edge(source=2914, destination=6993): 11,\n",
              " Edge(source=1239, destination=12076): 11,\n",
              " Edge(source=1239, destination=7911): 11,\n",
              " Edge(source=3257, destination=4436): 11,\n",
              " Edge(source=5413, destination=8220): 11,\n",
              " Edge(source=5400, destination=5413): 11,\n",
              " Edge(source=209, destination=2516): 11,\n",
              " Edge(source=1740, destination=5696): 11,\n",
              " Edge(source=1136, destination=3333): 11,\n",
              " Edge(source=3320, destination=7018): 11,\n",
              " Edge(source=1, destination=10911): 11,\n",
              " Edge(source=2828, destination=3914): 11,\n",
              " Edge(source=3407, destination=4513): 11,\n",
              " Edge(source=3561, destination=5000): 11,\n",
              " Edge(source=3257, destination=7473): 11,\n",
              " Edge(source=4513, destination=12050): 11,\n",
              " Edge(source=5378, destination=8297): 11,\n",
              " Edge(source=701, destination=4183): 11,\n",
              " Edge(source=5459, destination=8220): 11,\n",
              " Edge(source=7018, destination=10912): 11,\n",
              " Edge(source=3561, destination=10911): 11,\n",
              " Edge(source=3257, destination=5650): 11,\n",
              " Edge(source=3257, destination=6402): 11,\n",
              " Edge(source=3333, destination=5511): 11,\n",
              " Edge(source=5089, destination=6461): 11,\n",
              " Edge(source=1755, destination=8938): 11,\n",
              " Edge(source=6461, destination=13646): 11,\n",
              " Edge(source=5551, destination=8297): 11,\n",
              " Edge(source=1239, destination=8070): 11,\n",
              " Edge(source=3549, destination=10913): 11,\n",
              " Edge(source=2551, destination=4540): 11,\n",
              " Edge(source=4000, destination=5511): 11,\n",
              " Edge(source=293, destination=3563): 11,\n",
              " Edge(source=701, destination=3407): 11,\n",
              " Edge(source=1, destination=7473): 11,\n",
              " Edge(source=3257, destination=6774): 11,\n",
              " Edge(source=1239, destination=4637): 11,\n",
              " Edge(source=3257, destination=7194): 11,\n",
              " Edge(source=297, destination=1740): 11,\n",
              " Edge(source=701, destination=10530): 11,\n",
              " Edge(source=3257, destination=7922): 11,\n",
              " Edge(source=1299, destination=5400): 11,\n",
              " Edge(source=1, destination=3407): 11,\n",
              " Edge(source=701, destination=6730): 11,\n",
              " Edge(source=3561, destination=11854): 11,\n",
              " Edge(source=2914, destination=4766): 11,\n",
              " Edge(source=2685, destination=4969): 11,\n",
              " Edge(source=209, destination=10912): 11,\n",
              " Edge(source=1, destination=11853): 11,\n",
              " Edge(source=2548, destination=4540): 11,\n",
              " Edge(source=7018, destination=10913): 11,\n",
              " Edge(source=2516, destination=3257): 11,\n",
              " Edge(source=3549, destination=8070): 11,\n",
              " Edge(source=3549, destination=4355): 11,\n",
              " Edge(source=2548, destination=4183): 11,\n",
              " Edge(source=1273, destination=4513): 11,\n",
              " Edge(source=7018, destination=8070): 11,\n",
              " Edge(source=5459, destination=7176): 11,\n",
              " Edge(source=2529, destination=6461): 11,\n",
              " Edge(source=7018, destination=11854): 11,\n",
              " Edge(source=3549, destination=6467): 11,\n",
              " Edge(source=2497, destination=3563): 11,\n",
              " Edge(source=1239, destination=5727): 11,\n",
              " Edge(source=1, destination=5462): 11,\n",
              " Edge(source=2686, destination=6461): 11,\n",
              " Edge(source=1668, destination=7018): 11,\n",
              " ...}"
            ]
          },
          "metadata": {},
          "execution_count": 113
        }
      ]
    },
    {
      "cell_type": "code",
      "source": [
        "caida2006.get_graph(1).number_nodes()"
      ],
      "metadata": {
        "colab": {
          "base_uri": "https://localhost:8080/"
        },
        "id": "X2ZKhQ2uswQo",
        "outputId": "6b7a5bc8-203a-49fe-daa3-78a27ae66e75"
      },
      "execution_count": 32,
      "outputs": [
        {
          "output_type": "execute_result",
          "data": {
            "text/plain": [
              "21157"
            ]
          },
          "metadata": {},
          "execution_count": 32
        }
      ]
    },
    {
      "cell_type": "code",
      "source": [
        "caida2006.get_graph(1).number_edges()"
      ],
      "metadata": {
        "colab": {
          "base_uri": "https://localhost:8080/"
        },
        "id": "i1aKwvlDs6xu",
        "outputId": "be8a5be8-b506-491c-9384-b5f2a046a771"
      },
      "execution_count": 33,
      "outputs": [
        {
          "output_type": "execute_result",
          "data": {
            "text/plain": [
              "85468"
            ]
          },
          "metadata": {},
          "execution_count": 33
        }
      ]
    },
    {
      "cell_type": "code",
      "source": [
        "oracle_caida2006 = Oracle(graph=caida2006.get_graph(0))\n",
        "oracle_caida2006.train()"
      ],
      "metadata": {
        "colab": {
          "base_uri": "https://localhost:8080/"
        },
        "id": "EaG0jbxMmGi_",
        "outputId": "1699e71e-35c3-482d-df79-34e8d3f1b451"
      },
      "execution_count": 34,
      "outputs": [
        {
          "output_type": "stream",
          "name": "stdout",
          "text": [
            "Cacluate total trees...\n",
            "Counting Trees per edges...\n",
            "0.0% 10.0% 20.0% 30.0% 40.0% 50.0% 60.0% 70.0% 80.0% 90.0% \n",
            "Sorting and selecting top N_e\n",
            "Training oracle completed!\n"
          ]
        }
      ]
    },
    {
      "cell_type": "code",
      "source": [
        "estimator_caida2006 = Estimator(graph=caida2006.get_graph(1), oracle=oracle_caida2006\n",
        "                               , epsilon=0.05, alpha = 3, beta = 1, gamma = 0.3)"
      ],
      "metadata": {
        "colab": {
          "base_uri": "https://localhost:8080/"
        },
        "id": "LihdMO4yncIR",
        "outputId": "5567850a-8e67-48fa-dcc3-d1f4c9113edb"
      },
      "execution_count": 35,
      "outputs": [
        {
          "output_type": "stream",
          "name": "stdout",
          "text": [
            "T = 30433, rho = 1375.253532356451, p1 = 0.8725663826827915, p2 = 1, p3 = 0.8690522174701264\n"
          ]
        }
      ]
    },
    {
      "cell_type": "code",
      "source": [
        "estimated_number_trees_caida2006 = estimator_caida2006.estimate_number_trees()"
      ],
      "metadata": {
        "colab": {
          "base_uri": "https://localhost:8080/"
        },
        "id": "oOilFWb9niA9",
        "outputId": "edcb1170-033b-498f-c0a1-7c459f02d3ac"
      },
      "execution_count": 36,
      "outputs": [
        {
          "output_type": "stream",
          "name": "stdout",
          "text": [
            "0% 10% 20% 30% 40% 50% 60% 70% 80% 90% 100% Len(S_l) = 41440, Len(S_m) = 568, Len(S_aux)=74325\n",
            "A_l 17309, A_m = 10808, A_h = 0\n"
          ]
        }
      ]
    },
    {
      "cell_type": "code",
      "source": [
        "estimated_number_trees_caida2006"
      ],
      "metadata": {
        "colab": {
          "base_uri": "https://localhost:8080/"
        },
        "id": "8A0_SL101syc",
        "outputId": "a1e42c73-cd50-48f3-91f5-395ec0e0322f"
      },
      "execution_count": 37,
      "outputs": [
        {
          "output_type": "execute_result",
          "data": {
            "text/plain": [
              "30644.88615963151"
            ]
          },
          "metadata": {},
          "execution_count": 37
        }
      ]
    },
    {
      "cell_type": "code",
      "source": [
        "caida2006.get_graph(1).get_number_trees()"
      ],
      "metadata": {
        "colab": {
          "base_uri": "https://localhost:8080/"
        },
        "id": "w-DG6OJS8DTC",
        "outputId": "0c864bd2-6591-498c-ee4f-e4c09ad5f510"
      },
      "execution_count": 38,
      "outputs": [
        {
          "output_type": "execute_result",
          "data": {
            "text/plain": [
              "30689"
            ]
          },
          "metadata": {},
          "execution_count": 38
        }
      ]
    }
  ]
}