{
  "nbformat": 4,
  "nbformat_minor": 0,
  "metadata": {
    "colab": {
      "name": "BigData-Project.ipynb",
      "provenance": [],
      "authorship_tag": "ABX9TyPd65+IHK0mU+kTb9SbcA0N",
      "include_colab_link": true
    },
    "kernelspec": {
      "name": "python3",
      "display_name": "Python 3"
    },
    "language_info": {
      "name": "python"
    }
  },
  "cells": [
    {
      "cell_type": "markdown",
      "metadata": {
        "id": "view-in-github",
        "colab_type": "text"
      },
      "source": [
        "<a href=\"https://colab.research.google.com/github/AUT-Student/BigData-Project/blob/main/BigData_Project.ipynb\" target=\"_parent\"><img src=\"https://colab.research.google.com/assets/colab-badge.svg\" alt=\"Open In Colab\"/></a>"
      ]
    },
    {
      "cell_type": "markdown",
      "source": [
        "# Library"
      ],
      "metadata": {
        "id": "wusr27wnftZx"
      }
    },
    {
      "cell_type": "code",
      "execution_count": null,
      "metadata": {
        "id": "X1VtRcdFfnbi"
      },
      "outputs": [],
      "source": [
        ""
      ]
    },
    {
      "cell_type": "markdown",
      "source": [
        "# Dataset"
      ],
      "metadata": {
        "id": "AJt4yvU7fvlG"
      }
    },
    {
      "cell_type": "markdown",
      "source": [
        "## CAIDA"
      ],
      "metadata": {
        "id": "RVaWSWkAgBxg"
      }
    },
    {
      "cell_type": "code",
      "source": [
        "!gdown https://snap.stanford.edu/data/as-caida.tar.gz\n",
        "!mkdir caida\n",
        "!tar -C /content/caida -xzf /content/as-caida.tar.gz "
      ],
      "metadata": {
        "colab": {
          "base_uri": "https://localhost:8080/"
        },
        "id": "rKwOiwXqfwSP",
        "outputId": "9b6299c2-5db1-4591-c79f-48208a297e3e"
      },
      "execution_count": 1,
      "outputs": [
        {
          "output_type": "stream",
          "name": "stdout",
          "text": [
            "Downloading...\n",
            "From: https://snap.stanford.edu/data/as-caida.tar.gz\n",
            "To: /content/as-caida.tar.gz\n",
            "100% 46.4M/46.4M [00:03<00:00, 12.1MB/s]\n",
            "as-caida20071112.txt\n",
            "as-caida20071105.txt\n",
            "as-caida20071029.txt\n",
            "as-caida20071022.txt\n",
            "as-caida20071015.txt\n",
            "as-caida20071008.txt\n",
            "as-caida20071001.txt\n",
            "as-caida20070924.txt\n",
            "as-caida20070917.txt\n",
            "as-caida20070910.txt\n",
            "as-caida20070903.txt\n",
            "as-caida20070827.txt\n",
            "as-caida20070820.txt\n",
            "as-caida20070813.txt\n",
            "as-caida20070806.txt\n",
            "as-caida20070730.txt\n",
            "as-caida20070723.txt\n",
            "as-caida20070716.txt\n",
            "as-caida20070709.txt\n",
            "as-caida20070702.txt\n",
            "as-caida20070625.txt\n",
            "as-caida20070618.txt\n",
            "as-caida20070611.txt\n",
            "as-caida20070604.txt\n",
            "as-caida20070528.txt\n",
            "as-caida20070521.txt\n",
            "as-caida20070514.txt\n",
            "as-caida20070507.txt\n",
            "as-caida20070430.txt\n",
            "as-caida20070423.txt\n",
            "as-caida20070416.txt\n",
            "as-caida20070409.txt\n",
            "as-caida20070402.txt\n",
            "as-caida20070326.txt\n",
            "as-caida20070319.txt\n",
            "as-caida20070312.txt\n",
            "as-caida20070305.txt\n",
            "as-caida20070226.txt\n",
            "as-caida20070219.txt\n",
            "as-caida20070212.txt\n",
            "as-caida20070205.txt\n",
            "as-caida20070129.txt\n",
            "as-caida20070122.txt\n",
            "as-caida20070115.txt\n",
            "as-caida20070108.txt\n",
            "as-caida20070101.txt\n",
            "as-caida20061225.txt\n",
            "as-caida20061218.txt\n",
            "as-caida20061211.txt\n",
            "as-caida20061204.txt\n",
            "as-caida20061127.txt\n",
            "as-caida20061120.txt\n",
            "as-caida20061113.txt\n",
            "as-caida20061106.txt\n",
            "as-caida20061030.txt\n",
            "as-caida20061023.txt\n",
            "as-caida20061016.txt\n",
            "as-caida20061009.txt\n",
            "as-caida20061002.txt\n",
            "as-caida20060925.txt\n",
            "as-caida20060918.txt\n",
            "as-caida20060911.txt\n",
            "as-caida20060904.txt\n",
            "as-caida20060828.txt\n",
            "as-caida20060821.txt\n",
            "as-caida20060814.txt\n",
            "as-caida20060807.txt\n",
            "as-caida20060731.txt\n",
            "as-caida20060724.txt\n",
            "as-caida20060717.txt\n",
            "as-caida20060710.txt\n",
            "as-caida20060703.txt\n",
            "as-caida20060626.txt\n",
            "as-caida20060619.txt\n",
            "as-caida20060612.txt\n",
            "as-caida20060605.txt\n",
            "as-caida20060529.txt\n",
            "as-caida20060522.txt\n",
            "as-caida20060515.txt\n",
            "as-caida20060508.txt\n",
            "as-caida20060501.txt\n",
            "as-caida20060424.txt\n",
            "as-caida20060417.txt\n",
            "as-caida20060410.txt\n",
            "as-caida20060403.txt\n",
            "as-caida20060327.txt\n",
            "as-caida20060320.txt\n",
            "as-caida20060313.txt\n",
            "as-caida20060306.txt\n",
            "as-caida20060227.txt\n",
            "as-caida20060220.txt\n",
            "as-caida20060213.txt\n",
            "as-caida20060206.txt\n",
            "as-caida20060130.txt\n",
            "as-caida20060123.txt\n",
            "as-caida20060116.txt\n",
            "as-caida20060109.txt\n",
            "as-caida20060102.txt\n",
            "as-caida20051205.txt\n",
            "as-caida20051107.txt\n",
            "as-caida20051003.txt\n",
            "as-caida20050905.txt\n",
            "as-caida20050801.txt\n",
            "as-caida20050704.txt\n",
            "as-caida20050606.txt\n",
            "as-caida20050502.txt\n",
            "as-caida20050404.txt\n",
            "as-caida20050307.txt\n",
            "as-caida20050207.txt\n",
            "as-caida20050103.txt\n",
            "as-caida20041206.txt\n",
            "as-caida20041101.txt\n",
            "as-caida20041004.txt\n",
            "as-caida20040906.txt\n",
            "as-caida20040802.txt\n",
            "as-caida20040705.txt\n",
            "as-caida20040607.txt\n",
            "as-caida20040503.txt\n",
            "as-caida20040405.txt\n",
            "as-caida20040301.txt\n",
            "as-caida20040202.txt\n",
            "as-caida20040105.txt\n"
          ]
        }
      ]
    },
    {
      "cell_type": "code",
      "source": [
        "!grep as-caida2006 /content/caida/* | wc -l"
      ],
      "metadata": {
        "colab": {
          "base_uri": "https://localhost:8080/"
        },
        "id": "K0Bq6reRgKfo",
        "outputId": "1444c5d4-3545-439a-a7f0-64d570ea2a25"
      },
      "execution_count": 2,
      "outputs": [
        {
          "output_type": "stream",
          "name": "stdout",
          "text": [
            "52\n"
          ]
        }
      ]
    },
    {
      "cell_type": "code",
      "source": [
        "!grep as-caida2007 /content/caida/* | wc -l"
      ],
      "metadata": {
        "colab": {
          "base_uri": "https://localhost:8080/"
        },
        "id": "_RbddHnpiTS-",
        "outputId": "4d7a797f-6370-443b-d0f1-a23f732d5626"
      },
      "execution_count": 3,
      "outputs": [
        {
          "output_type": "stream",
          "name": "stdout",
          "text": [
            "46\n"
          ]
        }
      ]
    },
    {
      "cell_type": "code",
      "source": [
        "!head /content/caida/as-caida20060102.txt -n 40"
      ],
      "metadata": {
        "colab": {
          "base_uri": "https://localhost:8080/"
        },
        "id": "zKtkOIb3jP0U",
        "outputId": "6e49d829-9ce0-4f60-f88d-fb2d04688620"
      },
      "execution_count": 4,
      "outputs": [
        {
          "output_type": "stream",
          "name": "stdout",
          "text": [
            "# Directed graph: as-caida20060102.txt\n",
            "# The CAIDA AS Relationships Dataset, from 01 02 2006\n",
            "# Relationships:\t-1 (<FromNodeId> is a customer of <ToNodeId>)\n",
            "# \t\t\t1 (<FromNodeId> is a provider of <ToNodeId>)\n",
            "# \t\t\t0 (<FromNodeId> and <ToNodeId> are peers)\n",
            "# \t\t\t2 (<FromNodeId> and <ToNodeId> are siblings (the same organization).)\n",
            "# Nodes:21202\tEdges: 85850\n",
            "# FromNodeId        ToNodeId\tRelationship\n",
            "8563\t26716\t1\n",
            "8563\t2914\t-1\n",
            "8563\t21414\t-1\n",
            "8563\t21482\t1\n",
            "8563\t3277\t0\n",
            "8563\t4323\t-1\n",
            "28801\t702\t-1\n",
            "28801\t8422\t-1\n",
            "28801\t8220\t-1\n",
            "5006\t20283\t1\n",
            "5006\t21902\t1\n",
            "5006\t25637\t1\n",
            "5006\t17162\t1\n",
            "5006\t18581\t1\n",
            "5006\t11401\t1\n",
            "5006\t16904\t1\n",
            "5006\t21730\t1\n",
            "5006\t32461\t1\n",
            "5006\t7018\t-1\n",
            "5006\t14278\t1\n",
            "5006\t1347\t2\n",
            "5006\t32664\t1\n",
            "5006\t33111\t1\n",
            "5006\t26021\t1\n",
            "5006\t23359\t1\n",
            "5006\t21951\t1\n",
            "5006\t7792\t1\n",
            "5006\t16595\t1\n",
            "5006\t10337\t1\n",
            "5006\t18699\t1\n",
            "5006\t32110\t1\n",
            "5006\t7973\t1\n"
          ]
        }
      ]
    },
    {
      "cell_type": "markdown",
      "source": [
        "## Oregon"
      ],
      "metadata": {
        "id": "7xPifcOjkai0"
      }
    },
    {
      "cell_type": "code",
      "source": [
        "!rm oregon -r"
      ],
      "metadata": {
        "id": "Qo9bKPYmnBIl"
      },
      "execution_count": 9,
      "outputs": []
    },
    {
      "cell_type": "code",
      "source": [
        "!mkdir oregon\n",
        "%cd oregon\n",
        "\n",
        "!gdown https://snap.stanford.edu/data/oregon1_010331.txt.gz\n",
        "!gdown https://snap.stanford.edu/data/oregon1_010407.txt.gz\n",
        "!gdown https://snap.stanford.edu/data/oregon1_010414.txt.gz\n",
        "!gdown https://snap.stanford.edu/data/oregon1_010421.txt.gz\n",
        "!gdown https://snap.stanford.edu/data/oregon1_010428.txt.gz\n",
        "!gdown https://snap.stanford.edu/data/oregon1_010505.txt.gz\n",
        "!gdown https://snap.stanford.edu/data/oregon1_010512.txt.gz\n",
        "!gdown https://snap.stanford.edu/data/oregon1_010519.txt.gz\n",
        "!gdown https://snap.stanford.edu/data/oregon1_010526.txt.gz\n",
        "\n",
        "\n",
        "!gunzip oregon1_010331.txt.gz\n",
        "!gunzip oregon1_010407.txt.gz\n",
        "!gunzip oregon1_010414.txt.gz\n",
        "!gunzip oregon1_010421.txt.gz\n",
        "!gunzip oregon1_010428.txt.gz\n",
        "!gunzip oregon1_010505.txt.gz\n",
        "!gunzip oregon1_010512.txt.gz\n",
        "!gunzip oregon1_010519.txt.gz\n",
        "!gunzip oregon1_010526.txt.gz\n",
        "\n",
        "%cd .."
      ],
      "metadata": {
        "colab": {
          "base_uri": "https://localhost:8080/"
        },
        "id": "-w2orQRBlEz6",
        "outputId": "b1442795-4acf-40c2-a388-95a1a37774a9"
      },
      "execution_count": 10,
      "outputs": [
        {
          "output_type": "stream",
          "name": "stdout",
          "text": [
            "/content/oregon\n",
            "Downloading...\n",
            "From: https://snap.stanford.edu/data/oregon1_010331.txt.gz\n",
            "To: /content/oregon/oregon1_010331.txt.gz\n",
            "100% 69.1k/69.1k [00:00<00:00, 253kB/s]\n",
            "Downloading...\n",
            "From: https://snap.stanford.edu/data/oregon1_010407.txt.gz\n",
            "To: /content/oregon/oregon1_010407.txt.gz\n",
            "100% 69.3k/69.3k [00:00<00:00, 340kB/s]\n",
            "Downloading...\n",
            "From: https://snap.stanford.edu/data/oregon1_010414.txt.gz\n",
            "To: /content/oregon/oregon1_010414.txt.gz\n",
            "100% 69.8k/69.8k [00:00<00:00, 344kB/s]\n",
            "Downloading...\n",
            "From: https://snap.stanford.edu/data/oregon1_010421.txt.gz\n",
            "To: /content/oregon/oregon1_010421.txt.gz\n",
            "100% 70.7k/70.7k [00:00<00:00, 348kB/s]\n",
            "Downloading...\n",
            "From: https://snap.stanford.edu/data/oregon1_010428.txt.gz\n",
            "To: /content/oregon/oregon1_010428.txt.gz\n",
            "100% 70.1k/70.1k [00:00<00:00, 256kB/s]\n",
            "Downloading...\n",
            "From: https://snap.stanford.edu/data/oregon1_010505.txt.gz\n",
            "To: /content/oregon/oregon1_010505.txt.gz\n",
            "100% 70.5k/70.5k [00:00<00:00, 346kB/s]\n",
            "Downloading...\n",
            "From: https://snap.stanford.edu/data/oregon1_010512.txt.gz\n",
            "To: /content/oregon/oregon1_010512.txt.gz\n",
            "100% 70.7k/70.7k [00:00<00:00, 255kB/s]\n",
            "Downloading...\n",
            "From: https://snap.stanford.edu/data/oregon1_010519.txt.gz\n",
            "To: /content/oregon/oregon1_010519.txt.gz\n",
            "100% 70.9k/70.9k [00:00<00:00, 352kB/s]\n",
            "Downloading...\n",
            "From: https://snap.stanford.edu/data/oregon1_010526.txt.gz\n",
            "To: /content/oregon/oregon1_010526.txt.gz\n",
            "100% 72.9k/72.9k [00:00<00:00, 266kB/s]\n",
            "/content\n"
          ]
        }
      ]
    }
  ]
}