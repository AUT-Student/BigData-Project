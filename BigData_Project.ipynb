{
  "nbformat": 4,
  "nbformat_minor": 0,
  "metadata": {
    "colab": {
      "name": "BigData-Project.ipynb",
      "provenance": [],
      "collapsed_sections": [],
      "toc_visible": true,
      "include_colab_link": true
    },
    "kernelspec": {
      "name": "python3",
      "display_name": "Python 3"
    },
    "language_info": {
      "name": "python"
    }
  },
  "cells": [
    {
      "cell_type": "markdown",
      "metadata": {
        "id": "view-in-github",
        "colab_type": "text"
      },
      "source": [
        "<a href=\"https://colab.research.google.com/github/AUT-Student/BigData-Project/blob/main/BigData_Project.ipynb\" target=\"_parent\"><img src=\"https://colab.research.google.com/assets/colab-badge.svg\" alt=\"Open In Colab\"/></a>"
      ]
    },
    {
      "cell_type": "markdown",
      "source": [
        "<center><b>In the name of God</b></center>\n",
        "\n",
        "<b>Course</b>: ‌Big Data\n",
        "<br>\n",
        "<b>Description:</b> Final Project\n",
        "<br>\n",
        "<b>Developers</b>: \n",
        "* Seyyed Hossein Khatami (400131077)\n",
        "* Alireza Mazochi (400131075)"
      ],
      "metadata": {
        "id": "dgUukqjpZx35"
      }
    },
    {
      "cell_type": "markdown",
      "source": [
        "# Library"
      ],
      "metadata": {
        "id": "wusr27wnftZx"
      }
    },
    {
      "cell_type": "code",
      "execution_count": 21,
      "metadata": {
        "id": "X1VtRcdFfnbi"
      },
      "outputs": [],
      "source": [
        "from abc import ABC, abstractmethod\n",
        "from dataclasses import dataclass\n",
        "import matplotlib.pyplot as plt\n",
        "from copy import deepcopy\n",
        "import pandas as pd\n",
        "import numpy as np\n",
        "import random\n",
        "import heapq\n",
        "import math\n",
        "import glob\n",
        "import time"
      ]
    },
    {
      "cell_type": "code",
      "source": [
        "DEBUG = True"
      ],
      "metadata": {
        "id": "kehzW5x-VZ4l"
      },
      "execution_count": 43,
      "outputs": []
    },
    {
      "cell_type": "markdown",
      "source": [
        "# Load Datasets"
      ],
      "metadata": {
        "id": "AJt4yvU7fvlG"
      }
    },
    {
      "cell_type": "markdown",
      "source": [
        "## CAIDA"
      ],
      "metadata": {
        "id": "RVaWSWkAgBxg"
      }
    },
    {
      "cell_type": "code",
      "source": [
        "!gdown https://snap.stanford.edu/data/as-caida.tar.gz\n",
        "!mkdir caida\n",
        "!tar -C /content/caida -xzf /content/as-caida.tar.gz "
      ],
      "metadata": {
        "colab": {
          "base_uri": "https://localhost:8080/"
        },
        "id": "rKwOiwXqfwSP",
        "outputId": "bdbc36c2-089e-41d5-f9f9-8af6467450d4"
      },
      "execution_count": 3,
      "outputs": [
        {
          "output_type": "stream",
          "name": "stdout",
          "text": [
            "Downloading...\n",
            "From: https://snap.stanford.edu/data/as-caida.tar.gz\n",
            "To: /content/as-caida.tar.gz\n",
            "100% 46.4M/46.4M [00:03<00:00, 13.5MB/s]\n",
            "mkdir: cannot create directory ‘caida’: File exists\n"
          ]
        }
      ]
    },
    {
      "cell_type": "markdown",
      "source": [
        "## Oregon"
      ],
      "metadata": {
        "id": "7xPifcOjkai0"
      }
    },
    {
      "cell_type": "code",
      "source": [
        "!rm oregon -r"
      ],
      "metadata": {
        "id": "Qo9bKPYmnBIl"
      },
      "execution_count": 4,
      "outputs": []
    },
    {
      "cell_type": "code",
      "source": [
        "!mkdir oregon\n",
        "%cd oregon\n",
        "\n",
        "!gdown https://snap.stanford.edu/data/oregon1_010331.txt.gz\n",
        "!gdown https://snap.stanford.edu/data/oregon1_010407.txt.gz\n",
        "!gdown https://snap.stanford.edu/data/oregon1_010414.txt.gz\n",
        "!gdown https://snap.stanford.edu/data/oregon1_010421.txt.gz\n",
        "!gdown https://snap.stanford.edu/data/oregon1_010428.txt.gz\n",
        "!gdown https://snap.stanford.edu/data/oregon1_010505.txt.gz\n",
        "!gdown https://snap.stanford.edu/data/oregon1_010512.txt.gz\n",
        "!gdown https://snap.stanford.edu/data/oregon1_010519.txt.gz\n",
        "!gdown https://snap.stanford.edu/data/oregon1_010526.txt.gz\n",
        "\n",
        "\n",
        "!gunzip oregon1_010331.txt.gz\n",
        "!gunzip oregon1_010407.txt.gz\n",
        "!gunzip oregon1_010414.txt.gz\n",
        "!gunzip oregon1_010421.txt.gz\n",
        "!gunzip oregon1_010428.txt.gz\n",
        "!gunzip oregon1_010505.txt.gz\n",
        "!gunzip oregon1_010512.txt.gz\n",
        "!gunzip oregon1_010519.txt.gz\n",
        "!gunzip oregon1_010526.txt.gz\n",
        "\n",
        "%cd .."
      ],
      "metadata": {
        "colab": {
          "base_uri": "https://localhost:8080/"
        },
        "id": "-w2orQRBlEz6",
        "outputId": "349b9c12-deee-4a77-b996-6f3a6d9ab72b"
      },
      "execution_count": 5,
      "outputs": [
        {
          "output_type": "stream",
          "name": "stdout",
          "text": [
            "/content/oregon\n",
            "Downloading...\n",
            "From: https://snap.stanford.edu/data/oregon1_010331.txt.gz\n",
            "To: /content/oregon/oregon1_010331.txt.gz\n",
            "100% 69.1k/69.1k [00:00<00:00, 342kB/s]\n",
            "Downloading...\n",
            "From: https://snap.stanford.edu/data/oregon1_010407.txt.gz\n",
            "To: /content/oregon/oregon1_010407.txt.gz\n",
            "100% 69.3k/69.3k [00:00<00:00, 337kB/s]\n",
            "Downloading...\n",
            "From: https://snap.stanford.edu/data/oregon1_010414.txt.gz\n",
            "To: /content/oregon/oregon1_010414.txt.gz\n",
            "100% 69.8k/69.8k [00:00<00:00, 341kB/s]\n",
            "Downloading...\n",
            "From: https://snap.stanford.edu/data/oregon1_010421.txt.gz\n",
            "To: /content/oregon/oregon1_010421.txt.gz\n",
            "100% 70.7k/70.7k [00:00<00:00, 346kB/s]\n",
            "Downloading...\n",
            "From: https://snap.stanford.edu/data/oregon1_010428.txt.gz\n",
            "To: /content/oregon/oregon1_010428.txt.gz\n",
            "100% 70.1k/70.1k [00:00<00:00, 348kB/s]\n",
            "Downloading...\n",
            "From: https://snap.stanford.edu/data/oregon1_010505.txt.gz\n",
            "To: /content/oregon/oregon1_010505.txt.gz\n",
            "100% 70.5k/70.5k [00:00<00:00, 344kB/s]\n",
            "Downloading...\n",
            "From: https://snap.stanford.edu/data/oregon1_010512.txt.gz\n",
            "To: /content/oregon/oregon1_010512.txt.gz\n",
            "100% 70.7k/70.7k [00:00<00:00, 346kB/s]\n",
            "Downloading...\n",
            "From: https://snap.stanford.edu/data/oregon1_010519.txt.gz\n",
            "To: /content/oregon/oregon1_010519.txt.gz\n",
            "100% 70.9k/70.9k [00:00<00:00, 348kB/s]\n",
            "Downloading...\n",
            "From: https://snap.stanford.edu/data/oregon1_010526.txt.gz\n",
            "To: /content/oregon/oregon1_010526.txt.gz\n",
            "100% 72.9k/72.9k [00:00<00:00, 358kB/s]\n",
            "/content\n"
          ]
        }
      ]
    },
    {
      "cell_type": "markdown",
      "source": [
        "# Data Structure Classes"
      ],
      "metadata": {
        "id": "L2_9liTVezAd"
      }
    },
    {
      "cell_type": "markdown",
      "source": [
        "## Edge Class"
      ],
      "metadata": {
        "id": "bdCCnBYfd3lH"
      }
    },
    {
      "cell_type": "code",
      "source": [
        "@dataclass(init=True, eq=True, frozen=True)\n",
        "class Edge:\n",
        "  source: int\n",
        "  destination: int\n",
        "\n",
        "  def get_reverse(self):\n",
        "    return Edge(source=self.destination, destination=self.source)\n",
        "\n",
        "  def get_minmax(self):\n",
        "    return Edge(source=min(self.source, self.destination),\n",
        "                destination=max(self.source, self.destination))"
      ],
      "metadata": {
        "id": "7Yfc5C19d5CM"
      },
      "execution_count": 6,
      "outputs": []
    },
    {
      "cell_type": "markdown",
      "source": [
        "## Graph Class"
      ],
      "metadata": {
        "id": "y5U0Qg7xq0d6"
      }
    },
    {
      "cell_type": "code",
      "source": [
        "class Graph():\n",
        "  def __init__(self, directed):\n",
        "    self.edges = set()\n",
        "    self.nodes = set()\n",
        "    self.node_order = list()\n",
        "    self.node_order_dictionary = dict()\n",
        "\n",
        "    self.reset_statics()\n",
        "\n",
        "  def _set_order(self, node):\n",
        "    if node not in self.node_order_dictionary:\n",
        "      self.node_order_dictionary[node] = len(self.node_order)\n",
        "      self.node_order.append(node)\n",
        "\n",
        "  def get_order(self, node):\n",
        "    return self.node_order_dictionary[node]\n",
        "\n",
        "  def add_edge(self, edge:Edge):\n",
        "    self.nodes.add(edge.source)\n",
        "    self.nodes.add(edge.destination)\n",
        "    self.edges.add(edge)\n",
        "\n",
        "    self._set_order(edge.source)\n",
        "\n",
        "  def finish(self):\n",
        "    for node in self.nodes:\n",
        "      # Set order for remaining nodes\n",
        "      self._set_order(node)\n",
        "\n",
        "    self.reset_statics()\n",
        "\n",
        "  def reset_statics(self):\n",
        "    self.number_trees = None\n",
        "    self.node_adjacency_list = None\n",
        "\n",
        "  def number_nodes(self):\n",
        "    return len(self.nodes)\n",
        "  \n",
        "  def number_edges(self):\n",
        "    return len(self.edges)\n",
        "\n",
        "  def get_edges(self):\n",
        "    return self.edges\n",
        "  \n",
        "  def get_nodes(self):\n",
        "    return self.nodes\n",
        "\n",
        "  def get_node(self, node_id):\n",
        "    return self.node_order[node_id]\n",
        "  \n",
        "  def get_node_adjacency_list(self, node_id):\n",
        "    if self.node_adjacency_list is None:\n",
        "      self.calculate_node_adjacency_list()\n",
        "    \n",
        "    return self.node_adjacency_list[self.get_node(node_id)]\n",
        "\n",
        "  def calculate_node_adjacency_list(self):\n",
        "    self.node_adjacency_list = dict()\n",
        "\n",
        "    for node in self.nodes:\n",
        "      self.node_adjacency_list[node] = set()\n",
        "    \n",
        "    for edge in self.edges:\n",
        "      self.node_adjacency_list[edge.source].add(edge.destination) \n",
        "      self.node_adjacency_list[edge.destination].add(edge.source) \n",
        "    \n",
        "  def calculate_number_trees(self):\n",
        "    if self.number_trees is not None:\n",
        "      return self.number_trees\n",
        "\n",
        "    self.number_trees = 0\n",
        "    for node_x in self.nodes:\n",
        "      for node_y in self.node_adjacency_list[node_x]:\n",
        "        for node_z in self.node_adjacency_list[node_x]:\n",
        "\n",
        "          if node_x < node_y < node_z:\n",
        "            if node_z in self.node_adjacency_list[node_y]:\n",
        "              self.number_trees += 1\n",
        "\n",
        "  def get_number_trees(self):\n",
        "    if self.number_trees is None:\n",
        "      self.calculate_number_trees()\n",
        "\n",
        "    return self.number_trees\n",
        "\n",
        "  def get_N_edge(self, edge):\n",
        "    node_x = edge.source\n",
        "    node_y = edge.destination\n",
        "\n",
        "    number_trees = 0\n",
        "\n",
        "    for node_z in self.node_adjacency_list[node_x]:\n",
        "      if node_z in self.node_adjacency_list[node_y]:\n",
        "        number_trees += 1\n",
        "    \n",
        "    return number_trees\n",
        "\n",
        "  def get_R_edge(self, edge):\n",
        "    node_x = edge.source\n",
        "    node_y = edge.destination\n",
        "\n",
        "    node_x_order = self.get_order(node_x)\n",
        "    node_y_order = self.get_order(node_y)\n",
        "\n",
        "    if node_x_order > node_y_order:\n",
        "      return 0\n",
        "\n",
        "    number_trees = 0\n",
        "\n",
        "    for node_z in self.node_adjacency_list[node_x]:\n",
        "      if node_z in self.node_adjacency_list[node_y]:\n",
        "        if node_x_order < self.get_order(node_z) < node_y_order:\n",
        "          number_trees += 1\n",
        "          \n",
        "    return number_trees"
      ],
      "metadata": {
        "id": "A6HI35X6oy9M"
      },
      "execution_count": 7,
      "outputs": []
    },
    {
      "cell_type": "markdown",
      "source": [
        "## Snapshot"
      ],
      "metadata": {
        "id": "ad_y7yRy3wSf"
      }
    },
    {
      "cell_type": "code",
      "source": [
        "class Snapshot():\n",
        "  def __init__(self, dataset_path):\n",
        "    self.dataset_path = dataset_path\n",
        "    self.graphs = list()\n",
        "\n",
        "  def load_graphs(self):\n",
        "    for path in sorted(glob.glob(pathname=self.dataset_path, recursive=True)):\n",
        "      print(\".\", end=\"\")\n",
        "      graph = Graph(directed=False)\n",
        "\n",
        "      with open(path, \"r\") as file:\n",
        "        for i, line in enumerate(file.readlines()):\n",
        "          if line[0] == \"#\": continue\n",
        "          \n",
        "          source, destination = line[:-1].split(\"\\t\")[:2]\n",
        "          if source == destination: continue\n",
        "          edge = Edge(source=int(source), destination=int(destination))\n",
        "          graph.add_edge(edge)\n",
        "        \n",
        "      graph.finish()\n",
        "      graph.calculate_node_adjacency_list()\n",
        "      self.graphs.append(graph)\n",
        "\n",
        "  def get_graph(self, i):\n",
        "    return self.graphs[i]\n",
        "  \n",
        "  def number_graphs(self):\n",
        "    return len(self.graphs)"
      ],
      "metadata": {
        "id": "u7AJS2NV31TO"
      },
      "execution_count": 8,
      "outputs": []
    },
    {
      "cell_type": "markdown",
      "source": [
        "# Load Dataset"
      ],
      "metadata": {
        "id": "82eK6x4J9i2R"
      }
    },
    {
      "cell_type": "markdown",
      "source": [
        "## Oregon"
      ],
      "metadata": {
        "id": "bw6uqAUfJsHL"
      }
    },
    {
      "cell_type": "code",
      "source": [
        "oregon = Snapshot(dataset_path = \"/content/oregon/*\")"
      ],
      "metadata": {
        "id": "sw0gyo8b6jNk"
      },
      "execution_count": 9,
      "outputs": []
    },
    {
      "cell_type": "code",
      "source": [
        "oregon.load_graphs()"
      ],
      "metadata": {
        "colab": {
          "base_uri": "https://localhost:8080/"
        },
        "id": "It9JIEmL7tsy",
        "outputId": "632aa1c4-c138-4d96-9d93-d84cc62bf628"
      },
      "execution_count": 10,
      "outputs": [
        {
          "output_type": "stream",
          "name": "stdout",
          "text": [
            "........."
          ]
        }
      ]
    },
    {
      "cell_type": "code",
      "source": [
        "oregon.number_graphs()"
      ],
      "metadata": {
        "colab": {
          "base_uri": "https://localhost:8080/"
        },
        "id": "QT6Yvca77z5b",
        "outputId": "cf665a1e-c330-4708-9476-ed05e65c67b4"
      },
      "execution_count": 11,
      "outputs": [
        {
          "output_type": "execute_result",
          "data": {
            "text/plain": [
              "9"
            ]
          },
          "metadata": {},
          "execution_count": 11
        }
      ]
    },
    {
      "cell_type": "markdown",
      "source": [
        "## Caida 2006"
      ],
      "metadata": {
        "id": "KlJ5C_uTJuQJ"
      }
    },
    {
      "cell_type": "code",
      "source": [
        "caida2006 = Snapshot(dataset_path = \"/content/caida/as-caida2006*\")"
      ],
      "metadata": {
        "id": "-WcaOvy06qJP"
      },
      "execution_count": 12,
      "outputs": []
    },
    {
      "cell_type": "code",
      "source": [
        "caida2006.load_graphs()"
      ],
      "metadata": {
        "id": "W7IV6nks8IDd",
        "colab": {
          "base_uri": "https://localhost:8080/"
        },
        "outputId": "9c249d87-7641-4452-9c9d-64df1e55e1e6"
      },
      "execution_count": 13,
      "outputs": [
        {
          "output_type": "stream",
          "name": "stdout",
          "text": [
            "...................................................."
          ]
        }
      ]
    },
    {
      "cell_type": "code",
      "source": [
        "caida2006.number_graphs()"
      ],
      "metadata": {
        "id": "wJ3flCsO8Be5",
        "colab": {
          "base_uri": "https://localhost:8080/"
        },
        "outputId": "f682876c-27ff-4e85-f8b0-f655d60fbdf7"
      },
      "execution_count": 14,
      "outputs": [
        {
          "output_type": "execute_result",
          "data": {
            "text/plain": [
              "52"
            ]
          },
          "metadata": {},
          "execution_count": 14
        }
      ]
    },
    {
      "cell_type": "markdown",
      "source": [
        "## Caida 2007"
      ],
      "metadata": {
        "id": "g9phEBTbJwco"
      }
    },
    {
      "cell_type": "code",
      "source": [
        "caida2007 = Snapshot(dataset_path = \"/content/caida/as-caida2007*\")"
      ],
      "metadata": {
        "id": "XndTy_j66ys-"
      },
      "execution_count": 15,
      "outputs": []
    },
    {
      "cell_type": "code",
      "source": [
        "caida2007.load_graphs()"
      ],
      "metadata": {
        "colab": {
          "base_uri": "https://localhost:8080/"
        },
        "id": "YyCobVB_9Hhv",
        "outputId": "67217982-0995-4bcf-dac6-6ee10fcc9017"
      },
      "execution_count": 16,
      "outputs": [
        {
          "output_type": "stream",
          "name": "stdout",
          "text": [
            ".............................................."
          ]
        }
      ]
    },
    {
      "cell_type": "code",
      "source": [
        "caida2007.number_graphs()"
      ],
      "metadata": {
        "colab": {
          "base_uri": "https://localhost:8080/"
        },
        "id": "xkiu64qa9L-d",
        "outputId": "34505be0-bc9d-4129-d477-71130e54038e"
      },
      "execution_count": 17,
      "outputs": [
        {
          "output_type": "execute_result",
          "data": {
            "text/plain": [
              "46"
            ]
          },
          "metadata": {},
          "execution_count": 17
        }
      ]
    },
    {
      "cell_type": "markdown",
      "source": [
        "# Oracles"
      ],
      "metadata": {
        "id": "Vyb5SKIGpZac"
      }
    },
    {
      "cell_type": "markdown",
      "source": [
        "## Heavy Edge Oracle"
      ],
      "metadata": {
        "id": "C7ojGT_Av9WP"
      }
    },
    {
      "cell_type": "code",
      "source": [
        "class HeavyEdgeOracle():\n",
        "  def __init__(self, graph:Graph):\n",
        "    self.graph = graph\n",
        "    self.rho = None\n",
        "    self.T = None\n",
        "    self.N_edge = None\n",
        "\n",
        "  def set_rho(self, rho):\n",
        "    self.rho = rho\n",
        "\n",
        "  def train(self):\n",
        "    if DEBUG: print(\"Cacluate total trees...\")\n",
        "    self.graph.calculate_number_trees()\n",
        "    self.T = self.graph.get_number_trees()\n",
        "    self._calculate_N_edge()\n",
        "    if DEBUG: print(\"Training oracle completed!\")\n",
        "\n",
        "  def _calculate_N_edge(self):\n",
        "    N_edge_complete = list()\n",
        "\n",
        "    if DEBUG: print(\"Counting trees per edges (N_e)...\")\n",
        "    edges = self.graph.get_edges()\n",
        "    for i, edge in enumerate(edges):\n",
        "      if DEBUG and i % (len(edges)//10)==0:\n",
        "        print(f\"{round(i*100/len(edges), 0)}%\", end=\" \")\n",
        "      if edge.source < edge.destination:\n",
        "        number_trees = self.graph.get_N_edge(edge)\n",
        "        \n",
        "        N_edge_complete.append({\"edge\": edge, \"number_trees\": number_trees})\n",
        "\n",
        "    if DEBUG: print(\"\\nSorting and selecting top N_e\")\n",
        "    N_edge_top = sorted(N_edge_complete, key=lambda x:-x[\"number_trees\"])[:len(N_edge_complete)//10]\n",
        "\n",
        "    self.N_edge = dict()\n",
        "    for item in N_edge_top:\n",
        "      self.N_edge[item[\"edge\"]] = item[\"number_trees\"]\n",
        "\n",
        "  def is_heavy(self, edge:Edge):\n",
        "    edge = edge.get_minmax()\n",
        "    if edge in self.N_edge:\n",
        "      return self.N_edge[edge] >= self.T/self.rho\n",
        "    else:\n",
        "      return False"
      ],
      "metadata": {
        "id": "hPUJkG7FvuXA"
      },
      "execution_count": 18,
      "outputs": []
    },
    {
      "cell_type": "markdown",
      "source": [
        "## Value Oracle"
      ],
      "metadata": {
        "id": "ZWBf5SoYS_Ar"
      }
    },
    {
      "cell_type": "code",
      "source": [
        "class ValueOracle():\n",
        "  def __init__(self, graph: Graph):\n",
        "    self.graph = graph\n",
        "    \n",
        "    self.alpha = 1\n",
        "    self.beta = 10\n",
        "    self.K = 1\n",
        "    self.T = None\n",
        "    self.N_edge = None\n",
        "\n",
        "\n",
        "  def train(self):\n",
        "    if DEBUG: print(\"Cacluate total trees...\")\n",
        "    self.graph.calculate_number_trees()\n",
        "    self.T = self.graph.get_number_trees()\n",
        "    self._calculate_N_edge()\n",
        "    if DEBUG: print(\"Training oracle completed!\")\n",
        "\n",
        "  def _calculate_N_edge(self):\n",
        "    N_edge_complete = list()\n",
        "\n",
        "    if DEBUG: print(\"Counting trees per edges (N_e)...\")\n",
        "    edges = self.graph.get_edges()\n",
        "    for i, edge in enumerate(edges):\n",
        "      if DEBUG and i % (len(edges)//10)==0:\n",
        "        print(f\"{round(i*100/len(edges), 0)}%\", end=\" \")\n",
        "      if edge.source < edge.destination:\n",
        "        number_trees = self.graph.get_N_edge(edge)\n",
        "        \n",
        "        N_edge_complete.append({\"edge\": edge, \"number_trees\": number_trees})\n",
        "\n",
        "    if DEBUG: print(\"\\nSorting and selecting top N_e\")\n",
        "    N_edge_top = sorted(N_edge_complete, key=lambda x:-x[\"number_trees\"])[:len(N_edge_complete)//10]\n",
        "\n",
        "    self.N_edge = dict()\n",
        "    for item in N_edge_top:\n",
        "      self.N_edge[item[\"edge\"]] = item[\"number_trees\"]\n",
        "\n",
        "  def estimate_N(self, edge:Edge):\n",
        "    return self.N_edge.get(edge.get_minmax(), 0) "
      ],
      "metadata": {
        "id": "eeerZZgYKSjL"
      },
      "execution_count": 19,
      "outputs": []
    },
    {
      "cell_type": "code",
      "source": [
        "# class ValueOracle():\n",
        "#   def __init__(self, graph: Graph):\n",
        "#     self.graph = graph\n",
        "    \n",
        "#     self.alpha = 1\n",
        "#     self.beta = 10\n",
        "#     self.K = 1\n",
        "#     self.T = None\n",
        "  \n",
        "#   def train(self):\n",
        "#     if DEBUG: print(\"Cacluate total trees...\")\n",
        "#     self.graph.calculate_number_trees()\n",
        "#     self.T = self.graph.get_number_trees()\n",
        "#     self._calculate_N_edge()\n",
        "#     if DEBUG: print(\"Training oracle completed!\")\n",
        "\n",
        "#   def _calculate_N_edge(self):\n",
        "#     R_edge_complete = list()\n",
        "\n",
        "#     if DEBUG: print(\"Counting Ordered trees per edges (R_e)...\")\n",
        "#     edges = self.graph.get_edges()\n",
        "#     for i, edge in enumerate(edges):\n",
        "#       if DEBUG and i % (len(edges)//10)==0:\n",
        "#         print(f\"{round(i*100/len(edges), 0)}%\", end=\" \")\n",
        "#       if self.graph.get_order(edge.source) < self.graph.get_order(edge.destination):\n",
        "#         number_trees = self.graph.get_R_edge(edge)\n",
        "        \n",
        "#         if number_trees > 0:\n",
        "#           R_edge_complete.append({\"edge\": edge, \"number_trees\": number_trees})\n",
        "\n",
        "#     if DEBUG: print(\"\\nSorting R_e\")\n",
        "#     R_edge_complete = sorted(R_edge_complete, key=lambda x:-x[\"number_trees\"])\n",
        "\n",
        "#     self.R_edge = dict()\n",
        "#     for item in R_edge_complete:\n",
        "#       self.R_edge[item[\"edge\"]] = item[\"number_trees\"]\n",
        "\n",
        "#   def estimate_R(self, edge:Edge):\n",
        "#     return self.R_edge.get(edge, 0)"
      ],
      "metadata": {
        "id": "g6IBhz7ATNCJ"
      },
      "execution_count": 20,
      "outputs": []
    },
    {
      "cell_type": "markdown",
      "source": [
        "# Estimators"
      ],
      "metadata": {
        "id": "Vc3PsxrQAcu4"
      }
    },
    {
      "cell_type": "code",
      "source": [
        "class Estimator(ABC):\n",
        "  @abstractmethod\n",
        "  def estimate_number_trees(self):\n",
        "    pass\n",
        "\n",
        "  @abstractmethod\n",
        "  def number_stored_edges(self):\n",
        "    pass"
      ],
      "metadata": {
        "id": "y4f5jS8pLLcy"
      },
      "execution_count": 59,
      "outputs": []
    },
    {
      "cell_type": "markdown",
      "source": [
        "## Algorithm 1"
      ],
      "metadata": {
        "id": "I-wk_VB-AHoh"
      }
    },
    {
      "cell_type": "code",
      "source": [
        "class EstimatorAlgorithm1(Estimator):\n",
        "  def __init__(self, graph:Graph, oracle:HeavyEdgeOracle, epsilon,\n",
        "               alpha, beta, gamma):\n",
        "    self.graph = graph \n",
        "    self.oracle = oracle\n",
        "\n",
        "    self.epsilon = epsilon\n",
        "    self.alpha = alpha\n",
        "    self.gamma = gamma\n",
        "    self.beta = beta\n",
        "\n",
        "    self.A_l, self.A_m, self.A_h = 0, 0, 0\n",
        "    self.S_l, self.S_m, self.S_aux = set(), set(), set()\n",
        "\n",
        "    self.T = self.oracle.T\n",
        "\n",
        "    self.C = dict()\n",
        "    self.B = dict()\n",
        "\n",
        "    self.n = graph.number_nodes()\n",
        "    self.m = graph.number_edges()\n",
        "\n",
        "    self.set_probabilities()\n",
        "\n",
        "  def set_probabilities(self):\n",
        "    if self.T >= ((self.m/self.epsilon) ** 0.5):\n",
        "      self.rho = (self.m * self.T) ** (1/3)      \n",
        "      \n",
        "      self.p1 = self.alpha * (self.epsilon ** -2) / self.rho\n",
        "      self.p2 = min(self.beta*(self.epsilon ** -2) * self.rho / self.T , 1)\n",
        "      self.p3 = self.gamma * (self.epsilon ** (-2)) * math.log(self.n) / self.rho\n",
        "    \n",
        "    else:\n",
        "      self.rho = (self.m ** 0.5) / self.epsilon\n",
        "      self.p1 = 0\n",
        "      self.p2 = 1\n",
        "      self.p3 = self.gamma * (self.epsilon ** (-2)) / self.rho\n",
        "    \n",
        "    if DEBUG:\n",
        "      print(f\"T = {self.T}, rho = {self.rho}, T/rho = {self.T//self.rho}\")\n",
        "      print(f\"p1 = {self.p1}, p2 = {self.p2}, p3 = {self.p3}\")\n",
        "    self.oracle.set_rho(self.rho)\n",
        "\n",
        "  def estimate_number_trees(self):\n",
        "    for node_id in range(self.graph.number_nodes()):\n",
        "      if DEBUG and node_id%(self.graph.number_nodes()//10)==0:\n",
        "         print(f\"{round(node_id*100/self.graph.number_nodes())}%\", end=\" \")\n",
        "      v = self.graph.get_node(node_id)\n",
        "      N_v = self.graph.get_node_adjacency_list(node_id)\n",
        "\n",
        "      for ab in self.S_l.union(self.S_m):\n",
        "        if ab.source in N_v and ab.destination in N_v:\n",
        "          self.C[ab] += 1\n",
        "      \n",
        "      for a in N_v:\n",
        "        av = Edge(a, v)\n",
        "\n",
        "        if av in self.S_aux:\n",
        "          self.B[av] = 1\n",
        "\n",
        "      for u in N_v:\n",
        "        vu = Edge(v, u)\n",
        "        uv = Edge(u, v)\n",
        "        \n",
        "        if random.random() < self.p3:\n",
        "          self.S_aux.add(vu)\n",
        "          self.B[vu] = 0\n",
        "\n",
        "        if self.oracle.is_heavy(uv) is False:\n",
        "          if uv in self.S_l:\n",
        "            self.A_l += self.C[uv]\n",
        "          elif random.random() < self.p1:\n",
        "            self.S_l.add(vu)\n",
        "            self.C[vu] = 0\n",
        "        else:\n",
        "          sharp = 0\n",
        "          for edge in self.S_aux:\n",
        "            if edge.source == u and self.B[edge]==1 and edge.destination in N_v:\n",
        "              sharp += 1\n",
        "          \n",
        "          if sharp >= self.p3 * self.rho:\n",
        "            self.A_h += sharp\n",
        "          elif uv in self.S_m:\n",
        "            self.A_m += self.C[uv]\n",
        "          elif random.random() < self.p2:\n",
        "            self.S_m.add(vu)\n",
        "            self.C[vu] = 0\n",
        "    \n",
        "    if DEBUG:\n",
        "      print(f\"Len(S_l) = {len(self.S_l)}, Len(S_m) = {len(self.S_m)}, Len(S_aux)={len(self.S_aux)}\")\n",
        "      print(f\"A_l {self.A_l}, A_m = {self.A_m}, A_h = {self.A_h}\")\n",
        "    return self.A_l / self.p1 + self.A_m / self.p2 + self.A_h / self.p3\n",
        "\n",
        "  def number_stored_edges(self):\n",
        "    return len(self.S_l) + len(self.S_m) + len(self.S_aux)"
      ],
      "metadata": {
        "id": "uls5mAkzAaDh"
      },
      "execution_count": 23,
      "outputs": []
    },
    {
      "cell_type": "markdown",
      "source": [
        "## Algorithm 2"
      ],
      "metadata": {
        "id": "s9GSERIgTLsw"
      }
    },
    {
      "cell_type": "code",
      "source": [
        "class EstimatorAlgorithm2(Estimator):\n",
        "  def __init__(self, oracle: ValueOracle, graph:Graph\n",
        "               , epsilon, c, H_constant=1):\n",
        "    \n",
        "    self.oracle = oracle\n",
        "    self.graph = graph\n",
        "    self.epsilon = epsilon\n",
        "    self.c = c\n",
        "\n",
        "    self.K = self.oracle.K\n",
        "    self.T = self.oracle.T\n",
        "    self.m = self.graph.number_edges()\n",
        "    self.alpha = self.oracle.alpha\n",
        "    self.beta = self.oracle.beta\n",
        "\n",
        "    self.H = int( 1/(self.epsilon**2)\\\n",
        "                  * (math.log(self.K/self.epsilon ,10) ** 2)\\\n",
        "                  * (self.alpha + self.m*self.beta/self.T)\\\n",
        "                  * H_constant)\n",
        "    \n",
        "    self.estimation_numbers = int(self.c * (self.epsilon ** -2))\n",
        "\n",
        "    if DEBUG: print(f\"H = {self.H}, estimation_numbers = {self.estimation_numbers}\")\n",
        "\n",
        "    self.X = list()\n",
        "    self.S = list()\n",
        "    self.Q = list()\n",
        "    self.A = list()\n",
        "    self.C = list()\n",
        "    self.R_div_u = list()\n",
        "\n",
        "  def estimate_number_trees(self):\n",
        "    M = 0\n",
        "    c_plus_counter = 0\n",
        "    for _ in range(self.estimation_numbers):\n",
        "      self.S.append(set())\n",
        "      self.A.append(0)\n",
        "      self.C.append(dict())\n",
        "      self.Q.append(dict())\n",
        "\n",
        "    for node_id in range(self.graph.number_nodes()):\n",
        "      if DEBUG and node_id%(self.graph.number_nodes()//10)==0 :\n",
        "         print(f\"{round(node_id*100/self.graph.number_nodes())}%\")\n",
        "         print(f\"M = {M}\")\n",
        "         print(f\"\"\"Top A = {sorted([int(Ai) for Ai in self.A], reverse=True)[:10]},\n",
        "          Median A = {sorted([int(Ai) for Ai in self.A], reverse=True)[self.estimation_numbers//2]}\"\"\")\n",
        "         print(f\"Top len(S) = {sorted([len(Si) for Si in self.S], reverse=True)[:10]}\")\n",
        "         print(f\"C Plus Counter = {c_plus_counter}\")\n",
        "         c_plus_counter = 0\n",
        "\n",
        "      y = self.graph.get_node(node_id)\n",
        "      N_y = self.graph.get_node_adjacency_list(node_id)\n",
        "\n",
        "      for i in range(self.estimation_numbers):\n",
        "        for edge in self.S[i]:\n",
        "          if edge.source in N_y and edge.destination in N_y:\n",
        "            self.C[i][edge] += 1\n",
        "            c_plus_counter += 1\n",
        "\n",
        "      for x in N_y:\n",
        "        yx = Edge(y, x)\n",
        "        for i in range(self.estimation_numbers):\n",
        "          xy = Edge(x, y)\n",
        "          if xy in self.S[i]:\n",
        "            self.A[i] = max(self.A[i], self.C[i][xy]/self.Q[i][xy])\n",
        "          else:\n",
        "            R_yx_hat = self.oracle.estimate_N(yx)\n",
        "            R_yx_hat += self.beta\n",
        "\n",
        "            self.Q[i][yx] = np.random.exponential(1)\n",
        "            self.C[i][yx] = 0\n",
        "            self.S[i].add(yx)\n",
        "\n",
        "            heapq.heappush(self.R_div_u, (-R_yx_hat/self.Q[i][yx], {\"edge\": yx, \"i\": i}))\n",
        "      \n",
        "      sum_s = 0\n",
        "      M = np.inf\n",
        "      for (s, _) in self.R_div_u:\n",
        "        sum_s += 1\n",
        "\n",
        "        if sum_s > self.H:\n",
        "          break\n",
        "        else:\n",
        "          M = -s\n",
        "      \n",
        "      reduced_R_div_u = list()\n",
        "\n",
        "      R_div_u_length = len(self.R_div_u) \n",
        "      for _ in range(R_div_u_length):\n",
        "        (s, edge_i) = heapq.heappop(self.R_div_u)\n",
        "        edge, i = edge_i[\"edge\"], edge_i[\"i\"]\n",
        "        \n",
        "        if -s >= M:\n",
        "          heapq.heappush(reduced_R_div_u, (s, edge_i))\n",
        "        else:\n",
        "          self.Q[i].pop(edge)\n",
        "          self.C[i].pop(edge)\n",
        "          self.S[i].remove(edge)\n",
        "      \n",
        "      self.R_div_u = reduced_R_div_u\n",
        "\n",
        "    for i in range(self.estimation_numbers):\n",
        "      self.X.append(self.A[i])\n",
        "\n",
        "    self.X = sorted(self.X)\n",
        "    if DEBUG: print(f\"Top X = {self.X[-10:]}\")\n",
        "    X_median = self.X[len(self.X)//2]\n",
        "\n",
        "    return int(math.log(2) * X_median)\n",
        "\n",
        "  def number_stored_edges(self):\n",
        "    return  sum([len(Si) for Si in self.S])"
      ],
      "metadata": {
        "id": "OVG80wkETFPM"
      },
      "execution_count": 24,
      "outputs": []
    },
    {
      "cell_type": "markdown",
      "source": [
        "## Algorithm 3"
      ],
      "metadata": {
        "id": "O8x7nb5_2DYi"
      }
    },
    {
      "cell_type": "code",
      "source": [
        "class EstimatorAlgorithm3(Estimator):\n",
        "  def __init__(self, oracle:ValueOracle, graph:Graph, epsilon,\n",
        "               i_constant, j_constant, c):\n",
        "    \n",
        "    self.oracle = oracle\n",
        "    self.graph = graph\n",
        "    self.epsilon = epsilon\n",
        "    self.c = c\n",
        "    self.n = self.graph.number_nodes()\n",
        "    self.beta = self.oracle.beta\n",
        "    self.T = self.oracle.T\n",
        "\n",
        "    self.i = math.ceil(math.log(self.n, 10)) * i_constant\n",
        "    self.j = math.ceil(math.log(math.log(self.n, 10), 10)) * j_constant\n",
        "    \n",
        "    self.p = [None] * self.i\n",
        "    self.I = [(None, None)] * self.i\n",
        "\n",
        "    self.p[0] = self.c * (self.epsilon ** -2) * 1 * self.beta / self.T\n",
        "    self.I[0] = (0, 2*self.beta)\n",
        "\n",
        "    for ii in range(1, self.i):\n",
        "      self.p[ii] = self.c * (self.epsilon ** -2) * (2 ** ii) \\\n",
        "                          * self.beta * (math.log(self.n, 10) ** 2) / self.T\n",
        "      self.I[ii] = ((2**ii)*self.beta, (2**(ii+1))*self.beta)\n",
        "\n",
        "    self.H = 0\n",
        "    self.S = list()\n",
        "    self.A = list()\n",
        "\n",
        "    for ii in range(self.i):\n",
        "      S_list_j = []\n",
        "      A_list_j = []\n",
        "      for jj in range(self.j):\n",
        "        S_list_j.append(set())\n",
        "        A_list_j.append(0)\n",
        "\n",
        "      self.S.append(S_list_j)\n",
        "      self.A.append(A_list_j)\n",
        "\n",
        "    self.C = dict()\n",
        "\n",
        "    if DEBUG: \n",
        "      print(f\"i = {self.i}, j = {self.j}\")\n",
        "      for ii in range(self.i):\n",
        "        print(f\"p({ii}) = {self.p[ii]}\")\n",
        "      \n",
        "      for ii in range(self.i):\n",
        "        print(f\"I({ii}) = {self.I[ii]}\")\n",
        "\n",
        "  def estimate_number_trees(self):\n",
        "    for node_id in range(self.graph.number_nodes()):\n",
        "      if DEBUG and node_id%(self.graph.number_nodes()//10)==0:\n",
        "         print(f\"{round(node_id*100/self.graph.number_nodes())}%\", end=\" \")\n",
        "\n",
        "      y = self.graph.get_node(node_id)\n",
        "      N_y = self.graph.get_node_adjacency_list(node_id)\n",
        "\n",
        "      for ii in range(self.i):\n",
        "        for jj in range(self.j):\n",
        "          for edge in self.S[ii][jj]:\n",
        "            if edge.source in N_y and edge.destination in N_y:\n",
        "              self.C[edge] += 1\n",
        "\n",
        "      for x in N_y:\n",
        "        xy = Edge(x, y)\n",
        "        yx = Edge(y, x)\n",
        "\n",
        "        flag = False\n",
        "        for ii in range(self.i):\n",
        "          for jj in range(self.j):\n",
        "            if xy in self.S[ii][jj]:\n",
        "              self.A[ii][jj] += self.C[xy] # Changing original sudocode\n",
        "              flag = True\n",
        "\n",
        "        if flag is False:\n",
        "          R_yx_hat = self.oracle.estimate_N(yx)\n",
        "\n",
        "          selected_i = None\n",
        "          for ii in range(self.i):\n",
        "            if self.I[ii][0] <= R_yx_hat + self.beta < self.I[ii][1]:\n",
        "              selected_i = ii\n",
        "          \n",
        "          for jj in range(self.j):\n",
        "            if random.random() < self.p[selected_i]:\n",
        "              self.S[selected_i][jj].add(yx)\n",
        "              self.C[yx] = 0\n",
        "\n",
        "    for ii in range(self.i):\n",
        "      A_ij_median = sorted(self.A[ii])[self.j//2]\n",
        "      self.H += A_ij_median/self.p[ii]\n",
        "    \n",
        "    if DEBUG: \n",
        "      print(f\"\\nS = {[[len(Sij) for Sij in Si] for Si in self.S]}\")\n",
        "      print(f\"A = {self.A}\")\n",
        "    \n",
        "    return int(self.H)\n",
        "\n",
        "  def number_stored_edges(self):\n",
        "    return sum([sum([len(Sij) for Sij in Si]) for Si in self.S])"
      ],
      "metadata": {
        "id": "snvj0ruU2GOk"
      },
      "execution_count": 25,
      "outputs": []
    },
    {
      "cell_type": "markdown",
      "source": [
        "## Algorithm 4"
      ],
      "metadata": {
        "id": "BwC8m7XqqAxL"
      }
    },
    {
      "cell_type": "code",
      "source": [
        "class EstimatorAlgorithm4(Estimator):\n",
        "  def __init__(self, graph:Graph, oracle:HeavyEdgeOracle, epsilon, C):\n",
        "    self.graph = graph\n",
        "    self.oracle = oracle\n",
        "    self.C = C\n",
        "    self.epsilon = epsilon\n",
        "    self.T = self.oracle.T\n",
        "    self.m = self.graph.number_edges()\n",
        "\n",
        "    self.rho = max(self.epsilon*self.T/math.sqrt(self.m), 1)\n",
        "    self.p = C * max(1 / (self.epsilon * math.sqrt(self.T)),\n",
        "                     self.rho/ (self.epsilon**2 * self.T))\n",
        "\n",
        "    self.oracle.set_rho(self.rho)\n",
        "\n",
        "    self.l1, self.l2, self.l3 = 0, 0, 0\n",
        "    self.S_L = set()\n",
        "    self.H = set()\n",
        "\n",
        "    self.stored_nodes = set()\n",
        "\n",
        "    if DEBUG: print(f\"rho = {self.rho}, p = {self.p}\")\n",
        "\n",
        "  def estimate_number_trees(self):\n",
        "    shuffled_edges = deepcopy(list(self.graph.get_edges()))\n",
        "    random.shuffle(shuffled_edges)\n",
        "\n",
        "    for i, edge in enumerate(shuffled_edges):\n",
        "      if DEBUG and i%(len(shuffled_edges)//10)==0:\n",
        "        print(f\"{round(i*100/len(shuffled_edges))}%\", end=\" \")\n",
        "\n",
        "      edge = edge.get_minmax()\n",
        "      a = edge.source\n",
        "      b = edge.destination\n",
        "\n",
        "      if self.oracle.is_heavy(edge):\n",
        "        self.H.add(edge)\n",
        "        self.stored_nodes.add(a)\n",
        "        self.stored_nodes.add(b)\n",
        "      else:\n",
        "        if random.random() < self.p:\n",
        "          self.S_L.add(edge)\n",
        "          self.stored_nodes.add(a)\n",
        "          self.stored_nodes.add(b)\n",
        "\n",
        "      for v in self.stored_nodes:\n",
        "        if v != a and v != b:\n",
        "          av = Edge(a, v).get_minmax()\n",
        "          bv = Edge(b, v).get_minmax()\n",
        "\n",
        "          if av in self.S_L and bv in self.S_L:\n",
        "            self.l1 += 1\n",
        "          elif av in self.S_L and bv in self.H:\n",
        "            self.l2 += 1\n",
        "          elif av in self.H and bv in self.S_L:\n",
        "            self.l2 += 1\n",
        "          elif av in self.H and bv in self.H:\n",
        "            self.l3 += 1\n",
        "\n",
        "    return int(self.l1/(self.p**2) + self.l2/self.p + self.l3)\n",
        "\n",
        "  def number_stored_edges(self):\n",
        "    return len(self.S_L) + len(self.H)"
      ],
      "metadata": {
        "id": "2zTxEFjsp_YH"
      },
      "execution_count": 73,
      "outputs": []
    },
    {
      "cell_type": "markdown",
      "source": [
        "# Results"
      ],
      "metadata": {
        "id": "0cI0xirlhNTA"
      }
    },
    {
      "cell_type": "markdown",
      "source": [
        "## Test Mesure"
      ],
      "metadata": {
        "id": "XKA2uJzACXYz"
      }
    },
    {
      "cell_type": "code",
      "source": [
        "def relative_error(real_number_trees, predicted_number_trees):\n",
        "  return abs(1 - predicted_number_trees/real_number_trees)"
      ],
      "metadata": {
        "id": "2ZlZt7T1CZe5"
      },
      "execution_count": 32,
      "outputs": []
    },
    {
      "cell_type": "markdown",
      "source": [
        "## Parameters"
      ],
      "metadata": {
        "id": "rhU2oA7tYrv7"
      }
    },
    {
      "cell_type": "markdown",
      "source": [
        "### Dataset Parameters"
      ],
      "metadata": {
        "id": "9HgwGNhxBwLQ"
      }
    },
    {
      "cell_type": "code",
      "source": [
        "TRAIN_GRAPH_ID = {\"Oregon\": 0, \"CAIDA2006\": 0, \"CAIDA2007\":0}\n",
        "TEST_GRAPH_ID = {\"Oregon\":4-1, \"CAIDA2006\":30-1, \"CAIDA2007\":25-1}"
      ],
      "metadata": {
        "id": "iVuzq4vjOSOm"
      },
      "execution_count": 49,
      "outputs": []
    },
    {
      "cell_type": "code",
      "source": [
        "OREGON_TRAIN_GRAPH = 0\n",
        "CAIDA2006_TRAIN_GRAPH = 0\n",
        "CAIDA2007_TRAIN_GRAPH = 0\n",
        "\n",
        "OREGON_TEST_GRAPH = 4 - 1\n",
        "CAIDA2006_TEST_GRAPH = 30 - 1\n",
        "CAIDA2007_TEST_GRAPH = 25 - 1"
      ],
      "metadata": {
        "id": "YBJV1aizBfkW"
      },
      "execution_count": 31,
      "outputs": []
    },
    {
      "cell_type": "code",
      "source": [
        "datasets = {\n",
        "    \"Oregon\": oregon,\n",
        "    \"CAIDA2006\": caida2006,\n",
        "    \"CAIDA2007\": caida2007\n",
        "}"
      ],
      "metadata": {
        "id": "wIkE0yKkQ-HM"
      },
      "execution_count": 56,
      "outputs": []
    },
    {
      "cell_type": "markdown",
      "source": [
        "### Global Parameters"
      ],
      "metadata": {
        "id": "dGSfgQGPYR3U"
      }
    },
    {
      "cell_type": "code",
      "source": [
        "EPSILON = 0.05\n",
        "NUMBER_RUNS = 1\n",
        "DEBUG = False"
      ],
      "metadata": {
        "id": "8r0HRK6NYUZK"
      },
      "execution_count": 69,
      "outputs": []
    },
    {
      "cell_type": "markdown",
      "source": [
        "### Algorithms Parameter"
      ],
      "metadata": {
        "id": "iPW29Y7qXFGP"
      }
    },
    {
      "cell_type": "code",
      "source": [
        "ALGORITHM_PARAMETERS = {\n",
        "    \"Algorithm1\": {\"alpha\": 0.1, \"beta\": 0.5, \"gamma\": 0.01},\n",
        "    \"Algorithm2\": {\"H_constant\": 0.5, \"c\":0.2},\n",
        "    \"Algorithm3\": {\"i_constant\": 2, \"j_constant\": 1, \"c\": 1},\n",
        "    \"Algorithm4\": {\"C\":1}\n",
        "}"
      ],
      "metadata": {
        "id": "mAukHzuoWwmz"
      },
      "execution_count": 71,
      "outputs": []
    },
    {
      "cell_type": "markdown",
      "source": [
        "## Oracle Training"
      ],
      "metadata": {
        "id": "0qpjE_NkNRDq"
      }
    },
    {
      "cell_type": "code",
      "source": [
        "oracles = {}\n",
        "for dataset_name in [\"Oregon\", \"CAIDA2006\", \"CAIDA2007\"]:\n",
        "  heavy_edge_oracle = HeavyEdgeOracle(datasets[dataset_name].get_graph(TRAIN_GRAPH_ID[dataset_name]))\n",
        "  heavy_edge_oracle.train()\n",
        "\n",
        "  value_oracle = ValueOracle(datasets[dataset_name].get_graph(TRAIN_GRAPH_ID[dataset_name]))\n",
        "  value_oracle.train()\n",
        "\n",
        "  oracles[dataset_name] = {\"HeavyEdgeOracle\": heavy_edge_oracle,\n",
        "                           \"ValueOracle\":value_oracle}"
      ],
      "metadata": {
        "id": "7IG9gzw4N5oM"
      },
      "execution_count": 63,
      "outputs": []
    },
    {
      "cell_type": "code",
      "source": [
        "def create_estimator(algorithm_name, dataset_name) -> Estimator:\n",
        "  if algorithm_name==\"Algorithm1\":\n",
        "    estimator = EstimatorAlgorithm1(graph=datasets[dataset_name].get_graph(TEST_GRAPH_ID[dataset_name]),\n",
        "                                    oracle=oracles[dataset_name][\"HeavyEdgeOracle\"],\n",
        "                                    epsilon=EPSILON,\n",
        "                                    alpha=ALGORITHM_PARAMETERS[\"Algorithm1\"][\"alpha\"],\n",
        "                                    beta=ALGORITHM_PARAMETERS[\"Algorithm1\"][\"beta\"],\n",
        "                                    gamma=ALGORITHM_PARAMETERS[\"Algorithm1\"][\"gamma\"])\n",
        "  \n",
        "  elif algorithm_name==\"Algorithm2\":\n",
        "    estimator = EstimatorAlgorithm2(graph=datasets[dataset_name].get_graph(TEST_GRAPH_ID[dataset_name]),\n",
        "                                    oracle=oracles[dataset_name][\"ValueOracle\"],\n",
        "                                    H_constant=ALGORITHM_PARAMETERS[\"Algorithm2\"][\"H_constant\"],\n",
        "                                    c=ALGORITHM_PARAMETERS[\"Algorithm2\"][\"c\"],\n",
        "                                    epsilon=EPSILON)\n",
        "  \n",
        "  elif algorithm_name==\"Algorithm3\":\n",
        "    estimator = EstimatorAlgorithm3(graph=datasets[dataset_name].get_graph(TEST_GRAPH_ID[dataset_name]),\n",
        "                                    oracle=oracles[dataset_name][\"ValueOracle\"],\n",
        "                                    i_constant=ALGORITHM_PARAMETERS[\"Algorithm3\"][\"i_constant\"],\n",
        "                                    j_constant=ALGORITHM_PARAMETERS[\"Algorithm3\"][\"j_constant\"],\n",
        "                                    c=ALGORITHM_PARAMETERS[\"Algorithm3\"][\"c\"],\n",
        "                                    epsilon=EPSILON)\n",
        "  \n",
        "  elif algorithm_name==\"Algorithm4\":\n",
        "    estimator = EstimatorAlgorithm4(graph=datasets[dataset_name].get_graph(TEST_GRAPH_ID[dataset_name]),\n",
        "                                    oracle=oracles[dataset_name][\"HeavyEdgeOracle\"],\n",
        "                                    C=ALGORITHM_PARAMETERS[\"Algorithm4\"][\"C\"],\n",
        "                                    epsilon=EPSILON)\n",
        "  return estimator"
      ],
      "metadata": {
        "id": "knAM1wMbQM7e"
      },
      "execution_count": 64,
      "outputs": []
    },
    {
      "cell_type": "markdown",
      "source": [
        "## Evaluate"
      ],
      "metadata": {
        "id": "1FuPXlQ1YyMd"
      }
    },
    {
      "cell_type": "code",
      "source": [
        "def evaluate(algorithm_name, dataset_name):\n",
        "  print(f\"Resutls {algorithm_name} on dataset {dataset_name}:\")\n",
        "  storage_list = []\n",
        "  error_list = []\n",
        "\n",
        "  start_time = time.time()\n",
        "  for run in range(NUMBER_RUNS):\n",
        "    print(f\"Run {run+1}\")\n",
        "\n",
        "    estimator = create_estimator(algorithm_name, dataset_name)\n",
        "\n",
        "    estimated_number_trees = estimator.estimate_number_trees() \n",
        "    real_number_trees = datasets[dataset_name].get_graph(TEST_GRAPH_ID[dataset_name]).get_number_trees()\n",
        "    \n",
        "    storage = estimator.number_stored_edges()\n",
        "    error = relative_error(real_number_trees, estimated_number_trees) * 100\n",
        "\n",
        "    storage_list.append(storage)\n",
        "    error_list.append(error)\n",
        "\n",
        "  total_time = time.time() - start_time\n",
        "\n",
        "  storage_mean = np.average(storage_list)\n",
        "  error_mean = np.average(error_list)\n",
        "  error_std = np.std(error_list)\n",
        "  time_mean = total_time / NUMBER_RUNS\n",
        "\n",
        "  print(f\"Space = {round(storage_mean/1000, 2)} * 10^3\")\n",
        "  print(f\"Error = {round(error_mean,2)}% ± {round(error_std,2)}%\")\n",
        "  print(f\"Time = {round(time_mean)} s\")\n",
        "  print(\"==========================================\\n\")"
      ],
      "metadata": {
        "id": "8OVMa1irPrDe"
      },
      "execution_count": null,
      "outputs": []
    },
    {
      "cell_type": "markdown",
      "source": [
        "## Run"
      ],
      "metadata": {
        "id": "Y7-cGMZ9Y0Em"
      }
    },
    {
      "cell_type": "code",
      "source": [
        "for dataset_name in [\"Oregon\", \"CAIDA2006\", \"CAIDA2007\"]:\n",
        "  for algorithm_name in [\"Algorithm4\"]:\n",
        "    evaluate(algorithm_name, dataset_name)"
      ],
      "metadata": {
        "colab": {
          "base_uri": "https://localhost:8080/"
        },
        "id": "lBVA0kDVVoMt",
        "outputId": "bb0648b9-59de-4e50-9cdb-65058c99a368"
      },
      "execution_count": null,
      "outputs": [
        {
          "output_type": "stream",
          "name": "stdout",
          "text": [
            "Resutls Algorithm4 on dataset Oregon:\n",
            "Run 1\n",
            "Space = 3.47 * 10^3\n",
            "Error = 10.28% ± 0.0%\n",
            "Time = 249 s\n",
            "==========================================\n",
            "Resutls Algorithm4 on dataset CAIDA2006:\n",
            "Run 1\n"
          ]
        }
      ]
    }
  ]
}