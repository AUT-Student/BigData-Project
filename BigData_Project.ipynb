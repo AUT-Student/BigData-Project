{
  "nbformat": 4,
  "nbformat_minor": 0,
  "metadata": {
    "colab": {
      "name": "BigData-Project.ipynb",
      "provenance": [],
      "toc_visible": true,
      "authorship_tag": "ABX9TyNkIXdI7JAIb6zEz+FGLu6C",
      "include_colab_link": true
    },
    "kernelspec": {
      "name": "python3",
      "display_name": "Python 3"
    },
    "language_info": {
      "name": "python"
    }
  },
  "cells": [
    {
      "cell_type": "markdown",
      "metadata": {
        "id": "view-in-github",
        "colab_type": "text"
      },
      "source": [
        "<a href=\"https://colab.research.google.com/github/AUT-Student/BigData-Project/blob/main/BigData_Project.ipynb\" target=\"_parent\"><img src=\"https://colab.research.google.com/assets/colab-badge.svg\" alt=\"Open In Colab\"/></a>"
      ]
    },
    {
      "cell_type": "markdown",
      "source": [
        "# Library"
      ],
      "metadata": {
        "id": "wusr27wnftZx"
      }
    },
    {
      "cell_type": "code",
      "execution_count": 11,
      "metadata": {
        "id": "X1VtRcdFfnbi"
      },
      "outputs": [],
      "source": [
        "import pandas as pd\n",
        "import numpy as np\n",
        "import matplotlib.pyplot as plt\n",
        "\n",
        "from dataclasses import dataclass"
      ]
    },
    {
      "cell_type": "markdown",
      "source": [
        "# Load Datasets"
      ],
      "metadata": {
        "id": "AJt4yvU7fvlG"
      }
    },
    {
      "cell_type": "markdown",
      "source": [
        "## CAIDA"
      ],
      "metadata": {
        "id": "RVaWSWkAgBxg"
      }
    },
    {
      "cell_type": "code",
      "source": [
        "!gdown https://snap.stanford.edu/data/as-caida.tar.gz\n",
        "!mkdir caida\n",
        "!tar -C /content/caida -xzf /content/as-caida.tar.gz "
      ],
      "metadata": {
        "colab": {
          "base_uri": "https://localhost:8080/"
        },
        "id": "rKwOiwXqfwSP",
        "outputId": "86469277-7c98-40e5-bf9a-4af6fa76ddca"
      },
      "execution_count": 2,
      "outputs": [
        {
          "output_type": "stream",
          "name": "stdout",
          "text": [
            "Downloading...\n",
            "From: https://snap.stanford.edu/data/as-caida.tar.gz\n",
            "To: /content/as-caida.tar.gz\n",
            "100% 46.4M/46.4M [00:09<00:00, 4.66MB/s]\n"
          ]
        }
      ]
    },
    {
      "cell_type": "code",
      "source": [
        "!grep as-caida2006 /content/caida/* | wc -l"
      ],
      "metadata": {
        "colab": {
          "base_uri": "https://localhost:8080/"
        },
        "id": "K0Bq6reRgKfo",
        "outputId": "ce7da75b-f64c-4baa-8f38-941cf775116d"
      },
      "execution_count": 3,
      "outputs": [
        {
          "output_type": "stream",
          "name": "stdout",
          "text": [
            "52\n"
          ]
        }
      ]
    },
    {
      "cell_type": "code",
      "source": [
        "!grep as-caida2007 /content/caida/* | wc -l"
      ],
      "metadata": {
        "colab": {
          "base_uri": "https://localhost:8080/"
        },
        "id": "_RbddHnpiTS-",
        "outputId": "db31b6fd-e6c6-4605-9a8c-b17a84297a9c"
      },
      "execution_count": 4,
      "outputs": [
        {
          "output_type": "stream",
          "name": "stdout",
          "text": [
            "46\n"
          ]
        }
      ]
    },
    {
      "cell_type": "code",
      "source": [
        "!head /content/caida/as-caida20060102.txt -n 40"
      ],
      "metadata": {
        "colab": {
          "base_uri": "https://localhost:8080/"
        },
        "id": "zKtkOIb3jP0U",
        "outputId": "0f4499a0-cbe4-432f-bcff-07e2fa30ffbb"
      },
      "execution_count": 6,
      "outputs": [
        {
          "output_type": "stream",
          "name": "stdout",
          "text": [
            "# Directed graph: as-caida20060102.txt\n",
            "# The CAIDA AS Relationships Dataset, from 01 02 2006\n",
            "# Relationships:\t-1 (<FromNodeId> is a customer of <ToNodeId>)\n",
            "# \t\t\t1 (<FromNodeId> is a provider of <ToNodeId>)\n",
            "# \t\t\t0 (<FromNodeId> and <ToNodeId> are peers)\n",
            "# \t\t\t2 (<FromNodeId> and <ToNodeId> are siblings (the same organization).)\n",
            "# Nodes:21202\tEdges: 85850\n",
            "# FromNodeId        ToNodeId\tRelationship\n",
            "8563\t26716\t1\n",
            "8563\t2914\t-1\n",
            "8563\t21414\t-1\n",
            "8563\t21482\t1\n",
            "8563\t3277\t0\n",
            "8563\t4323\t-1\n",
            "28801\t702\t-1\n",
            "28801\t8422\t-1\n",
            "28801\t8220\t-1\n",
            "5006\t20283\t1\n",
            "5006\t21902\t1\n",
            "5006\t25637\t1\n",
            "5006\t17162\t1\n",
            "5006\t18581\t1\n",
            "5006\t11401\t1\n",
            "5006\t16904\t1\n",
            "5006\t21730\t1\n",
            "5006\t32461\t1\n",
            "5006\t7018\t-1\n",
            "5006\t14278\t1\n",
            "5006\t1347\t2\n",
            "5006\t32664\t1\n",
            "5006\t33111\t1\n",
            "5006\t26021\t1\n",
            "5006\t23359\t1\n",
            "5006\t21951\t1\n",
            "5006\t7792\t1\n",
            "5006\t16595\t1\n",
            "5006\t10337\t1\n",
            "5006\t18699\t1\n",
            "5006\t32110\t1\n",
            "5006\t7973\t1\n"
          ]
        }
      ]
    },
    {
      "cell_type": "markdown",
      "source": [
        "## Oregon"
      ],
      "metadata": {
        "id": "7xPifcOjkai0"
      }
    },
    {
      "cell_type": "code",
      "source": [
        "!rm oregon -r"
      ],
      "metadata": {
        "id": "Qo9bKPYmnBIl",
        "colab": {
          "base_uri": "https://localhost:8080/"
        },
        "outputId": "e705c6de-0a03-43b5-af04-0a64077c9f22"
      },
      "execution_count": 7,
      "outputs": [
        {
          "output_type": "stream",
          "name": "stdout",
          "text": [
            "rm: cannot remove 'oregon': No such file or directory\n"
          ]
        }
      ]
    },
    {
      "cell_type": "code",
      "source": [
        "!mkdir oregon\n",
        "%cd oregon\n",
        "\n",
        "!gdown https://snap.stanford.edu/data/oregon1_010331.txt.gz\n",
        "!gdown https://snap.stanford.edu/data/oregon1_010407.txt.gz\n",
        "!gdown https://snap.stanford.edu/data/oregon1_010414.txt.gz\n",
        "!gdown https://snap.stanford.edu/data/oregon1_010421.txt.gz\n",
        "!gdown https://snap.stanford.edu/data/oregon1_010428.txt.gz\n",
        "!gdown https://snap.stanford.edu/data/oregon1_010505.txt.gz\n",
        "!gdown https://snap.stanford.edu/data/oregon1_010512.txt.gz\n",
        "!gdown https://snap.stanford.edu/data/oregon1_010519.txt.gz\n",
        "!gdown https://snap.stanford.edu/data/oregon1_010526.txt.gz\n",
        "\n",
        "\n",
        "!gunzip oregon1_010331.txt.gz\n",
        "!gunzip oregon1_010407.txt.gz\n",
        "!gunzip oregon1_010414.txt.gz\n",
        "!gunzip oregon1_010421.txt.gz\n",
        "!gunzip oregon1_010428.txt.gz\n",
        "!gunzip oregon1_010505.txt.gz\n",
        "!gunzip oregon1_010512.txt.gz\n",
        "!gunzip oregon1_010519.txt.gz\n",
        "!gunzip oregon1_010526.txt.gz\n",
        "\n",
        "%cd .."
      ],
      "metadata": {
        "colab": {
          "base_uri": "https://localhost:8080/"
        },
        "id": "-w2orQRBlEz6",
        "outputId": "e11c6f4d-849f-4295-81c0-ed230be04965"
      },
      "execution_count": 8,
      "outputs": [
        {
          "output_type": "stream",
          "name": "stdout",
          "text": [
            "/content/oregon\n",
            "Downloading...\n",
            "From: https://snap.stanford.edu/data/oregon1_010331.txt.gz\n",
            "To: /content/oregon/oregon1_010331.txt.gz\n",
            "100% 69.1k/69.1k [00:00<00:00, 154kB/s]\n",
            "Downloading...\n",
            "From: https://snap.stanford.edu/data/oregon1_010407.txt.gz\n",
            "To: /content/oregon/oregon1_010407.txt.gz\n",
            "100% 69.3k/69.3k [00:00<00:00, 154kB/s]\n",
            "Downloading...\n",
            "From: https://snap.stanford.edu/data/oregon1_010414.txt.gz\n",
            "To: /content/oregon/oregon1_010414.txt.gz\n",
            "100% 69.8k/69.8k [00:00<00:00, 116kB/s]\n",
            "Downloading...\n",
            "From: https://snap.stanford.edu/data/oregon1_010421.txt.gz\n",
            "To: /content/oregon/oregon1_010421.txt.gz\n",
            "100% 70.7k/70.7k [00:00<00:00, 118kB/s]\n",
            "Downloading...\n",
            "From: https://snap.stanford.edu/data/oregon1_010428.txt.gz\n",
            "To: /content/oregon/oregon1_010428.txt.gz\n",
            "100% 70.1k/70.1k [00:00<00:00, 157kB/s]\n",
            "Downloading...\n",
            "From: https://snap.stanford.edu/data/oregon1_010505.txt.gz\n",
            "To: /content/oregon/oregon1_010505.txt.gz\n",
            "100% 70.5k/70.5k [00:00<00:00, 157kB/s]\n",
            "Downloading...\n",
            "From: https://snap.stanford.edu/data/oregon1_010512.txt.gz\n",
            "To: /content/oregon/oregon1_010512.txt.gz\n",
            "100% 70.7k/70.7k [00:00<00:00, 118kB/s]\n",
            "Downloading...\n",
            "From: https://snap.stanford.edu/data/oregon1_010519.txt.gz\n",
            "To: /content/oregon/oregon1_010519.txt.gz\n",
            "100% 70.9k/70.9k [00:00<00:00, 118kB/s]\n",
            "Downloading...\n",
            "From: https://snap.stanford.edu/data/oregon1_010526.txt.gz\n",
            "To: /content/oregon/oregon1_010526.txt.gz\n",
            "100% 72.9k/72.9k [00:00<00:00, 162kB/s]\n",
            "/content\n"
          ]
        }
      ]
    },
    {
      "cell_type": "code",
      "source": [
        "!head /content/oregon/oregon1_010331.txt"
      ],
      "metadata": {
        "colab": {
          "base_uri": "https://localhost:8080/"
        },
        "id": "Vyec9NlAowuX",
        "outputId": "976e9e02-10ef-4674-cad4-aa59def8da02"
      },
      "execution_count": 9,
      "outputs": [
        {
          "output_type": "stream",
          "name": "stdout",
          "text": [
            "# Undirected graph: oregon1_010331.txt\n",
            "# AS peering information inferred from Oregon route-views BGP data, from March 31 2001\n",
            "# Nodes: 10670 Edges: 22002\n",
            "# FromNodeId\tToNodeId\n",
            "10000\t4725\n",
            "4725\t6805\n",
            "4725\t7523\n",
            "4725\t7524\n",
            "4725\t7673\n",
            "4725\t9352\n"
          ]
        }
      ]
    },
    {
      "cell_type": "markdown",
      "source": [
        "# Data Structure Classes"
      ],
      "metadata": {
        "id": "L2_9liTVezAd"
      }
    },
    {
      "cell_type": "markdown",
      "source": [
        "## Edge Class"
      ],
      "metadata": {
        "id": "bdCCnBYfd3lH"
      }
    },
    {
      "cell_type": "code",
      "source": [
        "@dataclass(init=True, eq=True)\n",
        "class Edge:\n",
        "  source: int\n",
        "  destination: int\n",
        "\n",
        "  def get_reverse(self):\n",
        "    return Edge(source=self.destination, destination=self.source)"
      ],
      "metadata": {
        "id": "7Yfc5C19d5CM"
      },
      "execution_count": 16,
      "outputs": []
    },
    {
      "cell_type": "markdown",
      "source": [
        "## Graph Class"
      ],
      "metadata": {
        "id": "y5U0Qg7xq0d6"
      }
    },
    {
      "cell_type": "code",
      "source": [
        "class Graph():\n",
        "  def __init__(self, directed):\n",
        "    self.edges = []\n",
        "    self.nodes = set()\n",
        "    self.directed = directed\n",
        "\n",
        "    self.number_trees = None\n",
        "    self.node_adjacency_list = None\n",
        "\n",
        "  def is_directed(self):\n",
        "    return self.directed\n",
        "\n",
        "  def add_edge(self, edge:Edge):\n",
        "    self.nodes.add(edge.source)\n",
        "    self.nodes.add(edge.destination)\n",
        "\n",
        "    self.edges.append(edge)\n",
        "    if self.id_directed is False:\n",
        "      self.edges.append(edge.get_reverse())\n",
        "\n",
        "  def number_nodes(self):\n",
        "    return len(self.nodes)\n",
        "  \n",
        "  def number_edges(self):\n",
        "    return len(self.edges)\n",
        "\n",
        "  def get_edges(self):\n",
        "    return self.edges\n",
        "  \n",
        "  def get_nodes(self):\n",
        "    return self.nodes\n",
        "\n",
        "  def calculate_node_adjacency_list(self):\n",
        "    for node in self.nodes:\n",
        "      self.node_adjacency_list[node] = set()\n",
        "    \n",
        "    for edge in self.edges:\n",
        "      self.node_adjacency_list[edge.source].add(edge.destination) \n",
        "\n",
        "  def calculate_exact_number_trees(self):\n",
        "    if self.is_directed():\n",
        "      raise Exception(\"This function implemented for undirected graph!\")\n",
        "    \n",
        "    if self.node_adjacency_list is None:\n",
        "      self.calculate_node_adjacency_list\n",
        "\n",
        "    self.number_trees = 0\n",
        "    for node1 in self.nodes:\n",
        "      for node2 in self.node_adjacency_list:\n",
        "        for node3 in self.node_adjacency_list:\n",
        "          \n",
        "          if node1 < node2 < node3:\n",
        "            if node3 in self.node_adjacency_list[node2]:\n",
        "              self.number_trees += 1"
      ],
      "metadata": {
        "id": "A6HI35X6oy9M"
      },
      "execution_count": 10,
      "outputs": []
    },
    {
      "cell_type": "markdown",
      "source": [
        "# Create Graphs of Datasets"
      ],
      "metadata": {
        "id": "3FHTXnmkrF2Y"
      }
    },
    {
      "cell_type": "markdown",
      "source": [
        "## Ogegon"
      ],
      "metadata": {
        "id": "CwrpXDXAvPUS"
      }
    },
    {
      "cell_type": "code",
      "source": [
        "graph = Graph()\n",
        "\n",
        "with open(\"/content/oregon/oregon1_010331.txt\", \"r\") as file:\n",
        "  for i, line in enumerate(file.readlines()):\n",
        "    if line[0] == \"#\": continue\n",
        "    \n",
        "    source, destination = line[:-1].split(\"\\t\")\n",
        "    source = int(source)\n",
        "    destination = int(destination)\n",
        "\n",
        "    graph.add_edge(source, destination)"
      ],
      "metadata": {
        "id": "8di5W_fyqVWC"
      },
      "execution_count": null,
      "outputs": []
    },
    {
      "cell_type": "code",
      "source": [
        "graph.number_nodes()"
      ],
      "metadata": {
        "colab": {
          "base_uri": "https://localhost:8080/"
        },
        "id": "zL1WyTCzrnHm",
        "outputId": "a18b3685-d42d-4f06-cfb6-26b984523bda"
      },
      "execution_count": null,
      "outputs": [
        {
          "output_type": "execute_result",
          "data": {
            "text/plain": [
              "10670"
            ]
          },
          "metadata": {},
          "execution_count": 40
        }
      ]
    },
    {
      "cell_type": "code",
      "source": [
        "graph.number_edges()"
      ],
      "metadata": {
        "colab": {
          "base_uri": "https://localhost:8080/"
        },
        "id": "_sormhgNs_WO",
        "outputId": "44ce1d16-0857-4b2d-83aa-06556d5764ed"
      },
      "execution_count": null,
      "outputs": [
        {
          "output_type": "execute_result",
          "data": {
            "text/plain": [
              "22003"
            ]
          },
          "metadata": {},
          "execution_count": 43
        }
      ]
    },
    {
      "cell_type": "markdown",
      "source": [
        "## CAIDA"
      ],
      "metadata": {
        "id": "jYacPslAvRjB"
      }
    },
    {
      "cell_type": "code",
      "source": [
        "graph = Graph()\n",
        "\n",
        "with open(\"/content/caida/as-caida20060102.txt\", \"r\") as file:\n",
        "  for i, line in enumerate(file.readlines()):\n",
        "    if line[0] == \"#\": continue\n",
        "    \n",
        "    source, destination, _ = line[:-1].split(\"\\t\")\n",
        "    source = int(source)\n",
        "    destination = int(destination)\n",
        "\n",
        "    graph.add_edge(source, destination)"
      ],
      "metadata": {
        "id": "1zUPGfpRtR1w"
      },
      "execution_count": null,
      "outputs": []
    },
    {
      "cell_type": "code",
      "source": [
        "graph.number_nodes()"
      ],
      "metadata": {
        "colab": {
          "base_uri": "https://localhost:8080/"
        },
        "id": "xxDe7cLjvNyq",
        "outputId": "cb65b210-6b6c-4b11-dd80-2f380ee83fe4"
      },
      "execution_count": null,
      "outputs": [
        {
          "output_type": "execute_result",
          "data": {
            "text/plain": [
              "21202"
            ]
          },
          "metadata": {},
          "execution_count": 48
        }
      ]
    },
    {
      "cell_type": "code",
      "source": [
        "graph.number_edges()"
      ],
      "metadata": {
        "colab": {
          "base_uri": "https://localhost:8080/"
        },
        "id": "9XlxDOINvsOR",
        "outputId": "d3ee86cc-b25f-45d8-9d04-6d04b19c1baa"
      },
      "execution_count": null,
      "outputs": [
        {
          "output_type": "execute_result",
          "data": {
            "text/plain": [
              "85850"
            ]
          },
          "metadata": {},
          "execution_count": 49
        }
      ]
    },
    {
      "cell_type": "markdown",
      "source": [
        "# Oracle"
      ],
      "metadata": {
        "id": "C7ojGT_Av9WP"
      }
    },
    {
      "cell_type": "code",
      "source": [
        "class Oracle():\n",
        "  def __init__(self, rho):\n",
        "    self.rho = rho\n",
        "    pass\n",
        "  \n",
        "  def train(self, graph):\n",
        "    pass\n",
        "\n",
        "  def is_heavy(source, destination):\n",
        "    pass"
      ],
      "metadata": {
        "id": "hPUJkG7FvuXA"
      },
      "execution_count": null,
      "outputs": []
    }
  ]
}